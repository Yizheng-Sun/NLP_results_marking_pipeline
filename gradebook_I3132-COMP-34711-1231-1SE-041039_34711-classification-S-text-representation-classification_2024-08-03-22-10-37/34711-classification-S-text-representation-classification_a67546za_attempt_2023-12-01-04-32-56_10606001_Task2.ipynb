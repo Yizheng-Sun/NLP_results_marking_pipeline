{
  "cells": [
    {
      "cell_type": "markdown",
      "source": [
        "# Google collab drive commands"
      ],
      "metadata": {
        "id": "ZhlngC53p8g7"
      },
      "id": "ZhlngC53p8g7"
    },
    {
      "cell_type": "code",
      "source": [
        "from google.colab import drive\n",
        "drive.mount('/content/drive')"
      ],
      "metadata": {
        "colab": {
          "base_uri": "https://localhost:8080/"
        },
        "id": "5SlAKTUZpgio",
        "outputId": "d767b17c-8d01-468b-f317-f1ef971961a5"
      },
      "id": "5SlAKTUZpgio",
      "execution_count": null,
      "outputs": [
        {
          "output_type": "stream",
          "name": "stdout",
          "text": [
            "Mounted at /content/drive\n"
          ]
        }
      ]
    },
    {
      "cell_type": "code",
      "source": [
        "%cd /content/drive/MyDrive\n"
      ],
      "metadata": {
        "colab": {
          "base_uri": "https://localhost:8080/"
        },
        "id": "90iWRpaNpwDA",
        "outputId": "9d4e82cd-ec67-4cba-c8be-50365e95d203"
      },
      "id": "90iWRpaNpwDA",
      "execution_count": null,
      "outputs": [
        {
          "output_type": "stream",
          "name": "stdout",
          "text": [
            "/content/drive/MyDrive\n"
          ]
        }
      ]
    },
    {
      "cell_type": "markdown",
      "source": [
        "# Import datasets\n",
        "## Import training dataset"
      ],
      "metadata": {
        "collapsed": false,
        "id": "6386ef338febc4b7"
      },
      "id": "6386ef338febc4b7"
    },
    {
      "cell_type": "code",
      "execution_count": null,
      "outputs": [
        {
          "output_type": "execute_result",
          "data": {
            "text/plain": [
              "                                        ID                        title  \\\n",
              "0     8f5203de-b2f8-4c0c-b0c1-835ba92422e9                   Si wang ta   \n",
              "1     6416fe15-6f8a-41d4-8a78-3e8f120781c7          Shattered Vengeance   \n",
              "2     4979fe9a-0518-41cc-b85f-f364c91053ca                 L'esorciccio   \n",
              "3     b672850b-a1d9-44ed-9cff-025ee8b61e6f  Serendipity Through Seasons   \n",
              "4     b4d8e8cc-a53e-48f8-be6a-6432b928a56d                The Liability   \n",
              "...                                    ...                          ...   \n",
              "8252  bc66257b-19bf-4ba2-b287-77b54ee0a205                  I Went Down   \n",
              "8253  9f8abad3-5a67-4fb1-a6d2-9fdff2d6c6f8     Scooby-Doo! Stage Fright   \n",
              "8254  23837cc8-1503-4265-b793-bf60306d1a5c                 Another Life   \n",
              "8255  30a2f2c2-64c8-4d29-a7c4-ae1c14eb51b0                     The Ward   \n",
              "8256  1695b141-31d8-4843-ab5c-e5f7954ed34e    Ultime grida dalla savana   \n",
              "\n",
              "                                          plot_synopsis  comedy  cult  \\\n",
              "0     After a recent amount of challenges, Billy Lo ...       0     0   \n",
              "1     In the crime-ridden city of Tremont, renowned ...       0     0   \n",
              "2     Lankester Merrin is a veteran Catholic priest ...       0     1   \n",
              "3     \"Serendipity Through Seasons\" is a heartwarmin...       0     0   \n",
              "4     Young and naive 19-year-old slacker, Adam (Jac...       0     0   \n",
              "...                                                 ...     ...   ...   \n",
              "8252  After serving an eight month sentence for brea...       0     0   \n",
              "8253  The Mystery Inc. crew head to Chicago for a ta...       0     0   \n",
              "8254  Through its run, Another Life revolved around ...       0     1   \n",
              "8255  At the North Bend Psychiatric Hospital in 1966...       0     0   \n",
              "8256  The film is a depiction of various scenes, usu...       0     0   \n",
              "\n",
              "      flashback  historical  murder  revenge  romantic  scifi  violence  \n",
              "0             0           0       1        1         0      0         1  \n",
              "1             0           0       1        1         1      0         1  \n",
              "2             0           0       0        0         0      0         0  \n",
              "3             0           0       0        0         1      0         0  \n",
              "4             1           0       0        0         0      0         0  \n",
              "...         ...         ...     ...      ...       ...    ...       ...  \n",
              "8252          1           0       1        1         0      0         0  \n",
              "8253          1           0       0        0         0      0         0  \n",
              "8254          1           0       0        0         1      0         1  \n",
              "8255          1           0       0        0         0      0         0  \n",
              "8256          0           0       1        0         0      0         1  \n",
              "\n",
              "[8257 rows x 12 columns]"
            ],
            "text/html": [
              "\n",
              "  <div id=\"df-f6989559-349e-4afd-a09d-7c7a2c94dacc\" class=\"colab-df-container\">\n",
              "    <div>\n",
              "<style scoped>\n",
              "    .dataframe tbody tr th:only-of-type {\n",
              "        vertical-align: middle;\n",
              "    }\n",
              "\n",
              "    .dataframe tbody tr th {\n",
              "        vertical-align: top;\n",
              "    }\n",
              "\n",
              "    .dataframe thead th {\n",
              "        text-align: right;\n",
              "    }\n",
              "</style>\n",
              "<table border=\"1\" class=\"dataframe\">\n",
              "  <thead>\n",
              "    <tr style=\"text-align: right;\">\n",
              "      <th></th>\n",
              "      <th>ID</th>\n",
              "      <th>title</th>\n",
              "      <th>plot_synopsis</th>\n",
              "      <th>comedy</th>\n",
              "      <th>cult</th>\n",
              "      <th>flashback</th>\n",
              "      <th>historical</th>\n",
              "      <th>murder</th>\n",
              "      <th>revenge</th>\n",
              "      <th>romantic</th>\n",
              "      <th>scifi</th>\n",
              "      <th>violence</th>\n",
              "    </tr>\n",
              "  </thead>\n",
              "  <tbody>\n",
              "    <tr>\n",
              "      <th>0</th>\n",
              "      <td>8f5203de-b2f8-4c0c-b0c1-835ba92422e9</td>\n",
              "      <td>Si wang ta</td>\n",
              "      <td>After a recent amount of challenges, Billy Lo ...</td>\n",
              "      <td>0</td>\n",
              "      <td>0</td>\n",
              "      <td>0</td>\n",
              "      <td>0</td>\n",
              "      <td>1</td>\n",
              "      <td>1</td>\n",
              "      <td>0</td>\n",
              "      <td>0</td>\n",
              "      <td>1</td>\n",
              "    </tr>\n",
              "    <tr>\n",
              "      <th>1</th>\n",
              "      <td>6416fe15-6f8a-41d4-8a78-3e8f120781c7</td>\n",
              "      <td>Shattered Vengeance</td>\n",
              "      <td>In the crime-ridden city of Tremont, renowned ...</td>\n",
              "      <td>0</td>\n",
              "      <td>0</td>\n",
              "      <td>0</td>\n",
              "      <td>0</td>\n",
              "      <td>1</td>\n",
              "      <td>1</td>\n",
              "      <td>1</td>\n",
              "      <td>0</td>\n",
              "      <td>1</td>\n",
              "    </tr>\n",
              "    <tr>\n",
              "      <th>2</th>\n",
              "      <td>4979fe9a-0518-41cc-b85f-f364c91053ca</td>\n",
              "      <td>L'esorciccio</td>\n",
              "      <td>Lankester Merrin is a veteran Catholic priest ...</td>\n",
              "      <td>0</td>\n",
              "      <td>1</td>\n",
              "      <td>0</td>\n",
              "      <td>0</td>\n",
              "      <td>0</td>\n",
              "      <td>0</td>\n",
              "      <td>0</td>\n",
              "      <td>0</td>\n",
              "      <td>0</td>\n",
              "    </tr>\n",
              "    <tr>\n",
              "      <th>3</th>\n",
              "      <td>b672850b-a1d9-44ed-9cff-025ee8b61e6f</td>\n",
              "      <td>Serendipity Through Seasons</td>\n",
              "      <td>\"Serendipity Through Seasons\" is a heartwarmin...</td>\n",
              "      <td>0</td>\n",
              "      <td>0</td>\n",
              "      <td>0</td>\n",
              "      <td>0</td>\n",
              "      <td>0</td>\n",
              "      <td>0</td>\n",
              "      <td>1</td>\n",
              "      <td>0</td>\n",
              "      <td>0</td>\n",
              "    </tr>\n",
              "    <tr>\n",
              "      <th>4</th>\n",
              "      <td>b4d8e8cc-a53e-48f8-be6a-6432b928a56d</td>\n",
              "      <td>The Liability</td>\n",
              "      <td>Young and naive 19-year-old slacker, Adam (Jac...</td>\n",
              "      <td>0</td>\n",
              "      <td>0</td>\n",
              "      <td>1</td>\n",
              "      <td>0</td>\n",
              "      <td>0</td>\n",
              "      <td>0</td>\n",
              "      <td>0</td>\n",
              "      <td>0</td>\n",
              "      <td>0</td>\n",
              "    </tr>\n",
              "    <tr>\n",
              "      <th>...</th>\n",
              "      <td>...</td>\n",
              "      <td>...</td>\n",
              "      <td>...</td>\n",
              "      <td>...</td>\n",
              "      <td>...</td>\n",
              "      <td>...</td>\n",
              "      <td>...</td>\n",
              "      <td>...</td>\n",
              "      <td>...</td>\n",
              "      <td>...</td>\n",
              "      <td>...</td>\n",
              "      <td>...</td>\n",
              "    </tr>\n",
              "    <tr>\n",
              "      <th>8252</th>\n",
              "      <td>bc66257b-19bf-4ba2-b287-77b54ee0a205</td>\n",
              "      <td>I Went Down</td>\n",
              "      <td>After serving an eight month sentence for brea...</td>\n",
              "      <td>0</td>\n",
              "      <td>0</td>\n",
              "      <td>1</td>\n",
              "      <td>0</td>\n",
              "      <td>1</td>\n",
              "      <td>1</td>\n",
              "      <td>0</td>\n",
              "      <td>0</td>\n",
              "      <td>0</td>\n",
              "    </tr>\n",
              "    <tr>\n",
              "      <th>8253</th>\n",
              "      <td>9f8abad3-5a67-4fb1-a6d2-9fdff2d6c6f8</td>\n",
              "      <td>Scooby-Doo! Stage Fright</td>\n",
              "      <td>The Mystery Inc. crew head to Chicago for a ta...</td>\n",
              "      <td>0</td>\n",
              "      <td>0</td>\n",
              "      <td>1</td>\n",
              "      <td>0</td>\n",
              "      <td>0</td>\n",
              "      <td>0</td>\n",
              "      <td>0</td>\n",
              "      <td>0</td>\n",
              "      <td>0</td>\n",
              "    </tr>\n",
              "    <tr>\n",
              "      <th>8254</th>\n",
              "      <td>23837cc8-1503-4265-b793-bf60306d1a5c</td>\n",
              "      <td>Another Life</td>\n",
              "      <td>Through its run, Another Life revolved around ...</td>\n",
              "      <td>0</td>\n",
              "      <td>1</td>\n",
              "      <td>1</td>\n",
              "      <td>0</td>\n",
              "      <td>0</td>\n",
              "      <td>0</td>\n",
              "      <td>1</td>\n",
              "      <td>0</td>\n",
              "      <td>1</td>\n",
              "    </tr>\n",
              "    <tr>\n",
              "      <th>8255</th>\n",
              "      <td>30a2f2c2-64c8-4d29-a7c4-ae1c14eb51b0</td>\n",
              "      <td>The Ward</td>\n",
              "      <td>At the North Bend Psychiatric Hospital in 1966...</td>\n",
              "      <td>0</td>\n",
              "      <td>0</td>\n",
              "      <td>1</td>\n",
              "      <td>0</td>\n",
              "      <td>0</td>\n",
              "      <td>0</td>\n",
              "      <td>0</td>\n",
              "      <td>0</td>\n",
              "      <td>0</td>\n",
              "    </tr>\n",
              "    <tr>\n",
              "      <th>8256</th>\n",
              "      <td>1695b141-31d8-4843-ab5c-e5f7954ed34e</td>\n",
              "      <td>Ultime grida dalla savana</td>\n",
              "      <td>The film is a depiction of various scenes, usu...</td>\n",
              "      <td>0</td>\n",
              "      <td>0</td>\n",
              "      <td>0</td>\n",
              "      <td>0</td>\n",
              "      <td>1</td>\n",
              "      <td>0</td>\n",
              "      <td>0</td>\n",
              "      <td>0</td>\n",
              "      <td>1</td>\n",
              "    </tr>\n",
              "  </tbody>\n",
              "</table>\n",
              "<p>8257 rows × 12 columns</p>\n",
              "</div>\n",
              "    <div class=\"colab-df-buttons\">\n",
              "\n",
              "  <div class=\"colab-df-container\">\n",
              "    <button class=\"colab-df-convert\" onclick=\"convertToInteractive('df-f6989559-349e-4afd-a09d-7c7a2c94dacc')\"\n",
              "            title=\"Convert this dataframe to an interactive table.\"\n",
              "            style=\"display:none;\">\n",
              "\n",
              "  <svg xmlns=\"http://www.w3.org/2000/svg\" height=\"24px\" viewBox=\"0 -960 960 960\">\n",
              "    <path d=\"M120-120v-720h720v720H120Zm60-500h600v-160H180v160Zm220 220h160v-160H400v160Zm0 220h160v-160H400v160ZM180-400h160v-160H180v160Zm440 0h160v-160H620v160ZM180-180h160v-160H180v160Zm440 0h160v-160H620v160Z\"/>\n",
              "  </svg>\n",
              "    </button>\n",
              "\n",
              "  <style>\n",
              "    .colab-df-container {\n",
              "      display:flex;\n",
              "      gap: 12px;\n",
              "    }\n",
              "\n",
              "    .colab-df-convert {\n",
              "      background-color: #E8F0FE;\n",
              "      border: none;\n",
              "      border-radius: 50%;\n",
              "      cursor: pointer;\n",
              "      display: none;\n",
              "      fill: #1967D2;\n",
              "      height: 32px;\n",
              "      padding: 0 0 0 0;\n",
              "      width: 32px;\n",
              "    }\n",
              "\n",
              "    .colab-df-convert:hover {\n",
              "      background-color: #E2EBFA;\n",
              "      box-shadow: 0px 1px 2px rgba(60, 64, 67, 0.3), 0px 1px 3px 1px rgba(60, 64, 67, 0.15);\n",
              "      fill: #174EA6;\n",
              "    }\n",
              "\n",
              "    .colab-df-buttons div {\n",
              "      margin-bottom: 4px;\n",
              "    }\n",
              "\n",
              "    [theme=dark] .colab-df-convert {\n",
              "      background-color: #3B4455;\n",
              "      fill: #D2E3FC;\n",
              "    }\n",
              "\n",
              "    [theme=dark] .colab-df-convert:hover {\n",
              "      background-color: #434B5C;\n",
              "      box-shadow: 0px 1px 3px 1px rgba(0, 0, 0, 0.15);\n",
              "      filter: drop-shadow(0px 1px 2px rgba(0, 0, 0, 0.3));\n",
              "      fill: #FFFFFF;\n",
              "    }\n",
              "  </style>\n",
              "\n",
              "    <script>\n",
              "      const buttonEl =\n",
              "        document.querySelector('#df-f6989559-349e-4afd-a09d-7c7a2c94dacc button.colab-df-convert');\n",
              "      buttonEl.style.display =\n",
              "        google.colab.kernel.accessAllowed ? 'block' : 'none';\n",
              "\n",
              "      async function convertToInteractive(key) {\n",
              "        const element = document.querySelector('#df-f6989559-349e-4afd-a09d-7c7a2c94dacc');\n",
              "        const dataTable =\n",
              "          await google.colab.kernel.invokeFunction('convertToInteractive',\n",
              "                                                    [key], {});\n",
              "        if (!dataTable) return;\n",
              "\n",
              "        const docLinkHtml = 'Like what you see? Visit the ' +\n",
              "          '<a target=\"_blank\" href=https://colab.research.google.com/notebooks/data_table.ipynb>data table notebook</a>'\n",
              "          + ' to learn more about interactive tables.';\n",
              "        element.innerHTML = '';\n",
              "        dataTable['output_type'] = 'display_data';\n",
              "        await google.colab.output.renderOutput(dataTable, element);\n",
              "        const docLink = document.createElement('div');\n",
              "        docLink.innerHTML = docLinkHtml;\n",
              "        element.appendChild(docLink);\n",
              "      }\n",
              "    </script>\n",
              "  </div>\n",
              "\n",
              "\n",
              "<div id=\"df-f7a71bb7-e32e-4701-ba63-d94a15ac6960\">\n",
              "  <button class=\"colab-df-quickchart\" onclick=\"quickchart('df-f7a71bb7-e32e-4701-ba63-d94a15ac6960')\"\n",
              "            title=\"Suggest charts\"\n",
              "            style=\"display:none;\">\n",
              "\n",
              "<svg xmlns=\"http://www.w3.org/2000/svg\" height=\"24px\"viewBox=\"0 0 24 24\"\n",
              "     width=\"24px\">\n",
              "    <g>\n",
              "        <path d=\"M19 3H5c-1.1 0-2 .9-2 2v14c0 1.1.9 2 2 2h14c1.1 0 2-.9 2-2V5c0-1.1-.9-2-2-2zM9 17H7v-7h2v7zm4 0h-2V7h2v10zm4 0h-2v-4h2v4z\"/>\n",
              "    </g>\n",
              "</svg>\n",
              "  </button>\n",
              "\n",
              "<style>\n",
              "  .colab-df-quickchart {\n",
              "      --bg-color: #E8F0FE;\n",
              "      --fill-color: #1967D2;\n",
              "      --hover-bg-color: #E2EBFA;\n",
              "      --hover-fill-color: #174EA6;\n",
              "      --disabled-fill-color: #AAA;\n",
              "      --disabled-bg-color: #DDD;\n",
              "  }\n",
              "\n",
              "  [theme=dark] .colab-df-quickchart {\n",
              "      --bg-color: #3B4455;\n",
              "      --fill-color: #D2E3FC;\n",
              "      --hover-bg-color: #434B5C;\n",
              "      --hover-fill-color: #FFFFFF;\n",
              "      --disabled-bg-color: #3B4455;\n",
              "      --disabled-fill-color: #666;\n",
              "  }\n",
              "\n",
              "  .colab-df-quickchart {\n",
              "    background-color: var(--bg-color);\n",
              "    border: none;\n",
              "    border-radius: 50%;\n",
              "    cursor: pointer;\n",
              "    display: none;\n",
              "    fill: var(--fill-color);\n",
              "    height: 32px;\n",
              "    padding: 0;\n",
              "    width: 32px;\n",
              "  }\n",
              "\n",
              "  .colab-df-quickchart:hover {\n",
              "    background-color: var(--hover-bg-color);\n",
              "    box-shadow: 0 1px 2px rgba(60, 64, 67, 0.3), 0 1px 3px 1px rgba(60, 64, 67, 0.15);\n",
              "    fill: var(--button-hover-fill-color);\n",
              "  }\n",
              "\n",
              "  .colab-df-quickchart-complete:disabled,\n",
              "  .colab-df-quickchart-complete:disabled:hover {\n",
              "    background-color: var(--disabled-bg-color);\n",
              "    fill: var(--disabled-fill-color);\n",
              "    box-shadow: none;\n",
              "  }\n",
              "\n",
              "  .colab-df-spinner {\n",
              "    border: 2px solid var(--fill-color);\n",
              "    border-color: transparent;\n",
              "    border-bottom-color: var(--fill-color);\n",
              "    animation:\n",
              "      spin 1s steps(1) infinite;\n",
              "  }\n",
              "\n",
              "  @keyframes spin {\n",
              "    0% {\n",
              "      border-color: transparent;\n",
              "      border-bottom-color: var(--fill-color);\n",
              "      border-left-color: var(--fill-color);\n",
              "    }\n",
              "    20% {\n",
              "      border-color: transparent;\n",
              "      border-left-color: var(--fill-color);\n",
              "      border-top-color: var(--fill-color);\n",
              "    }\n",
              "    30% {\n",
              "      border-color: transparent;\n",
              "      border-left-color: var(--fill-color);\n",
              "      border-top-color: var(--fill-color);\n",
              "      border-right-color: var(--fill-color);\n",
              "    }\n",
              "    40% {\n",
              "      border-color: transparent;\n",
              "      border-right-color: var(--fill-color);\n",
              "      border-top-color: var(--fill-color);\n",
              "    }\n",
              "    60% {\n",
              "      border-color: transparent;\n",
              "      border-right-color: var(--fill-color);\n",
              "    }\n",
              "    80% {\n",
              "      border-color: transparent;\n",
              "      border-right-color: var(--fill-color);\n",
              "      border-bottom-color: var(--fill-color);\n",
              "    }\n",
              "    90% {\n",
              "      border-color: transparent;\n",
              "      border-bottom-color: var(--fill-color);\n",
              "    }\n",
              "  }\n",
              "</style>\n",
              "\n",
              "  <script>\n",
              "    async function quickchart(key) {\n",
              "      const quickchartButtonEl =\n",
              "        document.querySelector('#' + key + ' button');\n",
              "      quickchartButtonEl.disabled = true;  // To prevent multiple clicks.\n",
              "      quickchartButtonEl.classList.add('colab-df-spinner');\n",
              "      try {\n",
              "        const charts = await google.colab.kernel.invokeFunction(\n",
              "            'suggestCharts', [key], {});\n",
              "      } catch (error) {\n",
              "        console.error('Error during call to suggestCharts:', error);\n",
              "      }\n",
              "      quickchartButtonEl.classList.remove('colab-df-spinner');\n",
              "      quickchartButtonEl.classList.add('colab-df-quickchart-complete');\n",
              "    }\n",
              "    (() => {\n",
              "      let quickchartButtonEl =\n",
              "        document.querySelector('#df-f7a71bb7-e32e-4701-ba63-d94a15ac6960 button');\n",
              "      quickchartButtonEl.style.display =\n",
              "        google.colab.kernel.accessAllowed ? 'block' : 'none';\n",
              "    })();\n",
              "  </script>\n",
              "</div>\n",
              "    </div>\n",
              "  </div>\n"
            ]
          },
          "metadata": {},
          "execution_count": 3
        }
      ],
      "source": [
        "import matplotlib.pyplot as plt\n",
        "import pandas as pd\n",
        "\n",
        "file_path = \"./data/Training-dataset.csv\"\n",
        "train_df = pd.read_csv(file_path, encoding='utf-8')\n",
        "train_df"
      ],
      "metadata": {
        "ExecuteTime": {
          "end_time": "2023-11-29T20:40:02.761282Z",
          "start_time": "2023-11-29T20:40:02.369633Z"
        },
        "colab": {
          "base_uri": "https://localhost:8080/",
          "height": 949
        },
        "id": "d8fa61476d82feb6",
        "outputId": "0f9bcbc6-64bd-4cbf-c2bc-a652d9424975"
      },
      "id": "d8fa61476d82feb6"
    },
    {
      "cell_type": "markdown",
      "source": [
        "## Import development datasets"
      ],
      "metadata": {
        "collapsed": false,
        "id": "86f2bd85029646d6"
      },
      "id": "86f2bd85029646d6"
    },
    {
      "cell_type": "code",
      "execution_count": null,
      "outputs": [
        {
          "output_type": "execute_result",
          "data": {
            "text/plain": [
              "                                        ID  \\\n",
              "0     cf32cb00-172d-40f2-a3c1-936e8a0d89d7   \n",
              "1     df7e125e-2d59-40e4-a126-9397e3a0ef21   \n",
              "2     49bc73f3-9179-41cd-9774-905c7a3ac91b   \n",
              "3     0ed4822b-87af-44bc-a677-7f7abfdaccf3   \n",
              "4     0b1b0fa4-43bc-41ba-9598-b3401894b96d   \n",
              "...                                    ...   \n",
              "1183  d32be875-41c7-4e84-ac04-e1d3bc3df0fe   \n",
              "1184  84e025dd-4b4e-403c-a3dd-34818b210857   \n",
              "1185  3d291d3b-c0b5-47cc-8dc8-127dc93162e3   \n",
              "1186  6c9b3034-56b3-42f6-874e-a821c9fd1a89   \n",
              "1187  fbd1d334-e979-465c-9fb0-e173d2642630   \n",
              "\n",
              "                                    title  \\\n",
              "0                        Shattered Hearts   \n",
              "1                             Point Blank   \n",
              "2     Le charme discret de la bourgeoisie   \n",
              "3                   A Gentleman's Dignity   \n",
              "4                    Carmen: A Hip Hopera   \n",
              "...                                   ...   \n",
              "1183                              Urumeen   \n",
              "1184                   The Crimson Puzzle   \n",
              "1185                      Erik the Viking   \n",
              "1186                               Arthur   \n",
              "1187                             Freejack   \n",
              "\n",
              "                                          plot_synopsis  comedy  cult  \\\n",
              "0     In the enchanting city of Verona, Italy, renow...       0     0   \n",
              "1     Walker works with his friend Mal Reese to stea...       0     1   \n",
              "2     The film consists of several thematically link...       1     0   \n",
              "3     A Gentleman's Dignity is about the careers and...       0     0   \n",
              "4     Carmen Brown (Beyoncé) is a seductive, aspirin...       0     0   \n",
              "...                                                 ...     ...   ...   \n",
              "1183  The film begins with the introduction of Raja ...       0     0   \n",
              "1184  In the atmospheric town of Ravenswood, esteeme...       0     0   \n",
              "1185  The film is based largely upon Norse mythology...       0     1   \n",
              "1186  Arthur Bach is a rich socialite from a financi...       1     0   \n",
              "1187  In 2009, the super-wealthy achieve immortality...       0     0   \n",
              "\n",
              "      flashback  historical  murder  revenge  romantic  scifi  violence  \n",
              "0             0           0       1        0         1      0         0  \n",
              "1             1           0       1        1         0      0         1  \n",
              "2             1           0       0        0         0      0         0  \n",
              "3             0           0       0        0         1      0         0  \n",
              "4             0           0       1        0         0      0         0  \n",
              "...         ...         ...     ...      ...       ...    ...       ...  \n",
              "1183          0           0       1        1         0      0         0  \n",
              "1184          0           0       1        0         0      0         0  \n",
              "1185          0           0       0        0         1      0         0  \n",
              "1186          0           0       0        0         0      0         0  \n",
              "1187          0           0       1        0         1      1         1  \n",
              "\n",
              "[1188 rows x 12 columns]"
            ],
            "text/html": [
              "\n",
              "  <div id=\"df-f5e8c9ed-29de-4932-815c-e4c0fee10c85\" class=\"colab-df-container\">\n",
              "    <div>\n",
              "<style scoped>\n",
              "    .dataframe tbody tr th:only-of-type {\n",
              "        vertical-align: middle;\n",
              "    }\n",
              "\n",
              "    .dataframe tbody tr th {\n",
              "        vertical-align: top;\n",
              "    }\n",
              "\n",
              "    .dataframe thead th {\n",
              "        text-align: right;\n",
              "    }\n",
              "</style>\n",
              "<table border=\"1\" class=\"dataframe\">\n",
              "  <thead>\n",
              "    <tr style=\"text-align: right;\">\n",
              "      <th></th>\n",
              "      <th>ID</th>\n",
              "      <th>title</th>\n",
              "      <th>plot_synopsis</th>\n",
              "      <th>comedy</th>\n",
              "      <th>cult</th>\n",
              "      <th>flashback</th>\n",
              "      <th>historical</th>\n",
              "      <th>murder</th>\n",
              "      <th>revenge</th>\n",
              "      <th>romantic</th>\n",
              "      <th>scifi</th>\n",
              "      <th>violence</th>\n",
              "    </tr>\n",
              "  </thead>\n",
              "  <tbody>\n",
              "    <tr>\n",
              "      <th>0</th>\n",
              "      <td>cf32cb00-172d-40f2-a3c1-936e8a0d89d7</td>\n",
              "      <td>Shattered Hearts</td>\n",
              "      <td>In the enchanting city of Verona, Italy, renow...</td>\n",
              "      <td>0</td>\n",
              "      <td>0</td>\n",
              "      <td>0</td>\n",
              "      <td>0</td>\n",
              "      <td>1</td>\n",
              "      <td>0</td>\n",
              "      <td>1</td>\n",
              "      <td>0</td>\n",
              "      <td>0</td>\n",
              "    </tr>\n",
              "    <tr>\n",
              "      <th>1</th>\n",
              "      <td>df7e125e-2d59-40e4-a126-9397e3a0ef21</td>\n",
              "      <td>Point Blank</td>\n",
              "      <td>Walker works with his friend Mal Reese to stea...</td>\n",
              "      <td>0</td>\n",
              "      <td>1</td>\n",
              "      <td>1</td>\n",
              "      <td>0</td>\n",
              "      <td>1</td>\n",
              "      <td>1</td>\n",
              "      <td>0</td>\n",
              "      <td>0</td>\n",
              "      <td>1</td>\n",
              "    </tr>\n",
              "    <tr>\n",
              "      <th>2</th>\n",
              "      <td>49bc73f3-9179-41cd-9774-905c7a3ac91b</td>\n",
              "      <td>Le charme discret de la bourgeoisie</td>\n",
              "      <td>The film consists of several thematically link...</td>\n",
              "      <td>1</td>\n",
              "      <td>0</td>\n",
              "      <td>1</td>\n",
              "      <td>0</td>\n",
              "      <td>0</td>\n",
              "      <td>0</td>\n",
              "      <td>0</td>\n",
              "      <td>0</td>\n",
              "      <td>0</td>\n",
              "    </tr>\n",
              "    <tr>\n",
              "      <th>3</th>\n",
              "      <td>0ed4822b-87af-44bc-a677-7f7abfdaccf3</td>\n",
              "      <td>A Gentleman's Dignity</td>\n",
              "      <td>A Gentleman's Dignity is about the careers and...</td>\n",
              "      <td>0</td>\n",
              "      <td>0</td>\n",
              "      <td>0</td>\n",
              "      <td>0</td>\n",
              "      <td>0</td>\n",
              "      <td>0</td>\n",
              "      <td>1</td>\n",
              "      <td>0</td>\n",
              "      <td>0</td>\n",
              "    </tr>\n",
              "    <tr>\n",
              "      <th>4</th>\n",
              "      <td>0b1b0fa4-43bc-41ba-9598-b3401894b96d</td>\n",
              "      <td>Carmen: A Hip Hopera</td>\n",
              "      <td>Carmen Brown (Beyoncé) is a seductive, aspirin...</td>\n",
              "      <td>0</td>\n",
              "      <td>0</td>\n",
              "      <td>0</td>\n",
              "      <td>0</td>\n",
              "      <td>1</td>\n",
              "      <td>0</td>\n",
              "      <td>0</td>\n",
              "      <td>0</td>\n",
              "      <td>0</td>\n",
              "    </tr>\n",
              "    <tr>\n",
              "      <th>...</th>\n",
              "      <td>...</td>\n",
              "      <td>...</td>\n",
              "      <td>...</td>\n",
              "      <td>...</td>\n",
              "      <td>...</td>\n",
              "      <td>...</td>\n",
              "      <td>...</td>\n",
              "      <td>...</td>\n",
              "      <td>...</td>\n",
              "      <td>...</td>\n",
              "      <td>...</td>\n",
              "      <td>...</td>\n",
              "    </tr>\n",
              "    <tr>\n",
              "      <th>1183</th>\n",
              "      <td>d32be875-41c7-4e84-ac04-e1d3bc3df0fe</td>\n",
              "      <td>Urumeen</td>\n",
              "      <td>The film begins with the introduction of Raja ...</td>\n",
              "      <td>0</td>\n",
              "      <td>0</td>\n",
              "      <td>0</td>\n",
              "      <td>0</td>\n",
              "      <td>1</td>\n",
              "      <td>1</td>\n",
              "      <td>0</td>\n",
              "      <td>0</td>\n",
              "      <td>0</td>\n",
              "    </tr>\n",
              "    <tr>\n",
              "      <th>1184</th>\n",
              "      <td>84e025dd-4b4e-403c-a3dd-34818b210857</td>\n",
              "      <td>The Crimson Puzzle</td>\n",
              "      <td>In the atmospheric town of Ravenswood, esteeme...</td>\n",
              "      <td>0</td>\n",
              "      <td>0</td>\n",
              "      <td>0</td>\n",
              "      <td>0</td>\n",
              "      <td>1</td>\n",
              "      <td>0</td>\n",
              "      <td>0</td>\n",
              "      <td>0</td>\n",
              "      <td>0</td>\n",
              "    </tr>\n",
              "    <tr>\n",
              "      <th>1185</th>\n",
              "      <td>3d291d3b-c0b5-47cc-8dc8-127dc93162e3</td>\n",
              "      <td>Erik the Viking</td>\n",
              "      <td>The film is based largely upon Norse mythology...</td>\n",
              "      <td>0</td>\n",
              "      <td>1</td>\n",
              "      <td>0</td>\n",
              "      <td>0</td>\n",
              "      <td>0</td>\n",
              "      <td>0</td>\n",
              "      <td>1</td>\n",
              "      <td>0</td>\n",
              "      <td>0</td>\n",
              "    </tr>\n",
              "    <tr>\n",
              "      <th>1186</th>\n",
              "      <td>6c9b3034-56b3-42f6-874e-a821c9fd1a89</td>\n",
              "      <td>Arthur</td>\n",
              "      <td>Arthur Bach is a rich socialite from a financi...</td>\n",
              "      <td>1</td>\n",
              "      <td>0</td>\n",
              "      <td>0</td>\n",
              "      <td>0</td>\n",
              "      <td>0</td>\n",
              "      <td>0</td>\n",
              "      <td>0</td>\n",
              "      <td>0</td>\n",
              "      <td>0</td>\n",
              "    </tr>\n",
              "    <tr>\n",
              "      <th>1187</th>\n",
              "      <td>fbd1d334-e979-465c-9fb0-e173d2642630</td>\n",
              "      <td>Freejack</td>\n",
              "      <td>In 2009, the super-wealthy achieve immortality...</td>\n",
              "      <td>0</td>\n",
              "      <td>0</td>\n",
              "      <td>0</td>\n",
              "      <td>0</td>\n",
              "      <td>1</td>\n",
              "      <td>0</td>\n",
              "      <td>1</td>\n",
              "      <td>1</td>\n",
              "      <td>1</td>\n",
              "    </tr>\n",
              "  </tbody>\n",
              "</table>\n",
              "<p>1188 rows × 12 columns</p>\n",
              "</div>\n",
              "    <div class=\"colab-df-buttons\">\n",
              "\n",
              "  <div class=\"colab-df-container\">\n",
              "    <button class=\"colab-df-convert\" onclick=\"convertToInteractive('df-f5e8c9ed-29de-4932-815c-e4c0fee10c85')\"\n",
              "            title=\"Convert this dataframe to an interactive table.\"\n",
              "            style=\"display:none;\">\n",
              "\n",
              "  <svg xmlns=\"http://www.w3.org/2000/svg\" height=\"24px\" viewBox=\"0 -960 960 960\">\n",
              "    <path d=\"M120-120v-720h720v720H120Zm60-500h600v-160H180v160Zm220 220h160v-160H400v160Zm0 220h160v-160H400v160ZM180-400h160v-160H180v160Zm440 0h160v-160H620v160ZM180-180h160v-160H180v160Zm440 0h160v-160H620v160Z\"/>\n",
              "  </svg>\n",
              "    </button>\n",
              "\n",
              "  <style>\n",
              "    .colab-df-container {\n",
              "      display:flex;\n",
              "      gap: 12px;\n",
              "    }\n",
              "\n",
              "    .colab-df-convert {\n",
              "      background-color: #E8F0FE;\n",
              "      border: none;\n",
              "      border-radius: 50%;\n",
              "      cursor: pointer;\n",
              "      display: none;\n",
              "      fill: #1967D2;\n",
              "      height: 32px;\n",
              "      padding: 0 0 0 0;\n",
              "      width: 32px;\n",
              "    }\n",
              "\n",
              "    .colab-df-convert:hover {\n",
              "      background-color: #E2EBFA;\n",
              "      box-shadow: 0px 1px 2px rgba(60, 64, 67, 0.3), 0px 1px 3px 1px rgba(60, 64, 67, 0.15);\n",
              "      fill: #174EA6;\n",
              "    }\n",
              "\n",
              "    .colab-df-buttons div {\n",
              "      margin-bottom: 4px;\n",
              "    }\n",
              "\n",
              "    [theme=dark] .colab-df-convert {\n",
              "      background-color: #3B4455;\n",
              "      fill: #D2E3FC;\n",
              "    }\n",
              "\n",
              "    [theme=dark] .colab-df-convert:hover {\n",
              "      background-color: #434B5C;\n",
              "      box-shadow: 0px 1px 3px 1px rgba(0, 0, 0, 0.15);\n",
              "      filter: drop-shadow(0px 1px 2px rgba(0, 0, 0, 0.3));\n",
              "      fill: #FFFFFF;\n",
              "    }\n",
              "  </style>\n",
              "\n",
              "    <script>\n",
              "      const buttonEl =\n",
              "        document.querySelector('#df-f5e8c9ed-29de-4932-815c-e4c0fee10c85 button.colab-df-convert');\n",
              "      buttonEl.style.display =\n",
              "        google.colab.kernel.accessAllowed ? 'block' : 'none';\n",
              "\n",
              "      async function convertToInteractive(key) {\n",
              "        const element = document.querySelector('#df-f5e8c9ed-29de-4932-815c-e4c0fee10c85');\n",
              "        const dataTable =\n",
              "          await google.colab.kernel.invokeFunction('convertToInteractive',\n",
              "                                                    [key], {});\n",
              "        if (!dataTable) return;\n",
              "\n",
              "        const docLinkHtml = 'Like what you see? Visit the ' +\n",
              "          '<a target=\"_blank\" href=https://colab.research.google.com/notebooks/data_table.ipynb>data table notebook</a>'\n",
              "          + ' to learn more about interactive tables.';\n",
              "        element.innerHTML = '';\n",
              "        dataTable['output_type'] = 'display_data';\n",
              "        await google.colab.output.renderOutput(dataTable, element);\n",
              "        const docLink = document.createElement('div');\n",
              "        docLink.innerHTML = docLinkHtml;\n",
              "        element.appendChild(docLink);\n",
              "      }\n",
              "    </script>\n",
              "  </div>\n",
              "\n",
              "\n",
              "<div id=\"df-3efeaf81-042a-491a-a010-3cb622e32ac3\">\n",
              "  <button class=\"colab-df-quickchart\" onclick=\"quickchart('df-3efeaf81-042a-491a-a010-3cb622e32ac3')\"\n",
              "            title=\"Suggest charts\"\n",
              "            style=\"display:none;\">\n",
              "\n",
              "<svg xmlns=\"http://www.w3.org/2000/svg\" height=\"24px\"viewBox=\"0 0 24 24\"\n",
              "     width=\"24px\">\n",
              "    <g>\n",
              "        <path d=\"M19 3H5c-1.1 0-2 .9-2 2v14c0 1.1.9 2 2 2h14c1.1 0 2-.9 2-2V5c0-1.1-.9-2-2-2zM9 17H7v-7h2v7zm4 0h-2V7h2v10zm4 0h-2v-4h2v4z\"/>\n",
              "    </g>\n",
              "</svg>\n",
              "  </button>\n",
              "\n",
              "<style>\n",
              "  .colab-df-quickchart {\n",
              "      --bg-color: #E8F0FE;\n",
              "      --fill-color: #1967D2;\n",
              "      --hover-bg-color: #E2EBFA;\n",
              "      --hover-fill-color: #174EA6;\n",
              "      --disabled-fill-color: #AAA;\n",
              "      --disabled-bg-color: #DDD;\n",
              "  }\n",
              "\n",
              "  [theme=dark] .colab-df-quickchart {\n",
              "      --bg-color: #3B4455;\n",
              "      --fill-color: #D2E3FC;\n",
              "      --hover-bg-color: #434B5C;\n",
              "      --hover-fill-color: #FFFFFF;\n",
              "      --disabled-bg-color: #3B4455;\n",
              "      --disabled-fill-color: #666;\n",
              "  }\n",
              "\n",
              "  .colab-df-quickchart {\n",
              "    background-color: var(--bg-color);\n",
              "    border: none;\n",
              "    border-radius: 50%;\n",
              "    cursor: pointer;\n",
              "    display: none;\n",
              "    fill: var(--fill-color);\n",
              "    height: 32px;\n",
              "    padding: 0;\n",
              "    width: 32px;\n",
              "  }\n",
              "\n",
              "  .colab-df-quickchart:hover {\n",
              "    background-color: var(--hover-bg-color);\n",
              "    box-shadow: 0 1px 2px rgba(60, 64, 67, 0.3), 0 1px 3px 1px rgba(60, 64, 67, 0.15);\n",
              "    fill: var(--button-hover-fill-color);\n",
              "  }\n",
              "\n",
              "  .colab-df-quickchart-complete:disabled,\n",
              "  .colab-df-quickchart-complete:disabled:hover {\n",
              "    background-color: var(--disabled-bg-color);\n",
              "    fill: var(--disabled-fill-color);\n",
              "    box-shadow: none;\n",
              "  }\n",
              "\n",
              "  .colab-df-spinner {\n",
              "    border: 2px solid var(--fill-color);\n",
              "    border-color: transparent;\n",
              "    border-bottom-color: var(--fill-color);\n",
              "    animation:\n",
              "      spin 1s steps(1) infinite;\n",
              "  }\n",
              "\n",
              "  @keyframes spin {\n",
              "    0% {\n",
              "      border-color: transparent;\n",
              "      border-bottom-color: var(--fill-color);\n",
              "      border-left-color: var(--fill-color);\n",
              "    }\n",
              "    20% {\n",
              "      border-color: transparent;\n",
              "      border-left-color: var(--fill-color);\n",
              "      border-top-color: var(--fill-color);\n",
              "    }\n",
              "    30% {\n",
              "      border-color: transparent;\n",
              "      border-left-color: var(--fill-color);\n",
              "      border-top-color: var(--fill-color);\n",
              "      border-right-color: var(--fill-color);\n",
              "    }\n",
              "    40% {\n",
              "      border-color: transparent;\n",
              "      border-right-color: var(--fill-color);\n",
              "      border-top-color: var(--fill-color);\n",
              "    }\n",
              "    60% {\n",
              "      border-color: transparent;\n",
              "      border-right-color: var(--fill-color);\n",
              "    }\n",
              "    80% {\n",
              "      border-color: transparent;\n",
              "      border-right-color: var(--fill-color);\n",
              "      border-bottom-color: var(--fill-color);\n",
              "    }\n",
              "    90% {\n",
              "      border-color: transparent;\n",
              "      border-bottom-color: var(--fill-color);\n",
              "    }\n",
              "  }\n",
              "</style>\n",
              "\n",
              "  <script>\n",
              "    async function quickchart(key) {\n",
              "      const quickchartButtonEl =\n",
              "        document.querySelector('#' + key + ' button');\n",
              "      quickchartButtonEl.disabled = true;  // To prevent multiple clicks.\n",
              "      quickchartButtonEl.classList.add('colab-df-spinner');\n",
              "      try {\n",
              "        const charts = await google.colab.kernel.invokeFunction(\n",
              "            'suggestCharts', [key], {});\n",
              "      } catch (error) {\n",
              "        console.error('Error during call to suggestCharts:', error);\n",
              "      }\n",
              "      quickchartButtonEl.classList.remove('colab-df-spinner');\n",
              "      quickchartButtonEl.classList.add('colab-df-quickchart-complete');\n",
              "    }\n",
              "    (() => {\n",
              "      let quickchartButtonEl =\n",
              "        document.querySelector('#df-3efeaf81-042a-491a-a010-3cb622e32ac3 button');\n",
              "      quickchartButtonEl.style.display =\n",
              "        google.colab.kernel.accessAllowed ? 'block' : 'none';\n",
              "    })();\n",
              "  </script>\n",
              "</div>\n",
              "    </div>\n",
              "  </div>\n"
            ]
          },
          "metadata": {},
          "execution_count": 4
        }
      ],
      "source": [
        "file_path = \"./data/Task-2-validation-dataset.csv\"\n",
        "val_df = pd.read_csv(file_path, encoding='utf-8')\n",
        "val_df"
      ],
      "metadata": {
        "ExecuteTime": {
          "end_time": "2023-11-29T20:40:04.239246Z",
          "start_time": "2023-11-29T20:40:04.173461Z"
        },
        "id": "8adde97ffa4ced",
        "colab": {
          "base_uri": "https://localhost:8080/",
          "height": 966
        },
        "outputId": "ad55c440-3dc1-46dd-9985-07a01001d0ad"
      },
      "id": "8adde97ffa4ced"
    },
    {
      "cell_type": "markdown",
      "source": [
        "## Import test dataset"
      ],
      "metadata": {
        "id": "q_vt_-Klslmd"
      },
      "id": "q_vt_-Klslmd"
    },
    {
      "cell_type": "code",
      "source": [
        "test_df = pd.read_csv(\"./data/Task-2-test-dataset.csv\", encoding='utf-8')\n",
        "test_df"
      ],
      "metadata": {
        "colab": {
          "base_uri": "https://localhost:8080/",
          "height": 487
        },
        "id": "SskxiJ_Ysf_z",
        "outputId": "c4579393-972c-494b-efa1-0b867fe19302"
      },
      "id": "SskxiJ_Ysf_z",
      "execution_count": 92,
      "outputs": [
        {
          "output_type": "execute_result",
          "data": {
            "text/plain": [
              "                                        ID  \\\n",
              "0     82c09d29-36c7-4ceb-b8d9-a0f9e8d2ba35   \n",
              "1     210c183c-4b41-4aab-a3c0-74c0345ef80f   \n",
              "2     12f4bdf4-1645-42e4-8cd6-1ed4501cdce2   \n",
              "3     b28d8b62-906b-4414-b50e-4275020df712   \n",
              "4     31c32f7e-324a-4883-8f0a-006ebc5b40be   \n",
              "...                                    ...   \n",
              "1195  30aadf1e-9380-485a-af26-073d71c5636a   \n",
              "1196  46eb3e30-1a85-4479-988e-837de506245c   \n",
              "1197  ddb44c89-8fc6-4475-8fdb-accae7df5464   \n",
              "1198  872a6ed1-fd69-4c5d-a815-f1c9b37342e1   \n",
              "1199  85c26f5f-a0b5-4e99-a90f-77fc779c53cb   \n",
              "\n",
              "                                                  title  \\\n",
              "0                         Les dames du Bois de Boulogne   \n",
              "1                                      Monsieur Verdoux   \n",
              "2                                            Miss March   \n",
              "3                                                  Cure   \n",
              "4     Naruto: Takigakure no Shitou Ore ga Eiyuu Datt...   \n",
              "...                                                 ...   \n",
              "1195                                         Ying xiong   \n",
              "1196                                  Vengeance Stained   \n",
              "1197                     No Strings 2: Playtime in Hell   \n",
              "1198                                        Creepshow 3   \n",
              "1199                      The Unconventional Assignment   \n",
              "\n",
              "                                          plot_synopsis  \n",
              "0     Hélène and Jean have pledged their love to eac...  \n",
              "1     Henri Verdoux had been a bank teller for thirt...  \n",
              "2     The movie beings with Eugene Pratt (Zach Cregg...  \n",
              "3     Kenichi Takabe (Koji Yakusho) is an emotionall...  \n",
              "4     === Part I ===\\nA powerful fox known as the Ni...  \n",
              "...                                                 ...  \n",
              "1195  《英雄》The movie opens with a brief history sayin...  \n",
              "1196  In the gritty underworld of a crime-ridden cit...  \n",
              "1197  200 years ago a famous toy maker lost his fami...  \n",
              "1198  === Wraparound story ===\\nUnlike the first two...  \n",
              "1199  \"The Unconventional Assignment\" is a hilarious...  \n",
              "\n",
              "[1200 rows x 3 columns]"
            ],
            "text/html": [
              "\n",
              "  <div id=\"df-6116c1e4-2a39-4613-8f98-f9d6e7364566\" class=\"colab-df-container\">\n",
              "    <div>\n",
              "<style scoped>\n",
              "    .dataframe tbody tr th:only-of-type {\n",
              "        vertical-align: middle;\n",
              "    }\n",
              "\n",
              "    .dataframe tbody tr th {\n",
              "        vertical-align: top;\n",
              "    }\n",
              "\n",
              "    .dataframe thead th {\n",
              "        text-align: right;\n",
              "    }\n",
              "</style>\n",
              "<table border=\"1\" class=\"dataframe\">\n",
              "  <thead>\n",
              "    <tr style=\"text-align: right;\">\n",
              "      <th></th>\n",
              "      <th>ID</th>\n",
              "      <th>title</th>\n",
              "      <th>plot_synopsis</th>\n",
              "    </tr>\n",
              "  </thead>\n",
              "  <tbody>\n",
              "    <tr>\n",
              "      <th>0</th>\n",
              "      <td>82c09d29-36c7-4ceb-b8d9-a0f9e8d2ba35</td>\n",
              "      <td>Les dames du Bois de Boulogne</td>\n",
              "      <td>Hélène and Jean have pledged their love to eac...</td>\n",
              "    </tr>\n",
              "    <tr>\n",
              "      <th>1</th>\n",
              "      <td>210c183c-4b41-4aab-a3c0-74c0345ef80f</td>\n",
              "      <td>Monsieur Verdoux</td>\n",
              "      <td>Henri Verdoux had been a bank teller for thirt...</td>\n",
              "    </tr>\n",
              "    <tr>\n",
              "      <th>2</th>\n",
              "      <td>12f4bdf4-1645-42e4-8cd6-1ed4501cdce2</td>\n",
              "      <td>Miss March</td>\n",
              "      <td>The movie beings with Eugene Pratt (Zach Cregg...</td>\n",
              "    </tr>\n",
              "    <tr>\n",
              "      <th>3</th>\n",
              "      <td>b28d8b62-906b-4414-b50e-4275020df712</td>\n",
              "      <td>Cure</td>\n",
              "      <td>Kenichi Takabe (Koji Yakusho) is an emotionall...</td>\n",
              "    </tr>\n",
              "    <tr>\n",
              "      <th>4</th>\n",
              "      <td>31c32f7e-324a-4883-8f0a-006ebc5b40be</td>\n",
              "      <td>Naruto: Takigakure no Shitou Ore ga Eiyuu Datt...</td>\n",
              "      <td>=== Part I ===\\nA powerful fox known as the Ni...</td>\n",
              "    </tr>\n",
              "    <tr>\n",
              "      <th>...</th>\n",
              "      <td>...</td>\n",
              "      <td>...</td>\n",
              "      <td>...</td>\n",
              "    </tr>\n",
              "    <tr>\n",
              "      <th>1195</th>\n",
              "      <td>30aadf1e-9380-485a-af26-073d71c5636a</td>\n",
              "      <td>Ying xiong</td>\n",
              "      <td>《英雄》The movie opens with a brief history sayin...</td>\n",
              "    </tr>\n",
              "    <tr>\n",
              "      <th>1196</th>\n",
              "      <td>46eb3e30-1a85-4479-988e-837de506245c</td>\n",
              "      <td>Vengeance Stained</td>\n",
              "      <td>In the gritty underworld of a crime-ridden cit...</td>\n",
              "    </tr>\n",
              "    <tr>\n",
              "      <th>1197</th>\n",
              "      <td>ddb44c89-8fc6-4475-8fdb-accae7df5464</td>\n",
              "      <td>No Strings 2: Playtime in Hell</td>\n",
              "      <td>200 years ago a famous toy maker lost his fami...</td>\n",
              "    </tr>\n",
              "    <tr>\n",
              "      <th>1198</th>\n",
              "      <td>872a6ed1-fd69-4c5d-a815-f1c9b37342e1</td>\n",
              "      <td>Creepshow 3</td>\n",
              "      <td>=== Wraparound story ===\\nUnlike the first two...</td>\n",
              "    </tr>\n",
              "    <tr>\n",
              "      <th>1199</th>\n",
              "      <td>85c26f5f-a0b5-4e99-a90f-77fc779c53cb</td>\n",
              "      <td>The Unconventional Assignment</td>\n",
              "      <td>\"The Unconventional Assignment\" is a hilarious...</td>\n",
              "    </tr>\n",
              "  </tbody>\n",
              "</table>\n",
              "<p>1200 rows × 3 columns</p>\n",
              "</div>\n",
              "    <div class=\"colab-df-buttons\">\n",
              "\n",
              "  <div class=\"colab-df-container\">\n",
              "    <button class=\"colab-df-convert\" onclick=\"convertToInteractive('df-6116c1e4-2a39-4613-8f98-f9d6e7364566')\"\n",
              "            title=\"Convert this dataframe to an interactive table.\"\n",
              "            style=\"display:none;\">\n",
              "\n",
              "  <svg xmlns=\"http://www.w3.org/2000/svg\" height=\"24px\" viewBox=\"0 -960 960 960\">\n",
              "    <path d=\"M120-120v-720h720v720H120Zm60-500h600v-160H180v160Zm220 220h160v-160H400v160Zm0 220h160v-160H400v160ZM180-400h160v-160H180v160Zm440 0h160v-160H620v160ZM180-180h160v-160H180v160Zm440 0h160v-160H620v160Z\"/>\n",
              "  </svg>\n",
              "    </button>\n",
              "\n",
              "  <style>\n",
              "    .colab-df-container {\n",
              "      display:flex;\n",
              "      gap: 12px;\n",
              "    }\n",
              "\n",
              "    .colab-df-convert {\n",
              "      background-color: #E8F0FE;\n",
              "      border: none;\n",
              "      border-radius: 50%;\n",
              "      cursor: pointer;\n",
              "      display: none;\n",
              "      fill: #1967D2;\n",
              "      height: 32px;\n",
              "      padding: 0 0 0 0;\n",
              "      width: 32px;\n",
              "    }\n",
              "\n",
              "    .colab-df-convert:hover {\n",
              "      background-color: #E2EBFA;\n",
              "      box-shadow: 0px 1px 2px rgba(60, 64, 67, 0.3), 0px 1px 3px 1px rgba(60, 64, 67, 0.15);\n",
              "      fill: #174EA6;\n",
              "    }\n",
              "\n",
              "    .colab-df-buttons div {\n",
              "      margin-bottom: 4px;\n",
              "    }\n",
              "\n",
              "    [theme=dark] .colab-df-convert {\n",
              "      background-color: #3B4455;\n",
              "      fill: #D2E3FC;\n",
              "    }\n",
              "\n",
              "    [theme=dark] .colab-df-convert:hover {\n",
              "      background-color: #434B5C;\n",
              "      box-shadow: 0px 1px 3px 1px rgba(0, 0, 0, 0.15);\n",
              "      filter: drop-shadow(0px 1px 2px rgba(0, 0, 0, 0.3));\n",
              "      fill: #FFFFFF;\n",
              "    }\n",
              "  </style>\n",
              "\n",
              "    <script>\n",
              "      const buttonEl =\n",
              "        document.querySelector('#df-6116c1e4-2a39-4613-8f98-f9d6e7364566 button.colab-df-convert');\n",
              "      buttonEl.style.display =\n",
              "        google.colab.kernel.accessAllowed ? 'block' : 'none';\n",
              "\n",
              "      async function convertToInteractive(key) {\n",
              "        const element = document.querySelector('#df-6116c1e4-2a39-4613-8f98-f9d6e7364566');\n",
              "        const dataTable =\n",
              "          await google.colab.kernel.invokeFunction('convertToInteractive',\n",
              "                                                    [key], {});\n",
              "        if (!dataTable) return;\n",
              "\n",
              "        const docLinkHtml = 'Like what you see? Visit the ' +\n",
              "          '<a target=\"_blank\" href=https://colab.research.google.com/notebooks/data_table.ipynb>data table notebook</a>'\n",
              "          + ' to learn more about interactive tables.';\n",
              "        element.innerHTML = '';\n",
              "        dataTable['output_type'] = 'display_data';\n",
              "        await google.colab.output.renderOutput(dataTable, element);\n",
              "        const docLink = document.createElement('div');\n",
              "        docLink.innerHTML = docLinkHtml;\n",
              "        element.appendChild(docLink);\n",
              "      }\n",
              "    </script>\n",
              "  </div>\n",
              "\n",
              "\n",
              "<div id=\"df-3039c99a-7baa-4af8-b50e-49b85f34db78\">\n",
              "  <button class=\"colab-df-quickchart\" onclick=\"quickchart('df-3039c99a-7baa-4af8-b50e-49b85f34db78')\"\n",
              "            title=\"Suggest charts\"\n",
              "            style=\"display:none;\">\n",
              "\n",
              "<svg xmlns=\"http://www.w3.org/2000/svg\" height=\"24px\"viewBox=\"0 0 24 24\"\n",
              "     width=\"24px\">\n",
              "    <g>\n",
              "        <path d=\"M19 3H5c-1.1 0-2 .9-2 2v14c0 1.1.9 2 2 2h14c1.1 0 2-.9 2-2V5c0-1.1-.9-2-2-2zM9 17H7v-7h2v7zm4 0h-2V7h2v10zm4 0h-2v-4h2v4z\"/>\n",
              "    </g>\n",
              "</svg>\n",
              "  </button>\n",
              "\n",
              "<style>\n",
              "  .colab-df-quickchart {\n",
              "      --bg-color: #E8F0FE;\n",
              "      --fill-color: #1967D2;\n",
              "      --hover-bg-color: #E2EBFA;\n",
              "      --hover-fill-color: #174EA6;\n",
              "      --disabled-fill-color: #AAA;\n",
              "      --disabled-bg-color: #DDD;\n",
              "  }\n",
              "\n",
              "  [theme=dark] .colab-df-quickchart {\n",
              "      --bg-color: #3B4455;\n",
              "      --fill-color: #D2E3FC;\n",
              "      --hover-bg-color: #434B5C;\n",
              "      --hover-fill-color: #FFFFFF;\n",
              "      --disabled-bg-color: #3B4455;\n",
              "      --disabled-fill-color: #666;\n",
              "  }\n",
              "\n",
              "  .colab-df-quickchart {\n",
              "    background-color: var(--bg-color);\n",
              "    border: none;\n",
              "    border-radius: 50%;\n",
              "    cursor: pointer;\n",
              "    display: none;\n",
              "    fill: var(--fill-color);\n",
              "    height: 32px;\n",
              "    padding: 0;\n",
              "    width: 32px;\n",
              "  }\n",
              "\n",
              "  .colab-df-quickchart:hover {\n",
              "    background-color: var(--hover-bg-color);\n",
              "    box-shadow: 0 1px 2px rgba(60, 64, 67, 0.3), 0 1px 3px 1px rgba(60, 64, 67, 0.15);\n",
              "    fill: var(--button-hover-fill-color);\n",
              "  }\n",
              "\n",
              "  .colab-df-quickchart-complete:disabled,\n",
              "  .colab-df-quickchart-complete:disabled:hover {\n",
              "    background-color: var(--disabled-bg-color);\n",
              "    fill: var(--disabled-fill-color);\n",
              "    box-shadow: none;\n",
              "  }\n",
              "\n",
              "  .colab-df-spinner {\n",
              "    border: 2px solid var(--fill-color);\n",
              "    border-color: transparent;\n",
              "    border-bottom-color: var(--fill-color);\n",
              "    animation:\n",
              "      spin 1s steps(1) infinite;\n",
              "  }\n",
              "\n",
              "  @keyframes spin {\n",
              "    0% {\n",
              "      border-color: transparent;\n",
              "      border-bottom-color: var(--fill-color);\n",
              "      border-left-color: var(--fill-color);\n",
              "    }\n",
              "    20% {\n",
              "      border-color: transparent;\n",
              "      border-left-color: var(--fill-color);\n",
              "      border-top-color: var(--fill-color);\n",
              "    }\n",
              "    30% {\n",
              "      border-color: transparent;\n",
              "      border-left-color: var(--fill-color);\n",
              "      border-top-color: var(--fill-color);\n",
              "      border-right-color: var(--fill-color);\n",
              "    }\n",
              "    40% {\n",
              "      border-color: transparent;\n",
              "      border-right-color: var(--fill-color);\n",
              "      border-top-color: var(--fill-color);\n",
              "    }\n",
              "    60% {\n",
              "      border-color: transparent;\n",
              "      border-right-color: var(--fill-color);\n",
              "    }\n",
              "    80% {\n",
              "      border-color: transparent;\n",
              "      border-right-color: var(--fill-color);\n",
              "      border-bottom-color: var(--fill-color);\n",
              "    }\n",
              "    90% {\n",
              "      border-color: transparent;\n",
              "      border-bottom-color: var(--fill-color);\n",
              "    }\n",
              "  }\n",
              "</style>\n",
              "\n",
              "  <script>\n",
              "    async function quickchart(key) {\n",
              "      const quickchartButtonEl =\n",
              "        document.querySelector('#' + key + ' button');\n",
              "      quickchartButtonEl.disabled = true;  // To prevent multiple clicks.\n",
              "      quickchartButtonEl.classList.add('colab-df-spinner');\n",
              "      try {\n",
              "        const charts = await google.colab.kernel.invokeFunction(\n",
              "            'suggestCharts', [key], {});\n",
              "      } catch (error) {\n",
              "        console.error('Error during call to suggestCharts:', error);\n",
              "      }\n",
              "      quickchartButtonEl.classList.remove('colab-df-spinner');\n",
              "      quickchartButtonEl.classList.add('colab-df-quickchart-complete');\n",
              "    }\n",
              "    (() => {\n",
              "      let quickchartButtonEl =\n",
              "        document.querySelector('#df-3039c99a-7baa-4af8-b50e-49b85f34db78 button');\n",
              "      quickchartButtonEl.style.display =\n",
              "        google.colab.kernel.accessAllowed ? 'block' : 'none';\n",
              "    })();\n",
              "  </script>\n",
              "</div>\n",
              "    </div>\n",
              "  </div>\n"
            ]
          },
          "metadata": {},
          "execution_count": 92
        }
      ]
    },
    {
      "cell_type": "markdown",
      "source": [
        "# Data Exploration"
      ],
      "metadata": {
        "collapsed": false,
        "id": "9bc6e05f9741e351"
      },
      "id": "9bc6e05f9741e351"
    },
    {
      "cell_type": "code",
      "source": [
        "labels_list = ['comedy', 'cult', 'flashback', 'historical', 'murder', 'revenge', 'romantic', 'scifi', 'violence']"
      ],
      "metadata": {
        "id": "y9wjQ3hcuGn3"
      },
      "id": "y9wjQ3hcuGn3",
      "execution_count": null,
      "outputs": []
    },
    {
      "cell_type": "code",
      "execution_count": null,
      "outputs": [
        {
          "output_type": "display_data",
          "data": {
            "text/plain": [
              "<Figure size 1000x600 with 1 Axes>"
            ],
            "image/png": "[encoded data removed]"
          },
          "metadata": {}
        }
      ],
      "source": [
        "# Assuming 'movie_id', 'title', 'plot_synopsis', 'comedy', 'cult', 'flashback', 'historical', 'murder', 'revenge', 'romantic', 'scifi', 'violence' are the column names\n",
        "\n",
        "# Count the occurrences of each topic\n",
        "topic_counts = train_df[labels_list].sum()\n",
        "\n",
        "# Plot the bar chart\n",
        "plt.figure(figsize=(10, 6))\n",
        "topic_counts.plot(kind='bar', color='skyblue')\n",
        "plt.title('Number of Movies for Each Topic')\n",
        "plt.xlabel('Topics')\n",
        "plt.ylabel('Number of Movies')\n",
        "plt.xticks(rotation=45, ha='right')  # Rotate x-axis labels for better readability\n",
        "plt.show()"
      ],
      "metadata": {
        "ExecuteTime": {
          "end_time": "2023-11-29T20:40:06.809111Z",
          "start_time": "2023-11-29T20:40:06.454810Z"
        },
        "id": "8eb8434ac930444",
        "outputId": "d2f80039-5dac-4ab2-fe7a-4f3dada52c53",
        "colab": {
          "base_uri": "https://localhost:8080/",
          "height": 607
        }
      },
      "id": "8eb8434ac930444"
    },
    {
      "cell_type": "markdown",
      "source": [
        " Conventional algorithms are often biased towards the majority class, not taking the data distribution into consideration.... However, in our case of learning imbalanced data, the majority classes might be of our great interest. It is desirable to have a classifier that gives high prediction accuracy over the majority class, while maintaining reasonable accuracy for the minority classes. Therefore, we will leave it as it is.\n",
        " https://towardsdatascience.com/multi-class-text-classification-with-scikit-learn-12f1e60e0a9f"
      ],
      "metadata": {
        "collapsed": false,
        "id": "bf38eae74c4f94ac"
      },
      "id": "bf38eae74c4f94ac"
    },
    {
      "cell_type": "code",
      "execution_count": null,
      "outputs": [
        {
          "output_type": "display_data",
          "data": {
            "text/plain": [
              "<Figure size 1000x600 with 1 Axes>"
            ],
            "image/png": "[encoded data removed]"
          },
          "metadata": {}
        }
      ],
      "source": [
        "# Assuming 'movie_id', 'title', 'plot_synopsis', 'comedy', 'cult', 'flashback', 'historical', 'murder', 'revenge', 'romantic', 'scifi', 'violence' are the column names\n",
        "\n",
        "# Count the number of tags for each movie\n",
        "train_df['num_tags'] = train_df[labels_list].sum(axis=1)\n",
        "\n",
        "# Plot the histogram\n",
        "plt.figure(figsize=(10, 6))\n",
        "plt.hist(train_df['num_tags'], bins=range(10), color='skyblue', edgecolor='black', align='left')\n",
        "plt.title('Number of Tags per Movie')\n",
        "plt.xlabel('Number of Tags')\n",
        "plt.ylabel('Number of Movies')\n",
        "plt.xticks(range(10))  # Adjust the range based on your data\n",
        "plt.show()"
      ],
      "metadata": {
        "ExecuteTime": {
          "end_time": "2023-11-29T20:40:10.847960Z",
          "start_time": "2023-11-29T20:40:10.705321Z"
        },
        "id": "b5b394990aabb8a5",
        "outputId": "864169bd-6055-415f-e93d-fb31d151cc9a",
        "colab": {
          "base_uri": "https://localhost:8080/",
          "height": 564
        }
      },
      "id": "b5b394990aabb8a5"
    },
    {
      "cell_type": "code",
      "execution_count": null,
      "outputs": [
        {
          "output_type": "stream",
          "name": "stdout",
          "text": [
            "Requirement already satisfied: seaborn in /usr/local/lib/python3.10/dist-packages (0.12.2)\n",
            "Requirement already satisfied: numpy!=1.24.0,>=1.17 in /usr/local/lib/python3.10/dist-packages (from seaborn) (1.23.5)\n",
            "Requirement already satisfied: pandas>=0.25 in /usr/local/lib/python3.10/dist-packages (from seaborn) (1.5.3)\n",
            "Requirement already satisfied: matplotlib!=3.6.1,>=3.1 in /usr/local/lib/python3.10/dist-packages (from seaborn) (3.7.1)\n",
            "Requirement already satisfied: contourpy>=1.0.1 in /usr/local/lib/python3.10/dist-packages (from matplotlib!=3.6.1,>=3.1->seaborn) (1.2.0)\n",
            "Requirement already satisfied: cycler>=0.10 in /usr/local/lib/python3.10/dist-packages (from matplotlib!=3.6.1,>=3.1->seaborn) (0.12.1)\n",
            "Requirement already satisfied: fonttools>=4.22.0 in /usr/local/lib/python3.10/dist-packages (from matplotlib!=3.6.1,>=3.1->seaborn) (4.44.3)\n",
            "Requirement already satisfied: kiwisolver>=1.0.1 in /usr/local/lib/python3.10/dist-packages (from matplotlib!=3.6.1,>=3.1->seaborn) (1.4.5)\n",
            "Requirement already satisfied: packaging>=20.0 in /usr/local/lib/python3.10/dist-packages (from matplotlib!=3.6.1,>=3.1->seaborn) (23.2)\n",
            "Requirement already satisfied: pillow>=6.2.0 in /usr/local/lib/python3.10/dist-packages (from matplotlib!=3.6.1,>=3.1->seaborn) (9.4.0)\n",
            "Requirement already satisfied: pyparsing>=2.3.1 in /usr/local/lib/python3.10/dist-packages (from matplotlib!=3.6.1,>=3.1->seaborn) (3.1.1)\n",
            "Requirement already satisfied: python-dateutil>=2.7 in /usr/local/lib/python3.10/dist-packages (from matplotlib!=3.6.1,>=3.1->seaborn) (2.8.2)\n",
            "Requirement already satisfied: pytz>=2020.1 in /usr/local/lib/python3.10/dist-packages (from pandas>=0.25->seaborn) (2023.3.post1)\n",
            "Requirement already satisfied: six>=1.5 in /usr/local/lib/python3.10/dist-packages (from python-dateutil>=2.7->matplotlib!=3.6.1,>=3.1->seaborn) (1.16.0)\n"
          ]
        },
        {
          "output_type": "display_data",
          "data": {
            "text/plain": [
              "<Figure size 1000x800 with 2 Axes>"
            ],
            "image/png": "[encoded data removed]"
          },
          "metadata": {}
        }
      ],
      "source": [
        "! pip install seaborn\n",
        "import seaborn as sns\n",
        "\n",
        "# Compute the correlation matrix using point-biserial correlation\n",
        "correlation_matrix = train_df[labels_list].corr()\n",
        "\n",
        "# Plot the correlation matrix as a heatmap\n",
        "plt.figure(figsize=(10, 8))\n",
        "sns.heatmap(correlation_matrix, annot=True, cmap='coolwarm', fmt=\".2f\", vmin=-1, vmax=1)\n",
        "plt.title('Correlation Matrix of Tags')\n",
        "plt.show()"
      ],
      "metadata": {
        "ExecuteTime": {
          "end_time": "2023-11-29T20:40:25.541591Z",
          "start_time": "2023-11-29T20:40:22.773412Z"
        },
        "id": "6e98a6d4af2b7ddb",
        "outputId": "79e5e1ca-6871-4d31-d8ff-50054fbe62c7",
        "colab": {
          "base_uri": "https://localhost:8080/",
          "height": 957
        }
      },
      "id": "6e98a6d4af2b7ddb"
    },
    {
      "cell_type": "code",
      "execution_count": null,
      "outputs": [
        {
          "output_type": "display_data",
          "data": {
            "text/plain": [
              "<Figure size 800x500 with 1 Axes>"
            ],
            "image/png": "[encoded data removed]"
          },
          "metadata": {}
        }
      ],
      "source": [
        "# raw words in each plot\n",
        "word_cnt = [len(plot.split()) for plot in train_df['plot_synopsis']]\n",
        "# Plot the distribution\n",
        "plt.figure(figsize=[8,5])\n",
        "plt.hist(word_cnt, bins = 40)\n",
        "plt.xlabel('Word Count')\n",
        "plt.ylabel('# of Occurences')\n",
        "plt.title(\"Frequency of Word Counts\")\n",
        "plt.show()"
      ],
      "metadata": {
        "ExecuteTime": {
          "end_time": "2023-11-29T20:40:25.937572Z",
          "start_time": "2023-11-29T20:40:25.548561Z"
        },
        "id": "6475859c271e39d8",
        "outputId": "f4c47ecd-ed8f-4796-a016-996e43aab075",
        "colab": {
          "base_uri": "https://localhost:8080/",
          "height": 487
        }
      },
      "id": "6475859c271e39d8"
    },
    {
      "cell_type": "markdown",
      "source": [
        "# Preprocessing of data for both models"
      ],
      "metadata": {
        "collapsed": false,
        "id": "91e4389e7490f655"
      },
      "id": "91e4389e7490f655"
    },
    {
      "cell_type": "code",
      "execution_count": null,
      "outputs": [
        {
          "output_type": "stream",
          "name": "stderr",
          "text": [
            "[nltk_data] Downloading package punkt to /root/nltk_data...\n",
            "[nltk_data]   Unzipping tokenizers/punkt.zip.\n",
            "[nltk_data] Downloading package stopwords to /root/nltk_data...\n",
            "[nltk_data]   Unzipping corpora/stopwords.zip.\n",
            "[nltk_data] Downloading package wordnet to /root/nltk_data...\n"
          ]
        }
      ],
      "source": [
        "from gensim.models import Word2Vec\n",
        "from nltk.tokenize import word_tokenize\n",
        "from nltk.corpus import stopwords\n",
        "from nltk.stem import WordNetLemmatizer\n",
        "import nltk\n",
        "\n",
        "# Download NLTK resources\n",
        "nltk.download('punkt')\n",
        "nltk.download('stopwords')\n",
        "nltk.download('wordnet')\n",
        "\n",
        "# Define the target labels\n",
        "labels = train_df[labels_list]\n",
        "\n",
        "# Function for text preprocessing\n",
        "def preprocess_text(text):\n",
        "    tokens = word_tokenize(text.lower())\n",
        "    tokens = [word for word in tokens if word.isalpha()]\n",
        "    stop_words = set(stopwords.words('english'))\n",
        "    tokens = [word for word in tokens if word not in stop_words]\n",
        "    lemmatizer = WordNetLemmatizer()\n",
        "    tokens = [lemmatizer.lemmatize(word) for word in tokens]\n",
        "    return tokens\n",
        "\n",
        "# Apply preprocessing to training set\n",
        "train_df['plot_synopsis_tokens'] = train_df['plot_synopsis'].apply(preprocess_text)\n",
        "train_df['title_tokens'] = train_df['title'].apply(preprocess_text)\n",
        "\n",
        "# Apply preprocessing to the validation set\n",
        "val_df['plot_synopsis_tokens'] = val_df['plot_synopsis'].apply(preprocess_text)\n",
        "val_df['title_tokens'] = val_df['title'].apply(preprocess_text)"
      ],
      "metadata": {
        "ExecuteTime": {
          "end_time": "2023-11-29T21:50:22.183400Z",
          "start_time": "2023-11-29T21:49:43.862968Z"
        },
        "id": "ec6c2ac79c4c4516",
        "outputId": "b1a6fcb0-81b7-4f62-aa26-0824d690607e",
        "colab": {
          "base_uri": "https://localhost:8080/"
        }
      },
      "id": "ec6c2ac79c4c4516"
    },
    {
      "cell_type": "code",
      "source": [
        "# Concatenate 'title_tokens' and 'plot_synopsis_tokens' into a new list 'combined_tokens'\n",
        "train_df['combined_tokens'] = train_df['title_tokens'] + train_df['plot_synopsis_tokens']\n",
        "val_df['combined_tokens'] = train_df['title_tokens'] + train_df['plot_synopsis_tokens']"
      ],
      "metadata": {
        "id": "akQat8LTwqdO"
      },
      "id": "akQat8LTwqdO",
      "execution_count": null,
      "outputs": []
    },
    {
      "cell_type": "code",
      "source": [
        "# Apply preprocessing steps to test data\n",
        "test_df['plot_synopsis_tokens'] = test_df['plot_synopsis'].apply(preprocess_text)\n",
        "test_df['title_tokens'] = test_df['title'].apply(preprocess_text)\n",
        "test_df['combined_tokens'] = test_df['title_tokens'] + test_df['plot_synopsis_tokens']"
      ],
      "metadata": {
        "id": "ggG6NGfDB6bV"
      },
      "id": "ggG6NGfDB6bV",
      "execution_count": null,
      "outputs": []
    },
    {
      "cell_type": "markdown",
      "source": [
        "## Compute Class Weights"
      ],
      "metadata": {
        "collapsed": false,
        "id": "fa3d08430ff15368"
      },
      "id": "fa3d08430ff15368"
    },
    {
      "cell_type": "code",
      "execution_count": null,
      "outputs": [
        {
          "output_type": "stream",
          "name": "stdout",
          "text": [
            "{0: 0.05740047156835885, 1: 0.040221762975718424, 2: 0.03632868361046583, 3: 0.3894591135444563, 4: 0.018024233669885262, 5: 0.04371719681307717, 6: 0.036111363469226755, 7: 0.3550950741140631, 8: 0.023642100234748328}\n"
          ]
        }
      ],
      "source": [
        "import numpy as np\n",
        "\n",
        "def calculate_class_weights(y):\n",
        "    # Calculate class counts\n",
        "    class_counts = y.sum(axis=0)\n",
        "    # Calculate class weights using the inverse of class frequencies\n",
        "    total_samples = len(y)\n",
        "    class_weights = total_samples / (len(class_counts) * class_counts)\n",
        "    # Normalize the class weights to sum to 1\n",
        "    normalized_weights = class_weights / sum(class_weights)\n",
        "    # Create a dictionary with class indices and corresponding normalized weights\n",
        "    normalized_dict = dict(enumerate(normalized_weights))\n",
        "\n",
        "    return normalized_dict\n",
        "\n",
        "y_train = train_df[labels.columns]\n",
        "class_weights_dict = calculate_class_weights(y_train)\n",
        "print(class_weights_dict)"
      ],
      "metadata": {
        "ExecuteTime": {
          "end_time": "2023-11-29T22:08:56.303497Z",
          "start_time": "2023-11-29T22:08:56.258974Z"
        },
        "id": "653fd185731d8366",
        "outputId": "ec85334c-631c-4b18-86e5-491e7ed3e949",
        "colab": {
          "base_uri": "https://localhost:8080/"
        }
      },
      "id": "653fd185731d8366"
    },
    {
      "cell_type": "markdown",
      "source": [
        "# (a) SVM"
      ],
      "metadata": {
        "collapsed": false,
        "id": "82017c4c04a3670"
      },
      "id": "82017c4c04a3670"
    },
    {
      "cell_type": "markdown",
      "source": [
        "## Steps to Follow for a SVM\n",
        "1. Preprocessing for SVM - use document vectors!\n",
        "3. Smoke test SVM on the training data\n",
        "4. Finetune SVM using GridSearchCV and 5 fold cross validation on the training data\n",
        "5. Choose best model\n",
        "6. Evaluate best model performance on val data\n",
        "7. Save validation results to CSV"
      ],
      "metadata": {
        "collapsed": false,
        "id": "2358e7c36317a366"
      },
      "id": "2358e7c36317a366"
    },
    {
      "cell_type": "markdown",
      "source": [
        "## Preprocessing for SVM"
      ],
      "metadata": {
        "collapsed": false,
        "id": "9820c2c15125909d"
      },
      "id": "9820c2c15125909d"
    },
    {
      "cell_type": "code",
      "execution_count": null,
      "outputs": [],
      "source": [
        "# Load Word2Vec model\n",
        "final_model_w2v = Word2Vec(\n",
        "    sentences=train_df['combined_tokens'],\n",
        "    vector_size=50,\n",
        "    window=3,\n",
        "    min_count=5,\n",
        "    sg=0,\n",
        "    negative=10,\n",
        "    epochs=20,\n",
        "    sample=0.0001,\n",
        "    workers=4\n",
        ")\n",
        "\n",
        "def calculate_doc_vector(tokens, model):\n",
        "    # Remove oov words\n",
        "    tokens_in_vocab = [token for token in tokens if token in model.wv]\n",
        "    if len(tokens_in_vocab) > 0:\n",
        "        return np.mean(model.wv[tokens_in_vocab], axis=0)\n",
        "    else:\n",
        "        return np.zeros(model.vector_size)"
      ],
      "metadata": {
        "ExecuteTime": {
          "end_time": "2023-11-29T20:42:08.751384Z",
          "start_time": "2023-11-29T20:41:49.366847Z"
        },
        "id": "dfc751989ccbed2"
      },
      "id": "dfc751989ccbed2"
    },
    {
      "cell_type": "code",
      "execution_count": null,
      "outputs": [
        {
          "output_type": "display_data",
          "data": {
            "text/plain": [
              "<Figure size 800x500 with 1 Axes>"
            ],
            "image/png": "[encoded data removed]"
          },
          "metadata": {}
        }
      ],
      "source": [
        "# compute no. of words in each plot\n",
        "word_cnt_tokenised = [len(plot_tokens) for plot_tokens in train_df['combined_tokens']]\n",
        "# Plot the distribution\n",
        "plt.figure(figsize=[8,5])\n",
        "plt.hist(word_cnt_tokenised, bins = 40)\n",
        "plt.xlabel('Word Count/Synopsis')\n",
        "plt.ylabel('# of Occurences')\n",
        "plt.title(\"Frequency of Word Counts/sentence\")\n",
        "plt.show()"
      ],
      "metadata": {
        "ExecuteTime": {
          "end_time": "2023-11-29T20:42:46.145518Z",
          "start_time": "2023-11-29T20:42:45.966035Z"
        },
        "id": "6ab8b38f9a3df92",
        "outputId": "6f0c0cbc-6ff3-46e9-efdf-3c638a2cd90f",
        "colab": {
          "base_uri": "https://localhost:8080/",
          "height": 487
        }
      },
      "id": "6ab8b38f9a3df92"
    },
    {
      "cell_type": "code",
      "source": [
        "def process_dataframe_svm(df, model, y_calculate=True):\n",
        "    # Apply the function to get document vectors for each movie\n",
        "    df['doc_vectors'] = (df['title_tokens'] + df['plot_synopsis_tokens']).apply(lambda tokens: calculate_doc_vector(tokens, model))\n",
        "\n",
        "    # Flatten the 2D array into separate columns\n",
        "    columns = ['w2v_feature_{}'.format(i) for i in range(model.vector_size)]\n",
        "    df[columns] = pd.DataFrame(df['doc_vectors'].tolist(), index=df.index)\n",
        "\n",
        "    # Select features (X) and labels (y)\n",
        "    X = df[columns]\n",
        "    if y_calculate:\n",
        "      y = df[labels.columns]  # Assuming labels.columns contains your label columns\n",
        "    else:\n",
        "      y = None\n",
        "\n",
        "    return X, y\n"
      ],
      "metadata": {
        "id": "l5KZv59T8Nko"
      },
      "id": "l5KZv59T8Nko",
      "execution_count": null,
      "outputs": []
    },
    {
      "cell_type": "markdown",
      "source": [
        "### Preprocessing training set for SVM\n"
      ],
      "metadata": {
        "collapsed": false,
        "id": "94252ceafd7eb460"
      },
      "id": "94252ceafd7eb460"
    },
    {
      "cell_type": "code",
      "execution_count": null,
      "outputs": [],
      "source": [
        "X, y = process_dataframe_svm(train_df, final_model_w2v)"
      ],
      "metadata": {
        "ExecuteTime": {
          "end_time": "2023-11-29T22:01:35.567251Z",
          "start_time": "2023-11-29T22:01:29.373456Z"
        },
        "id": "2165339c6288e020"
      },
      "id": "2165339c6288e020"
    },
    {
      "cell_type": "markdown",
      "source": [
        "### Preprocessing validation set for SVM"
      ],
      "metadata": {
        "collapsed": false,
        "id": "fb0b31bc92303bca"
      },
      "id": "fb0b31bc92303bca"
    },
    {
      "cell_type": "code",
      "execution_count": null,
      "outputs": [],
      "source": [
        "X_val, y_val = process_dataframe_svm(val_df, final_model_w2v)"
      ],
      "metadata": {
        "ExecuteTime": {
          "end_time": "2023-11-29T22:01:40.420016Z",
          "start_time": "2023-11-29T22:01:39.265508Z"
        },
        "id": "a7e28ec4f42c6ace"
      },
      "id": "a7e28ec4f42c6ace"
    },
    {
      "cell_type": "markdown",
      "source": [
        "### Preprocessing test data for SVM"
      ],
      "metadata": {
        "id": "XOI_N6KlCb2I"
      },
      "id": "XOI_N6KlCb2I"
    },
    {
      "cell_type": "code",
      "source": [
        "X_test, _ = process_dataframe_svm(test_df, final_model_w2v, y_calculate=False)"
      ],
      "metadata": {
        "id": "QE34sMC6CbP7"
      },
      "id": "QE34sMC6CbP7",
      "execution_count": null,
      "outputs": []
    },
    {
      "cell_type": "markdown",
      "source": [
        "## Smoke test SVM\n",
        "\n",
        "Execution time: 1 minute 13 seconds"
      ],
      "metadata": {
        "collapsed": false,
        "id": "bc7939e183761b36"
      },
      "id": "bc7939e183761b36"
    },
    {
      "cell_type": "code",
      "execution_count": null,
      "outputs": [
        {
          "output_type": "stream",
          "name": "stdout",
          "text": [
            "Accuracy: 0.07508780428727141\n"
          ]
        }
      ],
      "source": [
        "from sklearn.model_selection import train_test_split\n",
        "from sklearn.multioutput import MultiOutputClassifier\n",
        "from sklearn.svm import SVC\n",
        "from gensim.models import Word2Vec\n",
        "from nltk.tokenize import word_tokenize\n",
        "from nltk.corpus import stopwords\n",
        "from nltk.stem import WordNetLemmatizer\n",
        "import nltk\n",
        "\n",
        "# Train the SVM classifier for multi-label classification\n",
        "svm_classifier = MultiOutputClassifier(SVC(kernel='linear', C=1.0, class_weight=\"balanced\"))\n",
        "svm_classifier.fit(X, y)\n",
        "\n",
        "# Make predictions on the test set\n",
        "y_pred = svm_classifier.predict(X)\n",
        "\n",
        "# Evaluate the performance\n",
        "accuracy = svm_classifier.score(X, y)\n",
        "print(\"Accuracy:\", accuracy)\n"
      ],
      "metadata": {
        "ExecuteTime": {
          "end_time": "2023-11-29T21:58:46.626511Z",
          "start_time": "2023-11-29T21:58:15.713413Z"
        },
        "id": "2c684d4276e785e7",
        "outputId": "a581b6e2-8cf9-4a5e-8266-8cf4262b3f9f",
        "colab": {
          "base_uri": "https://localhost:8080/"
        }
      },
      "id": "2c684d4276e785e7"
    },
    {
      "cell_type": "code",
      "execution_count": null,
      "outputs": [
        {
          "output_type": "stream",
          "name": "stdout",
          "text": [
            "Classification Report:\n",
            "               precision    recall  f1-score   support\n",
            "\n",
            "      comedy       0.27      0.72      0.39      1262\n",
            "        cult       0.36      0.72      0.48      1801\n",
            "   flashback       0.36      0.62      0.46      1994\n",
            "  historical       0.09      0.85      0.16       186\n",
            "      murder       0.70      0.74      0.72      4019\n",
            "     revenge       0.34      0.66      0.45      1657\n",
            "    romantic       0.49      0.69      0.57      2006\n",
            "       scifi       0.13      0.90      0.22       204\n",
            "    violence       0.61      0.74      0.67      3064\n",
            "\n",
            "   micro avg       0.42      0.71      0.53     16193\n",
            "   macro avg       0.37      0.74      0.46     16193\n",
            "weighted avg       0.49      0.71      0.57     16193\n",
            " samples avg       0.44      0.73      0.50     16193\n",
            "\n"
          ]
        }
      ],
      "source": [
        "from sklearn.metrics import classification_report\n",
        "\n",
        "# Print the classification report for training set\n",
        "classification_rep = classification_report(y, y_pred, target_names=labels.columns, zero_division=1)\n",
        "print(\"Classification Report:\\n\", classification_rep)\n"
      ],
      "metadata": {
        "ExecuteTime": {
          "end_time": "2023-11-29T21:59:29.880153Z",
          "start_time": "2023-11-29T21:59:29.850624Z"
        },
        "id": "d2281618f2fb0fd3",
        "outputId": "49a4cd04-af65-4d00-be92-4a3305a645b5",
        "colab": {
          "base_uri": "https://localhost:8080/"
        }
      },
      "id": "d2281618f2fb0fd3"
    },
    {
      "cell_type": "markdown",
      "source": [
        "## Hyperparameter tuning for SVM\n",
        "\n",
        "Best model found is MultiOutputClassifier(estimator=SVC(C=10,\n",
        "                                    class_weight={0: 0.6393066070199587,\n",
        "                                                  1: 2.2946026060643487},\n",
        "                                    gamma=0.1))"
      ],
      "metadata": {
        "collapsed": false,
        "id": "50db6d3a5cdd7c0b"
      },
      "id": "50db6d3a5cdd7c0b"
    },
    {
      "cell_type": "code",
      "execution_count": null,
      "outputs": [
        {
          "name": "stdout",
          "output_type": "stream",
          "text": [
            "Classification Report:\n",
            "               precision    recall  f1-score   support\n",
            "\n",
            "      comedy       0.50      0.73      0.60      1262\n",
            "        cult       0.47      0.85      0.60      1801\n",
            "   flashback       0.45      0.86      0.59      1994\n",
            "  historical       0.81      0.45      0.57       186\n",
            "      murder       0.63      0.98      0.77      4019\n",
            "     revenge       0.48      0.79      0.60      1657\n",
            "    romantic       0.56      0.84      0.67      2006\n",
            "       scifi       0.71      0.60      0.65       204\n",
            "    violence       0.57      0.95      0.71      3064\n",
            "\n",
            "   micro avg       0.54      0.88      0.67     16193\n",
            "   macro avg       0.57      0.78      0.64     16193\n",
            "weighted avg       0.55      0.88      0.67     16193\n",
            " samples avg       0.57      0.89      0.66     16193\n"
          ]
        },
        {
          "name": "stderr",
          "output_type": "stream",
          "text": [
            "/Users/zoyaanwar/Downloads/NLP/venv/lib/python3.9/site-packages/sklearn/metrics/_classification.py:1471: UndefinedMetricWarning: Precision and F-score are ill-defined and being set to 0.0 in samples with no predicted labels. Use `zero_division` parameter to control this behavior.\n",
            "  _warn_prf(average, modifier, msg_start, len(result))\n"
          ]
        }
      ],
      "source": [
        "from sklearn.model_selection import GridSearchCV,  StratifiedKFold\n",
        "from sklearn.multioutput import MultiOutputClassifier\n",
        "from sklearn.utils import compute_class_weight\n",
        "from sklearn.svm import SVC\n",
        "\n",
        "# Flatten y_train to a 1D array\n",
        "y_train_flatten = y.values.flatten()\n",
        "\n",
        "# Calculate class weights\n",
        "class_weights = compute_class_weight(class_weight='balanced', classes=np.unique(y_train_flatten), y=y_train_flatten)\n",
        "\n",
        "# Define the SVM model\n",
        "svm_model = SVC(class_weight=dict(zip(np.unique(y_train_flatten), class_weights)))\n",
        "\n",
        "\n",
        "# Create a MultiOutputClassifier\n",
        "multioutput_svm = MultiOutputClassifier(svm_model)\n",
        "\n",
        "# Use GridSearchCV to find optimal hyperparameters\n",
        "param_grid = {\n",
        "    'estimator__C': [0.001, 0.01, 0.1, 1, 10, 100],\n",
        "    'estimator__kernel': ['linear', 'rbf', 'poly'],\n",
        "    'estimator__gamma': ['scale', 'auto', 0.1, 1, 10]\n",
        "}\n",
        "\n",
        "# Use GridSearchCV with stratified cross-validation\n",
        "grid_search = GridSearchCV(multioutput_svm, param_grid, cv=5, scoring='f1_weighted')\n",
        "\n",
        "grid_search.fit(X, y)\n",
        "\n",
        "# Get the best model\n",
        "best_model = grid_search.best_estimator_\n",
        "\n",
        "# Make predictions on the training set\n",
        "y_pred = best_model.predict(X)\n",
        "\n",
        "# Print the classification report for training set\n",
        "classification_rep = classification_report(y, y_pred, target_names=labels.columns, zero_division=1)\n",
        "print(\"Classification Report for trained SVM on training set:\\n\", classification_rep)"
      ],
      "metadata": {
        "ExecuteTime": {
          "end_time": "2023-11-27T04:54:24.059964Z",
          "start_time": "2023-11-27T02:38:47.374973Z"
        },
        "id": "b0e23fc3be90ecc8",
        "outputId": "ac9fafb5-6a33-4eba-e387-37ace52f3397"
      },
      "id": "b0e23fc3be90ecc8"
    },
    {
      "cell_type": "markdown",
      "source": [
        "## Test Dataset for SVM"
      ],
      "metadata": {
        "collapsed": false,
        "id": "3a61d384f0b601f8"
      },
      "id": "3a61d384f0b601f8"
    },
    {
      "cell_type": "code",
      "execution_count": null,
      "outputs": [],
      "source": [
        "from sklearn.metrics import classification_report\n",
        "\n",
        "def test_dataset_svm_and_save(svm, X, df, generate_report=True, y=None, name=\"./data/10606001-Task2-method-a-validation.csv\"):\n",
        "    # Make predictions on the validation set\n",
        "    y_pred = svm.predict(X)\n",
        "\n",
        "    if generate_report:\n",
        "      # Print the classification report\n",
        "      classification_rep = classification_report(y, y_pred, target_names=labels_list, zero_division=1)\n",
        "      print(\"Classification Report:\\n\", classification_rep)\n",
        "\n",
        "    # Assuming y_val_pred is a multidimensional array\n",
        "    result_df = pd.DataFrame(y_pred, columns=labels_list)\n",
        "\n",
        "    # Insert the document ID column\n",
        "    result_df.insert(0, 'ID', df['ID'])\n",
        "\n",
        "    # Save the results to a CSV file\n",
        "    result_df.to_csv(name,  header=False, index=False)"
      ],
      "metadata": {
        "ExecuteTime": {
          "end_time": "2023-11-29T20:45:52.904867Z",
          "start_time": "2023-11-29T20:45:52.857022Z"
        },
        "id": "cb391d72b2dbbbbf"
      },
      "id": "cb391d72b2dbbbbf"
    },
    {
      "cell_type": "markdown",
      "source": [
        "## Best trained SVM model\n",
        "\n",
        "48 seconds"
      ],
      "metadata": {
        "collapsed": false,
        "id": "58605558b2dc397"
      },
      "id": "58605558b2dc397"
    },
    {
      "cell_type": "code",
      "execution_count": null,
      "outputs": [
        {
          "output_type": "execute_result",
          "data": {
            "text/plain": [
              "MultiOutputClassifier(estimator=SVC(C=10,\n",
              "                                    class_weight={0: 0.6393066070199587,\n",
              "                                                  1: 2.2946026060643487},\n",
              "                                    gamma=0.1))"
            ],
            "text/html": [
              "<style>#sk-container-id-2 {color: black;background-color: white;}#sk-container-id-2 pre{padding: 0;}#sk-container-id-2 div.sk-toggleable {background-color: white;}#sk-container-id-2 label.sk-toggleable__label {cursor: pointer;display: block;width: 100%;margin-bottom: 0;padding: 0.3em;box-sizing: border-box;text-align: center;}#sk-container-id-2 label.sk-toggleable__label-arrow:before {content: \"▸\";float: left;margin-right: 0.25em;color: #696969;}#sk-container-id-2 label.sk-toggleable__label-arrow:hover:before {color: black;}#sk-container-id-2 div.sk-estimator:hover label.sk-toggleable__label-arrow:before {color: black;}#sk-container-id-2 div.sk-toggleable__content {max-height: 0;max-width: 0;overflow: hidden;text-align: left;background-color: #f0f8ff;}#sk-container-id-2 div.sk-toggleable__content pre {margin: 0.2em;color: black;border-radius: 0.25em;background-color: #f0f8ff;}#sk-container-id-2 input.sk-toggleable__control:checked~div.sk-toggleable__content {max-height: 200px;max-width: 100%;overflow: auto;}#sk-container-id-2 input.sk-toggleable__control:checked~label.sk-toggleable__label-arrow:before {content: \"▾\";}#sk-container-id-2 div.sk-estimator input.sk-toggleable__control:checked~label.sk-toggleable__label {background-color: #d4ebff;}#sk-container-id-2 div.sk-label input.sk-toggleable__control:checked~label.sk-toggleable__label {background-color: #d4ebff;}#sk-container-id-2 input.sk-hidden--visually {border: 0;clip: rect(1px 1px 1px 1px);clip: rect(1px, 1px, 1px, 1px);height: 1px;margin: -1px;overflow: hidden;padding: 0;position: absolute;width: 1px;}#sk-container-id-2 div.sk-estimator {font-family: monospace;background-color: #f0f8ff;border: 1px dotted black;border-radius: 0.25em;box-sizing: border-box;margin-bottom: 0.5em;}#sk-container-id-2 div.sk-estimator:hover {background-color: #d4ebff;}#sk-container-id-2 div.sk-parallel-item::after {content: \"\";width: 100%;border-bottom: 1px solid gray;flex-grow: 1;}#sk-container-id-2 div.sk-label:hover label.sk-toggleable__label {background-color: #d4ebff;}#sk-container-id-2 div.sk-serial::before {content: \"\";position: absolute;border-left: 1px solid gray;box-sizing: border-box;top: 0;bottom: 0;left: 50%;z-index: 0;}#sk-container-id-2 div.sk-serial {display: flex;flex-direction: column;align-items: center;background-color: white;padding-right: 0.2em;padding-left: 0.2em;position: relative;}#sk-container-id-2 div.sk-item {position: relative;z-index: 1;}#sk-container-id-2 div.sk-parallel {display: flex;align-items: stretch;justify-content: center;background-color: white;position: relative;}#sk-container-id-2 div.sk-item::before, #sk-container-id-2 div.sk-parallel-item::before {content: \"\";position: absolute;border-left: 1px solid gray;box-sizing: border-box;top: 0;bottom: 0;left: 50%;z-index: -1;}#sk-container-id-2 div.sk-parallel-item {display: flex;flex-direction: column;z-index: 1;position: relative;background-color: white;}#sk-container-id-2 div.sk-parallel-item:first-child::after {align-self: flex-end;width: 50%;}#sk-container-id-2 div.sk-parallel-item:last-child::after {align-self: flex-start;width: 50%;}#sk-container-id-2 div.sk-parallel-item:only-child::after {width: 0;}#sk-container-id-2 div.sk-dashed-wrapped {border: 1px dashed gray;margin: 0 0.4em 0.5em 0.4em;box-sizing: border-box;padding-bottom: 0.4em;background-color: white;}#sk-container-id-2 div.sk-label label {font-family: monospace;font-weight: bold;display: inline-block;line-height: 1.2em;}#sk-container-id-2 div.sk-label-container {text-align: center;}#sk-container-id-2 div.sk-container {/* jupyter's `normalize.less` sets `[hidden] { display: none; }` but bootstrap.min.css set `[hidden] { display: none !important; }` so we also need the `!important` here to be able to override the default hidden behavior on the sphinx rendered scikit-learn.org. See: https://github.com/scikit-learn/scikit-learn/issues/21755 */display: inline-block !important;position: relative;}#sk-container-id-2 div.sk-text-repr-fallback {display: none;}</style><div id=\"sk-container-id-2\" class=\"sk-top-container\"><div class=\"sk-text-repr-fallback\"><pre>MultiOutputClassifier(estimator=SVC(C=10,\n",
              "                                    class_weight={0: 0.6393066070199587,\n",
              "                                                  1: 2.2946026060643487},\n",
              "                                    gamma=0.1))</pre><b>In a Jupyter environment, please rerun this cell to show the HTML representation or trust the notebook. <br />On GitHub, the HTML representation is unable to render, please try loading this page with nbviewer.org.</b></div><div class=\"sk-container\" hidden><div class=\"sk-item sk-dashed-wrapped\"><div class=\"sk-label-container\"><div class=\"sk-label sk-toggleable\"><input class=\"sk-toggleable__control sk-hidden--visually\" id=\"sk-estimator-id-4\" type=\"checkbox\" ><label for=\"sk-estimator-id-4\" class=\"sk-toggleable__label sk-toggleable__label-arrow\">MultiOutputClassifier</label><div class=\"sk-toggleable__content\"><pre>MultiOutputClassifier(estimator=SVC(C=10,\n",
              "                                    class_weight={0: 0.6393066070199587,\n",
              "                                                  1: 2.2946026060643487},\n",
              "                                    gamma=0.1))</pre></div></div></div><div class=\"sk-parallel\"><div class=\"sk-parallel-item\"><div class=\"sk-item\"><div class=\"sk-label-container\"><div class=\"sk-label sk-toggleable\"><input class=\"sk-toggleable__control sk-hidden--visually\" id=\"sk-estimator-id-5\" type=\"checkbox\" ><label for=\"sk-estimator-id-5\" class=\"sk-toggleable__label sk-toggleable__label-arrow\">estimator: SVC</label><div class=\"sk-toggleable__content\"><pre>SVC(C=10, class_weight={0: 0.6393066070199587, 1: 2.2946026060643487},\n",
              "    gamma=0.1)</pre></div></div></div><div class=\"sk-serial\"><div class=\"sk-item\"><div class=\"sk-estimator sk-toggleable\"><input class=\"sk-toggleable__control sk-hidden--visually\" id=\"sk-estimator-id-6\" type=\"checkbox\" ><label for=\"sk-estimator-id-6\" class=\"sk-toggleable__label sk-toggleable__label-arrow\">SVC</label><div class=\"sk-toggleable__content\"><pre>SVC(C=10, class_weight={0: 0.6393066070199587, 1: 2.2946026060643487},\n",
              "    gamma=0.1)</pre></div></div></div></div></div></div></div></div></div></div>"
            ]
          },
          "metadata": {},
          "execution_count": 51
        }
      ],
      "source": [
        "from sklearn.multioutput import MultiOutputClassifier\n",
        "from sklearn.svm import SVC\n",
        "\n",
        "# Train the SVM classifier for multi-label classification\n",
        "best_classifier = MultiOutputClassifier(estimator=SVC(C=10,\n",
        "                                        class_weight={0: 0.6393066070199587,\n",
        "                                                      1: 2.2946026060643487},\n",
        "                                        gamma=0.1))\n",
        "best_classifier.fit(X, y)"
      ],
      "metadata": {
        "ExecuteTime": {
          "end_time": "2023-11-29T22:02:11.893922Z",
          "start_time": "2023-11-29T22:01:52.062018Z"
        },
        "id": "8719f03f6c588233",
        "outputId": "50601db2-4574-484a-8214-e793db60bc8b",
        "colab": {
          "base_uri": "https://localhost:8080/",
          "height": 115
        }
      },
      "id": "8719f03f6c588233"
    },
    {
      "cell_type": "markdown",
      "source": [
        "## Test and save development dataset"
      ],
      "metadata": {
        "id": "tG3Q42MyBGmJ"
      },
      "id": "tG3Q42MyBGmJ"
    },
    {
      "cell_type": "code",
      "source": [
        "test_dataset_svm_and_save(best_classifier, X_val, val_df, y=y_val)"
      ],
      "metadata": {
        "colab": {
          "base_uri": "https://localhost:8080/"
        },
        "id": "ahLkeYiIAV59",
        "outputId": "0ef532c2-a532-42e2-8362-911c8326f9a6"
      },
      "id": "ahLkeYiIAV59",
      "execution_count": null,
      "outputs": [
        {
          "output_type": "stream",
          "name": "stdout",
          "text": [
            "Classification Report:\n",
            "               precision    recall  f1-score   support\n",
            "\n",
            "      comedy       0.33      0.55      0.41       175\n",
            "        cult       0.37      0.74      0.49       247\n",
            "   flashback       0.35      0.77      0.48       294\n",
            "  historical       0.22      0.08      0.12        24\n",
            "      murder       0.60      0.96      0.74       581\n",
            "     revenge       0.36      0.59      0.45       237\n",
            "    romantic       0.50      0.80      0.61       290\n",
            "       scifi       0.40      0.19      0.26        31\n",
            "    violence       0.51      0.92      0.66       420\n",
            "\n",
            "   micro avg       0.46      0.80      0.58      2299\n",
            "   macro avg       0.40      0.62      0.47      2299\n",
            "weighted avg       0.46      0.80      0.58      2299\n",
            " samples avg       0.49      0.81      0.57      2299\n",
            "\n"
          ]
        }
      ]
    },
    {
      "cell_type": "code",
      "execution_count": null,
      "outputs": [
        {
          "output_type": "stream",
          "name": "stdout",
          "text": [
            "Class level: \n",
            "Class  1 precision: 0.3265 recall: 0.5486\n",
            "Class  2 precision: 0.3690 recall: 0.7409\n",
            "Class  3 precision: 0.3520 recall: 0.7687\n",
            "Class  4 precision: 0.2222 recall: 0.0833\n",
            "Class  5 precision: 0.5953 recall: 0.9621\n",
            "Class  6 precision: 0.3618 recall: 0.5907\n",
            "Class  7 precision: 0.4979 recall: 0.8000\n",
            "Class  8 precision: 0.4000 recall: 0.1935\n",
            "Class  9 precision: 0.5133 recall: 0.9190\n",
            "----------------------------\n",
            "Movie (document) level: \n",
            "Precision: 0.4873\n",
            "Recall: 0.8061\n"
          ]
        }
      ],
      "source": [
        "!python task2_eval_script_student_version.py ./data/10606001-Task2-method-a-validation.csv ./data/Task-2-validation-dataset.csv"
      ],
      "metadata": {
        "ExecuteTime": {
          "end_time": "2023-11-29T22:02:28.571437Z",
          "start_time": "2023-11-29T22:02:27.586263Z"
        },
        "id": "2bbe1c35b5764911",
        "outputId": "bf2178e1-88ec-4591-9b1f-aa990ac8e80d",
        "colab": {
          "base_uri": "https://localhost:8080/"
        }
      },
      "id": "2bbe1c35b5764911"
    },
    {
      "cell_type": "markdown",
      "source": [
        "## Test Dataset\n",
        "8 seconds"
      ],
      "metadata": {
        "id": "Urg7BBRqAb65"
      },
      "id": "Urg7BBRqAb65"
    },
    {
      "cell_type": "code",
      "source": [
        "test_dataset_svm_and_save(best_classifier, X_test, test_df, generate_report=False, name=\"./data/10606001-Task2-method-a.csv\")"
      ],
      "metadata": {
        "id": "6P69BQffAe2o"
      },
      "id": "6P69BQffAe2o",
      "execution_count": null,
      "outputs": []
    },
    {
      "cell_type": "markdown",
      "source": [
        "# (b) Bi-directional LSTM\n",
        "\n",
        "## Steps to Follow for a BLSTM\n",
        "1. Preprocessing for BLSTM\n",
        "3. Smoke test BLSTM on the training data\n",
        "4. Finetune BLSMT using 5 fold cross validation on the training data\n",
        "7. Try to reduce overfitting (dropout, simplify model, batch_normalisation, word embedding layer)\n",
        "5. Choose best model\n",
        "6. Evaluate best model performance on val data\n",
        "7. Save validation results to CSV"
      ],
      "metadata": {
        "collapsed": false,
        "id": "1f7a0307270534e9"
      },
      "id": "1f7a0307270534e9"
    },
    {
      "cell_type": "markdown",
      "source": [
        "## Preprocessing"
      ],
      "metadata": {
        "id": "El8y2q62Hgpg"
      },
      "id": "El8y2q62Hgpg"
    },
    {
      "cell_type": "code",
      "execution_count": null,
      "outputs": [],
      "source": [
        "from keras.preprocessing.text import Tokenizer\n",
        "from keras.preprocessing.sequence import pad_sequences\n",
        "\n",
        "# Pad sequences to a fixed length\n",
        "max_sequence_length = 500\n",
        "\n",
        "# Tokenize the text data\n",
        "tokenizer = Tokenizer()\n",
        "tokenizer.fit_on_texts(train_df['plot_synopsis_tokens'])"
      ],
      "metadata": {
        "ExecuteTime": {
          "end_time": "2023-11-30T10:03:21.114527Z",
          "start_time": "2023-11-30T10:03:17.363501Z"
        },
        "id": "89b7506a0e2ce869"
      },
      "id": "89b7506a0e2ce869"
    },
    {
      "cell_type": "code",
      "source": [
        "def preprocessing_keras(df):\n",
        "  X_sequences = tokenizer.texts_to_sequences(df['plot_synopsis_tokens'])\n",
        "  X_padded = pad_sequences(X_sequences, maxlen=max_sequence_length)\n",
        "  return X_padded\n",
        "\n",
        "X_padded = preprocessing_keras(train_df)\n",
        "X_val_padded = preprocessing_keras(val_df)"
      ],
      "metadata": {
        "id": "67XoQs5fGzNT"
      },
      "id": "67XoQs5fGzNT",
      "execution_count": null,
      "outputs": []
    },
    {
      "cell_type": "code",
      "source": [
        "X_test_padded = preprocessing_keras(test_df)"
      ],
      "metadata": {
        "id": "rsgvaZG-HbkC"
      },
      "id": "rsgvaZG-HbkC",
      "execution_count": null,
      "outputs": []
    },
    {
      "cell_type": "markdown",
      "source": [
        "## Some functions"
      ],
      "metadata": {
        "id": "wjNiFP3WHlv9"
      },
      "id": "wjNiFP3WHlv9"
    },
    {
      "cell_type": "code",
      "execution_count": null,
      "outputs": [],
      "source": [
        "from sklearn.metrics import classification_report\n",
        "import matplotlib.pyplot as plt\n",
        "from keras.callbacks import EarlyStopping, ModelCheckpoint\n",
        "\n",
        "def train_keras(new_model, epochs=10, batch_size=64, validation_data=0.1, name=\"best_model.h5\", metric='loss'):\n",
        "    # Define callbacks\n",
        "    early_stopping = EarlyStopping(monitor='val_loss', patience=10, restore_best_weights=True)\n",
        "    model_checkpoint = ModelCheckpoint(name, save_best_only=True)\n",
        "\n",
        "    print(new_model)\n",
        "\n",
        "    # Train the model\n",
        "    new_history = new_model.fit(X_padded, y, epochs=epochs,\n",
        "                                batch_size=batch_size,\n",
        "                                validation_split=validation_data,\n",
        "                                callbacks=[early_stopping, model_checkpoint],\n",
        "                                class_weight=normalized_dict)\n",
        "\n",
        "\n",
        "    plt.plot(new_history.history[metric])\n",
        "    plt.plot(new_history.history[f'val_{metric}'])\n",
        "    plt.title(f'model {metric}')\n",
        "    plt.ylabel(metric)\n",
        "    plt.xlabel('epoch')\n",
        "    plt.legend(['train','val'], loc='upper left')\n",
        "    plt.show()\n",
        "\n",
        "    # Make predictions on the validation set\n",
        "    y_pred_prob = new_model.predict(X_val_padded)\n",
        "    y_pred = (y_pred_prob > 0.5).astype(int)\n",
        "\n",
        "    # Print the classification report on validation set\n",
        "    classification_rep = classification_report(y_val, y_pred, target_names=labels.columns)\n",
        "    print(\"Classification Report:\\n\", classification_rep)\n",
        "\n",
        "    return new_model\n"
      ],
      "metadata": {
        "ExecuteTime": {
          "start_time": "2023-11-30T17:12:27.811478Z"
        },
        "id": "15b2cef99a62b1a7"
      },
      "id": "15b2cef99a62b1a7"
    },
    {
      "cell_type": "code",
      "execution_count": null,
      "outputs": [],
      "source": [
        "from keras import backend as K\n",
        "\n",
        "# Define custom F1 score function\n",
        "def f1_score(y_true, y_pred):\n",
        "    # Convert predictions to binary values\n",
        "    y_pred_binary = K.round(y_pred)\n",
        "\n",
        "    # Calculate true positives, false positives, and false negatives\n",
        "    true_positives = K.sum(K.round(y_true * y_pred_binary))\n",
        "    false_positives = K.sum(K.round((1 - y_true) * y_pred_binary))\n",
        "    false_negatives = K.sum(K.round(y_true * (1 - y_pred_binary)))\n",
        "\n",
        "    # Calculate precision and recall\n",
        "    precision = true_positives / (true_positives + false_positives + K.epsilon())\n",
        "    recall = true_positives / (true_positives + false_negatives + K.epsilon())\n",
        "\n",
        "    # Calculate F1 score\n",
        "    f1 = 2 * (precision * recall) / (precision + recall + K.epsilon())\n",
        "\n",
        "    return f1"
      ],
      "metadata": {
        "ExecuteTime": {
          "end_time": "2023-11-30T14:12:49.199457Z",
          "start_time": "2023-11-30T14:12:49.151072Z"
        },
        "id": "d30c1c800c0aebea"
      },
      "id": "d30c1c800c0aebea"
    },
    {
      "cell_type": "code",
      "execution_count": null,
      "outputs": [],
      "source": [
        "def test_development_dataset_ltsm(ltsm, X_padded=X_val_padded, y=y_val, df=val_df, name=\"10606001-Task2-method-b-validation.csv\", generate_report=True):\n",
        "    # Make predictions on the validation set\n",
        "    y_prob_pred = ltsm.predict(X_padded)\n",
        "\n",
        "    y_pred = (y_prob_pred > 0.5).astype(int)\n",
        "\n",
        "    if generate_report:\n",
        "      # Print the classification report\n",
        "      classification_rep = classification_report(y, y_pred, target_names=labels.columns, zero_division=1)\n",
        "      print(\"Classification Report:\\n\", classification_rep)\n",
        "\n",
        "    # Assuming y_val_pred is a multidimensional array\n",
        "    result_df = pd.DataFrame(y_pred, columns=labels.columns)\n",
        "\n",
        "    # Insert the document ID column\n",
        "    result_df.insert(0, 'ID', df['ID'])\n",
        "\n",
        "    # Save the results to a CSV file\n",
        "    result_df.to_csv(f\"./data/{name}\",  header=False, index=False)"
      ],
      "metadata": {
        "ExecuteTime": {
          "end_time": "2023-11-30T22:54:32.822039Z",
          "start_time": "2023-11-30T22:54:32.792668Z"
        },
        "id": "546c8a08a4e0b0e5"
      },
      "id": "546c8a08a4e0b0e5"
    },
    {
      "cell_type": "markdown",
      "source": [
        "## Smoke test model, and validation accuracy\n",
        "\n",
        "This is overfitting!"
      ],
      "metadata": {
        "collapsed": false,
        "id": "140f8a51d3275c88"
      },
      "id": "140f8a51d3275c88"
    },
    {
      "cell_type": "code",
      "execution_count": null,
      "outputs": [
        {
          "name": "stdout",
          "output_type": "stream",
          "text": [
            "Epoch 1/10\n",
            "117/117 [==============================] - 38s 319ms/step - loss: 0.0221 - accuracy: 0.2254 - val_loss: 0.4699 - val_accuracy: 0.2518\n",
            "Epoch 2/10\n"
          ]
        },
        {
          "name": "stderr",
          "output_type": "stream",
          "text": [
            "/Users/zoyaanwar/Downloads/NLP/venv/lib/python3.9/site-packages/keras/src/engine/training.py:3103: UserWarning: You are saving your model as an HDF5 file via `model.save()`. This file format is considered legacy. We recommend using instead the native Keras format, e.g. `model.save('my_model.keras')`.\n",
            "  saving_api.save_model(\n"
          ]
        },
        {
          "name": "stdout",
          "output_type": "stream",
          "text": [
            "117/117 [==============================] - 38s 326ms/step - loss: 0.0212 - accuracy: 0.2274 - val_loss: 0.4583 - val_accuracy: 0.2579\n",
            "Epoch 3/10\n",
            "117/117 [==============================] - 39s 336ms/step - loss: 0.0198 - accuracy: 0.2701 - val_loss: 0.4457 - val_accuracy: 0.2942\n",
            "Epoch 4/10\n",
            "117/117 [==============================] - 40s 339ms/step - loss: 0.0171 - accuracy: 0.3344 - val_loss: 0.4433 - val_accuracy: 0.2990\n",
            "Epoch 5/10\n",
            "117/117 [==============================] - 41s 348ms/step - loss: 0.0146 - accuracy: 0.3897 - val_loss: 0.4567 - val_accuracy: 0.2518\n",
            "Epoch 6/10\n",
            "117/117 [==============================] - 40s 344ms/step - loss: 0.0121 - accuracy: 0.4656 - val_loss: 0.4673 - val_accuracy: 0.2736\n",
            "Epoch 7/10\n",
            "117/117 [==============================] - 41s 346ms/step - loss: 0.0096 - accuracy: 0.5306 - val_loss: 0.5103 - val_accuracy: 0.3002\n",
            "Epoch 8/10\n",
            "117/117 [==============================] - 40s 345ms/step - loss: 0.0075 - accuracy: 0.5862 - val_loss: 0.5544 - val_accuracy: 0.2797\n",
            "Epoch 9/10\n",
            "117/117 [==============================] - 41s 351ms/step - loss: 0.0059 - accuracy: 0.6260 - val_loss: 0.6164 - val_accuracy: 0.2772\n",
            "Epoch 10/10\n",
            "117/117 [==============================] - 41s 351ms/step - loss: 0.0044 - accuracy: 0.6560 - val_loss: 0.6817 - val_accuracy: 0.2821\n"
          ]
        },
        {
          "data": {
            "text/plain": "<Figure size 640x480 with 1 Axes>",
            "image/png": "[encoded data removed]"
          },
          "metadata": {},
          "output_type": "display_data"
        },
        {
          "name": "stdout",
          "output_type": "stream",
          "text": [
            "38/38 [==============================] - 3s 65ms/step\n",
            "Classification Report:\n",
            "               precision    recall  f1-score   support\n",
            "\n",
            "      comedy       0.34      0.28      0.31       175\n",
            "        cult       0.31      0.31      0.31       247\n",
            "   flashback       0.30      0.23      0.26       294\n",
            "  historical       0.11      0.04      0.06        24\n",
            "      murder       0.65      0.60      0.63       581\n",
            "     revenge       0.28      0.14      0.18       237\n",
            "    romantic       0.51      0.32      0.39       290\n",
            "       scifi       0.00      0.00      0.00        31\n",
            "    violence       0.55      0.45      0.49       420\n",
            "\n",
            "   micro avg       0.48      0.37      0.42      2299\n",
            "   macro avg       0.34      0.26      0.29      2299\n",
            "weighted avg       0.46      0.37      0.41      2299\n",
            " samples avg       0.41      0.39      0.37      2299\n"
          ]
        },
        {
          "name": "stderr",
          "output_type": "stream",
          "text": [
            "/Users/zoyaanwar/Downloads/NLP/venv/lib/python3.9/site-packages/sklearn/metrics/_classification.py:1471: UndefinedMetricWarning: Precision and F-score are ill-defined and being set to 0.0 in samples with no predicted labels. Use `zero_division` parameter to control this behavior.\n",
            "  _warn_prf(average, modifier, msg_start, len(result))\n"
          ]
        },
        {
          "data": {
            "text/plain": "<keras.src.engine.sequential.Sequential at 0x28e5bca60>"
          },
          "execution_count": 76,
          "metadata": {},
          "output_type": "execute_result"
        }
      ],
      "source": [
        "from keras.models import Sequential\n",
        "from keras.layers import Embedding, Bidirectional, LSTM, Dense\n",
        "\n",
        "# Define the Bidirectional LSTM model\n",
        "model = Sequential()\n",
        "model.add(Embedding(input_dim=len(tokenizer.word_index) + 1, output_dim=50, input_length=max_sequence_length))\n",
        "model.add(Bidirectional(LSTM(64)))\n",
        "model.add(Dense(len(labels.columns), activation='sigmoid'))\n",
        "\n",
        "# Compile the model\n",
        "# Compile the model\n",
        "model.compile(loss='binary_crossentropy', optimizer='adam', metrics=[f1_score])\n",
        "f1_score_model = train_keras(model, name=\"smoke_test.h5\", metric='f1_score', epochs=10)\n"
      ],
      "metadata": {
        "ExecuteTime": {
          "end_time": "2023-11-30T10:44:13.413150Z",
          "start_time": "2023-11-30T10:37:30.239965Z"
        },
        "id": "bcaf3c5d9d3addc1",
        "outputId": "8ea86bc9-8e8f-42a4-a46b-0a7f44fa5fc0"
      },
      "id": "bcaf3c5d9d3addc1"
    },
    {
      "cell_type": "markdown",
      "source": [
        "## Train hyperparamaters\n",
        "\n",
        "- LTSM_units, embedding_dims, learning_rates\n",
        "- using cross validation on the training set\n",
        "\n",
        "Experiment: LSTM Units=64, Embedding Dim=100, Learning Rate=0.001\n",
        "\n",
        "Average Weighted F1 Score: 0.4255"
      ],
      "metadata": {
        "collapsed": false,
        "id": "8921e0afcc5758d3"
      },
      "id": "8921e0afcc5758d3"
    },
    {
      "cell_type": "code",
      "execution_count": null,
      "outputs": [
        {
          "name": "stdout",
          "output_type": "stream",
          "text": [
            "\n",
            "Experiment: LSTM Units=64, Embedding Dim=50, Learning Rate=0.001\n",
            "Epoch 1/10\n",
            "207/207 [==============================] - 64s 297ms/step - loss: 0.4808 - accuracy: 0.2203\n",
            "Epoch 2/10\n",
            "207/207 [==============================] - 62s 300ms/step - loss: 0.4326 - accuracy: 0.2955\n",
            "Epoch 3/10\n",
            "207/207 [==============================] - 62s 302ms/step - loss: 0.3845 - accuracy: 0.3456\n",
            "Epoch 4/10\n",
            "207/207 [==============================] - 62s 301ms/step - loss: 0.3436 - accuracy: 0.3952\n",
            "Epoch 5/10\n",
            "207/207 [==============================] - 63s 306ms/step - loss: 0.3037 - accuracy: 0.4436\n",
            "Epoch 6/10\n",
            "207/207 [==============================] - 63s 303ms/step - loss: 0.2693 - accuracy: 0.4881\n",
            "Epoch 7/10\n",
            "207/207 [==============================] - 63s 303ms/step - loss: 0.2314 - accuracy: 0.5275\n",
            "Epoch 8/10\n",
            "207/207 [==============================] - 63s 306ms/step - loss: 0.2027 - accuracy: 0.5537\n",
            "Epoch 9/10\n",
            "207/207 [==============================] - 63s 306ms/step - loss: 0.1749 - accuracy: 0.5679\n",
            "Epoch 10/10\n",
            "207/207 [==============================] - 64s 307ms/step - loss: 0.1490 - accuracy: 0.5909\n",
            "52/52 [==============================] - 5s 77ms/step\n",
            "Epoch 1/10\n",
            "207/207 [==============================] - 66s 311ms/step - loss: 0.4808 - accuracy: 0.2300\n",
            "Epoch 2/10\n",
            "207/207 [==============================] - 65s 313ms/step - loss: 0.4394 - accuracy: 0.2693\n",
            "Epoch 3/10\n",
            "207/207 [==============================] - 65s 314ms/step - loss: 0.3781 - accuracy: 0.3440\n",
            "Epoch 4/10\n",
            "207/207 [==============================] - 65s 313ms/step - loss: 0.3256 - accuracy: 0.4369\n",
            "Epoch 5/10\n",
            "207/207 [==============================] - 65s 316ms/step - loss: 0.2810 - accuracy: 0.4887\n",
            "Epoch 6/10\n",
            "207/207 [==============================] - 65s 314ms/step - loss: 0.2417 - accuracy: 0.5387\n",
            "Epoch 7/10\n",
            "207/207 [==============================] - 65s 313ms/step - loss: 0.2087 - accuracy: 0.5550\n",
            "Epoch 8/10\n",
            "207/207 [==============================] - 65s 315ms/step - loss: 0.1828 - accuracy: 0.5726\n",
            "Epoch 9/10\n",
            "207/207 [==============================] - 65s 312ms/step - loss: 0.1620 - accuracy: 0.5821\n",
            "Epoch 10/10\n",
            "207/207 [==============================] - 65s 313ms/step - loss: 0.1434 - accuracy: 0.5955\n",
            "52/52 [==============================] - 4s 77ms/step\n",
            "Epoch 1/10\n",
            "207/207 [==============================] - 66s 310ms/step - loss: 0.4838 - accuracy: 0.2136\n",
            "Epoch 2/10\n",
            "207/207 [==============================] - 64s 310ms/step - loss: 0.4345 - accuracy: 0.2788\n",
            "Epoch 3/10\n",
            "207/207 [==============================] - 64s 311ms/step - loss: 0.3751 - accuracy: 0.3415\n",
            "Epoch 4/10\n",
            "207/207 [==============================] - 65s 312ms/step - loss: 0.3305 - accuracy: 0.4001\n",
            "Epoch 5/10\n",
            "207/207 [==============================] - 65s 312ms/step - loss: 0.2875 - accuracy: 0.4558\n",
            "Epoch 6/10\n",
            "207/207 [==============================] - 64s 311ms/step - loss: 0.2517 - accuracy: 0.4924\n",
            "Epoch 7/10\n",
            "207/207 [==============================] - 64s 310ms/step - loss: 0.2173 - accuracy: 0.5276\n",
            "Epoch 8/10\n",
            "207/207 [==============================] - 65s 313ms/step - loss: 0.1897 - accuracy: 0.5501\n",
            "Epoch 9/10\n",
            "207/207 [==============================] - 65s 312ms/step - loss: 0.1658 - accuracy: 0.5763\n",
            "Epoch 10/10\n",
            "207/207 [==============================] - 65s 313ms/step - loss: 0.1436 - accuracy: 0.5804\n",
            "52/52 [==============================] - 5s 82ms/step\n",
            "Epoch 1/10\n",
            "207/207 [==============================] - 67s 316ms/step - loss: 0.4773 - accuracy: 0.2183\n",
            "Epoch 2/10\n",
            "207/207 [==============================] - 65s 314ms/step - loss: 0.4260 - accuracy: 0.2869\n",
            "Epoch 3/10\n",
            "207/207 [==============================] - 65s 315ms/step - loss: 0.3795 - accuracy: 0.3246\n",
            "Epoch 4/10\n",
            "207/207 [==============================] - 66s 319ms/step - loss: 0.3422 - accuracy: 0.3554\n",
            "Epoch 5/10\n",
            "207/207 [==============================] - 65s 315ms/step - loss: 0.3115 - accuracy: 0.3993\n",
            "Epoch 6/10\n",
            "207/207 [==============================] - 65s 314ms/step - loss: 0.2767 - accuracy: 0.4478\n",
            "Epoch 7/10\n",
            "207/207 [==============================] - 65s 315ms/step - loss: 0.2462 - accuracy: 0.4837\n",
            "Epoch 8/10\n",
            "207/207 [==============================] - 65s 316ms/step - loss: 0.2224 - accuracy: 0.5219\n",
            "Epoch 9/10\n",
            "207/207 [==============================] - 65s 316ms/step - loss: 0.1977 - accuracy: 0.5419\n",
            "Epoch 10/10\n",
            "207/207 [==============================] - 65s 315ms/step - loss: 0.1778 - accuracy: 0.5721\n",
            "52/52 [==============================] - 5s 82ms/step\n",
            "Epoch 1/10\n",
            "207/207 [==============================] - 66s 308ms/step - loss: 0.4820 - accuracy: 0.2196\n",
            "Epoch 2/10\n",
            "207/207 [==============================] - 64s 309ms/step - loss: 0.4400 - accuracy: 0.2596\n",
            "Epoch 3/10\n",
            "207/207 [==============================] - 64s 311ms/step - loss: 0.3864 - accuracy: 0.3241\n",
            "Epoch 4/10\n",
            "207/207 [==============================] - 64s 309ms/step - loss: 0.3402 - accuracy: 0.3907\n",
            "Epoch 5/10\n",
            "207/207 [==============================] - 64s 309ms/step - loss: 0.2912 - accuracy: 0.4728\n",
            "Epoch 6/10\n",
            "207/207 [==============================] - 64s 311ms/step - loss: 0.2525 - accuracy: 0.5135\n",
            "Epoch 7/10\n",
            "207/207 [==============================] - 64s 310ms/step - loss: 0.2175 - accuracy: 0.5444\n",
            "Epoch 8/10\n",
            "207/207 [==============================] - 64s 309ms/step - loss: 0.1845 - accuracy: 0.5710\n",
            "Epoch 9/10\n",
            "207/207 [==============================] - 64s 309ms/step - loss: 0.1613 - accuracy: 0.5992\n",
            "Epoch 10/10\n",
            "207/207 [==============================] - 64s 310ms/step - loss: 0.1456 - accuracy: 0.6005\n",
            "52/52 [==============================] - 5s 78ms/step\n",
            "Average Weighted F1 Score: 0.4102\n",
            "\n",
            "Experiment: LSTM Units=64, Embedding Dim=50, Learning Rate=0.01\n",
            "Epoch 1/10\n",
            "207/207 [==============================] - 67s 314ms/step - loss: 0.4697 - accuracy: 0.2431\n",
            "Epoch 2/10\n",
            "207/207 [==============================] - 65s 314ms/step - loss: 0.4593 - accuracy: 0.2533\n",
            "Epoch 3/10\n",
            "207/207 [==============================] - 65s 314ms/step - loss: 0.4274 - accuracy: 0.2671\n",
            "Epoch 4/10\n",
            "207/207 [==============================] - 65s 314ms/step - loss: 0.3978 - accuracy: 0.3048\n",
            "Epoch 5/10\n",
            "207/207 [==============================] - 65s 316ms/step - loss: 0.3742 - accuracy: 0.3329\n",
            "Epoch 6/10\n",
            "207/207 [==============================] - 65s 313ms/step - loss: 0.3508 - accuracy: 0.3706\n",
            "Epoch 7/10\n",
            "207/207 [==============================] - 65s 315ms/step - loss: 0.3359 - accuracy: 0.3956\n",
            "Epoch 8/10\n",
            "207/207 [==============================] - 65s 316ms/step - loss: 0.3214 - accuracy: 0.4186\n",
            "Epoch 9/10\n",
            "207/207 [==============================] - 65s 315ms/step - loss: 0.3100 - accuracy: 0.4371\n",
            "Epoch 10/10\n",
            "207/207 [==============================] - 65s 314ms/step - loss: 0.3005 - accuracy: 0.4484\n",
            "52/52 [==============================] - 5s 78ms/step\n",
            "Epoch 1/10\n",
            "207/207 [==============================] - 66s 307ms/step - loss: 0.4688 - accuracy: 0.2344\n",
            "Epoch 2/10\n",
            "207/207 [==============================] - 64s 310ms/step - loss: 0.4418 - accuracy: 0.2849\n",
            "Epoch 3/10\n",
            "207/207 [==============================] - 64s 310ms/step - loss: 0.4086 - accuracy: 0.3195\n",
            "Epoch 4/10\n",
            "207/207 [==============================] - 64s 311ms/step - loss: 0.3773 - accuracy: 0.3402\n",
            "Epoch 5/10\n",
            "207/207 [==============================] - 64s 311ms/step - loss: 0.3465 - accuracy: 0.3853\n",
            "Epoch 6/10\n",
            "207/207 [==============================] - 64s 308ms/step - loss: 0.3227 - accuracy: 0.4232\n",
            "Epoch 7/10\n",
            "207/207 [==============================] - 65s 312ms/step - loss: 0.2999 - accuracy: 0.4519\n",
            "Epoch 8/10\n",
            "207/207 [==============================] - 64s 311ms/step - loss: 0.2848 - accuracy: 0.4751\n",
            "Epoch 9/10\n",
            "207/207 [==============================] - 65s 312ms/step - loss: 0.2743 - accuracy: 0.4977\n",
            "Epoch 10/10\n",
            "207/207 [==============================] - 64s 309ms/step - loss: 0.2619 - accuracy: 0.5040\n",
            "52/52 [==============================] - 5s 78ms/step\n",
            "Epoch 1/10\n",
            "207/207 [==============================] - 67s 314ms/step - loss: 0.4747 - accuracy: 0.2392\n",
            "Epoch 2/10\n",
            "207/207 [==============================] - 65s 314ms/step - loss: 0.4601 - accuracy: 0.2533\n",
            "Epoch 3/10\n",
            "207/207 [==============================] - 65s 315ms/step - loss: 0.4437 - accuracy: 0.2487\n",
            "Epoch 4/10\n",
            "207/207 [==============================] - 65s 316ms/step - loss: 0.4164 - accuracy: 0.2852\n",
            "Epoch 5/10\n",
            "207/207 [==============================] - 65s 313ms/step - loss: 0.3869 - accuracy: 0.3193\n",
            "Epoch 6/10\n",
            "207/207 [==============================] - 65s 313ms/step - loss: 0.3686 - accuracy: 0.3415\n",
            "Epoch 7/10\n",
            "207/207 [==============================] - 65s 315ms/step - loss: 0.3475 - accuracy: 0.3778\n",
            "Epoch 8/10\n",
            "207/207 [==============================] - 65s 314ms/step - loss: 0.3293 - accuracy: 0.4096\n",
            "Epoch 9/10\n",
            "207/207 [==============================] - 65s 315ms/step - loss: 0.3157 - accuracy: 0.4426\n",
            "Epoch 10/10\n",
            "207/207 [==============================] - 65s 314ms/step - loss: 0.3017 - accuracy: 0.4573\n",
            "52/52 [==============================] - 4s 77ms/step\n",
            "Epoch 1/10\n",
            "207/207 [==============================] - 67s 316ms/step - loss: 0.4706 - accuracy: 0.2293\n",
            "Epoch 2/10\n",
            "207/207 [==============================] - 66s 317ms/step - loss: 0.4493 - accuracy: 0.2637\n",
            "Epoch 3/10\n",
            "207/207 [==============================] - 66s 317ms/step - loss: 0.4145 - accuracy: 0.3162\n",
            "Epoch 4/10\n",
            "207/207 [==============================] - 66s 318ms/step - loss: 0.3896 - accuracy: 0.3395\n",
            "Epoch 5/10\n",
            "207/207 [==============================] - 66s 318ms/step - loss: 0.3691 - accuracy: 0.3439\n",
            "Epoch 6/10\n",
            "207/207 [==============================] - 66s 317ms/step - loss: 0.3527 - accuracy: 0.3738\n",
            "Epoch 7/10\n",
            "207/207 [==============================] - 66s 317ms/step - loss: 0.3412 - accuracy: 0.3925\n",
            "Epoch 8/10\n",
            "207/207 [==============================] - 66s 317ms/step - loss: 0.3255 - accuracy: 0.4272\n",
            "Epoch 9/10\n",
            "207/207 [==============================] - 65s 316ms/step - loss: 0.3113 - accuracy: 0.4582\n",
            "Epoch 10/10\n",
            "207/207 [==============================] - 66s 318ms/step - loss: 0.3022 - accuracy: 0.4694\n",
            "52/52 [==============================] - 5s 78ms/step\n",
            "Epoch 1/10\n",
            "207/207 [==============================] - 67s 313ms/step - loss: 0.4708 - accuracy: 0.2363\n",
            "Epoch 2/10\n",
            "207/207 [==============================] - 65s 315ms/step - loss: 0.4470 - accuracy: 0.2557\n",
            "Epoch 3/10\n",
            "207/207 [==============================] - 65s 316ms/step - loss: 0.4133 - accuracy: 0.2985\n",
            "Epoch 4/10\n",
            "207/207 [==============================] - 65s 314ms/step - loss: 0.3841 - accuracy: 0.3182\n",
            "Epoch 5/10\n",
            "207/207 [==============================] - 65s 316ms/step - loss: 0.3641 - accuracy: 0.3376\n",
            "Epoch 6/10\n",
            "207/207 [==============================] - 65s 314ms/step - loss: 0.3405 - accuracy: 0.3683\n",
            "Epoch 7/10\n",
            "207/207 [==============================] - 65s 316ms/step - loss: 0.3239 - accuracy: 0.3989\n",
            "Epoch 8/10\n",
            "207/207 [==============================] - 65s 316ms/step - loss: 0.3100 - accuracy: 0.4064\n",
            "Epoch 9/10\n",
            "207/207 [==============================] - 65s 316ms/step - loss: 0.2967 - accuracy: 0.4270\n",
            "Epoch 10/10\n",
            "207/207 [==============================] - 65s 316ms/step - loss: 0.2873 - accuracy: 0.4373\n",
            "52/52 [==============================] - 5s 81ms/step\n",
            "Average Weighted F1 Score: 0.3314\n",
            "\n",
            "Experiment: LSTM Units=64, Embedding Dim=100, Learning Rate=0.001\n",
            "Epoch 1/10\n",
            "207/207 [==============================] - 77s 363ms/step - loss: 0.4798 - accuracy: 0.2238\n",
            "Epoch 2/10\n",
            "207/207 [==============================] - 76s 365ms/step - loss: 0.4196 - accuracy: 0.2887\n",
            "Epoch 3/10\n",
            "207/207 [==============================] - 75s 364ms/step - loss: 0.3586 - accuracy: 0.3703\n",
            "Epoch 4/10\n",
            "207/207 [==============================] - 76s 365ms/step - loss: 0.3021 - accuracy: 0.4544\n",
            "Epoch 5/10\n",
            "207/207 [==============================] - 76s 365ms/step - loss: 0.2553 - accuracy: 0.5132\n",
            "Epoch 6/10\n",
            "207/207 [==============================] - 76s 365ms/step - loss: 0.2172 - accuracy: 0.5449\n",
            "Epoch 7/10\n",
            "207/207 [==============================] - 76s 365ms/step - loss: 0.1875 - accuracy: 0.5603\n",
            "Epoch 8/10\n",
            "207/207 [==============================] - 75s 364ms/step - loss: 0.1616 - accuracy: 0.5765\n",
            "Epoch 9/10\n",
            "207/207 [==============================] - 75s 363ms/step - loss: 0.1420 - accuracy: 0.5889\n",
            "Epoch 10/10\n",
            "207/207 [==============================] - 75s 363ms/step - loss: 0.1264 - accuracy: 0.6147\n",
            "52/52 [==============================] - 5s 91ms/step\n",
            "Epoch 1/10\n",
            "207/207 [==============================] - 77s 362ms/step - loss: 0.4782 - accuracy: 0.2313\n",
            "Epoch 2/10\n",
            "207/207 [==============================] - 75s 363ms/step - loss: 0.4226 - accuracy: 0.3037\n",
            "Epoch 3/10\n",
            "207/207 [==============================] - 75s 362ms/step - loss: 0.3691 - accuracy: 0.3494\n",
            "Epoch 4/10\n",
            "207/207 [==============================] - 75s 363ms/step - loss: 0.3185 - accuracy: 0.4232\n",
            "Epoch 5/10\n",
            "207/207 [==============================] - 75s 364ms/step - loss: 0.2685 - accuracy: 0.4939\n",
            "Epoch 6/10\n",
            "207/207 [==============================] - 75s 364ms/step - loss: 0.2263 - accuracy: 0.5410\n",
            "Epoch 7/10\n",
            "207/207 [==============================] - 75s 363ms/step - loss: 0.1886 - accuracy: 0.5840\n",
            "Epoch 8/10\n",
            "207/207 [==============================] - 75s 363ms/step - loss: 0.1625 - accuracy: 0.5982\n",
            "Epoch 9/10\n",
            "207/207 [==============================] - 75s 363ms/step - loss: 0.1382 - accuracy: 0.6051\n",
            "Epoch 10/10\n",
            "207/207 [==============================] - 75s 363ms/step - loss: 0.1157 - accuracy: 0.6206\n",
            "52/52 [==============================] - 5s 91ms/step\n",
            "Epoch 1/10\n",
            "207/207 [==============================] - 80s 377ms/step - loss: 0.4753 - accuracy: 0.2257\n",
            "Epoch 2/10\n",
            "207/207 [==============================] - 78s 379ms/step - loss: 0.4195 - accuracy: 0.3009\n",
            "Epoch 3/10\n",
            "207/207 [==============================] - 78s 378ms/step - loss: 0.3681 - accuracy: 0.3786\n",
            "Epoch 4/10\n",
            "207/207 [==============================] - 78s 377ms/step - loss: 0.3127 - accuracy: 0.4731\n",
            "Epoch 5/10\n",
            "207/207 [==============================] - 78s 377ms/step - loss: 0.2666 - accuracy: 0.5365\n",
            "Epoch 6/10\n",
            "207/207 [==============================] - 78s 378ms/step - loss: 0.2262 - accuracy: 0.5757\n",
            "Epoch 7/10\n",
            "207/207 [==============================] - 78s 377ms/step - loss: 0.1886 - accuracy: 0.6157\n",
            "Epoch 8/10\n",
            "207/207 [==============================] - 78s 378ms/step - loss: 0.1590 - accuracy: 0.6281\n",
            "Epoch 9/10\n",
            "207/207 [==============================] - 78s 378ms/step - loss: 0.1352 - accuracy: 0.6317\n",
            "Epoch 10/10\n",
            "207/207 [==============================] - 78s 379ms/step - loss: 0.1163 - accuracy: 0.6418\n",
            "52/52 [==============================] - 6s 99ms/step\n",
            "Epoch 1/10\n",
            "207/207 [==============================] - 80s 377ms/step - loss: 0.4809 - accuracy: 0.2169\n",
            "Epoch 2/10\n",
            "207/207 [==============================] - 79s 382ms/step - loss: 0.4305 - accuracy: 0.2746\n",
            "Epoch 3/10\n",
            "207/207 [==============================] - 77s 374ms/step - loss: 0.3715 - accuracy: 0.3335\n",
            "Epoch 4/10\n",
            "207/207 [==============================] - 78s 376ms/step - loss: 0.3067 - accuracy: 0.4416\n",
            "Epoch 5/10\n",
            "207/207 [==============================] - 78s 377ms/step - loss: 0.2475 - accuracy: 0.5286\n",
            "Epoch 6/10\n",
            "207/207 [==============================] - 79s 380ms/step - loss: 0.2015 - accuracy: 0.5854\n",
            "Epoch 7/10\n",
            "207/207 [==============================] - 78s 379ms/step - loss: 0.1669 - accuracy: 0.6152\n",
            "Epoch 8/10\n",
            "207/207 [==============================] - 78s 376ms/step - loss: 0.1383 - accuracy: 0.6255\n",
            "Epoch 9/10\n",
            "207/207 [==============================] - 78s 377ms/step - loss: 0.1201 - accuracy: 0.6241\n",
            "Epoch 10/10\n",
            "207/207 [==============================] - 82s 397ms/step - loss: 0.1013 - accuracy: 0.6308\n",
            "52/52 [==============================] - 6s 105ms/step\n",
            "Epoch 1/10\n",
            "207/207 [==============================] - 81s 383ms/step - loss: 0.4817 - accuracy: 0.2268\n",
            "Epoch 2/10\n",
            "207/207 [==============================] - 80s 387ms/step - loss: 0.4248 - accuracy: 0.3050\n",
            "Epoch 3/10\n",
            "207/207 [==============================] - 80s 388ms/step - loss: 0.3707 - accuracy: 0.3747\n",
            "Epoch 4/10\n",
            "207/207 [==============================] - 81s 390ms/step - loss: 0.3207 - accuracy: 0.4723\n",
            "Epoch 5/10\n",
            "207/207 [==============================] - 86s 418ms/step - loss: 0.2625 - accuracy: 0.5571\n",
            "Epoch 6/10\n",
            "207/207 [==============================] - 84s 407ms/step - loss: 0.2179 - accuracy: 0.6057\n",
            "Epoch 7/10\n",
            "207/207 [==============================] - 92s 445ms/step - loss: 0.1840 - accuracy: 0.6217\n",
            "Epoch 8/10\n",
            "207/207 [==============================] - 127s 616ms/step - loss: 0.1498 - accuracy: 0.6303\n",
            "Epoch 9/10\n",
            "207/207 [==============================] - 141s 683ms/step - loss: 0.1274 - accuracy: 0.6308\n",
            "Epoch 10/10\n",
            "207/207 [==============================] - 159s 768ms/step - loss: 0.1074 - accuracy: 0.6409\n",
            "52/52 [==============================] - 10s 179ms/step\n",
            "Average Weighted F1 Score: 0.4255\n",
            "\n",
            "Experiment: LSTM Units=64, Embedding Dim=100, Learning Rate=0.01\n",
            "Epoch 1/10\n",
            "207/207 [==============================] - 154s 712ms/step - loss: 0.4650 - accuracy: 0.2498\n",
            "Epoch 2/10\n",
            "207/207 [==============================] - 106s 512ms/step - loss: 0.4282 - accuracy: 0.2996\n",
            "Epoch 3/10\n",
            "207/207 [==============================] - 105s 506ms/step - loss: 0.3869 - accuracy: 0.3621\n",
            "Epoch 4/10\n",
            "207/207 [==============================] - 105s 507ms/step - loss: 0.3585 - accuracy: 0.4070\n",
            "Epoch 5/10\n",
            "207/207 [==============================] - 103s 499ms/step - loss: 0.3346 - accuracy: 0.4348\n",
            "Epoch 6/10\n",
            "207/207 [==============================] - 101s 486ms/step - loss: 0.3147 - accuracy: 0.4616\n",
            "Epoch 7/10\n",
            "207/207 [==============================] - 96s 464ms/step - loss: 0.3028 - accuracy: 0.4790\n",
            "Epoch 8/10\n",
            "207/207 [==============================] - 87s 419ms/step - loss: 0.2896 - accuracy: 0.5002\n",
            "Epoch 9/10\n",
            "207/207 [==============================] - 78s 378ms/step - loss: 0.2804 - accuracy: 0.5225\n",
            "Epoch 10/10\n",
            "207/207 [==============================] - 77s 373ms/step - loss: 0.2745 - accuracy: 0.5235\n",
            "52/52 [==============================] - 6s 97ms/step\n",
            "Epoch 1/10\n",
            "207/207 [==============================] - 78s 366ms/step - loss: 0.4696 - accuracy: 0.2356\n",
            "Epoch 2/10\n",
            "207/207 [==============================] - 77s 372ms/step - loss: 0.4422 - accuracy: 0.2860\n",
            "Epoch 3/10\n",
            "207/207 [==============================] - 76s 369ms/step - loss: 0.4088 - accuracy: 0.3251\n",
            "Epoch 4/10\n",
            "207/207 [==============================] - 76s 369ms/step - loss: 0.3854 - accuracy: 0.3425\n",
            "Epoch 5/10\n",
            "207/207 [==============================] - 76s 366ms/step - loss: 0.3666 - accuracy: 0.3693\n",
            "Epoch 6/10\n",
            "207/207 [==============================] - 76s 368ms/step - loss: 0.3539 - accuracy: 0.3908\n",
            "Epoch 7/10\n",
            "207/207 [==============================] - 76s 367ms/step - loss: 0.3410 - accuracy: 0.4065\n",
            "Epoch 8/10\n",
            "207/207 [==============================] - 76s 369ms/step - loss: 0.3286 - accuracy: 0.4235\n",
            "Epoch 9/10\n",
            "207/207 [==============================] - 76s 369ms/step - loss: 0.3184 - accuracy: 0.4377\n",
            "Epoch 10/10\n",
            "207/207 [==============================] - 1389s 7s/step - loss: 0.3083 - accuracy: 0.4536\n",
            "52/52 [==============================] - 132s 3s/step\n",
            "Epoch 1/10\n",
            "207/207 [==============================] - 187s 897ms/step - loss: 0.4700 - accuracy: 0.2342\n",
            "Epoch 2/10\n",
            "207/207 [==============================] - 72s 346ms/step - loss: 0.4484 - accuracy: 0.2546\n",
            "Epoch 3/10\n",
            "207/207 [==============================] - 127s 617ms/step - loss: 0.4144 - accuracy: 0.3043\n",
            "Epoch 4/10\n",
            "207/207 [==============================] - 255s 1s/step - loss: 0.3874 - accuracy: 0.3239\n",
            "Epoch 5/10\n",
            "207/207 [==============================] - 73s 355ms/step - loss: 0.3638 - accuracy: 0.3442\n",
            "Epoch 6/10\n",
            "207/207 [==============================] - 81s 393ms/step - loss: 0.3451 - accuracy: 0.3728\n",
            "Epoch 7/10\n",
            "207/207 [==============================] - 78s 377ms/step - loss: 0.3250 - accuracy: 0.3928\n",
            "Epoch 8/10\n",
            "207/207 [==============================] - 80s 387ms/step - loss: 0.3112 - accuracy: 0.4122\n",
            "Epoch 9/10\n",
            "207/207 [==============================] - 74s 356ms/step - loss: 0.2988 - accuracy: 0.4269\n",
            "Epoch 10/10\n",
            "207/207 [==============================] - 75s 361ms/step - loss: 0.2876 - accuracy: 0.4369\n",
            "52/52 [==============================] - 5s 95ms/step\n",
            "Epoch 1/10\n",
            "207/207 [==============================] - 77s 363ms/step - loss: 0.4708 - accuracy: 0.2298\n",
            "Epoch 2/10\n",
            "207/207 [==============================] - 75s 364ms/step - loss: 0.4413 - accuracy: 0.2896\n",
            "Epoch 3/10\n",
            "207/207 [==============================] - 75s 363ms/step - loss: 0.4113 - accuracy: 0.3212\n",
            "Epoch 4/10\n",
            "207/207 [==============================] - 79s 383ms/step - loss: 0.3878 - accuracy: 0.3379\n",
            "Epoch 5/10\n",
            "207/207 [==============================] - 86s 414ms/step - loss: 0.3672 - accuracy: 0.3547\n",
            "Epoch 6/10\n",
            "207/207 [==============================] - 80s 385ms/step - loss: 0.3498 - accuracy: 0.3877\n",
            "Epoch 7/10\n",
            "207/207 [==============================] - 77s 371ms/step - loss: 0.3327 - accuracy: 0.4251\n",
            "Epoch 8/10\n",
            "207/207 [==============================] - 77s 374ms/step - loss: 0.3180 - accuracy: 0.4526\n",
            "Epoch 9/10\n",
            "207/207 [==============================] - 77s 373ms/step - loss: 0.3087 - accuracy: 0.4737\n",
            "Epoch 10/10\n",
            "207/207 [==============================] - 78s 378ms/step - loss: 0.2998 - accuracy: 0.4885\n",
            "52/52 [==============================] - 7s 95ms/step\n",
            "Epoch 1/10\n",
            "207/207 [==============================] - 81s 383ms/step - loss: 0.4660 - accuracy: 0.2487\n",
            "Epoch 2/10\n",
            "207/207 [==============================] - 75s 363ms/step - loss: 0.4393 - accuracy: 0.2807\n",
            "Epoch 3/10\n",
            "207/207 [==============================] - 77s 370ms/step - loss: 0.4145 - accuracy: 0.3171\n",
            "Epoch 4/10\n",
            "207/207 [==============================] - 77s 374ms/step - loss: 0.3932 - accuracy: 0.3353\n",
            "Epoch 5/10\n",
            "207/207 [==============================] - 78s 374ms/step - loss: 0.3746 - accuracy: 0.3663\n",
            "Epoch 6/10\n",
            "207/207 [==============================] - 76s 367ms/step - loss: 0.3594 - accuracy: 0.3831\n",
            "Epoch 7/10\n",
            "207/207 [==============================] - 75s 364ms/step - loss: 0.3484 - accuracy: 0.3975\n",
            "Epoch 8/10\n",
            "207/207 [==============================] - 75s 364ms/step - loss: 0.3367 - accuracy: 0.4201\n",
            "Epoch 9/10\n",
            "207/207 [==============================] - 75s 364ms/step - loss: 0.3290 - accuracy: 0.4329\n",
            "Epoch 10/10\n",
            "207/207 [==============================] - 75s 363ms/step - loss: 0.3237 - accuracy: 0.4366\n",
            "52/52 [==============================] - 5s 92ms/step\n",
            "Average Weighted F1 Score: 0.3393\n",
            "\n",
            "Experiment: LSTM Units=128, Embedding Dim=50, Learning Rate=0.001\n",
            "Epoch 1/10\n",
            "207/207 [==============================] - 158s 756ms/step - loss: 0.4735 - accuracy: 0.2291\n",
            "Epoch 2/10\n",
            "207/207 [==============================] - 175s 845ms/step - loss: 0.4216 - accuracy: 0.2825\n",
            "Epoch 3/10\n",
            "207/207 [==============================] - 164s 789ms/step - loss: 0.3698 - accuracy: 0.3561\n",
            "Epoch 4/10\n",
            "207/207 [==============================] - 165s 795ms/step - loss: 0.3269 - accuracy: 0.4224\n",
            "Epoch 5/10\n",
            "207/207 [==============================] - 163s 789ms/step - loss: 0.2833 - accuracy: 0.4833\n",
            "Epoch 6/10\n",
            "207/207 [==============================] - 167s 807ms/step - loss: 0.2367 - accuracy: 0.5354\n",
            "Epoch 7/10\n",
            "207/207 [==============================] - 165s 798ms/step - loss: 0.1953 - accuracy: 0.5743\n",
            "Epoch 8/10\n",
            "207/207 [==============================] - 172s 833ms/step - loss: 0.1653 - accuracy: 0.5840\n",
            "Epoch 9/10\n",
            "207/207 [==============================] - 165s 797ms/step - loss: 0.1395 - accuracy: 0.6115\n",
            "Epoch 10/10\n",
            "207/207 [==============================] - 163s 786ms/step - loss: 0.1184 - accuracy: 0.6097\n",
            "52/52 [==============================] - 12s 228ms/step\n",
            "Epoch 1/10\n",
            "207/207 [==============================] - 166s 783ms/step - loss: 0.4689 - accuracy: 0.2439\n",
            "Epoch 2/10\n",
            "207/207 [==============================] - 163s 789ms/step - loss: 0.4185 - accuracy: 0.3039\n",
            "Epoch 3/10\n",
            "207/207 [==============================] - 163s 786ms/step - loss: 0.3765 - accuracy: 0.3316\n",
            "Epoch 4/10\n",
            "207/207 [==============================] - 161s 776ms/step - loss: 0.3417 - accuracy: 0.3659\n",
            "Epoch 5/10\n",
            "207/207 [==============================] - 159s 768ms/step - loss: 0.3059 - accuracy: 0.4107\n",
            "Epoch 6/10\n",
            "207/207 [==============================] - 162s 781ms/step - loss: 0.2606 - accuracy: 0.4651\n",
            "Epoch 7/10\n",
            "207/207 [==============================] - 161s 775ms/step - loss: 0.2186 - accuracy: 0.5226\n",
            "Epoch 8/10\n",
            "207/207 [==============================] - 164s 794ms/step - loss: 0.1807 - accuracy: 0.5564\n",
            "Epoch 9/10\n",
            "207/207 [==============================] - 158s 764ms/step - loss: 0.1496 - accuracy: 0.5880\n",
            "Epoch 10/10\n",
            "207/207 [==============================] - 159s 768ms/step - loss: 0.1260 - accuracy: 0.6082\n",
            "52/52 [==============================] - 12s 214ms/step\n",
            "Epoch 1/10\n",
            "207/207 [==============================] - 167s 799ms/step - loss: 0.4734 - accuracy: 0.2201\n",
            "Epoch 2/10\n",
            "207/207 [==============================] - 164s 790ms/step - loss: 0.4306 - accuracy: 0.2716\n",
            "Epoch 3/10\n",
            "207/207 [==============================] - 164s 792ms/step - loss: 0.3782 - accuracy: 0.3556\n",
            "Epoch 4/10\n",
            "207/207 [==============================] - 178s 859ms/step - loss: 0.3301 - accuracy: 0.4331\n",
            "Epoch 5/10\n",
            "207/207 [==============================] - 277s 1s/step - loss: 0.2854 - accuracy: 0.5026\n",
            "Epoch 6/10\n",
            "207/207 [==============================] - 236s 1s/step - loss: 0.2435 - accuracy: 0.5422\n",
            "Epoch 7/10\n",
            "207/207 [==============================] - 153s 738ms/step - loss: 0.2122 - accuracy: 0.5666\n",
            "Epoch 8/10\n",
            "207/207 [==============================] - 156s 754ms/step - loss: 0.1846 - accuracy: 0.5984\n",
            "Epoch 9/10\n",
            "207/207 [==============================] - 158s 762ms/step - loss: 0.1600 - accuracy: 0.6200\n",
            "Epoch 10/10\n",
            "207/207 [==============================] - 156s 755ms/step - loss: 0.1406 - accuracy: 0.6276\n",
            "52/52 [==============================] - 12s 225ms/step\n",
            "Epoch 1/10\n",
            "207/207 [==============================] - 161s 763ms/step - loss: 0.4696 - accuracy: 0.2375\n",
            "Epoch 2/10\n",
            "207/207 [==============================] - 160s 771ms/step - loss: 0.4213 - accuracy: 0.3002\n",
            "Epoch 3/10\n",
            "207/207 [==============================] - 160s 773ms/step - loss: 0.3840 - accuracy: 0.3244\n",
            "Epoch 4/10\n",
            "207/207 [==============================] - 164s 793ms/step - loss: 0.3452 - accuracy: 0.3601\n",
            "Epoch 5/10\n",
            "207/207 [==============================] - 165s 795ms/step - loss: 0.3043 - accuracy: 0.4214\n",
            "Epoch 6/10\n",
            "207/207 [==============================] - 170s 824ms/step - loss: 0.2632 - accuracy: 0.4700\n",
            "Epoch 7/10\n",
            "207/207 [==============================] - 169s 818ms/step - loss: 0.2276 - accuracy: 0.5212\n",
            "Epoch 8/10\n",
            "207/207 [==============================] - 170s 821ms/step - loss: 0.1934 - accuracy: 0.5550\n",
            "Epoch 9/10\n",
            "207/207 [==============================] - 169s 815ms/step - loss: 0.1615 - accuracy: 0.5778\n",
            "Epoch 10/10\n",
            "207/207 [==============================] - 169s 817ms/step - loss: 0.1336 - accuracy: 0.6046\n",
            "52/52 [==============================] - 13s 234ms/step\n",
            "Epoch 1/10\n",
            "207/207 [==============================] - 180s 862ms/step - loss: 0.4749 - accuracy: 0.2272\n",
            "Epoch 2/10\n",
            "207/207 [==============================] - 178s 860ms/step - loss: 0.4213 - accuracy: 0.3062\n",
            "Epoch 3/10\n",
            "207/207 [==============================] - 181s 876ms/step - loss: 0.3657 - accuracy: 0.3751\n",
            "Epoch 4/10\n",
            "207/207 [==============================] - 175s 846ms/step - loss: 0.3182 - accuracy: 0.4508\n",
            "Epoch 5/10\n",
            "207/207 [==============================] - 176s 850ms/step - loss: 0.2727 - accuracy: 0.5160\n",
            "Epoch 6/10\n",
            "207/207 [==============================] - 176s 853ms/step - loss: 0.2394 - accuracy: 0.5563\n",
            "Epoch 7/10\n",
            "207/207 [==============================] - 179s 863ms/step - loss: 0.2044 - accuracy: 0.5855\n",
            "Epoch 8/10\n",
            "207/207 [==============================] - 184s 890ms/step - loss: 0.1651 - accuracy: 0.6155\n",
            "Epoch 9/10\n",
            "207/207 [==============================] - 175s 845ms/step - loss: 0.1339 - accuracy: 0.6169\n",
            "Epoch 10/10\n",
            "207/207 [==============================] - 169s 814ms/step - loss: 0.1165 - accuracy: 0.6444\n",
            "52/52 [==============================] - 12s 222ms/step\n",
            "Average Weighted F1 Score: 0.4128\n",
            "\n",
            "Experiment: LSTM Units=128, Embedding Dim=50, Learning Rate=0.01\n",
            "Epoch 1/10\n",
            "207/207 [==============================] - 172s 822ms/step - loss: 0.4732 - accuracy: 0.2301\n",
            "Epoch 2/10\n",
            "207/207 [==============================] - 752s 4s/step - loss: 0.4458 - accuracy: 0.2706\n",
            "Epoch 3/10\n",
            "207/207 [==============================] - 158s 763ms/step - loss: 0.4121 - accuracy: 0.3016\n",
            "Epoch 4/10\n",
            "207/207 [==============================] - 167s 807ms/step - loss: 0.3816 - accuracy: 0.3337\n",
            "Epoch 5/10\n",
            "207/207 [==============================] - 169s 816ms/step - loss: 0.3590 - accuracy: 0.3641\n",
            "Epoch 6/10\n",
            "207/207 [==============================] - 168s 813ms/step - loss: 0.3387 - accuracy: 0.3939\n",
            "Epoch 7/10\n",
            "207/207 [==============================] - 165s 796ms/step - loss: 0.3185 - accuracy: 0.4347\n",
            "Epoch 8/10\n",
            "207/207 [==============================] - 164s 791ms/step - loss: 0.3014 - accuracy: 0.4554\n",
            "Epoch 9/10\n",
            "207/207 [==============================] - 165s 799ms/step - loss: 0.2905 - accuracy: 0.4740\n",
            "Epoch 10/10\n",
            "207/207 [==============================] - 169s 819ms/step - loss: 0.2791 - accuracy: 0.4916\n",
            "52/52 [==============================] - 14s 253ms/step\n",
            "Epoch 1/10\n",
            "207/207 [==============================] - 161s 764ms/step - loss: 0.4731 - accuracy: 0.2288\n",
            "Epoch 2/10\n",
            "207/207 [==============================] - 155s 748ms/step - loss: 0.4544 - accuracy: 0.2580\n",
            "Epoch 3/10\n",
            "207/207 [==============================] - 162s 781ms/step - loss: 0.4246 - accuracy: 0.3076\n",
            "Epoch 4/10\n",
            "207/207 [==============================] - 158s 761ms/step - loss: 0.3984 - accuracy: 0.3294\n",
            "Epoch 5/10\n",
            "207/207 [==============================] - 155s 748ms/step - loss: 0.3827 - accuracy: 0.3634\n",
            "Epoch 6/10\n",
            "207/207 [==============================] - 150s 725ms/step - loss: 0.3775 - accuracy: 0.3852\n",
            "Epoch 7/10\n",
            "207/207 [==============================] - 424s 2s/step - loss: 0.3611 - accuracy: 0.4156\n",
            "Epoch 8/10\n",
            "207/207 [==============================] - 856s 4s/step - loss: 0.3429 - accuracy: 0.4454\n",
            "Epoch 9/10\n",
            "207/207 [==============================] - 879s 4s/step - loss: 0.3309 - accuracy: 0.4671\n",
            "Epoch 10/10\n",
            "207/207 [==============================] - 4787s 23s/step - loss: 0.3191 - accuracy: 0.4777\n",
            "52/52 [==============================] - 10s 180ms/step\n",
            "Epoch 1/10\n",
            "207/207 [==============================] - 143s 682ms/step - loss: 0.4742 - accuracy: 0.2293\n",
            "Epoch 2/10\n",
            "207/207 [==============================] - 162s 784ms/step - loss: 0.4582 - accuracy: 0.2414\n",
            "Epoch 3/10\n",
            "207/207 [==============================] - 160s 774ms/step - loss: 0.4222 - accuracy: 0.2920\n",
            "Epoch 4/10\n",
            "207/207 [==============================] - 154s 743ms/step - loss: 0.3801 - accuracy: 0.3524\n",
            "Epoch 5/10\n",
            "207/207 [==============================] - 154s 744ms/step - loss: 0.3453 - accuracy: 0.4163\n",
            "Epoch 6/10\n",
            "207/207 [==============================] - 156s 756ms/step - loss: 0.3031 - accuracy: 0.4827\n",
            "Epoch 7/10\n",
            "207/207 [==============================] - 161s 778ms/step - loss: 0.2738 - accuracy: 0.5309\n",
            "Epoch 8/10\n",
            "  5/207 [..............................] - ETA: 2:38 - loss: 0.2476 - accuracy: 0.5000"
          ]
        }
      ],
      "source": [
        "from sklearn.model_selection import StratifiedKFold\n",
        "from sklearn.metrics import f1_score\n",
        "from keras.models import Sequential\n",
        "from keras.layers import Embedding, Bidirectional, LSTM, Dense, Dropout\n",
        "from keras.preprocessing.text import Tokenizer\n",
        "from keras.preprocessing.sequence import pad_sequences\n",
        "from keras.optimizers.legacy import Adam as LegacyAdam\n",
        "\n",
        "import numpy as np\n",
        "\n",
        "max_sequence_length = 500\n",
        "\n",
        "# Define cross-validation folds\n",
        "n_folds = 5\n",
        "kf = StratifiedKFold(n_splits=n_folds, shuffle=True, random_state=42)\n",
        "\n",
        "# Tokenize the text data\n",
        "tokenizer = Tokenizer()\n",
        "tokenizer.fit_on_texts(train_df['plot_synopsis_tokens'])\n",
        "X_sequences = tokenizer.texts_to_sequences(train_df['plot_synopsis_tokens'])\n",
        "X_padded = pad_sequences(X_sequences, maxlen=max_sequence_length)\n",
        "\n",
        "# Experiment configurations\n",
        "lstm_units = [64, 128]\n",
        "embedding_dims = [50, 100]\n",
        "learning_rates = [0.001, 0.01]\n",
        "epochs = 10\n",
        "\n",
        "# Initialize variables to track the best hyperparameters and corresponding F1 score\n",
        "best_hyperparameters = None\n",
        "best_avg_f1 = 0.0\n",
        "\n",
        "for lstm_unit in lstm_units:\n",
        "    for embedding_dim in embedding_dims:\n",
        "        for learning_rate in learning_rates:\n",
        "            # Display the current experiment configuration\n",
        "            print(f\"\\nExperiment: LSTM Units={lstm_unit}, Embedding Dim={embedding_dim}, Learning Rate={learning_rate}\")\n",
        "\n",
        "            # Initialize cross-validation metrics\n",
        "            f1_scores = []\n",
        "\n",
        "            for fold, (train_idx, val_idx) in enumerate(kf.split(X_padded, np.argmax(y.values, axis=1))):\n",
        "                X_train_fold, X_val_fold = X_padded[train_idx], X_padded[val_idx]\n",
        "                y_train_fold, y_val_fold = y.iloc[train_idx], y.iloc[val_idx]\n",
        "\n",
        "                # Define the Bidirectional LSTM model\n",
        "                model = Sequential()\n",
        "                model.add(Embedding(input_dim=len(tokenizer.word_index) + 1, output_dim=embedding_dim, input_length=max_sequence_length))\n",
        "                model.add(Bidirectional(LSTM(lstm_unit, return_sequences=True)))\n",
        "                model.add(Dropout(0.5))\n",
        "                model.add(Bidirectional(LSTM(lstm_unit)))\n",
        "                model.add(Dropout(0.5))\n",
        "                model.add(Dense(len(labels.columns), activation='sigmoid'))\n",
        "\n",
        "                # Compile the model with the Adam optimizer\n",
        "                optimizer = LegacyAdam(learning_rate=learning_rate)  # You can adjust the learning rate if needed\n",
        "                model.compile(loss='binary_crossentropy', optimizer=optimizer, metrics=['accuracy'])\n",
        "\n",
        "                # Train the model with sample weights\n",
        "                model.fit(X_train_fold, y_train_fold, epochs=epochs, batch_size=32)\n",
        "\n",
        "                # Make predictions on the training validation set (not the actual validation set)\n",
        "                y_val_pred_prob = model.predict(X_val_fold)\n",
        "                y_val_pred = (y_val_pred_prob > 0.5).astype(int)\n",
        "\n",
        "                # Calculate F1 score for each label and average\n",
        "                f1_fold = f1_score(y_val_fold, y_val_pred, average='weighted')\n",
        "                f1_scores.append(f1_fold)\n",
        "\n",
        "            # Display average F1 score across folds for the current configuration\n",
        "            avg_f1 = np.mean(f1_scores)\n",
        "            print(f\"Average Weighted F1 Score: {avg_f1:.4f}\")\n",
        "\n",
        "            # Check if the current configuration has a better F1 score\n",
        "            if avg_f1 > best_avg_f1:\n",
        "                best_avg_f1 = avg_f1\n",
        "                best_hyperparameters = {\n",
        "                    'lstm_units': lstm_unit,\n",
        "                    'embedding_dim': embedding_dim,\n",
        "                    'learning_rate': learning_rate\n",
        "                }\n",
        "\n",
        "# Display the best hyperparameters and corresponding F1 score\n",
        "print(\"\\nBest Hyperparameters:\", best_hyperparameters)\n",
        "print(\"Best Average Weighted F1 Score:\", best_avg_f1)\n",
        "\n"
      ],
      "metadata": {
        "ExecuteTime": {
          "start_time": "2023-11-27T04:56:37.313957Z"
        },
        "id": "9a419c4d906a5eb1",
        "outputId": "8d0749b7-8893-44a5-b27c-15635e0659d4"
      },
      "id": "9a419c4d906a5eb1"
    },
    {
      "cell_type": "markdown",
      "source": [
        "This is overfitting! Let's try some things to reduce overfitting. This code includes early stopping, and a model checkpoint to save the best weights during training. And using word2vec as an embedding layer."
      ],
      "metadata": {
        "collapsed": false,
        "id": "25fe11466fed154b"
      },
      "id": "25fe11466fed154b"
    },
    {
      "cell_type": "markdown",
      "source": [
        "## Try more epochs\n",
        "\n",
        "10 still looks like the best"
      ],
      "metadata": {
        "collapsed": false,
        "id": "611d80fd22d51afb"
      },
      "id": "611d80fd22d51afb"
    },
    {
      "cell_type": "code",
      "execution_count": null,
      "outputs": [
        {
          "name": "stdout",
          "output_type": "stream",
          "text": [
            "Epoch 1/20\n",
            "117/117 [==============================] - 83s 684ms/step - loss: 0.0224 - f1_score: 0.0565 - val_loss: 0.4782 - val_f1_score: 0.0000e+00\n",
            "Epoch 2/20\n"
          ]
        },
        {
          "name": "stderr",
          "output_type": "stream",
          "text": [
            "/Users/zoyaanwar/Downloads/NLP/venv/lib/python3.9/site-packages/keras/src/engine/training.py:3103: UserWarning: You are saving your model as an HDF5 file via `model.save()`. This file format is considered legacy. We recommend using instead the native Keras format, e.g. `model.save('my_model.keras')`.\n",
            "  saving_api.save_model(\n"
          ]
        },
        {
          "name": "stdout",
          "output_type": "stream",
          "text": [
            "117/117 [==============================] - 80s 680ms/step - loss: 0.0214 - f1_score: 0.0936 - val_loss: 0.4838 - val_f1_score: 0.0836\n",
            "Epoch 3/20\n",
            "117/117 [==============================] - 80s 682ms/step - loss: 0.0204 - f1_score: 0.2559 - val_loss: 0.4526 - val_f1_score: 0.2483\n",
            "Epoch 4/20\n",
            "117/117 [==============================] - 80s 681ms/step - loss: 0.0184 - f1_score: 0.3898 - val_loss: 0.4449 - val_f1_score: 0.3179\n",
            "Epoch 5/20\n",
            "117/117 [==============================] - 80s 683ms/step - loss: 0.0162 - f1_score: 0.4901 - val_loss: 0.4520 - val_f1_score: 0.4063\n",
            "Epoch 6/20\n",
            "117/117 [==============================] - 80s 686ms/step - loss: 0.0148 - f1_score: 0.5568 - val_loss: 0.4589 - val_f1_score: 0.3946\n",
            "Epoch 7/20\n",
            "117/117 [==============================] - 83s 708ms/step - loss: 0.0136 - f1_score: 0.5901 - val_loss: 0.4716 - val_f1_score: 0.4068\n",
            "Epoch 8/20\n",
            "117/117 [==============================] - 84s 716ms/step - loss: 0.0123 - f1_score: 0.6488 - val_loss: 0.4895 - val_f1_score: 0.4339\n",
            "Epoch 9/20\n",
            "117/117 [==============================] - 90s 766ms/step - loss: 0.0109 - f1_score: 0.6993 - val_loss: 0.5128 - val_f1_score: 0.4049\n",
            "Epoch 10/20\n",
            "117/117 [==============================] - 79s 678ms/step - loss: 0.0098 - f1_score: 0.7384 - val_loss: 0.5484 - val_f1_score: 0.4447\n",
            "Epoch 11/20\n",
            "117/117 [==============================] - 79s 676ms/step - loss: 0.0090 - f1_score: 0.7697 - val_loss: 0.5850 - val_f1_score: 0.4248\n",
            "Epoch 12/20\n",
            "117/117 [==============================] - 79s 678ms/step - loss: 0.0084 - f1_score: 0.7916 - val_loss: 0.6069 - val_f1_score: 0.4013\n",
            "Epoch 13/20\n",
            "117/117 [==============================] - 88s 749ms/step - loss: 0.0073 - f1_score: 0.8229 - val_loss: 0.6194 - val_f1_score: 0.4325\n",
            "Epoch 14/20\n",
            "117/117 [==============================] - 84s 716ms/step - loss: 0.0066 - f1_score: 0.8474 - val_loss: 0.6792 - val_f1_score: 0.4363\n"
          ]
        },
        {
          "data": {
            "text/plain": "<Figure size 640x480 with 1 Axes>",
            "image/png": "[encoded data removed]"
          },
          "metadata": {},
          "output_type": "display_data"
        },
        {
          "name": "stdout",
          "output_type": "stream",
          "text": [
            "38/38 [==============================] - 5s 104ms/step\n",
            "Classification Report:\n",
            "               precision    recall  f1-score   support\n",
            "\n",
            "      comedy       0.50      0.03      0.06       175\n",
            "        cult       0.36      0.06      0.11       247\n",
            "   flashback       0.33      0.01      0.03       294\n",
            "  historical       0.00      0.00      0.00        24\n",
            "      murder       0.64      0.55      0.59       581\n",
            "     revenge       0.43      0.05      0.10       237\n",
            "    romantic       0.48      0.05      0.09       290\n",
            "       scifi       0.00      0.00      0.00        31\n",
            "    violence       0.51      0.36      0.42       420\n",
            "\n",
            "   micro avg       0.57      0.23      0.32      2299\n",
            "   macro avg       0.36      0.12      0.16      2299\n",
            "weighted avg       0.48      0.23      0.27      2299\n",
            " samples avg       0.26      0.22      0.22      2299\n"
          ]
        },
        {
          "name": "stderr",
          "output_type": "stream",
          "text": [
            "/Users/zoyaanwar/Downloads/NLP/venv/lib/python3.9/site-packages/sklearn/metrics/_classification.py:1471: UndefinedMetricWarning: Precision and F-score are ill-defined and being set to 0.0 in labels with no predicted samples. Use `zero_division` parameter to control this behavior.\n",
            "  _warn_prf(average, modifier, msg_start, len(result))\n",
            "/Users/zoyaanwar/Downloads/NLP/venv/lib/python3.9/site-packages/sklearn/metrics/_classification.py:1471: UndefinedMetricWarning: Precision and F-score are ill-defined and being set to 0.0 in samples with no predicted labels. Use `zero_division` parameter to control this behavior.\n",
            "  _warn_prf(average, modifier, msg_start, len(result))\n"
          ]
        }
      ],
      "source": [
        "# Compile the best model with custom F1 score loss\n",
        "# Define the Bidirectional LSTM model\n",
        "model = Sequential()\n",
        "model.add(Embedding(input_dim=len(tokenizer.word_index) + 1, output_dim=100, input_length=max_sequence_length))\n",
        "model.add(Bidirectional(LSTM(64, return_sequences=True)))\n",
        "model.add(Dropout(0.5))\n",
        "model.add(Bidirectional(LSTM(64)))\n",
        "model.add(Dropout(0.5))\n",
        "model.add(Dense(len(labels.columns), activation='sigmoid'))\n",
        "\n",
        "# Compile the model\n",
        "optimizer = LegacyAdam(learning_rate=0.001)\n",
        "model.compile(loss='binary_crossentropy', optimizer=optimizer, metrics=[f1_score])\n",
        "f1_score_model = train_keras(model, name=\"best_model_f1_score.h5\", metric='f1_score', epochs=20)"
      ],
      "metadata": {
        "ExecuteTime": {
          "end_time": "2023-11-30T12:07:24.253021Z",
          "start_time": "2023-11-30T11:48:10.992865Z"
        },
        "id": "dbdb152f6111578c",
        "outputId": "3dee17cf-cc3f-4d18-e650-45fd3c73fc88"
      },
      "id": "dbdb152f6111578c"
    },
    {
      "cell_type": "markdown",
      "source": [
        "## Try regularisation\n",
        "Model seems more stable with it, but still lots of overfitting"
      ],
      "metadata": {
        "collapsed": false,
        "id": "58e144661eb957c4"
      },
      "id": "58e144661eb957c4"
    },
    {
      "cell_type": "code",
      "execution_count": null,
      "outputs": [],
      "source": [
        "from keras.models import Sequential\n",
        "from keras.layers import Embedding, Bidirectional, LSTM, Dense, Dropout\n",
        "from keras.optimizers.legacy import Adam as LegacyAdam\n",
        "from keras import regularizers\n",
        "from keras.layers import BatchNormalization\n",
        "\n",
        "# Define a function to create and train the model with different regularization strengths\n",
        "def train_regularized_model(reg_strength, epochs=10):\n",
        "    # Define the Bidirectional LSTM model with regularization\n",
        "    regularised_model = Sequential()\n",
        "    regularised_model.add(Embedding(input_dim=len(tokenizer.word_index) + 1, output_dim=100, input_length=max_sequence_length))\n",
        "    regularised_model.add(Bidirectional(LSTM(64, return_sequences=True, kernel_regularizer=regularizers.l2(reg_strength))))\n",
        "    regularised_model.add(BatchNormalization())\n",
        "    regularised_model.add(Dropout(0.5))\n",
        "    regularised_model.add(Bidirectional(LSTM(64, kernel_regularizer=regularizers.l2(reg_strength))))\n",
        "    regularised_model.add(BatchNormalization())\n",
        "    regularised_model.add(Dropout(0.5))\n",
        "    regularised_model.add(Dense(len(labels.columns), activation='sigmoid', kernel_regularizer=regularizers.l2(reg_strength)))\n",
        "\n",
        "    # Compile the model\n",
        "    optimizer = LegacyAdam(learning_rate=0.001)\n",
        "    regularised_model.compile(loss='binary_crossentropy', optimizer=optimizer, metrics=[f1_score])\n",
        "\n",
        "    regularised_model = train_keras(regularised_model, name=\"best_model_regularised.h5\", metric='f1_score', epochs=epochs)"
      ],
      "metadata": {
        "ExecuteTime": {
          "end_time": "2023-11-30T18:57:45.779692Z",
          "start_time": "2023-11-30T18:57:45.573244Z"
        },
        "id": "5781d342a917954d"
      },
      "id": "5781d342a917954d"
    },
    {
      "cell_type": "code",
      "execution_count": null,
      "outputs": [
        {
          "name": "stdout",
          "output_type": "stream",
          "text": [
            "The regularisation strength is 0\n",
            "Epoch 1/10\n",
            "117/117 [==============================] - 80s 616ms/step - loss: 0.0348 - f1_score: 0.3118 - val_loss: 0.5783 - val_f1_score: 0.0000e+00\n",
            "Epoch 2/10\n"
          ]
        },
        {
          "name": "stderr",
          "output_type": "stream",
          "text": [
            "/Users/zoyaanwar/Downloads/NLP/venv/lib/python3.9/site-packages/keras/src/engine/training.py:3103: UserWarning: You are saving your model as an HDF5 file via `model.save()`. This file format is considered legacy. We recommend using instead the native Keras format, e.g. `model.save('my_model.keras')`.\n",
            "  saving_api.save_model(\n"
          ]
        },
        {
          "name": "stdout",
          "output_type": "stream",
          "text": [
            "117/117 [==============================] - 70s 595ms/step - loss: 0.0249 - f1_score: 0.3972 - val_loss: 0.5059 - val_f1_score: 0.0000e+00\n",
            "Epoch 3/10\n",
            "117/117 [==============================] - 71s 603ms/step - loss: 0.0183 - f1_score: 0.5075 - val_loss: 0.4932 - val_f1_score: 0.0070\n",
            "Epoch 4/10\n",
            "117/117 [==============================] - 70s 598ms/step - loss: 0.0136 - f1_score: 0.6354 - val_loss: 0.4609 - val_f1_score: 0.3025\n",
            "Epoch 5/10\n",
            "117/117 [==============================] - 71s 603ms/step - loss: 0.0101 - f1_score: 0.7469 - val_loss: 0.4833 - val_f1_score: 0.3812\n",
            "Epoch 6/10\n",
            "117/117 [==============================] - 69s 594ms/step - loss: 0.0077 - f1_score: 0.8191 - val_loss: 0.5659 - val_f1_score: 0.3995\n",
            "Epoch 7/10\n",
            "117/117 [==============================] - 67s 576ms/step - loss: 0.0061 - f1_score: 0.8682 - val_loss: 0.6127 - val_f1_score: 0.4526\n",
            "Epoch 8/10\n",
            "117/117 [==============================] - 67s 577ms/step - loss: 0.0051 - f1_score: 0.8956 - val_loss: 0.6709 - val_f1_score: 0.4409\n",
            "Epoch 9/10\n",
            "117/117 [==============================] - 71s 607ms/step - loss: 0.0044 - f1_score: 0.9130 - val_loss: 0.7173 - val_f1_score: 0.4467\n",
            "Epoch 10/10\n",
            "117/117 [==============================] - 71s 611ms/step - loss: 0.0040 - f1_score: 0.9219 - val_loss: 0.7511 - val_f1_score: 0.4540\n"
          ]
        },
        {
          "data": {
            "text/plain": "<Figure size 640x480 with 1 Axes>",
            "image/png": "[encoded data removed]"
          },
          "metadata": {},
          "output_type": "display_data"
        },
        {
          "name": "stdout",
          "output_type": "stream",
          "text": [
            "38/38 [==============================] - 4s 95ms/step\n",
            "Classification Report:\n",
            "               precision    recall  f1-score   support\n",
            "\n",
            "      comedy       0.29      0.30      0.30       175\n",
            "        cult       0.37      0.30      0.33       247\n",
            "   flashback       0.29      0.33      0.31       294\n",
            "  historical       0.20      0.04      0.07        24\n",
            "      murder       0.56      0.69      0.62       581\n",
            "     revenge       0.30      0.25      0.27       237\n",
            "    romantic       0.45      0.30      0.36       290\n",
            "       scifi       0.00      0.00      0.00        31\n",
            "    violence       0.46      0.75      0.57       420\n",
            "\n",
            "   micro avg       0.43      0.47      0.45      2299\n",
            "   macro avg       0.32      0.33      0.31      2299\n",
            "weighted avg       0.41      0.47      0.43      2299\n",
            " samples avg       0.43      0.49      0.41      2299\n",
            "\n",
            "The regularisation strength is 0.001\n"
          ]
        },
        {
          "name": "stderr",
          "output_type": "stream",
          "text": [
            "/Users/zoyaanwar/Downloads/NLP/venv/lib/python3.9/site-packages/sklearn/metrics/_classification.py:1471: UndefinedMetricWarning: Precision and F-score are ill-defined and being set to 0.0 in samples with no predicted labels. Use `zero_division` parameter to control this behavior.\n",
            "  _warn_prf(average, modifier, msg_start, len(result))\n"
          ]
        },
        {
          "name": "stdout",
          "output_type": "stream",
          "text": [
            "Epoch 1/10\n",
            "117/117 [==============================] - 75s 619ms/step - loss: 0.2776 - f1_score: 0.3138 - val_loss: 0.6454 - val_f1_score: 0.1298\n",
            "Epoch 2/10\n"
          ]
        },
        {
          "name": "stderr",
          "output_type": "stream",
          "text": [
            "/Users/zoyaanwar/Downloads/NLP/venv/lib/python3.9/site-packages/keras/src/engine/training.py:3103: UserWarning: You are saving your model as an HDF5 file via `model.save()`. This file format is considered legacy. We recommend using instead the native Keras format, e.g. `model.save('my_model.keras')`.\n",
            "  saving_api.save_model(\n"
          ]
        },
        {
          "name": "stdout",
          "output_type": "stream",
          "text": [
            "117/117 [==============================] - 73s 621ms/step - loss: 0.0463 - f1_score: 0.4088 - val_loss: 0.5437 - val_f1_score: 0.0000e+00\n",
            "Epoch 3/10\n",
            "117/117 [==============================] - 71s 606ms/step - loss: 0.0240 - f1_score: 0.5423 - val_loss: 0.5047 - val_f1_score: 0.0000e+00\n",
            "Epoch 4/10\n",
            "117/117 [==============================] - 71s 609ms/step - loss: 0.0187 - f1_score: 0.6284 - val_loss: 0.4812 - val_f1_score: 0.2829\n",
            "Epoch 5/10\n",
            "117/117 [==============================] - 72s 618ms/step - loss: 0.0164 - f1_score: 0.6891 - val_loss: 0.4612 - val_f1_score: 0.3026\n",
            "Epoch 6/10\n",
            "117/117 [==============================] - 71s 606ms/step - loss: 0.0148 - f1_score: 0.7336 - val_loss: 0.4784 - val_f1_score: 0.2319\n",
            "Epoch 7/10\n",
            "117/117 [==============================] - 73s 622ms/step - loss: 0.0138 - f1_score: 0.7686 - val_loss: 0.4926 - val_f1_score: 0.3766\n",
            "Epoch 8/10\n",
            "117/117 [==============================] - 71s 608ms/step - loss: 0.0128 - f1_score: 0.7998 - val_loss: 0.5355 - val_f1_score: 0.3648\n",
            "Epoch 9/10\n",
            "117/117 [==============================] - 70s 600ms/step - loss: 0.0122 - f1_score: 0.8151 - val_loss: 0.5294 - val_f1_score: 0.3813\n",
            "Epoch 10/10\n",
            "117/117 [==============================] - 71s 608ms/step - loss: 0.0117 - f1_score: 0.8282 - val_loss: 0.5361 - val_f1_score: 0.3971\n"
          ]
        },
        {
          "data": {
            "text/plain": "<Figure size 640x480 with 1 Axes>",
            "image/png": "[encoded data removed]"
          },
          "metadata": {},
          "output_type": "display_data"
        },
        {
          "name": "stdout",
          "output_type": "stream",
          "text": [
            "38/38 [==============================] - 5s 95ms/step\n",
            "Classification Report:\n",
            "               precision    recall  f1-score   support\n",
            "\n",
            "      comedy       0.21      0.35      0.26       175\n",
            "        cult       0.30      0.40      0.34       247\n",
            "   flashback       0.38      0.11      0.17       294\n",
            "  historical       0.04      0.04      0.04        24\n",
            "      murder       0.57      0.74      0.64       581\n",
            "     revenge       0.27      0.01      0.02       237\n",
            "    romantic       0.53      0.18      0.27       290\n",
            "       scifi       0.00      0.00      0.00        31\n",
            "    violence       0.65      0.31      0.42       420\n",
            "\n",
            "   micro avg       0.45      0.35      0.40      2299\n",
            "   macro avg       0.33      0.24      0.24      2299\n",
            "weighted avg       0.45      0.35      0.36      2299\n",
            " samples avg       0.38      0.37      0.34      2299\n",
            "\n",
            "The regularisation strength is 0.01\n"
          ]
        },
        {
          "name": "stderr",
          "output_type": "stream",
          "text": [
            "/Users/zoyaanwar/Downloads/NLP/venv/lib/python3.9/site-packages/sklearn/metrics/_classification.py:1471: UndefinedMetricWarning: Precision and F-score are ill-defined and being set to 0.0 in labels with no predicted samples. Use `zero_division` parameter to control this behavior.\n",
            "  _warn_prf(average, modifier, msg_start, len(result))\n",
            "/Users/zoyaanwar/Downloads/NLP/venv/lib/python3.9/site-packages/sklearn/metrics/_classification.py:1471: UndefinedMetricWarning: Precision and F-score are ill-defined and being set to 0.0 in samples with no predicted labels. Use `zero_division` parameter to control this behavior.\n",
            "  _warn_prf(average, modifier, msg_start, len(result))\n"
          ]
        },
        {
          "name": "stdout",
          "output_type": "stream",
          "text": [
            "Epoch 1/10\n",
            "117/117 [==============================] - 80s 668ms/step - loss: 2.0627 - f1_score: 0.3000 - val_loss: 0.8369 - val_f1_score: 0.0000e+00\n",
            "Epoch 2/10\n"
          ]
        },
        {
          "name": "stderr",
          "output_type": "stream",
          "text": [
            "/Users/zoyaanwar/Downloads/NLP/venv/lib/python3.9/site-packages/keras/src/engine/training.py:3103: UserWarning: You are saving your model as an HDF5 file via `model.save()`. This file format is considered legacy. We recommend using instead the native Keras format, e.g. `model.save('my_model.keras')`.\n",
            "  saving_api.save_model(\n"
          ]
        },
        {
          "name": "stdout",
          "output_type": "stream",
          "text": [
            "117/117 [==============================] - 75s 641ms/step - loss: 0.0798 - f1_score: 0.0969 - val_loss: 0.6107 - val_f1_score: 0.0000e+00\n",
            "Epoch 3/10\n",
            "117/117 [==============================] - 76s 646ms/step - loss: 0.0271 - f1_score: 0.0000e+00 - val_loss: 0.5858 - val_f1_score: 0.0000e+00\n",
            "Epoch 4/10\n",
            "117/117 [==============================] - 76s 645ms/step - loss: 0.0251 - f1_score: 0.0000e+00 - val_loss: 0.5633 - val_f1_score: 0.0000e+00\n",
            "Epoch 5/10\n",
            "117/117 [==============================] - 76s 652ms/step - loss: 0.0243 - f1_score: 0.0000e+00 - val_loss: 0.5451 - val_f1_score: 0.0000e+00\n",
            "Epoch 6/10\n",
            "117/117 [==============================] - 75s 642ms/step - loss: 0.0237 - f1_score: 0.0000e+00 - val_loss: 0.5303 - val_f1_score: 0.0000e+00\n",
            "Epoch 7/10\n",
            "117/117 [==============================] - 77s 657ms/step - loss: 0.0232 - f1_score: 0.0000e+00 - val_loss: 0.5197 - val_f1_score: 0.0000e+00\n",
            "Epoch 8/10\n",
            "117/117 [==============================] - 74s 636ms/step - loss: 0.0229 - f1_score: 0.0000e+00 - val_loss: 0.5106 - val_f1_score: 0.0000e+00\n",
            "Epoch 9/10\n",
            "117/117 [==============================] - 75s 644ms/step - loss: 0.0227 - f1_score: 0.0000e+00 - val_loss: 0.5052 - val_f1_score: 0.0000e+00\n",
            "Epoch 10/10\n",
            "117/117 [==============================] - 76s 649ms/step - loss: 0.0225 - f1_score: 0.0000e+00 - val_loss: 0.5010 - val_f1_score: 0.0000e+00\n"
          ]
        },
        {
          "data": {
            "text/plain": "<Figure size 640x480 with 1 Axes>",
            "image/png": "[encoded data removed]"
          },
          "metadata": {},
          "output_type": "display_data"
        },
        {
          "name": "stdout",
          "output_type": "stream",
          "text": [
            "38/38 [==============================] - 5s 104ms/step\n",
            "Classification Report:\n",
            "               precision    recall  f1-score   support\n",
            "\n",
            "      comedy       0.00      0.00      0.00       175\n",
            "        cult       0.00      0.00      0.00       247\n",
            "   flashback       0.00      0.00      0.00       294\n",
            "  historical       0.00      0.00      0.00        24\n",
            "      murder       0.00      0.00      0.00       581\n",
            "     revenge       0.00      0.00      0.00       237\n",
            "    romantic       0.00      0.00      0.00       290\n",
            "       scifi       0.00      0.00      0.00        31\n",
            "    violence       0.00      0.00      0.00       420\n",
            "\n",
            "   micro avg       0.00      0.00      0.00      2299\n",
            "   macro avg       0.00      0.00      0.00      2299\n",
            "weighted avg       0.00      0.00      0.00      2299\n",
            " samples avg       0.00      0.00      0.00      2299\n",
            "\n",
            "The regularisation strength is 0.1\n"
          ]
        },
        {
          "name": "stderr",
          "output_type": "stream",
          "text": [
            "/Users/zoyaanwar/Downloads/NLP/venv/lib/python3.9/site-packages/sklearn/metrics/_classification.py:1471: UndefinedMetricWarning: Precision and F-score are ill-defined and being set to 0.0 in labels with no predicted samples. Use `zero_division` parameter to control this behavior.\n",
            "  _warn_prf(average, modifier, msg_start, len(result))\n",
            "/Users/zoyaanwar/Downloads/NLP/venv/lib/python3.9/site-packages/sklearn/metrics/_classification.py:1471: UndefinedMetricWarning: Precision and F-score are ill-defined and being set to 0.0 due to no predicted samples. Use `zero_division` parameter to control this behavior.\n",
            "  _warn_prf(average, modifier, msg_start, len(result))\n",
            "/Users/zoyaanwar/Downloads/NLP/venv/lib/python3.9/site-packages/sklearn/metrics/_classification.py:1471: UndefinedMetricWarning: Precision and F-score are ill-defined and being set to 0.0 in samples with no predicted labels. Use `zero_division` parameter to control this behavior.\n",
            "  _warn_prf(average, modifier, msg_start, len(result))\n"
          ]
        },
        {
          "name": "stdout",
          "output_type": "stream",
          "text": [
            "Epoch 1/10\n",
            "117/117 [==============================] - 81s 675ms/step - loss: 20.3221 - f1_score: 0.3028 - val_loss: 2.7229 - val_f1_score: 0.0000e+00\n",
            "Epoch 2/10\n"
          ]
        },
        {
          "name": "stderr",
          "output_type": "stream",
          "text": [
            "/Users/zoyaanwar/Downloads/NLP/venv/lib/python3.9/site-packages/keras/src/engine/training.py:3103: UserWarning: You are saving your model as an HDF5 file via `model.save()`. This file format is considered legacy. We recommend using instead the native Keras format, e.g. `model.save('my_model.keras')`.\n",
            "  saving_api.save_model(\n"
          ]
        },
        {
          "name": "stdout",
          "output_type": "stream",
          "text": [
            "117/117 [==============================] - 70s 596ms/step - loss: 0.5431 - f1_score: 0.2797 - val_loss: 0.6533 - val_f1_score: 0.0000e+00\n",
            "Epoch 3/10\n",
            "117/117 [==============================] - 70s 602ms/step - loss: 0.0368 - f1_score: 0.2051 - val_loss: 0.6252 - val_f1_score: 0.0000e+00\n",
            "Epoch 4/10\n",
            "117/117 [==============================] - 70s 596ms/step - loss: 0.0260 - f1_score: 0.0000e+00 - val_loss: 0.5959 - val_f1_score: 0.0000e+00\n",
            "Epoch 5/10\n",
            "117/117 [==============================] - 70s 600ms/step - loss: 0.0248 - f1_score: 0.0000e+00 - val_loss: 0.5778 - val_f1_score: 0.0000e+00\n",
            "Epoch 6/10\n",
            "117/117 [==============================] - 71s 606ms/step - loss: 0.0242 - f1_score: 0.0000e+00 - val_loss: 0.5632 - val_f1_score: 0.0000e+00\n",
            "Epoch 7/10\n",
            "117/117 [==============================] - 70s 598ms/step - loss: 0.0238 - f1_score: 0.0000e+00 - val_loss: 0.5510 - val_f1_score: 0.0000e+00\n",
            "Epoch 8/10\n",
            "117/117 [==============================] - 71s 603ms/step - loss: 0.0234 - f1_score: 0.0000e+00 - val_loss: 0.5406 - val_f1_score: 0.0000e+00\n",
            "Epoch 9/10\n",
            "117/117 [==============================] - 70s 597ms/step - loss: 0.0230 - f1_score: 0.0000e+00 - val_loss: 0.5320 - val_f1_score: 0.0000e+00\n",
            "Epoch 10/10\n",
            "117/117 [==============================] - 71s 605ms/step - loss: 0.0228 - f1_score: 0.0000e+00 - val_loss: 0.5245 - val_f1_score: 0.0000e+00\n"
          ]
        },
        {
          "data": {
            "text/plain": "<Figure size 640x480 with 1 Axes>",
            "image/png": "[encoded data removed]"
          },
          "metadata": {},
          "output_type": "display_data"
        },
        {
          "name": "stdout",
          "output_type": "stream",
          "text": [
            "38/38 [==============================] - 4s 97ms/step\n",
            "Classification Report:\n",
            "               precision    recall  f1-score   support\n",
            "\n",
            "      comedy       0.00      0.00      0.00       175\n",
            "        cult       0.00      0.00      0.00       247\n",
            "   flashback       0.00      0.00      0.00       294\n",
            "  historical       0.00      0.00      0.00        24\n",
            "      murder       0.00      0.00      0.00       581\n",
            "     revenge       0.00      0.00      0.00       237\n",
            "    romantic       0.00      0.00      0.00       290\n",
            "       scifi       0.00      0.00      0.00        31\n",
            "    violence       0.00      0.00      0.00       420\n",
            "\n",
            "   micro avg       0.00      0.00      0.00      2299\n",
            "   macro avg       0.00      0.00      0.00      2299\n",
            "weighted avg       0.00      0.00      0.00      2299\n",
            " samples avg       0.00      0.00      0.00      2299\n"
          ]
        },
        {
          "name": "stderr",
          "output_type": "stream",
          "text": [
            "/Users/zoyaanwar/Downloads/NLP/venv/lib/python3.9/site-packages/sklearn/metrics/_classification.py:1471: UndefinedMetricWarning: Precision and F-score are ill-defined and being set to 0.0 in labels with no predicted samples. Use `zero_division` parameter to control this behavior.\n",
            "  _warn_prf(average, modifier, msg_start, len(result))\n",
            "/Users/zoyaanwar/Downloads/NLP/venv/lib/python3.9/site-packages/sklearn/metrics/_classification.py:1471: UndefinedMetricWarning: Precision and F-score are ill-defined and being set to 0.0 due to no predicted samples. Use `zero_division` parameter to control this behavior.\n",
            "  _warn_prf(average, modifier, msg_start, len(result))\n",
            "/Users/zoyaanwar/Downloads/NLP/venv/lib/python3.9/site-packages/sklearn/metrics/_classification.py:1471: UndefinedMetricWarning: Precision and F-score are ill-defined and being set to 0.0 in samples with no predicted labels. Use `zero_division` parameter to control this behavior.\n",
            "  _warn_prf(average, modifier, msg_start, len(result))\n"
          ]
        }
      ],
      "source": [
        "# Test different regularization strengths\n",
        "reg_strengths_to_test = [0, 0.001, 0.01, 0.1]\n",
        "\n",
        "for reg_strength in reg_strengths_to_test:\n",
        "    print(f\"The regularisation strength is {reg_strength}\")\n",
        "    train_regularized_model(reg_strength)"
      ],
      "metadata": {
        "ExecuteTime": {
          "end_time": "2023-11-30T18:48:49.147251Z",
          "start_time": "2023-11-30T18:00:08.097862Z"
        },
        "id": "ce62faa5bc0b78e3",
        "outputId": "d6c6274c-db0d-4cfd-fb41-7c51d57de290"
      },
      "id": "ce62faa5bc0b78e3"
    },
    {
      "cell_type": "code",
      "execution_count": null,
      "outputs": [
        {
          "name": "stdout",
          "output_type": "stream",
          "text": [
            "Epoch 1/10\n",
            "117/117 [==============================] - 77s 627ms/step - loss: 0.2725 - f1_score: 0.3224 - val_loss: 0.6442 - val_f1_score: 0.3232\n",
            "Epoch 2/10\n"
          ]
        },
        {
          "name": "stderr",
          "output_type": "stream",
          "text": [
            "/Users/zoyaanwar/Downloads/NLP/venv/lib/python3.9/site-packages/keras/src/engine/training.py:3103: UserWarning: You are saving your model as an HDF5 file via `model.save()`. This file format is considered legacy. We recommend using instead the native Keras format, e.g. `model.save('my_model.keras')`.\n",
            "  saving_api.save_model(\n"
          ]
        },
        {
          "name": "stdout",
          "output_type": "stream",
          "text": [
            "117/117 [==============================] - 76s 651ms/step - loss: 0.0438 - f1_score: 0.4303 - val_loss: 0.5448 - val_f1_score: 0.0000e+00\n",
            "Epoch 3/10\n",
            "117/117 [==============================] - 71s 604ms/step - loss: 0.0237 - f1_score: 0.5308 - val_loss: 0.5019 - val_f1_score: 0.0000e+00\n",
            "Epoch 4/10\n",
            "117/117 [==============================] - 72s 616ms/step - loss: 0.0189 - f1_score: 0.5985 - val_loss: 0.4770 - val_f1_score: 0.0538\n",
            "Epoch 5/10\n",
            "117/117 [==============================] - 71s 605ms/step - loss: 0.0165 - f1_score: 0.6615 - val_loss: 0.4576 - val_f1_score: 0.3920\n",
            "Epoch 6/10\n",
            "117/117 [==============================] - 75s 640ms/step - loss: 0.0149 - f1_score: 0.7149 - val_loss: 0.5052 - val_f1_score: 0.2593\n",
            "Epoch 7/10\n",
            "117/117 [==============================] - 72s 612ms/step - loss: 0.0142 - f1_score: 0.7454 - val_loss: 0.5523 - val_f1_score: 0.4538\n",
            "Epoch 8/10\n",
            "117/117 [==============================] - 71s 608ms/step - loss: 0.0134 - f1_score: 0.7667 - val_loss: 0.5144 - val_f1_score: 0.3670\n",
            "Epoch 9/10\n",
            "117/117 [==============================] - 82s 698ms/step - loss: 0.0126 - f1_score: 0.7888 - val_loss: 0.6901 - val_f1_score: 0.3630\n",
            "Epoch 10/10\n",
            "117/117 [==============================] - 73s 623ms/step - loss: 0.0118 - f1_score: 0.8184 - val_loss: 1.0913 - val_f1_score: 0.2331\n"
          ]
        },
        {
          "data": {
            "text/plain": "<Figure size 640x480 with 1 Axes>",
            "image/png": "[encoded data removed]"
          },
          "metadata": {},
          "output_type": "display_data"
        },
        {
          "name": "stdout",
          "output_type": "stream",
          "text": [
            "38/38 [==============================] - 5s 100ms/step\n",
            "Classification Report:\n",
            "               precision    recall  f1-score   support\n",
            "\n",
            "      comedy       0.20      0.45      0.28       175\n",
            "        cult       0.29      0.47      0.36       247\n",
            "   flashback       0.26      0.02      0.03       294\n",
            "  historical       0.00      0.00      0.00        24\n",
            "      murder       0.00      0.00      0.00       581\n",
            "     revenge       0.00      0.00      0.00       237\n",
            "    romantic       0.25      1.00      0.40       290\n",
            "       scifi       0.00      0.00      0.00        31\n",
            "    violence       1.00      0.00      0.01       420\n",
            "\n",
            "   micro avg       0.25      0.21      0.23      2299\n",
            "   macro avg       0.22      0.21      0.12      2299\n",
            "weighted avg       0.29      0.21      0.12      2299\n",
            " samples avg       0.24      0.23      0.21      2299\n"
          ]
        },
        {
          "name": "stderr",
          "output_type": "stream",
          "text": [
            "/Users/zoyaanwar/Downloads/NLP/venv/lib/python3.9/site-packages/sklearn/metrics/_classification.py:1471: UndefinedMetricWarning: Precision and F-score are ill-defined and being set to 0.0 in labels with no predicted samples. Use `zero_division` parameter to control this behavior.\n",
            "  _warn_prf(average, modifier, msg_start, len(result))\n",
            "/Users/zoyaanwar/Downloads/NLP/venv/lib/python3.9/site-packages/sklearn/metrics/_classification.py:1471: UndefinedMetricWarning: Precision and F-score are ill-defined and being set to 0.0 in samples with no predicted labels. Use `zero_division` parameter to control this behavior.\n",
            "  _warn_prf(average, modifier, msg_start, len(result))\n"
          ]
        }
      ],
      "source": [
        "train_regularized_model(0.001, epochs=10)"
      ],
      "metadata": {
        "ExecuteTime": {
          "end_time": "2023-11-30T22:41:47.292127Z",
          "start_time": "2023-11-30T22:29:22.794376Z"
        },
        "id": "5534323d32943390",
        "outputId": "05cb8adf-f124-4738-c321-3498cb34827f"
      },
      "id": "5534323d32943390"
    },
    {
      "cell_type": "markdown",
      "source": [
        "## Try different architectures to see if we can reduce overfitting\n",
        "\n",
        "Things I tried:\n",
        "- simpler model\n",
        "- Embedding layer word2vec\n",
        "- Embedding layer GloVe with a CNN before LTSM\n",
        "\n",
        "Nothing worked :)"
      ],
      "metadata": {
        "collapsed": false,
        "id": "ad301a7be5f19426"
      },
      "id": "ad301a7be5f19426"
    },
    {
      "cell_type": "markdown",
      "source": [
        "### Simpler model\n",
        "I reduced the number of LSTM units to 32 to decrease model complexity.\n",
        "The dropout rate is set to 0.3, which is a lower dropout rate than in the original model."
      ],
      "metadata": {
        "collapsed": false,
        "id": "9838e2ff61127784"
      },
      "id": "9838e2ff61127784"
    },
    {
      "cell_type": "code",
      "execution_count": null,
      "outputs": [
        {
          "name": "stdout",
          "output_type": "stream",
          "text": [
            "Epoch 1/10\n",
            "117/117 [==============================] - 21s 171ms/step - loss: 0.0239 - f1_score: 0.0924 - val_loss: 0.4732 - val_f1_score: 0.0000e+00\n",
            "Epoch 2/10\n"
          ]
        },
        {
          "name": "stderr",
          "output_type": "stream",
          "text": [
            "/Users/zoyaanwar/Downloads/NLP/venv/lib/python3.9/site-packages/keras/src/engine/training.py:3103: UserWarning: You are saving your model as an HDF5 file via `model.save()`. This file format is considered legacy. We recommend using instead the native Keras format, e.g. `model.save('my_model.keras')`.\n",
            "  saving_api.save_model(\n"
          ]
        },
        {
          "name": "stdout",
          "output_type": "stream",
          "text": [
            "117/117 [==============================] - 19s 166ms/step - loss: 0.0217 - f1_score: 0.0577 - val_loss: 0.4729 - val_f1_score: 0.0000e+00\n",
            "Epoch 3/10\n",
            "117/117 [==============================] - 19s 163ms/step - loss: 0.0207 - f1_score: 0.1830 - val_loss: 0.4509 - val_f1_score: 0.2726\n",
            "Epoch 4/10\n",
            "117/117 [==============================] - 19s 162ms/step - loss: 0.0181 - f1_score: 0.4132 - val_loss: 0.4628 - val_f1_score: 0.3125\n",
            "Epoch 5/10\n",
            "117/117 [==============================] - 19s 165ms/step - loss: 0.0158 - f1_score: 0.5260 - val_loss: 0.4686 - val_f1_score: 0.3451\n",
            "Epoch 6/10\n",
            "117/117 [==============================] - 19s 163ms/step - loss: 0.0139 - f1_score: 0.6028 - val_loss: 0.4819 - val_f1_score: 0.4017\n",
            "Epoch 7/10\n",
            "117/117 [==============================] - 20s 168ms/step - loss: 0.0125 - f1_score: 0.6585 - val_loss: 0.5059 - val_f1_score: 0.3536\n",
            "Epoch 8/10\n",
            "117/117 [==============================] - 19s 161ms/step - loss: 0.0112 - f1_score: 0.7020 - val_loss: 0.5103 - val_f1_score: 0.4003\n",
            "Epoch 9/10\n",
            "117/117 [==============================] - 19s 161ms/step - loss: 0.0102 - f1_score: 0.7403 - val_loss: 0.5426 - val_f1_score: 0.4011\n",
            "Epoch 10/10\n",
            "117/117 [==============================] - 19s 165ms/step - loss: 0.0092 - f1_score: 0.7779 - val_loss: 0.5648 - val_f1_score: 0.4112\n"
          ]
        },
        {
          "data": {
            "text/plain": "<Figure size 640x480 with 1 Axes>",
            "image/png": "[encoded data removed]"
          },
          "metadata": {},
          "output_type": "display_data"
        },
        {
          "name": "stdout",
          "output_type": "stream",
          "text": [
            "38/38 [==============================] - 1s 19ms/step\n",
            "Classification Report:\n",
            "               precision    recall  f1-score   support\n",
            "\n",
            "      comedy       0.29      0.22      0.25       175\n",
            "        cult       0.25      0.17      0.20       247\n",
            "   flashback       0.31      0.23      0.26       294\n",
            "  historical       0.00      0.00      0.00        24\n",
            "      murder       0.63      0.63      0.63       581\n",
            "     revenge       0.36      0.21      0.26       237\n",
            "    romantic       0.50      0.37      0.42       290\n",
            "       scifi       0.00      0.00      0.00        31\n",
            "    violence       0.50      0.49      0.50       420\n",
            "\n",
            "   micro avg       0.47      0.38      0.42      2299\n",
            "   macro avg       0.32      0.26      0.28      2299\n",
            "weighted avg       0.44      0.38      0.40      2299\n",
            " samples avg       0.38      0.39      0.35      2299\n"
          ]
        },
        {
          "name": "stderr",
          "output_type": "stream",
          "text": [
            "/Users/zoyaanwar/Downloads/NLP/venv/lib/python3.9/site-packages/sklearn/metrics/_classification.py:1471: UndefinedMetricWarning: Precision and F-score are ill-defined and being set to 0.0 in samples with no predicted labels. Use `zero_division` parameter to control this behavior.\n",
            "  _warn_prf(average, modifier, msg_start, len(result))\n"
          ]
        }
      ],
      "source": [
        "# Define a simpler model\n",
        "simpler_model = Sequential()\n",
        "simpler_model.add(Embedding(input_dim=len(tokenizer.word_index) + 1, output_dim=100, input_length=max_sequence_length))\n",
        "simpler_model.add(LSTM(32))\n",
        "simpler_model.add(Dropout(0.3))\n",
        "simpler_model.add(Dense(len(labels.columns), activation='sigmoid'))\n",
        "\n",
        "# Compile the model\n",
        "optimizer = LegacyAdam(learning_rate=0.001)\n",
        "simpler_model.compile(loss='binary_crossentropy', optimizer=optimizer, metrics=[f1_score])\n",
        "simpler_model = train_keras(simpler_model, name=\"simple_model.h5\", metric='f1_score', epochs=10)"
      ],
      "metadata": {
        "ExecuteTime": {
          "end_time": "2023-11-30T22:46:17.280402Z",
          "start_time": "2023-11-30T22:43:01.749252Z"
        },
        "id": "49c89c0331808a5e",
        "outputId": "6c019f69-7131-44c5-e632-8ac9d575ed78"
      },
      "id": "49c89c0331808a5e"
    },
    {
      "cell_type": "markdown",
      "source": [
        "### Even simpler model"
      ],
      "metadata": {
        "collapsed": false,
        "id": "c30f704ee54eb33c"
      },
      "id": "c30f704ee54eb33c"
    },
    {
      "cell_type": "code",
      "execution_count": null,
      "outputs": [
        {
          "name": "stdout",
          "output_type": "stream",
          "text": [
            "Epoch 1/8\n",
            "117/117 [==============================] - 9s 63ms/step - loss: 0.0251 - f1_score: 0.1906 - val_loss: 0.4815 - val_f1_score: 0.0000e+00\n",
            "Epoch 2/8\n",
            "  3/117 [..............................] - ETA: 6s - loss: 0.0231 - f1_score: 0.0272"
          ]
        },
        {
          "name": "stderr",
          "output_type": "stream",
          "text": [
            "/Users/zoyaanwar/Downloads/NLP/venv/lib/python3.9/site-packages/keras/src/engine/training.py:3103: UserWarning: You are saving your model as an HDF5 file via `model.save()`. This file format is considered legacy. We recommend using instead the native Keras format, e.g. `model.save('my_model.keras')`.\n",
            "  saving_api.save_model(\n"
          ]
        },
        {
          "name": "stdout",
          "output_type": "stream",
          "text": [
            "117/117 [==============================] - 7s 61ms/step - loss: 0.0218 - f1_score: 0.0349 - val_loss: 0.4758 - val_f1_score: 0.0000e+00\n",
            "Epoch 3/8\n",
            "117/117 [==============================] - 7s 64ms/step - loss: 0.0217 - f1_score: 0.0266 - val_loss: 0.4754 - val_f1_score: 0.0000e+00\n",
            "Epoch 4/8\n",
            "117/117 [==============================] - 7s 61ms/step - loss: 0.0216 - f1_score: 0.0149 - val_loss: 0.4752 - val_f1_score: 0.0000e+00\n",
            "Epoch 5/8\n",
            "117/117 [==============================] - 7s 61ms/step - loss: 0.0213 - f1_score: 0.0131 - val_loss: 0.4721 - val_f1_score: 0.0000e+00\n",
            "Epoch 6/8\n",
            "117/117 [==============================] - 7s 61ms/step - loss: 0.0203 - f1_score: 0.0996 - val_loss: 0.4640 - val_f1_score: 0.0328\n",
            "Epoch 7/8\n",
            "117/117 [==============================] - 7s 64ms/step - loss: 0.0192 - f1_score: 0.2778 - val_loss: 0.4614 - val_f1_score: 0.2361\n",
            "Epoch 8/8\n",
            "117/117 [==============================] - 7s 61ms/step - loss: 0.0181 - f1_score: 0.3822 - val_loss: 0.4618 - val_f1_score: 0.2498\n"
          ]
        },
        {
          "data": {
            "text/plain": "<Figure size 640x480 with 1 Axes>",
            "image/png": "[encoded data removed]"
          },
          "metadata": {},
          "output_type": "display_data"
        },
        {
          "name": "stdout",
          "output_type": "stream",
          "text": [
            "38/38 [==============================] - 1s 10ms/step\n",
            "Classification Report:\n",
            "               precision    recall  f1-score   support\n",
            "\n",
            "      comedy       0.00      0.00      0.00       175\n",
            "        cult       0.28      0.09      0.13       247\n",
            "   flashback       0.00      0.00      0.00       294\n",
            "  historical       0.00      0.00      0.00        24\n",
            "      murder       0.63      0.38      0.47       581\n",
            "     revenge       0.42      0.07      0.12       237\n",
            "    romantic       0.00      0.00      0.00       290\n",
            "       scifi       0.00      0.00      0.00        31\n",
            "    violence       0.52      0.28      0.36       420\n",
            "\n",
            "   micro avg       0.54      0.16      0.25      2299\n",
            "   macro avg       0.21      0.09      0.12      2299\n",
            "weighted avg       0.33      0.16      0.21      2299\n",
            " samples avg       0.16      0.15      0.14      2299\n"
          ]
        },
        {
          "name": "stderr",
          "output_type": "stream",
          "text": [
            "/Users/zoyaanwar/Downloads/NLP/venv/lib/python3.9/site-packages/sklearn/metrics/_classification.py:1471: UndefinedMetricWarning: Precision and F-score are ill-defined and being set to 0.0 in labels with no predicted samples. Use `zero_division` parameter to control this behavior.\n",
            "  _warn_prf(average, modifier, msg_start, len(result))\n",
            "/Users/zoyaanwar/Downloads/NLP/venv/lib/python3.9/site-packages/sklearn/metrics/_classification.py:1471: UndefinedMetricWarning: Precision and F-score are ill-defined and being set to 0.0 in samples with no predicted labels. Use `zero_division` parameter to control this behavior.\n",
            "  _warn_prf(average, modifier, msg_start, len(result))\n"
          ]
        }
      ],
      "source": [
        "# Define a simpler model\n",
        "name = Sequential()\n",
        "name.add(Embedding(input_dim=len(tokenizer.word_index) + 1, output_dim=10, input_length=max_sequence_length))\n",
        "name.add(LSTM(16))\n",
        "name.add(Dropout(0.2))\n",
        "name.add(Dense(len(labels.columns), activation='sigmoid'))\n",
        "\n",
        "# Compile the model\n",
        "optimizer = LegacyAdam(learning_rate=0.001)\n",
        "name.compile(loss='binary_crossentropy', optimizer=optimizer, metrics=[f1_score])\n",
        "even_simpler_model = train_keras(name, name=\"simple_model.h5\", metric='f1_score', epochs=8)"
      ],
      "metadata": {
        "ExecuteTime": {
          "end_time": "2023-11-30T22:59:53.358542Z",
          "start_time": "2023-11-30T22:58:52.765542Z"
        },
        "id": "ad3f90b6550aed01",
        "outputId": "afd3187c-4f4e-4bb7-da65-2240a4e9f842"
      },
      "id": "ad3f90b6550aed01"
    },
    {
      "cell_type": "markdown",
      "source": [
        "### Use an embedding layer"
      ],
      "metadata": {
        "collapsed": false,
        "id": "20a17ef4dbad6c27"
      },
      "id": "20a17ef4dbad6c27"
    },
    {
      "cell_type": "code",
      "execution_count": null,
      "outputs": [
        {
          "name": "stdout",
          "output_type": "stream",
          "text": [
            "Epoch 1/5\n",
            "117/117 [==============================] - 74s 615ms/step - loss: 0.0662 - accuracy: 0.2455 - val_loss: 0.4667 - val_accuracy: 0.2518\n",
            "Epoch 2/5\n"
          ]
        },
        {
          "name": "stderr",
          "output_type": "stream",
          "text": [
            "/Users/zoyaanwar/Downloads/NLP/venv/lib/python3.9/site-packages/keras/src/engine/training.py:3103: UserWarning: You are saving your model as an HDF5 file via `model.save()`. This file format is considered legacy. We recommend using instead the native Keras format, e.g. `model.save('my_model.keras')`.\n",
            "  saving_api.save_model(\n"
          ]
        },
        {
          "name": "stdout",
          "output_type": "stream",
          "text": [
            "117/117 [==============================] - 73s 620ms/step - loss: 0.0588 - accuracy: 0.2677 - val_loss: 0.4567 - val_accuracy: 0.2978\n",
            "Epoch 3/5\n",
            "117/117 [==============================] - 71s 607ms/step - loss: 0.0520 - accuracy: 0.3393 - val_loss: 0.4549 - val_accuracy: 0.2712\n",
            "Epoch 4/5\n",
            "117/117 [==============================] - 70s 602ms/step - loss: 0.0454 - accuracy: 0.3970 - val_loss: 0.4550 - val_accuracy: 0.2712\n",
            "Epoch 5/5\n",
            "117/117 [==============================] - 71s 610ms/step - loss: 0.0398 - accuracy: 0.4294 - val_loss: 0.5040 - val_accuracy: 0.2603\n",
            "38/38 [==============================] - 4s 97ms/step\n",
            "Classification Report:\n",
            "               precision    recall  f1-score   support\n",
            "\n",
            "      comedy       0.00      0.00      0.00       175\n",
            "        cult       1.00      0.00      0.01       247\n",
            "   flashback       0.43      0.01      0.02       294\n",
            "  historical       0.00      0.00      0.00        24\n",
            "      murder       0.64      0.64      0.64       581\n",
            "     revenge       0.00      0.00      0.00       237\n",
            "    romantic       0.64      0.31      0.42       290\n",
            "       scifi       0.00      0.00      0.00        31\n",
            "    violence       0.56      0.50      0.53       420\n",
            "\n",
            "   micro avg       0.61      0.29      0.40      2299\n",
            "   macro avg       0.36      0.16      0.18      2299\n",
            "weighted avg       0.51      0.29      0.31      2299\n",
            " samples avg       0.44      0.33      0.35      2299\n"
          ]
        },
        {
          "name": "stderr",
          "output_type": "stream",
          "text": [
            "/Users/zoyaanwar/Downloads/NLP/venv/lib/python3.9/site-packages/sklearn/metrics/_classification.py:1471: UndefinedMetricWarning: Precision and F-score are ill-defined and being set to 0.0 in labels with no predicted samples. Use `zero_division` parameter to control this behavior.\n",
            "  _warn_prf(average, modifier, msg_start, len(result))\n",
            "/Users/zoyaanwar/Downloads/NLP/venv/lib/python3.9/site-packages/sklearn/metrics/_classification.py:1471: UndefinedMetricWarning: Precision and F-score are ill-defined and being set to 0.0 in samples with no predicted labels. Use `zero_division` parameter to control this behavior.\n",
            "  _warn_prf(average, modifier, msg_start, len(result))\n"
          ]
        }
      ],
      "source": [
        "from keras.preprocessing.text import Tokenizer\n",
        "from keras.preprocessing.sequence import pad_sequences\n",
        "from keras.models import Sequential\n",
        "from keras.layers import Embedding, Bidirectional, LSTM, Dense, Dropout, BatchNormalization\n",
        "from keras.optimizers.legacy import Adam as LegacyAdam\n",
        "from keras.callbacks import EarlyStopping, ModelCheckpoint\n",
        "from sklearn.metrics import classification_report\n",
        "\n",
        "# Tokenize the text data\n",
        "tokenizer = Tokenizer()\n",
        "tokenizer.fit_on_texts(train_df['plot_synopsis_tokens'])\n",
        "\n",
        "# Convert text to sequences\n",
        "X_sequences = tokenizer.texts_to_sequences(train_df['plot_synopsis_tokens'])\n",
        "X_val_sequences = tokenizer.texts_to_sequences(val_df['plot_synopsis_tokens'])\n",
        "\n",
        "# Train Word2Vec model on your training data\n",
        "# Note: Make sure to replace 'size' and 'window' with appropriate values for your data\n",
        "word2vec_model = Word2Vec(sentences=X_sequences, vector_size=100, window=3, min_count=5, sg=0, negative=10, workers=4)\n",
        "word2vec_weights = np.zeros((len(tokenizer.word_index) + 1, 100))\n",
        "\n",
        "for word, index in tokenizer.word_index.items():\n",
        "    if word in word2vec_model.wv:\n",
        "        word2vec_weights[index] = word2vec_model.wv[word]\n",
        "\n",
        "# Adjust hyperparameters\n",
        "embedding_dim = 100\n",
        "lstm_units = 64\n",
        "dropout_rate = 0.5\n",
        "l2_reg = 0.001\n",
        "\n",
        "# Define the Bidirectional LSTM model with Word2Vec embeddings\n",
        "model = Sequential()\n",
        "model.add(Embedding(\n",
        "    input_dim=len(tokenizer.word_index) + 1,\n",
        "    output_dim=embedding_dim,\n",
        "    input_length=max_sequence_length,\n",
        "    weights=[word2vec_weights],\n",
        "    trainable=True\n",
        "))\n",
        "model.add(Bidirectional(LSTM(64, return_sequences=True)))\n",
        "model.add(Dropout(0.5))\n",
        "model.add(Bidirectional(LSTM(64)))\n",
        "model.add(Dropout(0.5))\n",
        "model.add(Dense(len(labels.columns), activation='sigmoid'))\n",
        "\n",
        "# Compile the model with LegacyAdam optimizer\n",
        "optimizer = LegacyAdam(learning_rate=0.001)\n",
        "model.compile(loss='binary_crossentropy', optimizer=optimizer, metrics=['accuracy'])\n",
        "\n",
        "# Define callbacks\n",
        "early_stopping = EarlyStopping(monitor='val_loss', patience=10, restore_best_weights=True)\n",
        "model_checkpoint = ModelCheckpoint('best_model.h5', save_best_only=True)\n",
        "\n",
        "# Train the model with callbacks\n",
        "history = model.fit(\n",
        "    X_padded, y,\n",
        "    epochs=5,\n",
        "    batch_size=64,\n",
        "    validation_split=0.1,\n",
        "    callbacks=[early_stopping, model_checkpoint],\n",
        "    class_weight=normalized_dict\n",
        ")\n",
        "\n",
        "# Load the best model\n",
        "model.load_weights('best_model.h5')\n",
        "\n",
        "# Make predictions on the validation set\n",
        "y_pred_prob = model.predict(X_val_padded)\n",
        "y_pred = (y_pred_prob > 0.5).astype(int)\n",
        "\n",
        "# Print the classification report\n",
        "classification_rep = classification_report(y_val, y_pred, target_names=labels.columns)\n",
        "print(\"Classification Report:\\n\", classification_rep)\n"
      ],
      "metadata": {
        "ExecuteTime": {
          "start_time": "2023-11-29T19:27:57.699879Z"
        },
        "id": "e7c4ac4df3250594",
        "outputId": "fbe12ce7-363f-4b82-f0c9-1a0d4cd3304c"
      },
      "id": "e7c4ac4df3250594"
    },
    {
      "cell_type": "code",
      "execution_count": null,
      "outputs": [
        {
          "data": {
            "text/plain": "<Figure size 640x480 with 1 Axes>",
            "image/png": "[encoded data removed]"
          },
          "metadata": {},
          "output_type": "display_data"
        }
      ],
      "source": [
        "plt.plot(history.history['loss'])\n",
        "plt.plot(history.history['val_loss'])\n",
        "plt.title('model loss')\n",
        "plt.ylabel('loss')\n",
        "plt.xlabel('epoch')\n",
        "plt.legend(['train','val'], loc='upper left')\n",
        "plt.show()"
      ],
      "metadata": {
        "ExecuteTime": {
          "start_time": "2023-11-29T19:34:34.788050Z"
        },
        "id": "946ed904c06f072e",
        "outputId": "e2a989d7-a2ee-408c-9577-d0b08a66a1d2"
      },
      "id": "946ed904c06f072e"
    },
    {
      "cell_type": "markdown",
      "source": [
        "### Try using a CNN layer with gloVe embeddings before the BLTSM\n",
        "\n",
        "https://diwas26.medium.com/multilabel-text-classification-using-cnn-and-bi-lstm-fd147378cdcb"
      ],
      "metadata": {
        "collapsed": false,
        "id": "55a902a0fb7050d2"
      },
      "id": "55a902a0fb7050d2"
    },
    {
      "cell_type": "code",
      "execution_count": null,
      "outputs": [],
      "source": [
        "from keras.models import Sequential, Model\n",
        "from keras.layers import Activation, Dropout, Dense, Flatten, LSTM, Bidirectional, GRU, SpatialDropout1D, GlobalMaxPooling1D, GlobalAveragePooling1D, Conv1D, Embedding, Input, Concatenate\n",
        "from keras.preprocessing.text import Tokenizer\n",
        "from keras.layers import Input\n",
        "import matplotlib.pyplot as plt\n",
        "from keras import layers\n",
        "from keras.optimizers import Adam, SGD, RMSprop\n",
        "\n",
        "######## Textual Features for Embedding ###################\n",
        "max_len = 100\n",
        "max_features = 79145\n",
        "embed_size = 300\n",
        "tokenizer = Tokenizer(num_words=max_features)\n",
        "tokenizer.fit_on_texts(list(train_df['plot_synopsis_tokens'])+list(val_df['plot_synopsis_tokens']))\n",
        "x_train = tokenizer.texts_to_sequences(train_df['plot_synopsis_tokens'])\n",
        "x_test= tokenizer.texts_to_sequences(val_df['plot_synopsis_tokens'])\n",
        "x_train = pad_sequences(x_train, padding='post', maxlen=max_len)\n",
        "x_test = pad_sequences(x_test, padding='post', maxlen=max_len)\n"
      ],
      "metadata": {
        "ExecuteTime": {
          "start_time": "2023-11-29T19:34:51.547723Z"
        },
        "id": "bf6e62c3f4dda2d5"
      },
      "id": "bf6e62c3f4dda2d5"
    },
    {
      "cell_type": "code",
      "execution_count": null,
      "outputs": [],
      "source": [
        "from numpy import zeros\n",
        "from gensim.models import KeyedVectors\n",
        "from gensim.downloader import load\n",
        "\n",
        "# Download and load the pre-trained Word2Vec model (300-dimensional vectors)\n",
        "word2vec_model = load('word2vec-google-news-300')\n",
        "\n",
        "# Tokenize the text data (replace this with your actual data)\n",
        "tokenizer = Tokenizer()\n",
        "tokenizer.fit_on_texts(train_df['plot_synopsis_tokens'])\n",
        "\n",
        "# Get word index and vocabulary size\n",
        "word_index = tokenizer.word_index\n",
        "vocab_size = len(word_index) + 1  # Add 1 for the padding token\n",
        "\n",
        "# Set embedding dimensions\n",
        "embed_size = 300  # The Word2Vec model is trained with 300-dimensional vectors\n",
        "\n",
        "# Create an embedding matrix\n",
        "embedding_matrix = zeros((vocab_size, embed_size))\n",
        "\n",
        "# Populate the embedding matrix with Word2Vec vectors\n",
        "for word, index in word_index.items():\n",
        "    if word in word2vec_model:\n",
        "        embedding_matrix[index] = word2vec_model[word]\n"
      ],
      "metadata": {
        "ExecuteTime": {
          "start_time": "2023-11-29T20:25:25.494064Z"
        },
        "id": "6e5c9c6c8d79fe26"
      },
      "id": "6e5c9c6c8d79fe26"
    },
    {
      "cell_type": "code",
      "execution_count": null,
      "outputs": [
        {
          "name": "stderr",
          "output_type": "stream",
          "text": [
            "WARNING:absl:At this time, the v2.11+ optimizer `tf.keras.optimizers.RMSprop` runs slowly on M1/M2 Macs, please use the legacy Keras optimizer instead, located at `tf.keras.optimizers.legacy.RMSprop`.\n",
            "WARNING:absl:`lr` is deprecated in Keras optimizer, please use `learning_rate` or use the legacy optimizer, e.g.,tf.keras.optimizers.legacy.RMSprop.\n"
          ]
        },
        {
          "name": "stdout",
          "output_type": "stream",
          "text": [
            "Model: \"model_5\"\n",
            "_________________________________________________________________\n",
            " Layer (type)                Output Shape              Param #   \n",
            "=================================================================\n",
            " input_8 (InputLayer)        [(None, 100)]             0         \n",
            "                                                                 \n",
            " embedding_66 (Embedding)    (None, 100, 300)          23743500  \n",
            "                                                                 \n",
            " spatial_dropout1d_7 (Spati  (None, 100, 300)          0         \n",
            " alDropout1D)                                                    \n",
            "                                                                 \n",
            " conv1d_5 (Conv1D)           (None, 98, 64)            57664     \n",
            "                                                                 \n",
            " bidirectional_107 (Bidirec  (None, 98, 256)           197632    \n",
            " tional)                                                         \n",
            "                                                                 \n",
            " global_average_pooling1d_5  (None, 256)               0         \n",
            "  (GlobalAveragePooling1D)                                       \n",
            "                                                                 \n",
            " dense_93 (Dense)            (None, 128)               32896     \n",
            "                                                                 \n",
            " dropout_126 (Dropout)       (None, 128)               0         \n",
            "                                                                 \n",
            " dense_94 (Dense)            (None, 9)                 1161      \n",
            "                                                                 \n",
            "=================================================================\n",
            "Total params: 24032853 (91.68 MB)\n",
            "Trainable params: 289353 (1.10 MB)\n",
            "Non-trainable params: 23743500 (90.57 MB)\n",
            "_________________________________________________________________\n",
            "None\n"
          ]
        }
      ],
      "source": [
        "sequence_input = Input(shape=(max_len, ))\n",
        "x = Embedding(max_features, embed_size, weights=[embedding_matrix],trainable = False)(sequence_input)\n",
        "x = SpatialDropout1D(0.2)(x) ## mostly drops the entire 1D feature map rather than individual elements.\n",
        "x = Conv1D(64, kernel_size = 3, padding = \"valid\", kernel_initializer = \"glorot_uniform\")(x)\n",
        "x = Bidirectional(LSTM(128, return_sequences=True,dropout=0.1,recurrent_dropout=0.1))(x)\n",
        "avg_pool = GlobalAveragePooling1D()(x)\n",
        "x = Dense(128, activation='relu')(avg_pool)\n",
        "x = Dropout(0.1)(x)\n",
        "preds = Dense(9, activation=\"sigmoid\")(x)\n",
        "model = Model(sequence_input, preds)\n",
        "model.compile(loss='binary_crossentropy',optimizer=RMSprop(lr=1e-3),metrics=['accuracy'])\n",
        "print(model.summary())"
      ],
      "metadata": {
        "ExecuteTime": {
          "start_time": "2023-11-29T19:35:12.994814Z"
        },
        "id": "59026518024421d1",
        "outputId": "472e03f3-7607-4d20-bc36-16f1f9862fe9"
      },
      "id": "59026518024421d1"
    },
    {
      "cell_type": "code",
      "execution_count": null,
      "outputs": [
        {
          "name": "stdout",
          "output_type": "stream",
          "text": [
            "Epoch 1/10\n",
            "104/104 [==============================] - 29s 280ms/step - loss: 0.0608 - accuracy: 0.2575 - val_loss: 0.4697 - val_accuracy: 0.2633\n",
            "Epoch 2/10\n",
            "104/104 [==============================] - 37s 352ms/step - loss: 0.0605 - accuracy: 0.2581 - val_loss: 0.4659 - val_accuracy: 0.2633\n",
            "Epoch 3/10\n",
            "104/104 [==============================] - 38s 365ms/step - loss: 0.0605 - accuracy: 0.2584 - val_loss: 0.4679 - val_accuracy: 0.2633\n",
            "Epoch 4/10\n",
            "104/104 [==============================] - 37s 359ms/step - loss: 0.0605 - accuracy: 0.2584 - val_loss: 0.4689 - val_accuracy: 0.2633\n",
            "Epoch 5/10\n",
            "104/104 [==============================] - 38s 369ms/step - loss: 0.0605 - accuracy: 0.2584 - val_loss: 0.4739 - val_accuracy: 0.2633\n",
            "Epoch 6/10\n",
            "104/104 [==============================] - 37s 357ms/step - loss: 0.0605 - accuracy: 0.2584 - val_loss: 0.4626 - val_accuracy: 0.2633\n",
            "Epoch 7/10\n",
            "104/104 [==============================] - 38s 361ms/step - loss: 0.0603 - accuracy: 0.2584 - val_loss: 0.4621 - val_accuracy: 0.2633\n",
            "Epoch 8/10\n",
            "104/104 [==============================] - 38s 367ms/step - loss: 0.0603 - accuracy: 0.2584 - val_loss: 0.4719 - val_accuracy: 0.2633\n",
            "Epoch 9/10\n",
            "104/104 [==============================] - 38s 363ms/step - loss: 0.0603 - accuracy: 0.2584 - val_loss: 0.4737 - val_accuracy: 0.2633\n",
            "Epoch 10/10\n",
            "104/104 [==============================] - 38s 364ms/step - loss: 0.0601 - accuracy: 0.2584 - val_loss: 0.4751 - val_accuracy: 0.2633\n"
          ]
        }
      ],
      "source": [
        "# Use class_weight_dict in model.fit\n",
        "history = model.fit(x_train, y, batch_size=64, epochs=10,\n",
        "                    verbose=1, validation_split=0.2, class_weight=normalized_dict)"
      ],
      "metadata": {
        "ExecuteTime": {
          "start_time": "2023-11-29T19:38:06.365323Z"
        },
        "id": "48796a0e2743e123",
        "outputId": "0bb052b6-1262-45dd-cf75-2601ee10ca70"
      },
      "id": "48796a0e2743e123"
    },
    {
      "cell_type": "code",
      "execution_count": null,
      "outputs": [
        {
          "name": "stdout",
          "output_type": "stream",
          "text": [
            "38/38 [==============================] - 2s 39ms/step\n",
            "Classification Report:\n",
            "               precision    recall  f1-score   support\n",
            "\n",
            "      comedy       0.00      0.00      0.00       175\n",
            "        cult       0.00      0.00      0.00       247\n",
            "   flashback       0.00      0.00      0.00       294\n",
            "  historical       0.00      0.00      0.00        24\n",
            "      murder       0.49      1.00      0.66       581\n",
            "     revenge       0.00      0.00      0.00       237\n",
            "    romantic       0.00      0.00      0.00       290\n",
            "       scifi       0.00      0.00      0.00        31\n",
            "    violence       0.00      0.00      0.00       420\n",
            "\n",
            "   micro avg       0.49      0.25      0.33      2299\n",
            "   macro avg       0.05      0.11      0.07      2299\n",
            "weighted avg       0.12      0.25      0.17      2299\n",
            " samples avg       0.49      0.27      0.33      2299\n"
          ]
        },
        {
          "name": "stderr",
          "output_type": "stream",
          "text": [
            "/Users/zoyaanwar/Downloads/NLP/venv/lib/python3.9/site-packages/sklearn/metrics/_classification.py:1471: UndefinedMetricWarning: Precision and F-score are ill-defined and being set to 0.0 in labels with no predicted samples. Use `zero_division` parameter to control this behavior.\n",
            "  _warn_prf(average, modifier, msg_start, len(result))\n"
          ]
        }
      ],
      "source": [
        "# Make predictions on the validation set\n",
        "y_pred_prob = model.predict(x_test)\n",
        "y_pred = (y_pred_prob > 0.5).astype(int)\n",
        "\n",
        "# Print the classification report\n",
        "classification_rep = classification_report(y_val, y_pred, target_names=labels.columns)\n",
        "print(\"Classification Report:\\n\", classification_rep)"
      ],
      "metadata": {
        "ExecuteTime": {
          "start_time": "2023-11-29T19:44:20.284869Z"
        },
        "id": "129c1fa58e152a7f",
        "outputId": "995dd767-442c-4842-c84d-79e0ceb7ac70"
      },
      "id": "129c1fa58e152a7f"
    },
    {
      "cell_type": "markdown",
      "source": [
        "## Best model\n",
        "Experiment: LSTM Units=64, Embedding Dim=100, Learning Rate=0.001\n",
        "\n",
        "Average Weighted F1 Score: 0.4255\n",
        "\n",
        "Batch normalisation\n",
        "\n",
        "2minutes to train\n"
      ],
      "metadata": {
        "collapsed": false,
        "id": "3f0d6fab56f226af"
      },
      "id": "3f0d6fab56f226af"
    },
    {
      "cell_type": "code",
      "execution_count": null,
      "outputs": [
        {
          "output_type": "stream",
          "name": "stdout",
          "text": [
            "<keras.src.engine.sequential.Sequential object at 0x7d5e0d4e9780>\n",
            "Epoch 1/10\n",
            "117/117 [==============================] - ETA: 0s - loss: 0.0353 - f1_score: 0.3056"
          ]
        },
        {
          "output_type": "stream",
          "name": "stderr",
          "text": [
            "/usr/local/lib/python3.10/dist-packages/keras/src/engine/training.py:3079: UserWarning: You are saving your model as an HDF5 file via `model.save()`. This file format is considered legacy. We recommend using instead the native Keras format, e.g. `model.save('my_model.keras')`.\n",
            "  saving_api.save_model(\n"
          ]
        },
        {
          "output_type": "stream",
          "name": "stdout",
          "text": [
            "\b\b\b\b\b\b\b\b\b\b\b\b\b\b\b\b\b\b\b\b\b\b\b\b\b\b\b\b\b\b\b\b\b\b\b\b\b\b\b\b\b\b\b\b\b\b\b\b\b\b\b\b\b\b\b\b\b\b\b\b\b\b\b\b\b\b\b\b\b\b\b\b\b\b\b\b\b\b\b\b\b\b\b\b\r117/117 [==============================] - 23s 140ms/step - loss: 0.0353 - f1_score: 0.3056 - val_loss: 0.5744 - val_f1_score: 0.0200\n",
            "Epoch 2/10\n",
            "117/117 [==============================] - 12s 102ms/step - loss: 0.0249 - f1_score: 0.4022 - val_loss: 0.5048 - val_f1_score: 0.0012\n",
            "Epoch 3/10\n",
            "117/117 [==============================] - 15s 127ms/step - loss: 0.0183 - f1_score: 0.5187 - val_loss: 0.4752 - val_f1_score: 0.0557\n",
            "Epoch 4/10\n",
            "117/117 [==============================] - 10s 83ms/step - loss: 0.0136 - f1_score: 0.6427 - val_loss: 0.4728 - val_f1_score: 0.2292\n",
            "Epoch 5/10\n",
            "117/117 [==============================] - 9s 80ms/step - loss: 0.0099 - f1_score: 0.7522 - val_loss: 0.5092 - val_f1_score: 0.4437\n",
            "Epoch 6/10\n",
            "117/117 [==============================] - 10s 82ms/step - loss: 0.0079 - f1_score: 0.8188 - val_loss: 0.5899 - val_f1_score: 0.4477\n",
            "Epoch 7/10\n",
            "117/117 [==============================] - 11s 91ms/step - loss: 0.0063 - f1_score: 0.8660 - val_loss: 0.6157 - val_f1_score: 0.4277\n",
            "Epoch 8/10\n",
            "117/117 [==============================] - 10s 83ms/step - loss: 0.0051 - f1_score: 0.8940 - val_loss: 0.6502 - val_f1_score: 0.4172\n",
            "Epoch 9/10\n",
            "117/117 [==============================] - 9s 76ms/step - loss: 0.0046 - f1_score: 0.9077 - val_loss: 0.7033 - val_f1_score: 0.4332\n",
            "Epoch 10/10\n",
            "117/117 [==============================] - 10s 81ms/step - loss: 0.0041 - f1_score: 0.9236 - val_loss: 0.7308 - val_f1_score: 0.4420\n"
          ]
        },
        {
          "output_type": "display_data",
          "data": {
            "text/plain": [
              "<Figure size 640x480 with 1 Axes>"
            ],
            "image/png": "[encoded data removed]"
          },
          "metadata": {}
        },
        {
          "output_type": "stream",
          "name": "stdout",
          "text": [
            "38/38 [==============================] - 2s 27ms/step\n",
            "Classification Report:\n",
            "               precision    recall  f1-score   support\n",
            "\n",
            "      comedy       0.32      0.26      0.29       175\n",
            "        cult       0.39      0.27      0.32       247\n",
            "   flashback       0.29      0.39      0.33       294\n",
            "  historical       0.20      0.08      0.12        24\n",
            "      murder       0.59      0.71      0.64       581\n",
            "     revenge       0.29      0.36      0.32       237\n",
            "    romantic       0.47      0.32      0.38       290\n",
            "       scifi       0.00      0.00      0.00        31\n",
            "    violence       0.53      0.54      0.54       420\n",
            "\n",
            "   micro avg       0.45      0.46      0.45      2299\n",
            "   macro avg       0.34      0.33      0.33      2299\n",
            "weighted avg       0.44      0.46      0.44      2299\n",
            " samples avg       0.42      0.48      0.41      2299\n",
            "\n"
          ]
        },
        {
          "output_type": "stream",
          "name": "stderr",
          "text": [
            "/usr/local/lib/python3.10/dist-packages/sklearn/metrics/_classification.py:1344: UndefinedMetricWarning: Precision and F-score are ill-defined and being set to 0.0 in labels with no predicted samples. Use `zero_division` parameter to control this behavior.\n",
            "  _warn_prf(average, modifier, msg_start, len(result))\n",
            "/usr/local/lib/python3.10/dist-packages/sklearn/metrics/_classification.py:1344: UndefinedMetricWarning: Precision and F-score are ill-defined and being set to 0.0 in samples with no predicted labels. Use `zero_division` parameter to control this behavior.\n",
            "  _warn_prf(average, modifier, msg_start, len(result))\n"
          ]
        }
      ],
      "source": [
        "from keras.models import Sequential\n",
        "from keras.layers import Embedding, Bidirectional, LSTM, Dense, Dropout, BatchNormalization\n",
        "from keras.optimizers.legacy import Adam as LegacyAdam\n",
        "\n",
        "# Define the Bidirectional LSTM model\n",
        "model = Sequential()\n",
        "model.add(Embedding(input_dim=len(tokenizer.word_index) + 1, output_dim=100, input_length=max_sequence_length))\n",
        "model.add(Bidirectional(LSTM(64, return_sequences=True)))\n",
        "model.add(BatchNormalization())\n",
        "model.add(Dropout(0.5))\n",
        "model.add(Bidirectional(LSTM(64)))\n",
        "model.add(BatchNormalization())\n",
        "model.add(Dropout(0.5))\n",
        "model.add(Dense(len(labels.columns), activation='sigmoid'))\n",
        "\n",
        "# Compile the model\n",
        "optimizer = LegacyAdam(learning_rate=0.001)\n",
        "model.compile(loss='binary_crossentropy', optimizer=optimizer, metrics=[f1_score])\n",
        "f1_score_model = train_keras(model, name=\"best_model.h5\", metric='f1_score', epochs=10)\n"
      ],
      "metadata": {
        "ExecuteTime": {
          "end_time": "2023-11-30T14:28:05.896975Z",
          "start_time": "2023-11-30T14:14:23.954984Z"
        },
        "id": "bd83fabc067374d",
        "outputId": "e83370c1-fb5e-4e19-8f9d-d8af32241b6b",
        "colab": {
          "base_uri": "https://localhost:8080/",
          "height": 1000
        }
      },
      "id": "bd83fabc067374d"
    },
    {
      "cell_type": "code",
      "execution_count": null,
      "outputs": [
        {
          "output_type": "stream",
          "name": "stdout",
          "text": [
            "38/38 [==============================] - 1s 28ms/step\n",
            "Classification Report:\n",
            "               precision    recall  f1-score   support\n",
            "\n",
            "      comedy       0.32      0.26      0.29       175\n",
            "        cult       0.39      0.27      0.32       247\n",
            "   flashback       0.29      0.39      0.33       294\n",
            "  historical       0.20      0.08      0.12        24\n",
            "      murder       0.59      0.71      0.64       581\n",
            "     revenge       0.29      0.36      0.32       237\n",
            "    romantic       0.47      0.32      0.38       290\n",
            "       scifi       1.00      0.00      0.00        31\n",
            "    violence       0.53      0.54      0.54       420\n",
            "\n",
            "   micro avg       0.45      0.46      0.45      2299\n",
            "   macro avg       0.45      0.33      0.33      2299\n",
            "weighted avg       0.45      0.46      0.44      2299\n",
            " samples avg       0.49      0.48      0.41      2299\n",
            "\n",
            "Class level: \n",
            "Class  1 precision: 0.3239 recall: 0.2629\n",
            "Class  2 precision: 0.3929 recall: 0.2672\n",
            "Class  3 precision: 0.2897 recall: 0.3912\n",
            "Class  4 precision: 0.2000 recall: 0.0833\n",
            "Class  5 precision: 0.5892 recall: 0.7108\n",
            "Class  6 precision: 0.2881 recall: 0.3586\n",
            "Class  7 precision: 0.4724 recall: 0.3241\n",
            "Class  8 precision: 0.0000 recall: 0.0000\n",
            "Class  9 precision: 0.5290 recall: 0.5429\n",
            "----------------------------\n",
            "Movie (document) level: \n",
            "Precision: 0.4232\n",
            "Recall: 0.4757\n"
          ]
        }
      ],
      "source": [
        "test_development_dataset_ltsm(f1_score_model)\n",
        "!python task2_eval_script_student_version.py ./data/10606001-Task2-method-b-validation.csv ./data/Task-2-validation-dataset.csv"
      ],
      "metadata": {
        "ExecuteTime": {
          "end_time": "2023-11-30T14:29:21.165215Z",
          "start_time": "2023-11-30T14:29:16.902784Z"
        },
        "id": "51e6035ea42c17b4",
        "outputId": "01b6f0ab-71e0-47bc-b245-35f59750b602",
        "colab": {
          "base_uri": "https://localhost:8080/"
        }
      },
      "id": "51e6035ea42c17b4"
    },
    {
      "cell_type": "markdown",
      "source": [
        "## Test dataset"
      ],
      "metadata": {
        "id": "fgMFLjt2PQRS"
      },
      "id": "fgMFLjt2PQRS"
    },
    {
      "cell_type": "code",
      "source": [
        "test_development_dataset_ltsm(f1_score_model, X_padded=X_test_padded, df=test_df, name='10606001-Task2-method-b.csv', generate_report=False)"
      ],
      "metadata": {
        "colab": {
          "base_uri": "https://localhost:8080/"
        },
        "id": "ieiL7lIZPSQI",
        "outputId": "10925e1b-3723-4d0e-e08b-59143437feb9"
      },
      "id": "ieiL7lIZPSQI",
      "execution_count": null,
      "outputs": [
        {
          "output_type": "stream",
          "name": "stdout",
          "text": [
            "38/38 [==============================] - 2s 43ms/step\n"
          ]
        }
      ]
    }
  ],
  "metadata": {
    "kernelspec": {
      "display_name": "Python 3",
      "name": "python3"
    },
    "language_info": {
      "codemirror_mode": {
        "name": "ipython",
        "version": 2
      },
      "file_extension": ".py",
      "mimetype": "text/x-python",
      "name": "python",
      "nbconvert_exporter": "python",
      "pygments_lexer": "ipython2",
      "version": "2.7.6"
    },
    "colab": {
      "provenance": [],
      "toc_visible": true,
      "gpuType": "T4"
    },
    "accelerator": "GPU"
  },
  "nbformat": 4,
  "nbformat_minor": 5
}