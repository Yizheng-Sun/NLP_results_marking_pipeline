{
  "nbformat": 4,
  "nbformat_minor": 0,
  "metadata": {
    "colab": {
      "provenance": [],
      "toc_visible": true
    },
    "kernelspec": {
      "name": "python3",
      "display_name": "Python 3"
    },
    "language_info": {
      "name": "python"
    }
  },
  "cells": [
    {
      "cell_type": "markdown",
      "source": [
        "# TASK 2"
      ],
      "metadata": {
        "id": "ixF8yRbB2K7C"
      }
    },
    {
      "cell_type": "markdown",
      "source": [
        "### Import Libraries and Download Packages"
      ],
      "metadata": {
        "id": "iCBKnLCE2PVH"
      }
    },
    {
      "cell_type": "code",
      "source": [
        "from sklearn.svm import SVC\n",
        "from sklearn.multioutput import MultiOutputClassifier\n",
        "from sklearn.feature_extraction.text import TfidfVectorizer, CountVectorizer\n",
        "from sklearn.metrics import multilabel_confusion_matrix\n",
        "from scipy.sparse import csr_matrix\n",
        "\n",
        "from nltk import word_tokenize, download\n",
        "from nltk.stem import PorterStemmer\n",
        "from nltk.stem import WordNetLemmatizer\n",
        "from nltk.corpus import stopwords\n",
        "\n",
        "import tensorflow as tf\n",
        "import pandas as pd\n",
        "import numpy as np"
      ],
      "metadata": {
        "id": "OXZc-DJt2O_L"
      },
      "execution_count": 25,
      "outputs": []
    },
    {
      "cell_type": "code",
      "source": [
        "# Download \"stopwords\" and \"punkt\" NLTK packages\n",
        "download(\"stopwords\")\n",
        "download(\"punkt\")\n",
        "download(\"wordnet\")"
      ],
      "metadata": {
        "colab": {
          "base_uri": "https://localhost:8080/"
        },
        "id": "fKlBu8K72ZmD",
        "outputId": "9d72a585-588d-4793-87de-42094013c1bc"
      },
      "execution_count": 26,
      "outputs": [
        {
          "output_type": "stream",
          "name": "stderr",
          "text": [
            "[nltk_data] Downloading package stopwords to /root/nltk_data...\n",
            "[nltk_data]   Package stopwords is already up-to-date!\n",
            "[nltk_data] Downloading package punkt to /root/nltk_data...\n",
            "[nltk_data]   Package punkt is already up-to-date!\n",
            "[nltk_data] Downloading package wordnet to /root/nltk_data...\n",
            "[nltk_data]   Package wordnet is already up-to-date!\n"
          ]
        },
        {
          "output_type": "execute_result",
          "data": {
            "text/plain": [
              "True"
            ]
          },
          "metadata": {},
          "execution_count": 26
        }
      ]
    },
    {
      "cell_type": "markdown",
      "source": [
        "### Data Initialisation"
      ],
      "metadata": {
        "id": "4BQqazBL-F5h"
      }
    },
    {
      "cell_type": "code",
      "source": [
        "# Training data (replace filepath if change is needed)\n",
        "train_data = pd.read_csv(\"./data/Training-dataset.csv\")\n",
        "\n",
        "# Testing/Validation data (replace filepath if change is needed)\n",
        "# test_data = pd.read_csv(\"./data/Task-2-validation-dataset.csv\")\n",
        "test_data = pd.read_csv(\"./data/Task-2-test-dataset1.csv\")\n",
        "\n",
        "documents = train_data[\"plot_synopsis\"].to_numpy()\n",
        "labels = train_data.iloc[:, 3:].to_numpy()\n",
        "\n",
        "id = test_data[\"ID\"].to_numpy()\n",
        "test_documents = test_data[\"plot_synopsis\"].to_numpy()\n",
        "test_labels = test_data.iloc[:, 3:].to_numpy()"
      ],
      "metadata": {
        "id": "1yfmfvdA-Ix5"
      },
      "execution_count": 33,
      "outputs": []
    },
    {
      "cell_type": "markdown",
      "source": [
        "### Text Preprocesing Function"
      ],
      "metadata": {
        "id": "cW8vKULMJjkx"
      }
    },
    {
      "cell_type": "code",
      "source": [
        "def text_preprocessing(document,\n",
        "                       caseFolding=False,\n",
        "                       removeStopwords=False,\n",
        "                       useLemmatizer=False,\n",
        "                       useStemmer=False):\n",
        "  # Tokenization\n",
        "  tokens = word_tokenize(document)\n",
        "\n",
        "  # Case folding - convert every tokens to lowercase\n",
        "  if caseFolding:\n",
        "    tokens = [t.lower() for t in tokens]\n",
        "\n",
        "  # Stop-words removal\n",
        "  if removeStopwords:\n",
        "    stop_words = set(stopwords.words(\"english\"))\n",
        "    tokens = [t for t in tokens if not t.lower() in stop_words]\n",
        "\n",
        "  # Lemmatization\n",
        "  if useLemmatizer:\n",
        "    lemmatizer = WordNetLemmatizer()\n",
        "    tokens = [lemmatizer.lemmatize(t) for t in tokens]\n",
        "\n",
        "  # Stemming\n",
        "  if useStemmer:\n",
        "    stemmer = PorterStemmer()\n",
        "    tokens = [stemmer.stem(t) for t in tokens]\n",
        "\n",
        "  preprocessed_document = \" \".join(tokens)\n",
        "\n",
        "  return preprocessed_document"
      ],
      "metadata": {
        "id": "Rbw2h82hJmZP"
      },
      "execution_count": 13,
      "outputs": []
    },
    {
      "cell_type": "markdown",
      "source": [
        "## a) Support Vector Machine (SVM)"
      ],
      "metadata": {
        "id": "pYQTP2SZJpsf"
      }
    },
    {
      "cell_type": "markdown",
      "source": [
        "\n",
        "### Words Preprocessing"
      ],
      "metadata": {
        "id": "93scukFSXb9g"
      }
    },
    {
      "cell_type": "code",
      "source": [
        "# Documents preprocessing\n",
        "# Estimated time : 40-90s\n",
        "\n",
        "preprocessed_docs = [text_preprocessing(d, False, True) for d in documents]"
      ],
      "metadata": {
        "id": "dSsigxL5Xa6n"
      },
      "execution_count": 14,
      "outputs": []
    },
    {
      "cell_type": "markdown",
      "source": [
        "### Model Implementation"
      ],
      "metadata": {
        "id": "SCZrFyqSXpoj"
      }
    },
    {
      "cell_type": "code",
      "source": [
        "# Unigram, changeable\n",
        "n = 1\n",
        "\n",
        "# Represent raw data in numerical form\n",
        "vectorizer = CountVectorizer(ngram_range=(n, n))\n",
        "# vectorizer = TfidfVectorizer(ngram_range=(n, n))\n",
        "matrixBoW = vectorizer.fit_transform(preprocessed_docs)\n",
        "\n",
        "matrixBoW"
      ],
      "metadata": {
        "colab": {
          "base_uri": "https://localhost:8080/"
        },
        "id": "2m3Ah6S3fWvW",
        "outputId": "42c603ac-11b8-4cd5-a7bf-dc1d10a771f0"
      },
      "execution_count": 15,
      "outputs": [
        {
          "output_type": "execute_result",
          "data": {
            "text/plain": [
              "<8257x90193 sparse matrix of type '<class 'numpy.int64'>'\n",
              "\twith 2430560 stored elements in Compressed Sparse Row format>"
            ]
          },
          "metadata": {},
          "execution_count": 15
        }
      ]
    },
    {
      "cell_type": "code",
      "source": [
        "labels.shape"
      ],
      "metadata": {
        "colab": {
          "base_uri": "https://localhost:8080/"
        },
        "id": "avnCoRT_HxPE",
        "outputId": "96fcc069-831e-4c93-ca33-7ffaebef89bc"
      },
      "execution_count": 16,
      "outputs": [
        {
          "output_type": "execute_result",
          "data": {
            "text/plain": [
              "(8257, 9)"
            ]
          },
          "metadata": {},
          "execution_count": 16
        }
      ]
    },
    {
      "cell_type": "code",
      "source": [
        "# Unigram, changeable\n",
        "# Estimated Time : 15-20 minutes\n",
        "n = 1\n",
        "\n",
        "# Represent raw data in numerical form\n",
        "vectorizer = CountVectorizer(ngram_range=(n, n))\n",
        "# vectorizer = TfidfVectorizer(ngram_range=(n, n))\n",
        "matrixBoW = vectorizer.fit_transform(preprocessed_docs)\n",
        "\n",
        "# Model\n",
        "svm = SVC(kernel='linear')\n",
        "\n",
        "# Fit one classifier per target for multi-label classification\n",
        "classifier = MultiOutputClassifier(svm, n_jobs=-1).fit(matrixBoW, labels)"
      ],
      "metadata": {
        "id": "Z5Qex5jkXsoq"
      },
      "execution_count": 17,
      "outputs": []
    },
    {
      "cell_type": "markdown",
      "source": [
        "### Classification Prediction"
      ],
      "metadata": {
        "id": "NFuS37JLkRGR"
      }
    },
    {
      "cell_type": "markdown",
      "source": [
        "Test Document Preprocessing"
      ],
      "metadata": {
        "id": "F5Zt8GwkGxRa"
      }
    },
    {
      "cell_type": "code",
      "source": [
        "preprocessed_test_docs = [text_preprocessing(d, False, True) for d in test_documents]"
      ],
      "metadata": {
        "id": "F4IDi5PRGq5z"
      },
      "execution_count": 21,
      "outputs": []
    },
    {
      "cell_type": "markdown",
      "source": [
        "Vectorization of Preprocessed Test Documents"
      ],
      "metadata": {
        "id": "QDk6yGmtJEV1"
      }
    },
    {
      "cell_type": "code",
      "source": [
        "# Represent raw data in numerical form\n",
        "test_matrixBoW = vectorizer.transform(preprocessed_test_docs)\n",
        "\n",
        "# Predicts test documents' labels\n",
        "# Estimated time : 90 - 120 seconds\n",
        "prediction = classifier.predict(test_matrixBoW)"
      ],
      "metadata": {
        "id": "sGPko0h4-DR6"
      },
      "execution_count": 22,
      "outputs": []
    },
    {
      "cell_type": "code",
      "source": [
        "# Insert ID column from test data into result\n",
        "converted_prediction = prediction.astype(object)\n",
        "combined_result = np.insert(converted_prediction, 0, id, axis=1)\n",
        "\n",
        "# Create dataframe of the result\n",
        "result_df = pd.DataFrame(combined_result)\n",
        "result_df.columns = [\"ID\", \"comedy\", \"cult\", \"flashback\", \"historical\",\n",
        "                     \"murder\", \"revenge\", \"romantic\", \"scifi\", \"violence\"]\n",
        "result_df.to_csv(\"10812451-Task2-method-a.csv\", index=False, header=False)\n",
        "result_df.head()"
      ],
      "metadata": {
        "colab": {
          "base_uri": "https://localhost:8080/",
          "height": 487
        },
        "id": "_hT3BVeoP6rV",
        "outputId": "5b5dec36-d706-4a6d-de29-a3b4bb05ecd3"
      },
      "execution_count": 204,
      "outputs": [
        {
          "output_type": "execute_result",
          "data": {
            "text/plain": [
              "                                     ID comedy cult flashback historical  \\\n",
              "0  9484ac61-0e30-4799-9998-6f74f4cbb204      0    0         0          0   \n",
              "1  55942d28-b6a2-4662-ab55-a66783a86a56      0    0         0          0   \n",
              "2  b71ed317-04cd-42f5-a380-d21dfea2bd36      0    0         0          0   \n",
              "3  5689b1b2-88cd-4c22-9114-0850ba539280      1    1         1          0   \n",
              "4  a0d9062e-f539-4043-bc9e-2a2ed589477b      0    0         0          0   \n",
              "\n",
              "  murder revenge romantic scifi violence  \n",
              "0      0       0        0     0        1  \n",
              "1      0       0        0     0        0  \n",
              "2      1       0        1     0        0  \n",
              "3      0       0        0     0        0  \n",
              "4      1       0        0     0        0  "
            ],
            "text/html": [
              "\n",
              "  <div id=\"df-a2b44016-b1bc-48e7-b6f9-0c206cfb9a21\" class=\"colab-df-container\">\n",
              "    <div>\n",
              "<style scoped>\n",
              "    .dataframe tbody tr th:only-of-type {\n",
              "        vertical-align: middle;\n",
              "    }\n",
              "\n",
              "    .dataframe tbody tr th {\n",
              "        vertical-align: top;\n",
              "    }\n",
              "\n",
              "    .dataframe thead th {\n",
              "        text-align: right;\n",
              "    }\n",
              "</style>\n",
              "<table border=\"1\" class=\"dataframe\">\n",
              "  <thead>\n",
              "    <tr style=\"text-align: right;\">\n",
              "      <th></th>\n",
              "      <th>ID</th>\n",
              "      <th>comedy</th>\n",
              "      <th>cult</th>\n",
              "      <th>flashback</th>\n",
              "      <th>historical</th>\n",
              "      <th>murder</th>\n",
              "      <th>revenge</th>\n",
              "      <th>romantic</th>\n",
              "      <th>scifi</th>\n",
              "      <th>violence</th>\n",
              "    </tr>\n",
              "  </thead>\n",
              "  <tbody>\n",
              "    <tr>\n",
              "      <th>0</th>\n",
              "      <td>9484ac61-0e30-4799-9998-6f74f4cbb204</td>\n",
              "      <td>0</td>\n",
              "      <td>0</td>\n",
              "      <td>0</td>\n",
              "      <td>0</td>\n",
              "      <td>0</td>\n",
              "      <td>0</td>\n",
              "      <td>0</td>\n",
              "      <td>0</td>\n",
              "      <td>1</td>\n",
              "    </tr>\n",
              "    <tr>\n",
              "      <th>1</th>\n",
              "      <td>55942d28-b6a2-4662-ab55-a66783a86a56</td>\n",
              "      <td>0</td>\n",
              "      <td>0</td>\n",
              "      <td>0</td>\n",
              "      <td>0</td>\n",
              "      <td>0</td>\n",
              "      <td>0</td>\n",
              "      <td>0</td>\n",
              "      <td>0</td>\n",
              "      <td>0</td>\n",
              "    </tr>\n",
              "    <tr>\n",
              "      <th>2</th>\n",
              "      <td>b71ed317-04cd-42f5-a380-d21dfea2bd36</td>\n",
              "      <td>0</td>\n",
              "      <td>0</td>\n",
              "      <td>0</td>\n",
              "      <td>0</td>\n",
              "      <td>1</td>\n",
              "      <td>0</td>\n",
              "      <td>1</td>\n",
              "      <td>0</td>\n",
              "      <td>0</td>\n",
              "    </tr>\n",
              "    <tr>\n",
              "      <th>3</th>\n",
              "      <td>5689b1b2-88cd-4c22-9114-0850ba539280</td>\n",
              "      <td>1</td>\n",
              "      <td>1</td>\n",
              "      <td>1</td>\n",
              "      <td>0</td>\n",
              "      <td>0</td>\n",
              "      <td>0</td>\n",
              "      <td>0</td>\n",
              "      <td>0</td>\n",
              "      <td>0</td>\n",
              "    </tr>\n",
              "    <tr>\n",
              "      <th>4</th>\n",
              "      <td>a0d9062e-f539-4043-bc9e-2a2ed589477b</td>\n",
              "      <td>0</td>\n",
              "      <td>0</td>\n",
              "      <td>0</td>\n",
              "      <td>0</td>\n",
              "      <td>1</td>\n",
              "      <td>0</td>\n",
              "      <td>0</td>\n",
              "      <td>0</td>\n",
              "      <td>0</td>\n",
              "    </tr>\n",
              "  </tbody>\n",
              "</table>\n",
              "</div>\n",
              "    <div class=\"colab-df-buttons\">\n",
              "\n",
              "  <div class=\"colab-df-container\">\n",
              "    <button class=\"colab-df-convert\" onclick=\"convertToInteractive('df-a2b44016-b1bc-48e7-b6f9-0c206cfb9a21')\"\n",
              "            title=\"Convert this dataframe to an interactive table.\"\n",
              "            style=\"display:none;\">\n",
              "\n",
              "  <svg xmlns=\"http://www.w3.org/2000/svg\" height=\"24px\" viewBox=\"0 -960 960 960\">\n",
              "    <path d=\"M120-120v-720h720v720H120Zm60-500h600v-160H180v160Zm220 220h160v-160H400v160Zm0 220h160v-160H400v160ZM180-400h160v-160H180v160Zm440 0h160v-160H620v160ZM180-180h160v-160H180v160Zm440 0h160v-160H620v160Z\"/>\n",
              "  </svg>\n",
              "    </button>\n",
              "\n",
              "  <style>\n",
              "    .colab-df-container {\n",
              "      display:flex;\n",
              "      gap: 12px;\n",
              "    }\n",
              "\n",
              "    .colab-df-convert {\n",
              "      background-color: #E8F0FE;\n",
              "      border: none;\n",
              "      border-radius: 50%;\n",
              "      cursor: pointer;\n",
              "      display: none;\n",
              "      fill: #1967D2;\n",
              "      height: 32px;\n",
              "      padding: 0 0 0 0;\n",
              "      width: 32px;\n",
              "    }\n",
              "\n",
              "    .colab-df-convert:hover {\n",
              "      background-color: #E2EBFA;\n",
              "      box-shadow: 0px 1px 2px rgba(60, 64, 67, 0.3), 0px 1px 3px 1px rgba(60, 64, 67, 0.15);\n",
              "      fill: #174EA6;\n",
              "    }\n",
              "\n",
              "    .colab-df-buttons div {\n",
              "      margin-bottom: 4px;\n",
              "    }\n",
              "\n",
              "    [theme=dark] .colab-df-convert {\n",
              "      background-color: #3B4455;\n",
              "      fill: #D2E3FC;\n",
              "    }\n",
              "\n",
              "    [theme=dark] .colab-df-convert:hover {\n",
              "      background-color: #434B5C;\n",
              "      box-shadow: 0px 1px 3px 1px rgba(0, 0, 0, 0.15);\n",
              "      filter: drop-shadow(0px 1px 2px rgba(0, 0, 0, 0.3));\n",
              "      fill: #FFFFFF;\n",
              "    }\n",
              "  </style>\n",
              "\n",
              "    <script>\n",
              "      const buttonEl =\n",
              "        document.querySelector('#df-a2b44016-b1bc-48e7-b6f9-0c206cfb9a21 button.colab-df-convert');\n",
              "      buttonEl.style.display =\n",
              "        google.colab.kernel.accessAllowed ? 'block' : 'none';\n",
              "\n",
              "      async function convertToInteractive(key) {\n",
              "        const element = document.querySelector('#df-a2b44016-b1bc-48e7-b6f9-0c206cfb9a21');\n",
              "        const dataTable =\n",
              "          await google.colab.kernel.invokeFunction('convertToInteractive',\n",
              "                                                    [key], {});\n",
              "        if (!dataTable) return;\n",
              "\n",
              "        const docLinkHtml = 'Like what you see? Visit the ' +\n",
              "          '<a target=\"_blank\" href=https://colab.research.google.com/notebooks/data_table.ipynb>data table notebook</a>'\n",
              "          + ' to learn more about interactive tables.';\n",
              "        element.innerHTML = '';\n",
              "        dataTable['output_type'] = 'display_data';\n",
              "        await google.colab.output.renderOutput(dataTable, element);\n",
              "        const docLink = document.createElement('div');\n",
              "        docLink.innerHTML = docLinkHtml;\n",
              "        element.appendChild(docLink);\n",
              "      }\n",
              "    </script>\n",
              "  </div>\n",
              "\n",
              "\n",
              "<div id=\"df-8d7b9994-5ce1-4c3b-8fbc-32a0d4160447\">\n",
              "  <button class=\"colab-df-quickchart\" onclick=\"quickchart('df-8d7b9994-5ce1-4c3b-8fbc-32a0d4160447')\"\n",
              "            title=\"Suggest charts\"\n",
              "            style=\"display:none;\">\n",
              "\n",
              "<svg xmlns=\"http://www.w3.org/2000/svg\" height=\"24px\"viewBox=\"0 0 24 24\"\n",
              "     width=\"24px\">\n",
              "    <g>\n",
              "        <path d=\"M19 3H5c-1.1 0-2 .9-2 2v14c0 1.1.9 2 2 2h14c1.1 0 2-.9 2-2V5c0-1.1-.9-2-2-2zM9 17H7v-7h2v7zm4 0h-2V7h2v10zm4 0h-2v-4h2v4z\"/>\n",
              "    </g>\n",
              "</svg>\n",
              "  </button>\n",
              "\n",
              "<style>\n",
              "  .colab-df-quickchart {\n",
              "      --bg-color: #E8F0FE;\n",
              "      --fill-color: #1967D2;\n",
              "      --hover-bg-color: #E2EBFA;\n",
              "      --hover-fill-color: #174EA6;\n",
              "      --disabled-fill-color: #AAA;\n",
              "      --disabled-bg-color: #DDD;\n",
              "  }\n",
              "\n",
              "  [theme=dark] .colab-df-quickchart {\n",
              "      --bg-color: #3B4455;\n",
              "      --fill-color: #D2E3FC;\n",
              "      --hover-bg-color: #434B5C;\n",
              "      --hover-fill-color: #FFFFFF;\n",
              "      --disabled-bg-color: #3B4455;\n",
              "      --disabled-fill-color: #666;\n",
              "  }\n",
              "\n",
              "  .colab-df-quickchart {\n",
              "    background-color: var(--bg-color);\n",
              "    border: none;\n",
              "    border-radius: 50%;\n",
              "    cursor: pointer;\n",
              "    display: none;\n",
              "    fill: var(--fill-color);\n",
              "    height: 32px;\n",
              "    padding: 0;\n",
              "    width: 32px;\n",
              "  }\n",
              "\n",
              "  .colab-df-quickchart:hover {\n",
              "    background-color: var(--hover-bg-color);\n",
              "    box-shadow: 0 1px 2px rgba(60, 64, 67, 0.3), 0 1px 3px 1px rgba(60, 64, 67, 0.15);\n",
              "    fill: var(--button-hover-fill-color);\n",
              "  }\n",
              "\n",
              "  .colab-df-quickchart-complete:disabled,\n",
              "  .colab-df-quickchart-complete:disabled:hover {\n",
              "    background-color: var(--disabled-bg-color);\n",
              "    fill: var(--disabled-fill-color);\n",
              "    box-shadow: none;\n",
              "  }\n",
              "\n",
              "  .colab-df-spinner {\n",
              "    border: 2px solid var(--fill-color);\n",
              "    border-color: transparent;\n",
              "    border-bottom-color: var(--fill-color);\n",
              "    animation:\n",
              "      spin 1s steps(1) infinite;\n",
              "  }\n",
              "\n",
              "  @keyframes spin {\n",
              "    0% {\n",
              "      border-color: transparent;\n",
              "      border-bottom-color: var(--fill-color);\n",
              "      border-left-color: var(--fill-color);\n",
              "    }\n",
              "    20% {\n",
              "      border-color: transparent;\n",
              "      border-left-color: var(--fill-color);\n",
              "      border-top-color: var(--fill-color);\n",
              "    }\n",
              "    30% {\n",
              "      border-color: transparent;\n",
              "      border-left-color: var(--fill-color);\n",
              "      border-top-color: var(--fill-color);\n",
              "      border-right-color: var(--fill-color);\n",
              "    }\n",
              "    40% {\n",
              "      border-color: transparent;\n",
              "      border-right-color: var(--fill-color);\n",
              "      border-top-color: var(--fill-color);\n",
              "    }\n",
              "    60% {\n",
              "      border-color: transparent;\n",
              "      border-right-color: var(--fill-color);\n",
              "    }\n",
              "    80% {\n",
              "      border-color: transparent;\n",
              "      border-right-color: var(--fill-color);\n",
              "      border-bottom-color: var(--fill-color);\n",
              "    }\n",
              "    90% {\n",
              "      border-color: transparent;\n",
              "      border-bottom-color: var(--fill-color);\n",
              "    }\n",
              "  }\n",
              "</style>\n",
              "\n",
              "  <script>\n",
              "    async function quickchart(key) {\n",
              "      const quickchartButtonEl =\n",
              "        document.querySelector('#' + key + ' button');\n",
              "      quickchartButtonEl.disabled = true;  // To prevent multiple clicks.\n",
              "      quickchartButtonEl.classList.add('colab-df-spinner');\n",
              "      try {\n",
              "        const charts = await google.colab.kernel.invokeFunction(\n",
              "            'suggestCharts', [key], {});\n",
              "      } catch (error) {\n",
              "        console.error('Error during call to suggestCharts:', error);\n",
              "      }\n",
              "      quickchartButtonEl.classList.remove('colab-df-spinner');\n",
              "      quickchartButtonEl.classList.add('colab-df-quickchart-complete');\n",
              "    }\n",
              "    (() => {\n",
              "      let quickchartButtonEl =\n",
              "        document.querySelector('#df-8d7b9994-5ce1-4c3b-8fbc-32a0d4160447 button');\n",
              "      quickchartButtonEl.style.display =\n",
              "        google.colab.kernel.accessAllowed ? 'block' : 'none';\n",
              "    })();\n",
              "  </script>\n",
              "</div>\n",
              "    </div>\n",
              "  </div>\n"
            ]
          },
          "metadata": {},
          "execution_count": 204
        }
      ]
    },
    {
      "cell_type": "markdown",
      "source": [
        "## b) Bi-directional LSTM"
      ],
      "metadata": {
        "id": "pzHzX9OkGlfl"
      }
    },
    {
      "cell_type": "markdown",
      "source": [
        "### Words Preprocessing and Encoding"
      ],
      "metadata": {
        "id": "mK2Fr-wGGsHP"
      }
    },
    {
      "cell_type": "code",
      "source": [
        "# Documents preprocessing and encoding\n",
        "# Estimated time : 40-90s\n",
        "\n",
        "preprocessed_docs = [text_preprocessing(d, False, True, True) for d in documents]\n",
        "\n",
        "encoder = tf.keras.layers.TextVectorization(max_tokens=None,\n",
        "                                            output_mode='int')\n",
        "\n",
        "encoder.adapt(preprocessed_docs)\n",
        "vocabulary = np.array(encoder.get_vocabulary())\n",
        "vocab_size = encoder.vocabulary_size()\n",
        "encoded_docs = encoder(preprocessed_docs)\n",
        "label_size = labels.shape[1]"
      ],
      "metadata": {
        "id": "6AfjgWajGt0T"
      },
      "execution_count": 28,
      "outputs": []
    },
    {
      "cell_type": "code",
      "source": [
        "print(\"First 20 word in vocabulary:\\n\", vocabulary[:20])\n",
        "print(\"\\nVocabulary size:\", vocab_size)\n",
        "print(\"\\nFirst 20 encoded documents:\\n\", encoded_docs[:20])\n",
        "print(\"\\nNumber of labels:\", label_size)"
      ],
      "metadata": {
        "colab": {
          "base_uri": "https://localhost:8080/"
        },
        "id": "fptJmAH6I7jb",
        "outputId": "3b27e60d-fe86-4199-ac9a-7b2606ba17e6"
      },
      "execution_count": 29,
      "outputs": [
        {
          "output_type": "stream",
          "name": "stdout",
          "text": [
            "First 20 word in vocabulary:\n",
            " ['' '[UNK]' 's' 'tell' 'go' 'find' 'one' 'get' 'take' 'back' 'see' 'two'\n",
            " 'man' 'time' 'nt' 'kill' 'house' 'life' 'father' 'make']\n",
            "\n",
            "Vocabulary size: 120366\n",
            "\n",
            "First 20 encoded documents:\n",
            " tf.Tensor(\n",
            "[[ 1826  1913  1077 ...     0     0     0]\n",
            " [ 7558    90 31367 ...     0     0     0]\n",
            " [90584  7605  2825 ...     0     0     0]\n",
            " ...\n",
            " [77192  9524 13337 ...     0     0     0]\n",
            " [ 1192   594     9 ...     0     0     0]\n",
            " [   58   329   751 ...     0     0     0]], shape=(20, 2788), dtype=int64)\n",
            "\n",
            "Number of labels: 9\n"
          ]
        }
      ]
    },
    {
      "cell_type": "markdown",
      "source": [
        "### Model Implementation"
      ],
      "metadata": {
        "id": "W2o4tJydOUU-"
      }
    },
    {
      "cell_type": "code",
      "source": [
        "# Defining the model\n",
        "model = tf.keras.Sequential([\n",
        "    encoder,\n",
        "    tf.keras.layers.Embedding(\n",
        "        input_dim=len(encoder.get_vocabulary()),\n",
        "        output_dim=64,\n",
        "        mask_zero=True),\n",
        "    tf.keras.layers.Bidirectional(tf.keras.layers.LSTM(64)),\n",
        "    tf.keras.layers.Dense(64, activation='relu', name=\"hidden_layer\"),\n",
        "    tf.keras.layers.Dense(label_size, activation='sigmoid', name='output')\n",
        "])\n",
        "\n",
        "# Output summary of the model\n",
        "model.summary()"
      ],
      "metadata": {
        "colab": {
          "base_uri": "https://localhost:8080/"
        },
        "id": "LgNPbNYYOlld",
        "outputId": "fbf04420-b9c5-4a4e-c02f-e1fd3ee0e32a"
      },
      "execution_count": 30,
      "outputs": [
        {
          "output_type": "stream",
          "name": "stdout",
          "text": [
            "Model: \"sequential_1\"\n",
            "_________________________________________________________________\n",
            " Layer (type)                Output Shape              Param #   \n",
            "=================================================================\n",
            " text_vectorization_1 (Text  (None, None)              0         \n",
            " Vectorization)                                                  \n",
            "                                                                 \n",
            " embedding_1 (Embedding)     (None, None, 64)          7703424   \n",
            "                                                                 \n",
            " bidirectional_1 (Bidirecti  (None, 128)               66048     \n",
            " onal)                                                           \n",
            "                                                                 \n",
            " hidden_layer (Dense)        (None, 64)                8256      \n",
            "                                                                 \n",
            " output (Dense)              (None, 9)                 585       \n",
            "                                                                 \n",
            "=================================================================\n",
            "Total params: 7778313 (29.67 MB)\n",
            "Trainable params: 7778313 (29.67 MB)\n",
            "Non-trainable params: 0 (0.00 Byte)\n",
            "_________________________________________________________________\n"
          ]
        }
      ]
    },
    {
      "cell_type": "code",
      "source": [
        "# Model configuration\n",
        "model.compile(optimizer=tf.keras.optimizers.Adam(learning_rate=0.001),\n",
        "              loss=tf.keras.metrics.binary_crossentropy,\n",
        "              metrics=tf.keras.metrics.F1Score(average=\"macro\",\n",
        "                                               threshold=0.5,\n",
        "                                               name='f1_score',\n",
        "                                               dtype=None)\n",
        "              )\n",
        "\n",
        "labels = tf.cast(labels, tf.float32)\n",
        "labels"
      ],
      "metadata": {
        "colab": {
          "base_uri": "https://localhost:8080/"
        },
        "id": "V5pbRCs2XiWo",
        "outputId": "81fe18b6-a1d2-494b-a5c1-7c6bf4729066"
      },
      "execution_count": 31,
      "outputs": [
        {
          "output_type": "execute_result",
          "data": {
            "text/plain": [
              "<tf.Tensor: shape=(8257, 9), dtype=float32, numpy=\n",
              "array([[0., 0., 0., ..., 0., 0., 1.],\n",
              "       [0., 0., 0., ..., 1., 0., 1.],\n",
              "       [0., 1., 0., ..., 0., 0., 0.],\n",
              "       ...,\n",
              "       [0., 1., 1., ..., 1., 0., 1.],\n",
              "       [0., 0., 1., ..., 0., 0., 0.],\n",
              "       [0., 0., 0., ..., 0., 0., 1.]], dtype=float32)>"
            ]
          },
          "metadata": {},
          "execution_count": 31
        }
      ]
    },
    {
      "cell_type": "code",
      "source": [
        "# Stop training early to prevent overfitting\n",
        "early_stopping = tf.keras.callbacks.EarlyStopping(monitor='val_loss',\n",
        "                                                  patience=0,\n",
        "                                                  restore_best_weights=True)\n",
        "\n",
        "# Train the model\n",
        "history = model.fit(documents,\n",
        "                    labels,\n",
        "                    epochs=5,\n",
        "                    validation_split=0.2,\n",
        "                    validation_steps=15,\n",
        "                    callbacks=[early_stopping]\n",
        "                    )"
      ],
      "metadata": {
        "colab": {
          "base_uri": "https://localhost:8080/"
        },
        "id": "96KyHE2J5T5m",
        "outputId": "e896448b-20a9-4825-e236-0e1be644f157"
      },
      "execution_count": 32,
      "outputs": [
        {
          "output_type": "stream",
          "name": "stdout",
          "text": [
            "Epoch 1/5\n",
            "207/207 [==============================] - 1344s 6s/step - loss: 0.4786 - f1_score: 0.0785 - val_loss: 0.4587 - val_f1_score: 0.0000e+00\n",
            "Epoch 2/5\n",
            "207/207 [==============================] - 1339s 6s/step - loss: 0.4427 - f1_score: 0.1095 - val_loss: 0.4378 - val_f1_score: 0.1714\n",
            "Epoch 3/5\n",
            "207/207 [==============================] - 1365s 7s/step - loss: 0.3822 - f1_score: 0.2660 - val_loss: 0.4490 - val_f1_score: 0.1641\n"
          ]
        }
      ]
    },
    {
      "cell_type": "markdown",
      "source": [
        "### Classification Prediction"
      ],
      "metadata": {
        "id": "998Uy0-oUeDw"
      }
    },
    {
      "cell_type": "code",
      "source": [
        "# Prediction\n",
        "# Threshold is fixed at 0.3\n",
        "# Do not change threshold\n",
        "prediction = (model.predict(test_documents) > 0.3).astype('int')"
      ],
      "metadata": {
        "colab": {
          "base_uri": "https://localhost:8080/"
        },
        "id": "GFBJZ5p9VdVT",
        "outputId": "9691e23a-a153-4a20-fe7b-d88ea9556df2"
      },
      "execution_count": 24,
      "outputs": [
        {
          "output_type": "stream",
          "name": "stdout",
          "text": [
            "38/38 [==============================] - 31s 793ms/step\n"
          ]
        }
      ]
    },
    {
      "cell_type": "code",
      "source": [
        "# Insert ID column from test data into result\n",
        "converted_prediction = prediction.astype(object)\n",
        "combined_result = np.insert(converted_prediction, 0, id, axis=1)\n",
        "\n",
        "# Create dataframe of the result\n",
        "result_df = pd.DataFrame(combined_result)\n",
        "result_df.columns = [\"ID\", \"comedy\", \"cult\", \"flashback\", \"historical\",\n",
        "                     \"murder\", \"revenge\", \"romantic\", \"scifi\", \"violence\"]\n",
        "result_df.to_csv(\"10812451-Task2-method-b.csv\", index=False, header=False)\n",
        "result_df"
      ],
      "metadata": {
        "colab": {
          "base_uri": "https://localhost:8080/",
          "height": 964
        },
        "id": "iN1L3-vuWMNK",
        "outputId": "51b059d2-d596-4688-c9ee-28d52003027d"
      },
      "execution_count": 11,
      "outputs": [
        {
          "output_type": "execute_result",
          "data": {
            "text/plain": [
              "                                        ID comedy cult flashback historical  \\\n",
              "0     9484ac61-0e30-4799-9998-6f74f4cbb204      0    0         0          0   \n",
              "1     55942d28-b6a2-4662-ab55-a66783a86a56      0    0         0          0   \n",
              "2     b71ed317-04cd-42f5-a380-d21dfea2bd36      0    0         0          0   \n",
              "3     5689b1b2-88cd-4c22-9114-0850ba539280      0    0         0          0   \n",
              "4     a0d9062e-f539-4043-bc9e-2a2ed589477b      0    0         0          0   \n",
              "...                                    ...    ...  ...       ...        ...   \n",
              "1195  8978047a-ec54-412a-bcee-070fe1fb055c      0    0         1          0   \n",
              "1196  f1f04933-e298-4f65-bbeb-bc61a567a688      0    0         0          0   \n",
              "1197  a033955d-12c2-4549-bafd-ca8e84615f1b      0    0         0          0   \n",
              "1198  9464e84d-36b6-4b69-b0fb-f3c0546a8b10      0    0         0          0   \n",
              "1199  93ec8a32-0f64-4965-ba02-5b369ed16ca4      0    0         0          0   \n",
              "\n",
              "     murder revenge romantic scifi violence  \n",
              "0         1       0        0     0        1  \n",
              "1         0       0        1     0        0  \n",
              "2         0       0        1     0        0  \n",
              "3         1       0        0     0        1  \n",
              "4         1       0        0     0        1  \n",
              "...     ...     ...      ...   ...      ...  \n",
              "1195      1       0        1     0        1  \n",
              "1196      1       0        0     0        1  \n",
              "1197      1       0        0     0        1  \n",
              "1198      1       0        0     0        0  \n",
              "1199      1       0        0     0        1  \n",
              "\n",
              "[1200 rows x 10 columns]"
            ],
            "text/html": [
              "\n",
              "  <div id=\"df-bf6d12eb-2b5f-4944-9979-19857d91efd6\" class=\"colab-df-container\">\n",
              "    <div>\n",
              "<style scoped>\n",
              "    .dataframe tbody tr th:only-of-type {\n",
              "        vertical-align: middle;\n",
              "    }\n",
              "\n",
              "    .dataframe tbody tr th {\n",
              "        vertical-align: top;\n",
              "    }\n",
              "\n",
              "    .dataframe thead th {\n",
              "        text-align: right;\n",
              "    }\n",
              "</style>\n",
              "<table border=\"1\" class=\"dataframe\">\n",
              "  <thead>\n",
              "    <tr style=\"text-align: right;\">\n",
              "      <th></th>\n",
              "      <th>ID</th>\n",
              "      <th>comedy</th>\n",
              "      <th>cult</th>\n",
              "      <th>flashback</th>\n",
              "      <th>historical</th>\n",
              "      <th>murder</th>\n",
              "      <th>revenge</th>\n",
              "      <th>romantic</th>\n",
              "      <th>scifi</th>\n",
              "      <th>violence</th>\n",
              "    </tr>\n",
              "  </thead>\n",
              "  <tbody>\n",
              "    <tr>\n",
              "      <th>0</th>\n",
              "      <td>9484ac61-0e30-4799-9998-6f74f4cbb204</td>\n",
              "      <td>0</td>\n",
              "      <td>0</td>\n",
              "      <td>0</td>\n",
              "      <td>0</td>\n",
              "      <td>1</td>\n",
              "      <td>0</td>\n",
              "      <td>0</td>\n",
              "      <td>0</td>\n",
              "      <td>1</td>\n",
              "    </tr>\n",
              "    <tr>\n",
              "      <th>1</th>\n",
              "      <td>55942d28-b6a2-4662-ab55-a66783a86a56</td>\n",
              "      <td>0</td>\n",
              "      <td>0</td>\n",
              "      <td>0</td>\n",
              "      <td>0</td>\n",
              "      <td>0</td>\n",
              "      <td>0</td>\n",
              "      <td>1</td>\n",
              "      <td>0</td>\n",
              "      <td>0</td>\n",
              "    </tr>\n",
              "    <tr>\n",
              "      <th>2</th>\n",
              "      <td>b71ed317-04cd-42f5-a380-d21dfea2bd36</td>\n",
              "      <td>0</td>\n",
              "      <td>0</td>\n",
              "      <td>0</td>\n",
              "      <td>0</td>\n",
              "      <td>0</td>\n",
              "      <td>0</td>\n",
              "      <td>1</td>\n",
              "      <td>0</td>\n",
              "      <td>0</td>\n",
              "    </tr>\n",
              "    <tr>\n",
              "      <th>3</th>\n",
              "      <td>5689b1b2-88cd-4c22-9114-0850ba539280</td>\n",
              "      <td>0</td>\n",
              "      <td>0</td>\n",
              "      <td>0</td>\n",
              "      <td>0</td>\n",
              "      <td>1</td>\n",
              "      <td>0</td>\n",
              "      <td>0</td>\n",
              "      <td>0</td>\n",
              "      <td>1</td>\n",
              "    </tr>\n",
              "    <tr>\n",
              "      <th>4</th>\n",
              "      <td>a0d9062e-f539-4043-bc9e-2a2ed589477b</td>\n",
              "      <td>0</td>\n",
              "      <td>0</td>\n",
              "      <td>0</td>\n",
              "      <td>0</td>\n",
              "      <td>1</td>\n",
              "      <td>0</td>\n",
              "      <td>0</td>\n",
              "      <td>0</td>\n",
              "      <td>1</td>\n",
              "    </tr>\n",
              "    <tr>\n",
              "      <th>...</th>\n",
              "      <td>...</td>\n",
              "      <td>...</td>\n",
              "      <td>...</td>\n",
              "      <td>...</td>\n",
              "      <td>...</td>\n",
              "      <td>...</td>\n",
              "      <td>...</td>\n",
              "      <td>...</td>\n",
              "      <td>...</td>\n",
              "      <td>...</td>\n",
              "    </tr>\n",
              "    <tr>\n",
              "      <th>1195</th>\n",
              "      <td>8978047a-ec54-412a-bcee-070fe1fb055c</td>\n",
              "      <td>0</td>\n",
              "      <td>0</td>\n",
              "      <td>1</td>\n",
              "      <td>0</td>\n",
              "      <td>1</td>\n",
              "      <td>0</td>\n",
              "      <td>1</td>\n",
              "      <td>0</td>\n",
              "      <td>1</td>\n",
              "    </tr>\n",
              "    <tr>\n",
              "      <th>1196</th>\n",
              "      <td>f1f04933-e298-4f65-bbeb-bc61a567a688</td>\n",
              "      <td>0</td>\n",
              "      <td>0</td>\n",
              "      <td>0</td>\n",
              "      <td>0</td>\n",
              "      <td>1</td>\n",
              "      <td>0</td>\n",
              "      <td>0</td>\n",
              "      <td>0</td>\n",
              "      <td>1</td>\n",
              "    </tr>\n",
              "    <tr>\n",
              "      <th>1197</th>\n",
              "      <td>a033955d-12c2-4549-bafd-ca8e84615f1b</td>\n",
              "      <td>0</td>\n",
              "      <td>0</td>\n",
              "      <td>0</td>\n",
              "      <td>0</td>\n",
              "      <td>1</td>\n",
              "      <td>0</td>\n",
              "      <td>0</td>\n",
              "      <td>0</td>\n",
              "      <td>1</td>\n",
              "    </tr>\n",
              "    <tr>\n",
              "      <th>1198</th>\n",
              "      <td>9464e84d-36b6-4b69-b0fb-f3c0546a8b10</td>\n",
              "      <td>0</td>\n",
              "      <td>0</td>\n",
              "      <td>0</td>\n",
              "      <td>0</td>\n",
              "      <td>1</td>\n",
              "      <td>0</td>\n",
              "      <td>0</td>\n",
              "      <td>0</td>\n",
              "      <td>0</td>\n",
              "    </tr>\n",
              "    <tr>\n",
              "      <th>1199</th>\n",
              "      <td>93ec8a32-0f64-4965-ba02-5b369ed16ca4</td>\n",
              "      <td>0</td>\n",
              "      <td>0</td>\n",
              "      <td>0</td>\n",
              "      <td>0</td>\n",
              "      <td>1</td>\n",
              "      <td>0</td>\n",
              "      <td>0</td>\n",
              "      <td>0</td>\n",
              "      <td>1</td>\n",
              "    </tr>\n",
              "  </tbody>\n",
              "</table>\n",
              "<p>1200 rows × 10 columns</p>\n",
              "</div>\n",
              "    <div class=\"colab-df-buttons\">\n",
              "\n",
              "  <div class=\"colab-df-container\">\n",
              "    <button class=\"colab-df-convert\" onclick=\"convertToInteractive('df-bf6d12eb-2b5f-4944-9979-19857d91efd6')\"\n",
              "            title=\"Convert this dataframe to an interactive table.\"\n",
              "            style=\"display:none;\">\n",
              "\n",
              "  <svg xmlns=\"http://www.w3.org/2000/svg\" height=\"24px\" viewBox=\"0 -960 960 960\">\n",
              "    <path d=\"M120-120v-720h720v720H120Zm60-500h600v-160H180v160Zm220 220h160v-160H400v160Zm0 220h160v-160H400v160ZM180-400h160v-160H180v160Zm440 0h160v-160H620v160ZM180-180h160v-160H180v160Zm440 0h160v-160H620v160Z\"/>\n",
              "  </svg>\n",
              "    </button>\n",
              "\n",
              "  <style>\n",
              "    .colab-df-container {\n",
              "      display:flex;\n",
              "      gap: 12px;\n",
              "    }\n",
              "\n",
              "    .colab-df-convert {\n",
              "      background-color: #E8F0FE;\n",
              "      border: none;\n",
              "      border-radius: 50%;\n",
              "      cursor: pointer;\n",
              "      display: none;\n",
              "      fill: #1967D2;\n",
              "      height: 32px;\n",
              "      padding: 0 0 0 0;\n",
              "      width: 32px;\n",
              "    }\n",
              "\n",
              "    .colab-df-convert:hover {\n",
              "      background-color: #E2EBFA;\n",
              "      box-shadow: 0px 1px 2px rgba(60, 64, 67, 0.3), 0px 1px 3px 1px rgba(60, 64, 67, 0.15);\n",
              "      fill: #174EA6;\n",
              "    }\n",
              "\n",
              "    .colab-df-buttons div {\n",
              "      margin-bottom: 4px;\n",
              "    }\n",
              "\n",
              "    [theme=dark] .colab-df-convert {\n",
              "      background-color: #3B4455;\n",
              "      fill: #D2E3FC;\n",
              "    }\n",
              "\n",
              "    [theme=dark] .colab-df-convert:hover {\n",
              "      background-color: #434B5C;\n",
              "      box-shadow: 0px 1px 3px 1px rgba(0, 0, 0, 0.15);\n",
              "      filter: drop-shadow(0px 1px 2px rgba(0, 0, 0, 0.3));\n",
              "      fill: #FFFFFF;\n",
              "    }\n",
              "  </style>\n",
              "\n",
              "    <script>\n",
              "      const buttonEl =\n",
              "        document.querySelector('#df-bf6d12eb-2b5f-4944-9979-19857d91efd6 button.colab-df-convert');\n",
              "      buttonEl.style.display =\n",
              "        google.colab.kernel.accessAllowed ? 'block' : 'none';\n",
              "\n",
              "      async function convertToInteractive(key) {\n",
              "        const element = document.querySelector('#df-bf6d12eb-2b5f-4944-9979-19857d91efd6');\n",
              "        const dataTable =\n",
              "          await google.colab.kernel.invokeFunction('convertToInteractive',\n",
              "                                                    [key], {});\n",
              "        if (!dataTable) return;\n",
              "\n",
              "        const docLinkHtml = 'Like what you see? Visit the ' +\n",
              "          '<a target=\"_blank\" href=https://colab.research.google.com/notebooks/data_table.ipynb>data table notebook</a>'\n",
              "          + ' to learn more about interactive tables.';\n",
              "        element.innerHTML = '';\n",
              "        dataTable['output_type'] = 'display_data';\n",
              "        await google.colab.output.renderOutput(dataTable, element);\n",
              "        const docLink = document.createElement('div');\n",
              "        docLink.innerHTML = docLinkHtml;\n",
              "        element.appendChild(docLink);\n",
              "      }\n",
              "    </script>\n",
              "  </div>\n",
              "\n",
              "\n",
              "<div id=\"df-92678d95-6b35-400a-b65e-7a07087352ae\">\n",
              "  <button class=\"colab-df-quickchart\" onclick=\"quickchart('df-92678d95-6b35-400a-b65e-7a07087352ae')\"\n",
              "            title=\"Suggest charts\"\n",
              "            style=\"display:none;\">\n",
              "\n",
              "<svg xmlns=\"http://www.w3.org/2000/svg\" height=\"24px\"viewBox=\"0 0 24 24\"\n",
              "     width=\"24px\">\n",
              "    <g>\n",
              "        <path d=\"M19 3H5c-1.1 0-2 .9-2 2v14c0 1.1.9 2 2 2h14c1.1 0 2-.9 2-2V5c0-1.1-.9-2-2-2zM9 17H7v-7h2v7zm4 0h-2V7h2v10zm4 0h-2v-4h2v4z\"/>\n",
              "    </g>\n",
              "</svg>\n",
              "  </button>\n",
              "\n",
              "<style>\n",
              "  .colab-df-quickchart {\n",
              "      --bg-color: #E8F0FE;\n",
              "      --fill-color: #1967D2;\n",
              "      --hover-bg-color: #E2EBFA;\n",
              "      --hover-fill-color: #174EA6;\n",
              "      --disabled-fill-color: #AAA;\n",
              "      --disabled-bg-color: #DDD;\n",
              "  }\n",
              "\n",
              "  [theme=dark] .colab-df-quickchart {\n",
              "      --bg-color: #3B4455;\n",
              "      --fill-color: #D2E3FC;\n",
              "      --hover-bg-color: #434B5C;\n",
              "      --hover-fill-color: #FFFFFF;\n",
              "      --disabled-bg-color: #3B4455;\n",
              "      --disabled-fill-color: #666;\n",
              "  }\n",
              "\n",
              "  .colab-df-quickchart {\n",
              "    background-color: var(--bg-color);\n",
              "    border: none;\n",
              "    border-radius: 50%;\n",
              "    cursor: pointer;\n",
              "    display: none;\n",
              "    fill: var(--fill-color);\n",
              "    height: 32px;\n",
              "    padding: 0;\n",
              "    width: 32px;\n",
              "  }\n",
              "\n",
              "  .colab-df-quickchart:hover {\n",
              "    background-color: var(--hover-bg-color);\n",
              "    box-shadow: 0 1px 2px rgba(60, 64, 67, 0.3), 0 1px 3px 1px rgba(60, 64, 67, 0.15);\n",
              "    fill: var(--button-hover-fill-color);\n",
              "  }\n",
              "\n",
              "  .colab-df-quickchart-complete:disabled,\n",
              "  .colab-df-quickchart-complete:disabled:hover {\n",
              "    background-color: var(--disabled-bg-color);\n",
              "    fill: var(--disabled-fill-color);\n",
              "    box-shadow: none;\n",
              "  }\n",
              "\n",
              "  .colab-df-spinner {\n",
              "    border: 2px solid var(--fill-color);\n",
              "    border-color: transparent;\n",
              "    border-bottom-color: var(--fill-color);\n",
              "    animation:\n",
              "      spin 1s steps(1) infinite;\n",
              "  }\n",
              "\n",
              "  @keyframes spin {\n",
              "    0% {\n",
              "      border-color: transparent;\n",
              "      border-bottom-color: var(--fill-color);\n",
              "      border-left-color: var(--fill-color);\n",
              "    }\n",
              "    20% {\n",
              "      border-color: transparent;\n",
              "      border-left-color: var(--fill-color);\n",
              "      border-top-color: var(--fill-color);\n",
              "    }\n",
              "    30% {\n",
              "      border-color: transparent;\n",
              "      border-left-color: var(--fill-color);\n",
              "      border-top-color: var(--fill-color);\n",
              "      border-right-color: var(--fill-color);\n",
              "    }\n",
              "    40% {\n",
              "      border-color: transparent;\n",
              "      border-right-color: var(--fill-color);\n",
              "      border-top-color: var(--fill-color);\n",
              "    }\n",
              "    60% {\n",
              "      border-color: transparent;\n",
              "      border-right-color: var(--fill-color);\n",
              "    }\n",
              "    80% {\n",
              "      border-color: transparent;\n",
              "      border-right-color: var(--fill-color);\n",
              "      border-bottom-color: var(--fill-color);\n",
              "    }\n",
              "    90% {\n",
              "      border-color: transparent;\n",
              "      border-bottom-color: var(--fill-color);\n",
              "    }\n",
              "  }\n",
              "</style>\n",
              "\n",
              "  <script>\n",
              "    async function quickchart(key) {\n",
              "      const quickchartButtonEl =\n",
              "        document.querySelector('#' + key + ' button');\n",
              "      quickchartButtonEl.disabled = true;  // To prevent multiple clicks.\n",
              "      quickchartButtonEl.classList.add('colab-df-spinner');\n",
              "      try {\n",
              "        const charts = await google.colab.kernel.invokeFunction(\n",
              "            'suggestCharts', [key], {});\n",
              "      } catch (error) {\n",
              "        console.error('Error during call to suggestCharts:', error);\n",
              "      }\n",
              "      quickchartButtonEl.classList.remove('colab-df-spinner');\n",
              "      quickchartButtonEl.classList.add('colab-df-quickchart-complete');\n",
              "    }\n",
              "    (() => {\n",
              "      let quickchartButtonEl =\n",
              "        document.querySelector('#df-92678d95-6b35-400a-b65e-7a07087352ae button');\n",
              "      quickchartButtonEl.style.display =\n",
              "        google.colab.kernel.accessAllowed ? 'block' : 'none';\n",
              "    })();\n",
              "  </script>\n",
              "</div>\n",
              "    </div>\n",
              "  </div>\n"
            ]
          },
          "metadata": {},
          "execution_count": 11
        }
      ]
    }
  ]
}