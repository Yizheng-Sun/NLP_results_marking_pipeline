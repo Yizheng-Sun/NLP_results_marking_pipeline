{
  "nbformat": 4,
  "nbformat_minor": 0,
  "metadata": {
    "colab": {
      "provenance": [],
      "machine_shape": "hm",
      "gpuType": "V100",
      "toc_visible": true
    },
    "kernelspec": {
      "name": "python3",
      "display_name": "Python 3"
    },
    "language_info": {
      "name": "python"
    },
    "accelerator": "GPU",
    "widgets": {
      "application/vnd.jupyter.widget-state+json": {
        "6b7c4c11e0be4bab8174ddd03f8a5958": {
          "model_module": "@jupyter-widgets/controls",
          "model_name": "HBoxModel",
          "model_module_version": "1.5.0",
          "state": {
            "_dom_classes": [],
            "_model_module": "@jupyter-widgets/controls",
            "_model_module_version": "1.5.0",
            "_model_name": "HBoxModel",
            "_view_count": null,
            "_view_module": "@jupyter-widgets/controls",
            "_view_module_version": "1.5.0",
            "_view_name": "HBoxView",
            "box_style": "",
            "children": [
              "IPY_MODEL_100ce6264f8e4fe8b26ae3994ce6888c",
              "IPY_MODEL_e8543c2dcd474b62a51571be189caa59",
              "IPY_MODEL_5600fc199db249949f1dc184e8286cae"
            ],
            "layout": "IPY_MODEL_69a3444dec3a4f46b2a80ed78fedcecd"
          }
        },
        "100ce6264f8e4fe8b26ae3994ce6888c": {
          "model_module": "@jupyter-widgets/controls",
          "model_name": "HTMLModel",
          "model_module_version": "1.5.0",
          "state": {
            "_dom_classes": [],
            "_model_module": "@jupyter-widgets/controls",
            "_model_module_version": "1.5.0",
            "_model_name": "HTMLModel",
            "_view_count": null,
            "_view_module": "@jupyter-widgets/controls",
            "_view_module_version": "1.5.0",
            "_view_name": "HTMLView",
            "description": "",
            "description_tooltip": null,
            "layout": "IPY_MODEL_e9465ea9e2794a63b505dd4743f699a9",
            "placeholder": "​",
            "style": "IPY_MODEL_e3ed2f90b87c43a4aaa3be8a50f3883c",
            "value": "vocab.json: 100%"
          }
        },
        "e8543c2dcd474b62a51571be189caa59": {
          "model_module": "@jupyter-widgets/controls",
          "model_name": "FloatProgressModel",
          "model_module_version": "1.5.0",
          "state": {
            "_dom_classes": [],
            "_model_module": "@jupyter-widgets/controls",
            "_model_module_version": "1.5.0",
            "_model_name": "FloatProgressModel",
            "_view_count": null,
            "_view_module": "@jupyter-widgets/controls",
            "_view_module_version": "1.5.0",
            "_view_name": "ProgressView",
            "bar_style": "success",
            "description": "",
            "description_tooltip": null,
            "layout": "IPY_MODEL_4c4d3eb27224481bb28d926d85311d80",
            "max": 898823,
            "min": 0,
            "orientation": "horizontal",
            "style": "IPY_MODEL_df27781ca27b448e9b27c4038bf51f5e",
            "value": 898823
          }
        },
        "5600fc199db249949f1dc184e8286cae": {
          "model_module": "@jupyter-widgets/controls",
          "model_name": "HTMLModel",
          "model_module_version": "1.5.0",
          "state": {
            "_dom_classes": [],
            "_model_module": "@jupyter-widgets/controls",
            "_model_module_version": "1.5.0",
            "_model_name": "HTMLModel",
            "_view_count": null,
            "_view_module": "@jupyter-widgets/controls",
            "_view_module_version": "1.5.0",
            "_view_name": "HTMLView",
            "description": "",
            "description_tooltip": null,
            "layout": "IPY_MODEL_b44870ef23f1455fa816300ed39b3a78",
            "placeholder": "​",
            "style": "IPY_MODEL_2b07207d02884ddab490b0a93d843f23",
            "value": " 899k/899k [00:00&lt;00:00, 19.4MB/s]"
          }
        },
        "69a3444dec3a4f46b2a80ed78fedcecd": {
          "model_module": "@jupyter-widgets/base",
          "model_name": "LayoutModel",
          "model_module_version": "1.2.0",
          "state": {
            "_model_module": "@jupyter-widgets/base",
            "_model_module_version": "1.2.0",
            "_model_name": "LayoutModel",
            "_view_count": null,
            "_view_module": "@jupyter-widgets/base",
            "_view_module_version": "1.2.0",
            "_view_name": "LayoutView",
            "align_content": null,
            "align_items": null,
            "align_self": null,
            "border": null,
            "bottom": null,
            "display": null,
            "flex": null,
            "flex_flow": null,
            "grid_area": null,
            "grid_auto_columns": null,
            "grid_auto_flow": null,
            "grid_auto_rows": null,
            "grid_column": null,
            "grid_gap": null,
            "grid_row": null,
            "grid_template_areas": null,
            "grid_template_columns": null,
            "grid_template_rows": null,
            "height": null,
            "justify_content": null,
            "justify_items": null,
            "left": null,
            "margin": null,
            "max_height": null,
            "max_width": null,
            "min_height": null,
            "min_width": null,
            "object_fit": null,
            "object_position": null,
            "order": null,
            "overflow": null,
            "overflow_x": null,
            "overflow_y": null,
            "padding": null,
            "right": null,
            "top": null,
            "visibility": null,
            "width": null
          }
        },
        "e9465ea9e2794a63b505dd4743f699a9": {
          "model_module": "@jupyter-widgets/base",
          "model_name": "LayoutModel",
          "model_module_version": "1.2.0",
          "state": {
            "_model_module": "@jupyter-widgets/base",
            "_model_module_version": "1.2.0",
            "_model_name": "LayoutModel",
            "_view_count": null,
            "_view_module": "@jupyter-widgets/base",
            "_view_module_version": "1.2.0",
            "_view_name": "LayoutView",
            "align_content": null,
            "align_items": null,
            "align_self": null,
            "border": null,
            "bottom": null,
            "display": null,
            "flex": null,
            "flex_flow": null,
            "grid_area": null,
            "grid_auto_columns": null,
            "grid_auto_flow": null,
            "grid_auto_rows": null,
            "grid_column": null,
            "grid_gap": null,
            "grid_row": null,
            "grid_template_areas": null,
            "grid_template_columns": null,
            "grid_template_rows": null,
            "height": null,
            "justify_content": null,
            "justify_items": null,
            "left": null,
            "margin": null,
            "max_height": null,
            "max_width": null,
            "min_height": null,
            "min_width": null,
            "object_fit": null,
            "object_position": null,
            "order": null,
            "overflow": null,
            "overflow_x": null,
            "overflow_y": null,
            "padding": null,
            "right": null,
            "top": null,
            "visibility": null,
            "width": null
          }
        },
        "e3ed2f90b87c43a4aaa3be8a50f3883c": {
          "model_module": "@jupyter-widgets/controls",
          "model_name": "DescriptionStyleModel",
          "model_module_version": "1.5.0",
          "state": {
            "_model_module": "@jupyter-widgets/controls",
            "_model_module_version": "1.5.0",
            "_model_name": "DescriptionStyleModel",
            "_view_count": null,
            "_view_module": "@jupyter-widgets/base",
            "_view_module_version": "1.2.0",
            "_view_name": "StyleView",
            "description_width": ""
          }
        },
        "4c4d3eb27224481bb28d926d85311d80": {
          "model_module": "@jupyter-widgets/base",
          "model_name": "LayoutModel",
          "model_module_version": "1.2.0",
          "state": {
            "_model_module": "@jupyter-widgets/base",
            "_model_module_version": "1.2.0",
            "_model_name": "LayoutModel",
            "_view_count": null,
            "_view_module": "@jupyter-widgets/base",
            "_view_module_version": "1.2.0",
            "_view_name": "LayoutView",
            "align_content": null,
            "align_items": null,
            "align_self": null,
            "border": null,
            "bottom": null,
            "display": null,
            "flex": null,
            "flex_flow": null,
            "grid_area": null,
            "grid_auto_columns": null,
            "grid_auto_flow": null,
            "grid_auto_rows": null,
            "grid_column": null,
            "grid_gap": null,
            "grid_row": null,
            "grid_template_areas": null,
            "grid_template_columns": null,
            "grid_template_rows": null,
            "height": null,
            "justify_content": null,
            "justify_items": null,
            "left": null,
            "margin": null,
            "max_height": null,
            "max_width": null,
            "min_height": null,
            "min_width": null,
            "object_fit": null,
            "object_position": null,
            "order": null,
            "overflow": null,
            "overflow_x": null,
            "overflow_y": null,
            "padding": null,
            "right": null,
            "top": null,
            "visibility": null,
            "width": null
          }
        },
        "df27781ca27b448e9b27c4038bf51f5e": {
          "model_module": "@jupyter-widgets/controls",
          "model_name": "ProgressStyleModel",
          "model_module_version": "1.5.0",
          "state": {
            "_model_module": "@jupyter-widgets/controls",
            "_model_module_version": "1.5.0",
            "_model_name": "ProgressStyleModel",
            "_view_count": null,
            "_view_module": "@jupyter-widgets/base",
            "_view_module_version": "1.2.0",
            "_view_name": "StyleView",
            "bar_color": null,
            "description_width": ""
          }
        },
        "b44870ef23f1455fa816300ed39b3a78": {
          "model_module": "@jupyter-widgets/base",
          "model_name": "LayoutModel",
          "model_module_version": "1.2.0",
          "state": {
            "_model_module": "@jupyter-widgets/base",
            "_model_module_version": "1.2.0",
            "_model_name": "LayoutModel",
            "_view_count": null,
            "_view_module": "@jupyter-widgets/base",
            "_view_module_version": "1.2.0",
            "_view_name": "LayoutView",
            "align_content": null,
            "align_items": null,
            "align_self": null,
            "border": null,
            "bottom": null,
            "display": null,
            "flex": null,
            "flex_flow": null,
            "grid_area": null,
            "grid_auto_columns": null,
            "grid_auto_flow": null,
            "grid_auto_rows": null,
            "grid_column": null,
            "grid_gap": null,
            "grid_row": null,
            "grid_template_areas": null,
            "grid_template_columns": null,
            "grid_template_rows": null,
            "height": null,
            "justify_content": null,
            "justify_items": null,
            "left": null,
            "margin": null,
            "max_height": null,
            "max_width": null,
            "min_height": null,
            "min_width": null,
            "object_fit": null,
            "object_position": null,
            "order": null,
            "overflow": null,
            "overflow_x": null,
            "overflow_y": null,
            "padding": null,
            "right": null,
            "top": null,
            "visibility": null,
            "width": null
          }
        },
        "2b07207d02884ddab490b0a93d843f23": {
          "model_module": "@jupyter-widgets/controls",
          "model_name": "DescriptionStyleModel",
          "model_module_version": "1.5.0",
          "state": {
            "_model_module": "@jupyter-widgets/controls",
            "_model_module_version": "1.5.0",
            "_model_name": "DescriptionStyleModel",
            "_view_count": null,
            "_view_module": "@jupyter-widgets/base",
            "_view_module_version": "1.2.0",
            "_view_name": "StyleView",
            "description_width": ""
          }
        },
        "2422626252804ff890efac0cc782739d": {
          "model_module": "@jupyter-widgets/controls",
          "model_name": "HBoxModel",
          "model_module_version": "1.5.0",
          "state": {
            "_dom_classes": [],
            "_model_module": "@jupyter-widgets/controls",
            "_model_module_version": "1.5.0",
            "_model_name": "HBoxModel",
            "_view_count": null,
            "_view_module": "@jupyter-widgets/controls",
            "_view_module_version": "1.5.0",
            "_view_name": "HBoxView",
            "box_style": "",
            "children": [
              "IPY_MODEL_18cc58c6d75345b08b63c6829141b8e4",
              "IPY_MODEL_dbd22ff5b4fb464f96fff46447b5f556",
              "IPY_MODEL_7361f747e5cc41e1b157ccfdcdb0e0f0"
            ],
            "layout": "IPY_MODEL_d3ed0743791b47f18ae4eb6242a4ffe2"
          }
        },
        "18cc58c6d75345b08b63c6829141b8e4": {
          "model_module": "@jupyter-widgets/controls",
          "model_name": "HTMLModel",
          "model_module_version": "1.5.0",
          "state": {
            "_dom_classes": [],
            "_model_module": "@jupyter-widgets/controls",
            "_model_module_version": "1.5.0",
            "_model_name": "HTMLModel",
            "_view_count": null,
            "_view_module": "@jupyter-widgets/controls",
            "_view_module_version": "1.5.0",
            "_view_name": "HTMLView",
            "description": "",
            "description_tooltip": null,
            "layout": "IPY_MODEL_94cee917b1314cf1b00cea268530d9e2",
            "placeholder": "​",
            "style": "IPY_MODEL_7abc8924ed3a425eaf7cfcdd3449c038",
            "value": "merges.txt: 100%"
          }
        },
        "dbd22ff5b4fb464f96fff46447b5f556": {
          "model_module": "@jupyter-widgets/controls",
          "model_name": "FloatProgressModel",
          "model_module_version": "1.5.0",
          "state": {
            "_dom_classes": [],
            "_model_module": "@jupyter-widgets/controls",
            "_model_module_version": "1.5.0",
            "_model_name": "FloatProgressModel",
            "_view_count": null,
            "_view_module": "@jupyter-widgets/controls",
            "_view_module_version": "1.5.0",
            "_view_name": "ProgressView",
            "bar_style": "success",
            "description": "",
            "description_tooltip": null,
            "layout": "IPY_MODEL_032db8841ff64c5b9ec8ea6a0643d845",
            "max": 456318,
            "min": 0,
            "orientation": "horizontal",
            "style": "IPY_MODEL_1326c69096b34e30ae61830fa741b87f",
            "value": 456318
          }
        },
        "7361f747e5cc41e1b157ccfdcdb0e0f0": {
          "model_module": "@jupyter-widgets/controls",
          "model_name": "HTMLModel",
          "model_module_version": "1.5.0",
          "state": {
            "_dom_classes": [],
            "_model_module": "@jupyter-widgets/controls",
            "_model_module_version": "1.5.0",
            "_model_name": "HTMLModel",
            "_view_count": null,
            "_view_module": "@jupyter-widgets/controls",
            "_view_module_version": "1.5.0",
            "_view_name": "HTMLView",
            "description": "",
            "description_tooltip": null,
            "layout": "IPY_MODEL_a01b33c15dfc4b509eaddc1155efb369",
            "placeholder": "​",
            "style": "IPY_MODEL_535f8df8612c4923bafec85c7c0e33fb",
            "value": " 456k/456k [00:00&lt;00:00, 32.7MB/s]"
          }
        },
        "d3ed0743791b47f18ae4eb6242a4ffe2": {
          "model_module": "@jupyter-widgets/base",
          "model_name": "LayoutModel",
          "model_module_version": "1.2.0",
          "state": {
            "_model_module": "@jupyter-widgets/base",
            "_model_module_version": "1.2.0",
            "_model_name": "LayoutModel",
            "_view_count": null,
            "_view_module": "@jupyter-widgets/base",
            "_view_module_version": "1.2.0",
            "_view_name": "LayoutView",
            "align_content": null,
            "align_items": null,
            "align_self": null,
            "border": null,
            "bottom": null,
            "display": null,
            "flex": null,
            "flex_flow": null,
            "grid_area": null,
            "grid_auto_columns": null,
            "grid_auto_flow": null,
            "grid_auto_rows": null,
            "grid_column": null,
            "grid_gap": null,
            "grid_row": null,
            "grid_template_areas": null,
            "grid_template_columns": null,
            "grid_template_rows": null,
            "height": null,
            "justify_content": null,
            "justify_items": null,
            "left": null,
            "margin": null,
            "max_height": null,
            "max_width": null,
            "min_height": null,
            "min_width": null,
            "object_fit": null,
            "object_position": null,
            "order": null,
            "overflow": null,
            "overflow_x": null,
            "overflow_y": null,
            "padding": null,
            "right": null,
            "top": null,
            "visibility": null,
            "width": null
          }
        },
        "94cee917b1314cf1b00cea268530d9e2": {
          "model_module": "@jupyter-widgets/base",
          "model_name": "LayoutModel",
          "model_module_version": "1.2.0",
          "state": {
            "_model_module": "@jupyter-widgets/base",
            "_model_module_version": "1.2.0",
            "_model_name": "LayoutModel",
            "_view_count": null,
            "_view_module": "@jupyter-widgets/base",
            "_view_module_version": "1.2.0",
            "_view_name": "LayoutView",
            "align_content": null,
            "align_items": null,
            "align_self": null,
            "border": null,
            "bottom": null,
            "display": null,
            "flex": null,
            "flex_flow": null,
            "grid_area": null,
            "grid_auto_columns": null,
            "grid_auto_flow": null,
            "grid_auto_rows": null,
            "grid_column": null,
            "grid_gap": null,
            "grid_row": null,
            "grid_template_areas": null,
            "grid_template_columns": null,
            "grid_template_rows": null,
            "height": null,
            "justify_content": null,
            "justify_items": null,
            "left": null,
            "margin": null,
            "max_height": null,
            "max_width": null,
            "min_height": null,
            "min_width": null,
            "object_fit": null,
            "object_position": null,
            "order": null,
            "overflow": null,
            "overflow_x": null,
            "overflow_y": null,
            "padding": null,
            "right": null,
            "top": null,
            "visibility": null,
            "width": null
          }
        },
        "7abc8924ed3a425eaf7cfcdd3449c038": {
          "model_module": "@jupyter-widgets/controls",
          "model_name": "DescriptionStyleModel",
          "model_module_version": "1.5.0",
          "state": {
            "_model_module": "@jupyter-widgets/controls",
            "_model_module_version": "1.5.0",
            "_model_name": "DescriptionStyleModel",
            "_view_count": null,
            "_view_module": "@jupyter-widgets/base",
            "_view_module_version": "1.2.0",
            "_view_name": "StyleView",
            "description_width": ""
          }
        },
        "032db8841ff64c5b9ec8ea6a0643d845": {
          "model_module": "@jupyter-widgets/base",
          "model_name": "LayoutModel",
          "model_module_version": "1.2.0",
          "state": {
            "_model_module": "@jupyter-widgets/base",
            "_model_module_version": "1.2.0",
            "_model_name": "LayoutModel",
            "_view_count": null,
            "_view_module": "@jupyter-widgets/base",
            "_view_module_version": "1.2.0",
            "_view_name": "LayoutView",
            "align_content": null,
            "align_items": null,
            "align_self": null,
            "border": null,
            "bottom": null,
            "display": null,
            "flex": null,
            "flex_flow": null,
            "grid_area": null,
            "grid_auto_columns": null,
            "grid_auto_flow": null,
            "grid_auto_rows": null,
            "grid_column": null,
            "grid_gap": null,
            "grid_row": null,
            "grid_template_areas": null,
            "grid_template_columns": null,
            "grid_template_rows": null,
            "height": null,
            "justify_content": null,
            "justify_items": null,
            "left": null,
            "margin": null,
            "max_height": null,
            "max_width": null,
            "min_height": null,
            "min_width": null,
            "object_fit": null,
            "object_position": null,
            "order": null,
            "overflow": null,
            "overflow_x": null,
            "overflow_y": null,
            "padding": null,
            "right": null,
            "top": null,
            "visibility": null,
            "width": null
          }
        },
        "1326c69096b34e30ae61830fa741b87f": {
          "model_module": "@jupyter-widgets/controls",
          "model_name": "ProgressStyleModel",
          "model_module_version": "1.5.0",
          "state": {
            "_model_module": "@jupyter-widgets/controls",
            "_model_module_version": "1.5.0",
            "_model_name": "ProgressStyleModel",
            "_view_count": null,
            "_view_module": "@jupyter-widgets/base",
            "_view_module_version": "1.2.0",
            "_view_name": "StyleView",
            "bar_color": null,
            "description_width": ""
          }
        },
        "a01b33c15dfc4b509eaddc1155efb369": {
          "model_module": "@jupyter-widgets/base",
          "model_name": "LayoutModel",
          "model_module_version": "1.2.0",
          "state": {
            "_model_module": "@jupyter-widgets/base",
            "_model_module_version": "1.2.0",
            "_model_name": "LayoutModel",
            "_view_count": null,
            "_view_module": "@jupyter-widgets/base",
            "_view_module_version": "1.2.0",
            "_view_name": "LayoutView",
            "align_content": null,
            "align_items": null,
            "align_self": null,
            "border": null,
            "bottom": null,
            "display": null,
            "flex": null,
            "flex_flow": null,
            "grid_area": null,
            "grid_auto_columns": null,
            "grid_auto_flow": null,
            "grid_auto_rows": null,
            "grid_column": null,
            "grid_gap": null,
            "grid_row": null,
            "grid_template_areas": null,
            "grid_template_columns": null,
            "grid_template_rows": null,
            "height": null,
            "justify_content": null,
            "justify_items": null,
            "left": null,
            "margin": null,
            "max_height": null,
            "max_width": null,
            "min_height": null,
            "min_width": null,
            "object_fit": null,
            "object_position": null,
            "order": null,
            "overflow": null,
            "overflow_x": null,
            "overflow_y": null,
            "padding": null,
            "right": null,
            "top": null,
            "visibility": null,
            "width": null
          }
        },
        "535f8df8612c4923bafec85c7c0e33fb": {
          "model_module": "@jupyter-widgets/controls",
          "model_name": "DescriptionStyleModel",
          "model_module_version": "1.5.0",
          "state": {
            "_model_module": "@jupyter-widgets/controls",
            "_model_module_version": "1.5.0",
            "_model_name": "DescriptionStyleModel",
            "_view_count": null,
            "_view_module": "@jupyter-widgets/base",
            "_view_module_version": "1.2.0",
            "_view_name": "StyleView",
            "description_width": ""
          }
        },
        "6cbc5b985a774f2f94aa155578c623dd": {
          "model_module": "@jupyter-widgets/controls",
          "model_name": "HBoxModel",
          "model_module_version": "1.5.0",
          "state": {
            "_dom_classes": [],
            "_model_module": "@jupyter-widgets/controls",
            "_model_module_version": "1.5.0",
            "_model_name": "HBoxModel",
            "_view_count": null,
            "_view_module": "@jupyter-widgets/controls",
            "_view_module_version": "1.5.0",
            "_view_name": "HBoxView",
            "box_style": "",
            "children": [
              "IPY_MODEL_053b2c183a0042cf9c775beb7faf6d4d",
              "IPY_MODEL_1831c4d00cae495293679b5f962c9ad9",
              "IPY_MODEL_c11812efdf9d4d0080efb38d35f38bcc"
            ],
            "layout": "IPY_MODEL_820aa0d58b17499d943e76ed114ce6d9"
          }
        },
        "053b2c183a0042cf9c775beb7faf6d4d": {
          "model_module": "@jupyter-widgets/controls",
          "model_name": "HTMLModel",
          "model_module_version": "1.5.0",
          "state": {
            "_dom_classes": [],
            "_model_module": "@jupyter-widgets/controls",
            "_model_module_version": "1.5.0",
            "_model_name": "HTMLModel",
            "_view_count": null,
            "_view_module": "@jupyter-widgets/controls",
            "_view_module_version": "1.5.0",
            "_view_name": "HTMLView",
            "description": "",
            "description_tooltip": null,
            "layout": "IPY_MODEL_530f6778dda04c6883283fca0cdd51de",
            "placeholder": "​",
            "style": "IPY_MODEL_6ed3f5c78c54436db9e06a2241a231a0",
            "value": "tokenizer.json: 100%"
          }
        },
        "1831c4d00cae495293679b5f962c9ad9": {
          "model_module": "@jupyter-widgets/controls",
          "model_name": "FloatProgressModel",
          "model_module_version": "1.5.0",
          "state": {
            "_dom_classes": [],
            "_model_module": "@jupyter-widgets/controls",
            "_model_module_version": "1.5.0",
            "_model_name": "FloatProgressModel",
            "_view_count": null,
            "_view_module": "@jupyter-widgets/controls",
            "_view_module_version": "1.5.0",
            "_view_name": "ProgressView",
            "bar_style": "success",
            "description": "",
            "description_tooltip": null,
            "layout": "IPY_MODEL_dc25c70c078f45c6bf4d9bd85e5ec4cd",
            "max": 1355863,
            "min": 0,
            "orientation": "horizontal",
            "style": "IPY_MODEL_68073948cc7948cb8957d417455b6542",
            "value": 1355863
          }
        },
        "c11812efdf9d4d0080efb38d35f38bcc": {
          "model_module": "@jupyter-widgets/controls",
          "model_name": "HTMLModel",
          "model_module_version": "1.5.0",
          "state": {
            "_dom_classes": [],
            "_model_module": "@jupyter-widgets/controls",
            "_model_module_version": "1.5.0",
            "_model_name": "HTMLModel",
            "_view_count": null,
            "_view_module": "@jupyter-widgets/controls",
            "_view_module_version": "1.5.0",
            "_view_name": "HTMLView",
            "description": "",
            "description_tooltip": null,
            "layout": "IPY_MODEL_7a5aba059b8f42938860eb6e052d1a86",
            "placeholder": "​",
            "style": "IPY_MODEL_b6285e69c3db45acb8349f34df2966cf",
            "value": " 1.36M/1.36M [00:00&lt;00:00, 29.2MB/s]"
          }
        },
        "820aa0d58b17499d943e76ed114ce6d9": {
          "model_module": "@jupyter-widgets/base",
          "model_name": "LayoutModel",
          "model_module_version": "1.2.0",
          "state": {
            "_model_module": "@jupyter-widgets/base",
            "_model_module_version": "1.2.0",
            "_model_name": "LayoutModel",
            "_view_count": null,
            "_view_module": "@jupyter-widgets/base",
            "_view_module_version": "1.2.0",
            "_view_name": "LayoutView",
            "align_content": null,
            "align_items": null,
            "align_self": null,
            "border": null,
            "bottom": null,
            "display": null,
            "flex": null,
            "flex_flow": null,
            "grid_area": null,
            "grid_auto_columns": null,
            "grid_auto_flow": null,
            "grid_auto_rows": null,
            "grid_column": null,
            "grid_gap": null,
            "grid_row": null,
            "grid_template_areas": null,
            "grid_template_columns": null,
            "grid_template_rows": null,
            "height": null,
            "justify_content": null,
            "justify_items": null,
            "left": null,
            "margin": null,
            "max_height": null,
            "max_width": null,
            "min_height": null,
            "min_width": null,
            "object_fit": null,
            "object_position": null,
            "order": null,
            "overflow": null,
            "overflow_x": null,
            "overflow_y": null,
            "padding": null,
            "right": null,
            "top": null,
            "visibility": null,
            "width": null
          }
        },
        "530f6778dda04c6883283fca0cdd51de": {
          "model_module": "@jupyter-widgets/base",
          "model_name": "LayoutModel",
          "model_module_version": "1.2.0",
          "state": {
            "_model_module": "@jupyter-widgets/base",
            "_model_module_version": "1.2.0",
            "_model_name": "LayoutModel",
            "_view_count": null,
            "_view_module": "@jupyter-widgets/base",
            "_view_module_version": "1.2.0",
            "_view_name": "LayoutView",
            "align_content": null,
            "align_items": null,
            "align_self": null,
            "border": null,
            "bottom": null,
            "display": null,
            "flex": null,
            "flex_flow": null,
            "grid_area": null,
            "grid_auto_columns": null,
            "grid_auto_flow": null,
            "grid_auto_rows": null,
            "grid_column": null,
            "grid_gap": null,
            "grid_row": null,
            "grid_template_areas": null,
            "grid_template_columns": null,
            "grid_template_rows": null,
            "height": null,
            "justify_content": null,
            "justify_items": null,
            "left": null,
            "margin": null,
            "max_height": null,
            "max_width": null,
            "min_height": null,
            "min_width": null,
            "object_fit": null,
            "object_position": null,
            "order": null,
            "overflow": null,
            "overflow_x": null,
            "overflow_y": null,
            "padding": null,
            "right": null,
            "top": null,
            "visibility": null,
            "width": null
          }
        },
        "6ed3f5c78c54436db9e06a2241a231a0": {
          "model_module": "@jupyter-widgets/controls",
          "model_name": "DescriptionStyleModel",
          "model_module_version": "1.5.0",
          "state": {
            "_model_module": "@jupyter-widgets/controls",
            "_model_module_version": "1.5.0",
            "_model_name": "DescriptionStyleModel",
            "_view_count": null,
            "_view_module": "@jupyter-widgets/base",
            "_view_module_version": "1.2.0",
            "_view_name": "StyleView",
            "description_width": ""
          }
        },
        "dc25c70c078f45c6bf4d9bd85e5ec4cd": {
          "model_module": "@jupyter-widgets/base",
          "model_name": "LayoutModel",
          "model_module_version": "1.2.0",
          "state": {
            "_model_module": "@jupyter-widgets/base",
            "_model_module_version": "1.2.0",
            "_model_name": "LayoutModel",
            "_view_count": null,
            "_view_module": "@jupyter-widgets/base",
            "_view_module_version": "1.2.0",
            "_view_name": "LayoutView",
            "align_content": null,
            "align_items": null,
            "align_self": null,
            "border": null,
            "bottom": null,
            "display": null,
            "flex": null,
            "flex_flow": null,
            "grid_area": null,
            "grid_auto_columns": null,
            "grid_auto_flow": null,
            "grid_auto_rows": null,
            "grid_column": null,
            "grid_gap": null,
            "grid_row": null,
            "grid_template_areas": null,
            "grid_template_columns": null,
            "grid_template_rows": null,
            "height": null,
            "justify_content": null,
            "justify_items": null,
            "left": null,
            "margin": null,
            "max_height": null,
            "max_width": null,
            "min_height": null,
            "min_width": null,
            "object_fit": null,
            "object_position": null,
            "order": null,
            "overflow": null,
            "overflow_x": null,
            "overflow_y": null,
            "padding": null,
            "right": null,
            "top": null,
            "visibility": null,
            "width": null
          }
        },
        "68073948cc7948cb8957d417455b6542": {
          "model_module": "@jupyter-widgets/controls",
          "model_name": "ProgressStyleModel",
          "model_module_version": "1.5.0",
          "state": {
            "_model_module": "@jupyter-widgets/controls",
            "_model_module_version": "1.5.0",
            "_model_name": "ProgressStyleModel",
            "_view_count": null,
            "_view_module": "@jupyter-widgets/base",
            "_view_module_version": "1.2.0",
            "_view_name": "StyleView",
            "bar_color": null,
            "description_width": ""
          }
        },
        "7a5aba059b8f42938860eb6e052d1a86": {
          "model_module": "@jupyter-widgets/base",
          "model_name": "LayoutModel",
          "model_module_version": "1.2.0",
          "state": {
            "_model_module": "@jupyter-widgets/base",
            "_model_module_version": "1.2.0",
            "_model_name": "LayoutModel",
            "_view_count": null,
            "_view_module": "@jupyter-widgets/base",
            "_view_module_version": "1.2.0",
            "_view_name": "LayoutView",
            "align_content": null,
            "align_items": null,
            "align_self": null,
            "border": null,
            "bottom": null,
            "display": null,
            "flex": null,
            "flex_flow": null,
            "grid_area": null,
            "grid_auto_columns": null,
            "grid_auto_flow": null,
            "grid_auto_rows": null,
            "grid_column": null,
            "grid_gap": null,
            "grid_row": null,
            "grid_template_areas": null,
            "grid_template_columns": null,
            "grid_template_rows": null,
            "height": null,
            "justify_content": null,
            "justify_items": null,
            "left": null,
            "margin": null,
            "max_height": null,
            "max_width": null,
            "min_height": null,
            "min_width": null,
            "object_fit": null,
            "object_position": null,
            "order": null,
            "overflow": null,
            "overflow_x": null,
            "overflow_y": null,
            "padding": null,
            "right": null,
            "top": null,
            "visibility": null,
            "width": null
          }
        },
        "b6285e69c3db45acb8349f34df2966cf": {
          "model_module": "@jupyter-widgets/controls",
          "model_name": "DescriptionStyleModel",
          "model_module_version": "1.5.0",
          "state": {
            "_model_module": "@jupyter-widgets/controls",
            "_model_module_version": "1.5.0",
            "_model_name": "DescriptionStyleModel",
            "_view_count": null,
            "_view_module": "@jupyter-widgets/base",
            "_view_module_version": "1.2.0",
            "_view_name": "StyleView",
            "description_width": ""
          }
        },
        "c9b04ea46d9f424584cf7d1130796a1f": {
          "model_module": "@jupyter-widgets/controls",
          "model_name": "HBoxModel",
          "model_module_version": "1.5.0",
          "state": {
            "_dom_classes": [],
            "_model_module": "@jupyter-widgets/controls",
            "_model_module_version": "1.5.0",
            "_model_name": "HBoxModel",
            "_view_count": null,
            "_view_module": "@jupyter-widgets/controls",
            "_view_module_version": "1.5.0",
            "_view_name": "HBoxView",
            "box_style": "",
            "children": [
              "IPY_MODEL_7ff3b3e5d68e4a17ac7421365c8c9abe",
              "IPY_MODEL_d49de02ecd1f40a98d8e592b82d7ec24",
              "IPY_MODEL_8cfe5d163030456285b7294bc115e2fa"
            ],
            "layout": "IPY_MODEL_aca9daadd4e04d78a0a2521f35ca21ce"
          }
        },
        "7ff3b3e5d68e4a17ac7421365c8c9abe": {
          "model_module": "@jupyter-widgets/controls",
          "model_name": "HTMLModel",
          "model_module_version": "1.5.0",
          "state": {
            "_dom_classes": [],
            "_model_module": "@jupyter-widgets/controls",
            "_model_module_version": "1.5.0",
            "_model_name": "HTMLModel",
            "_view_count": null,
            "_view_module": "@jupyter-widgets/controls",
            "_view_module_version": "1.5.0",
            "_view_name": "HTMLView",
            "description": "",
            "description_tooltip": null,
            "layout": "IPY_MODEL_84de9c770919426c950ac770a2bcea7c",
            "placeholder": "​",
            "style": "IPY_MODEL_ba688393c15740e2868c21c48361c639",
            "value": "config.json: 100%"
          }
        },
        "d49de02ecd1f40a98d8e592b82d7ec24": {
          "model_module": "@jupyter-widgets/controls",
          "model_name": "FloatProgressModel",
          "model_module_version": "1.5.0",
          "state": {
            "_dom_classes": [],
            "_model_module": "@jupyter-widgets/controls",
            "_model_module_version": "1.5.0",
            "_model_name": "FloatProgressModel",
            "_view_count": null,
            "_view_module": "@jupyter-widgets/controls",
            "_view_module_version": "1.5.0",
            "_view_name": "ProgressView",
            "bar_style": "success",
            "description": "",
            "description_tooltip": null,
            "layout": "IPY_MODEL_6ff88108238e459395e3db12825cf2d3",
            "max": 481,
            "min": 0,
            "orientation": "horizontal",
            "style": "IPY_MODEL_ae5f5d0ce2d44244b230617fa800061a",
            "value": 481
          }
        },
        "8cfe5d163030456285b7294bc115e2fa": {
          "model_module": "@jupyter-widgets/controls",
          "model_name": "HTMLModel",
          "model_module_version": "1.5.0",
          "state": {
            "_dom_classes": [],
            "_model_module": "@jupyter-widgets/controls",
            "_model_module_version": "1.5.0",
            "_model_name": "HTMLModel",
            "_view_count": null,
            "_view_module": "@jupyter-widgets/controls",
            "_view_module_version": "1.5.0",
            "_view_name": "HTMLView",
            "description": "",
            "description_tooltip": null,
            "layout": "IPY_MODEL_be4ebae8359244d2a59ae308d150ccbe",
            "placeholder": "​",
            "style": "IPY_MODEL_5713a12eb34c480d90fb798e8d72214c",
            "value": " 481/481 [00:00&lt;00:00, 46.0kB/s]"
          }
        },
        "aca9daadd4e04d78a0a2521f35ca21ce": {
          "model_module": "@jupyter-widgets/base",
          "model_name": "LayoutModel",
          "model_module_version": "1.2.0",
          "state": {
            "_model_module": "@jupyter-widgets/base",
            "_model_module_version": "1.2.0",
            "_model_name": "LayoutModel",
            "_view_count": null,
            "_view_module": "@jupyter-widgets/base",
            "_view_module_version": "1.2.0",
            "_view_name": "LayoutView",
            "align_content": null,
            "align_items": null,
            "align_self": null,
            "border": null,
            "bottom": null,
            "display": null,
            "flex": null,
            "flex_flow": null,
            "grid_area": null,
            "grid_auto_columns": null,
            "grid_auto_flow": null,
            "grid_auto_rows": null,
            "grid_column": null,
            "grid_gap": null,
            "grid_row": null,
            "grid_template_areas": null,
            "grid_template_columns": null,
            "grid_template_rows": null,
            "height": null,
            "justify_content": null,
            "justify_items": null,
            "left": null,
            "margin": null,
            "max_height": null,
            "max_width": null,
            "min_height": null,
            "min_width": null,
            "object_fit": null,
            "object_position": null,
            "order": null,
            "overflow": null,
            "overflow_x": null,
            "overflow_y": null,
            "padding": null,
            "right": null,
            "top": null,
            "visibility": null,
            "width": null
          }
        },
        "84de9c770919426c950ac770a2bcea7c": {
          "model_module": "@jupyter-widgets/base",
          "model_name": "LayoutModel",
          "model_module_version": "1.2.0",
          "state": {
            "_model_module": "@jupyter-widgets/base",
            "_model_module_version": "1.2.0",
            "_model_name": "LayoutModel",
            "_view_count": null,
            "_view_module": "@jupyter-widgets/base",
            "_view_module_version": "1.2.0",
            "_view_name": "LayoutView",
            "align_content": null,
            "align_items": null,
            "align_self": null,
            "border": null,
            "bottom": null,
            "display": null,
            "flex": null,
            "flex_flow": null,
            "grid_area": null,
            "grid_auto_columns": null,
            "grid_auto_flow": null,
            "grid_auto_rows": null,
            "grid_column": null,
            "grid_gap": null,
            "grid_row": null,
            "grid_template_areas": null,
            "grid_template_columns": null,
            "grid_template_rows": null,
            "height": null,
            "justify_content": null,
            "justify_items": null,
            "left": null,
            "margin": null,
            "max_height": null,
            "max_width": null,
            "min_height": null,
            "min_width": null,
            "object_fit": null,
            "object_position": null,
            "order": null,
            "overflow": null,
            "overflow_x": null,
            "overflow_y": null,
            "padding": null,
            "right": null,
            "top": null,
            "visibility": null,
            "width": null
          }
        },
        "ba688393c15740e2868c21c48361c639": {
          "model_module": "@jupyter-widgets/controls",
          "model_name": "DescriptionStyleModel",
          "model_module_version": "1.5.0",
          "state": {
            "_model_module": "@jupyter-widgets/controls",
            "_model_module_version": "1.5.0",
            "_model_name": "DescriptionStyleModel",
            "_view_count": null,
            "_view_module": "@jupyter-widgets/base",
            "_view_module_version": "1.2.0",
            "_view_name": "StyleView",
            "description_width": ""
          }
        },
        "6ff88108238e459395e3db12825cf2d3": {
          "model_module": "@jupyter-widgets/base",
          "model_name": "LayoutModel",
          "model_module_version": "1.2.0",
          "state": {
            "_model_module": "@jupyter-widgets/base",
            "_model_module_version": "1.2.0",
            "_model_name": "LayoutModel",
            "_view_count": null,
            "_view_module": "@jupyter-widgets/base",
            "_view_module_version": "1.2.0",
            "_view_name": "LayoutView",
            "align_content": null,
            "align_items": null,
            "align_self": null,
            "border": null,
            "bottom": null,
            "display": null,
            "flex": null,
            "flex_flow": null,
            "grid_area": null,
            "grid_auto_columns": null,
            "grid_auto_flow": null,
            "grid_auto_rows": null,
            "grid_column": null,
            "grid_gap": null,
            "grid_row": null,
            "grid_template_areas": null,
            "grid_template_columns": null,
            "grid_template_rows": null,
            "height": null,
            "justify_content": null,
            "justify_items": null,
            "left": null,
            "margin": null,
            "max_height": null,
            "max_width": null,
            "min_height": null,
            "min_width": null,
            "object_fit": null,
            "object_position": null,
            "order": null,
            "overflow": null,
            "overflow_x": null,
            "overflow_y": null,
            "padding": null,
            "right": null,
            "top": null,
            "visibility": null,
            "width": null
          }
        },
        "ae5f5d0ce2d44244b230617fa800061a": {
          "model_module": "@jupyter-widgets/controls",
          "model_name": "ProgressStyleModel",
          "model_module_version": "1.5.0",
          "state": {
            "_model_module": "@jupyter-widgets/controls",
            "_model_module_version": "1.5.0",
            "_model_name": "ProgressStyleModel",
            "_view_count": null,
            "_view_module": "@jupyter-widgets/base",
            "_view_module_version": "1.2.0",
            "_view_name": "StyleView",
            "bar_color": null,
            "description_width": ""
          }
        },
        "be4ebae8359244d2a59ae308d150ccbe": {
          "model_module": "@jupyter-widgets/base",
          "model_name": "LayoutModel",
          "model_module_version": "1.2.0",
          "state": {
            "_model_module": "@jupyter-widgets/base",
            "_model_module_version": "1.2.0",
            "_model_name": "LayoutModel",
            "_view_count": null,
            "_view_module": "@jupyter-widgets/base",
            "_view_module_version": "1.2.0",
            "_view_name": "LayoutView",
            "align_content": null,
            "align_items": null,
            "align_self": null,
            "border": null,
            "bottom": null,
            "display": null,
            "flex": null,
            "flex_flow": null,
            "grid_area": null,
            "grid_auto_columns": null,
            "grid_auto_flow": null,
            "grid_auto_rows": null,
            "grid_column": null,
            "grid_gap": null,
            "grid_row": null,
            "grid_template_areas": null,
            "grid_template_columns": null,
            "grid_template_rows": null,
            "height": null,
            "justify_content": null,
            "justify_items": null,
            "left": null,
            "margin": null,
            "max_height": null,
            "max_width": null,
            "min_height": null,
            "min_width": null,
            "object_fit": null,
            "object_position": null,
            "order": null,
            "overflow": null,
            "overflow_x": null,
            "overflow_y": null,
            "padding": null,
            "right": null,
            "top": null,
            "visibility": null,
            "width": null
          }
        },
        "5713a12eb34c480d90fb798e8d72214c": {
          "model_module": "@jupyter-widgets/controls",
          "model_name": "DescriptionStyleModel",
          "model_module_version": "1.5.0",
          "state": {
            "_model_module": "@jupyter-widgets/controls",
            "_model_module_version": "1.5.0",
            "_model_name": "DescriptionStyleModel",
            "_view_count": null,
            "_view_module": "@jupyter-widgets/base",
            "_view_module_version": "1.2.0",
            "_view_name": "StyleView",
            "description_width": ""
          }
        },
        "f7780abdbcc0485b9a9d8b024f77f2e6": {
          "model_module": "@jupyter-widgets/controls",
          "model_name": "HBoxModel",
          "model_module_version": "1.5.0",
          "state": {
            "_dom_classes": [],
            "_model_module": "@jupyter-widgets/controls",
            "_model_module_version": "1.5.0",
            "_model_name": "HBoxModel",
            "_view_count": null,
            "_view_module": "@jupyter-widgets/controls",
            "_view_module_version": "1.5.0",
            "_view_name": "HBoxView",
            "box_style": "",
            "children": [
              "IPY_MODEL_9200d5a35616481cb2a72b7e3a7906e6",
              "IPY_MODEL_cb44ec1955e7470198502d10bcfc970e",
              "IPY_MODEL_84d9ffbb276c4052b5decdc53e360928"
            ],
            "layout": "IPY_MODEL_8f02eb8d60e74b73a846e7cfe6459f58"
          }
        },
        "9200d5a35616481cb2a72b7e3a7906e6": {
          "model_module": "@jupyter-widgets/controls",
          "model_name": "HTMLModel",
          "model_module_version": "1.5.0",
          "state": {
            "_dom_classes": [],
            "_model_module": "@jupyter-widgets/controls",
            "_model_module_version": "1.5.0",
            "_model_name": "HTMLModel",
            "_view_count": null,
            "_view_module": "@jupyter-widgets/controls",
            "_view_module_version": "1.5.0",
            "_view_name": "HTMLView",
            "description": "",
            "description_tooltip": null,
            "layout": "IPY_MODEL_02b6581458db490aa44704ab18b868e3",
            "placeholder": "​",
            "style": "IPY_MODEL_d0d1afa3cda4441e81dc63e6523b400e",
            "value": "model.safetensors: 100%"
          }
        },
        "cb44ec1955e7470198502d10bcfc970e": {
          "model_module": "@jupyter-widgets/controls",
          "model_name": "FloatProgressModel",
          "model_module_version": "1.5.0",
          "state": {
            "_dom_classes": [],
            "_model_module": "@jupyter-widgets/controls",
            "_model_module_version": "1.5.0",
            "_model_name": "FloatProgressModel",
            "_view_count": null,
            "_view_module": "@jupyter-widgets/controls",
            "_view_module_version": "1.5.0",
            "_view_name": "ProgressView",
            "bar_style": "success",
            "description": "",
            "description_tooltip": null,
            "layout": "IPY_MODEL_ce86b4174f1c4b0e9f416d1cdc63b090",
            "max": 498818054,
            "min": 0,
            "orientation": "horizontal",
            "style": "IPY_MODEL_7328b2b308dc4052be0ba31f9b07558b",
            "value": 498818054
          }
        },
        "84d9ffbb276c4052b5decdc53e360928": {
          "model_module": "@jupyter-widgets/controls",
          "model_name": "HTMLModel",
          "model_module_version": "1.5.0",
          "state": {
            "_dom_classes": [],
            "_model_module": "@jupyter-widgets/controls",
            "_model_module_version": "1.5.0",
            "_model_name": "HTMLModel",
            "_view_count": null,
            "_view_module": "@jupyter-widgets/controls",
            "_view_module_version": "1.5.0",
            "_view_name": "HTMLView",
            "description": "",
            "description_tooltip": null,
            "layout": "IPY_MODEL_921cd9528c7747c0905b8e3ef84d7fdc",
            "placeholder": "​",
            "style": "IPY_MODEL_ce51b17834b6442cad793702782a146a",
            "value": " 499M/499M [00:01&lt;00:00, 334MB/s]"
          }
        },
        "8f02eb8d60e74b73a846e7cfe6459f58": {
          "model_module": "@jupyter-widgets/base",
          "model_name": "LayoutModel",
          "model_module_version": "1.2.0",
          "state": {
            "_model_module": "@jupyter-widgets/base",
            "_model_module_version": "1.2.0",
            "_model_name": "LayoutModel",
            "_view_count": null,
            "_view_module": "@jupyter-widgets/base",
            "_view_module_version": "1.2.0",
            "_view_name": "LayoutView",
            "align_content": null,
            "align_items": null,
            "align_self": null,
            "border": null,
            "bottom": null,
            "display": null,
            "flex": null,
            "flex_flow": null,
            "grid_area": null,
            "grid_auto_columns": null,
            "grid_auto_flow": null,
            "grid_auto_rows": null,
            "grid_column": null,
            "grid_gap": null,
            "grid_row": null,
            "grid_template_areas": null,
            "grid_template_columns": null,
            "grid_template_rows": null,
            "height": null,
            "justify_content": null,
            "justify_items": null,
            "left": null,
            "margin": null,
            "max_height": null,
            "max_width": null,
            "min_height": null,
            "min_width": null,
            "object_fit": null,
            "object_position": null,
            "order": null,
            "overflow": null,
            "overflow_x": null,
            "overflow_y": null,
            "padding": null,
            "right": null,
            "top": null,
            "visibility": null,
            "width": null
          }
        },
        "02b6581458db490aa44704ab18b868e3": {
          "model_module": "@jupyter-widgets/base",
          "model_name": "LayoutModel",
          "model_module_version": "1.2.0",
          "state": {
            "_model_module": "@jupyter-widgets/base",
            "_model_module_version": "1.2.0",
            "_model_name": "LayoutModel",
            "_view_count": null,
            "_view_module": "@jupyter-widgets/base",
            "_view_module_version": "1.2.0",
            "_view_name": "LayoutView",
            "align_content": null,
            "align_items": null,
            "align_self": null,
            "border": null,
            "bottom": null,
            "display": null,
            "flex": null,
            "flex_flow": null,
            "grid_area": null,
            "grid_auto_columns": null,
            "grid_auto_flow": null,
            "grid_auto_rows": null,
            "grid_column": null,
            "grid_gap": null,
            "grid_row": null,
            "grid_template_areas": null,
            "grid_template_columns": null,
            "grid_template_rows": null,
            "height": null,
            "justify_content": null,
            "justify_items": null,
            "left": null,
            "margin": null,
            "max_height": null,
            "max_width": null,
            "min_height": null,
            "min_width": null,
            "object_fit": null,
            "object_position": null,
            "order": null,
            "overflow": null,
            "overflow_x": null,
            "overflow_y": null,
            "padding": null,
            "right": null,
            "top": null,
            "visibility": null,
            "width": null
          }
        },
        "d0d1afa3cda4441e81dc63e6523b400e": {
          "model_module": "@jupyter-widgets/controls",
          "model_name": "DescriptionStyleModel",
          "model_module_version": "1.5.0",
          "state": {
            "_model_module": "@jupyter-widgets/controls",
            "_model_module_version": "1.5.0",
            "_model_name": "DescriptionStyleModel",
            "_view_count": null,
            "_view_module": "@jupyter-widgets/base",
            "_view_module_version": "1.2.0",
            "_view_name": "StyleView",
            "description_width": ""
          }
        },
        "ce86b4174f1c4b0e9f416d1cdc63b090": {
          "model_module": "@jupyter-widgets/base",
          "model_name": "LayoutModel",
          "model_module_version": "1.2.0",
          "state": {
            "_model_module": "@jupyter-widgets/base",
            "_model_module_version": "1.2.0",
            "_model_name": "LayoutModel",
            "_view_count": null,
            "_view_module": "@jupyter-widgets/base",
            "_view_module_version": "1.2.0",
            "_view_name": "LayoutView",
            "align_content": null,
            "align_items": null,
            "align_self": null,
            "border": null,
            "bottom": null,
            "display": null,
            "flex": null,
            "flex_flow": null,
            "grid_area": null,
            "grid_auto_columns": null,
            "grid_auto_flow": null,
            "grid_auto_rows": null,
            "grid_column": null,
            "grid_gap": null,
            "grid_row": null,
            "grid_template_areas": null,
            "grid_template_columns": null,
            "grid_template_rows": null,
            "height": null,
            "justify_content": null,
            "justify_items": null,
            "left": null,
            "margin": null,
            "max_height": null,
            "max_width": null,
            "min_height": null,
            "min_width": null,
            "object_fit": null,
            "object_position": null,
            "order": null,
            "overflow": null,
            "overflow_x": null,
            "overflow_y": null,
            "padding": null,
            "right": null,
            "top": null,
            "visibility": null,
            "width": null
          }
        },
        "7328b2b308dc4052be0ba31f9b07558b": {
          "model_module": "@jupyter-widgets/controls",
          "model_name": "ProgressStyleModel",
          "model_module_version": "1.5.0",
          "state": {
            "_model_module": "@jupyter-widgets/controls",
            "_model_module_version": "1.5.0",
            "_model_name": "ProgressStyleModel",
            "_view_count": null,
            "_view_module": "@jupyter-widgets/base",
            "_view_module_version": "1.2.0",
            "_view_name": "StyleView",
            "bar_color": null,
            "description_width": ""
          }
        },
        "921cd9528c7747c0905b8e3ef84d7fdc": {
          "model_module": "@jupyter-widgets/base",
          "model_name": "LayoutModel",
          "model_module_version": "1.2.0",
          "state": {
            "_model_module": "@jupyter-widgets/base",
            "_model_module_version": "1.2.0",
            "_model_name": "LayoutModel",
            "_view_count": null,
            "_view_module": "@jupyter-widgets/base",
            "_view_module_version": "1.2.0",
            "_view_name": "LayoutView",
            "align_content": null,
            "align_items": null,
            "align_self": null,
            "border": null,
            "bottom": null,
            "display": null,
            "flex": null,
            "flex_flow": null,
            "grid_area": null,
            "grid_auto_columns": null,
            "grid_auto_flow": null,
            "grid_auto_rows": null,
            "grid_column": null,
            "grid_gap": null,
            "grid_row": null,
            "grid_template_areas": null,
            "grid_template_columns": null,
            "grid_template_rows": null,
            "height": null,
            "justify_content": null,
            "justify_items": null,
            "left": null,
            "margin": null,
            "max_height": null,
            "max_width": null,
            "min_height": null,
            "min_width": null,
            "object_fit": null,
            "object_position": null,
            "order": null,
            "overflow": null,
            "overflow_x": null,
            "overflow_y": null,
            "padding": null,
            "right": null,
            "top": null,
            "visibility": null,
            "width": null
          }
        },
        "ce51b17834b6442cad793702782a146a": {
          "model_module": "@jupyter-widgets/controls",
          "model_name": "DescriptionStyleModel",
          "model_module_version": "1.5.0",
          "state": {
            "_model_module": "@jupyter-widgets/controls",
            "_model_module_version": "1.5.0",
            "_model_name": "DescriptionStyleModel",
            "_view_count": null,
            "_view_module": "@jupyter-widgets/base",
            "_view_module_version": "1.2.0",
            "_view_name": "StyleView",
            "description_width": ""
          }
        }
      }
    }
  },
  "cells": [
    {
      "cell_type": "markdown",
      "source": [
        "# Task 2: Text classification\n"
      ],
      "metadata": {
        "id": "Q-eGf1ml8V47"
      }
    },
    {
      "cell_type": "markdown",
      "source": [
        "Due to the limitation of computational power, hyperparameter fine-tuning was very limited, and I relied on academic papers to get good values for the hyperparameter. Please note that I experimented with a number of values but only reported the best ones in this experiment due to, again, computational limitations.\n",
        "\n",
        "Papers:\n",
        "\n",
        "1- How to Fine-Tune BERT for Text Classification?\n",
        "Chi Sun, Xipeng Qiu, Yige Xu, Xuanjing Huang\n",
        "https://arxiv.org/abs/1905.05583\n",
        "\n",
        "2- BERTScore: Evaluating Text Generation with BERT\n",
        "Tianyi Zhang, Varsha Kishore, Felix Wu, Kilian Q. Weinberger, Yoav Artzi\n",
        "https://arxiv.org/abs/1904.09675\n",
        "\n",
        "3- Optimal Hyperparameters for Deep LSTM-Networks for Sequence Labeling Tasks\n",
        "Nils Reimers, Iryna Gurevych\n",
        "https://arxiv.org/abs/1707.06799"
      ],
      "metadata": {
        "id": "bhryRhodUcer"
      }
    },
    {
      "cell_type": "markdown",
      "source": [
        "Please note that as part of my final year project, I had access to colab pro, therefore the time reported here might differ greatly."
      ],
      "metadata": {
        "id": "3QpVEWKA94q6"
      }
    },
    {
      "cell_type": "markdown",
      "source": [
        "## Bi-directional LSTM\n",
        "\n"
      ],
      "metadata": {
        "id": "9URcsvKc8XKW"
      }
    },
    {
      "cell_type": "markdown",
      "source": [
        "### Setup and Imports\n",
        "*   Import necessary libraries and packages.\n",
        "*   Download NLTK resources required for text processing."
      ],
      "metadata": {
        "id": "jLTxNhlV7ITd"
      }
    },
    {
      "cell_type": "code",
      "execution_count": 1,
      "metadata": {
        "id": "Gzl_thb98Kld"
      },
      "outputs": [],
      "source": [
        "import pandas as pd\n",
        "import numpy as np\n",
        "\n",
        "import nltk\n",
        "from nltk.corpus import stopwords\n",
        "from nltk.stem import WordNetLemmatizer\n",
        "\n",
        "import tensorflow as tf\n",
        "from tensorflow.keras.preprocessing.text import Tokenizer\n",
        "from tensorflow.keras.preprocessing.sequence import pad_sequences\n",
        "from tensorflow.keras.models import Sequential\n",
        "from tensorflow.keras.layers import Embedding, Bidirectional, LSTM, Dense, Dropout\n",
        "\n",
        "from sklearn.model_selection import train_test_split\n",
        "from sklearn.utils.class_weight import compute_class_weight\n",
        "from sklearn.metrics import f1_score"
      ]
    },
    {
      "cell_type": "code",
      "source": [
        "nltk.download('stopwords')\n",
        "nltk.download('wordnet')\n",
        "nltk.download('omw-1.4')"
      ],
      "metadata": {
        "colab": {
          "base_uri": "https://localhost:8080/"
        },
        "id": "xbzMtkUYAx7Q",
        "outputId": "3ce18403-e000-4dc6-ba1a-0a4f9906f4fe"
      },
      "execution_count": 2,
      "outputs": [
        {
          "output_type": "stream",
          "name": "stderr",
          "text": [
            "[nltk_data] Downloading package stopwords to /root/nltk_data...\n",
            "[nltk_data]   Unzipping corpora/stopwords.zip.\n",
            "[nltk_data] Downloading package wordnet to /root/nltk_data...\n",
            "[nltk_data] Downloading package omw-1.4 to /root/nltk_data...\n"
          ]
        },
        {
          "output_type": "execute_result",
          "data": {
            "text/plain": [
              "True"
            ]
          },
          "metadata": {},
          "execution_count": 2
        }
      ]
    },
    {
      "cell_type": "markdown",
      "source": [
        "###  Data Loading\n",
        "* Load the training and validation datasets.\n",
        "* Define the base path for data files."
      ],
      "metadata": {
        "id": "R0P1EPrwA-PP"
      }
    },
    {
      "cell_type": "code",
      "source": [
        "# change to ./data/\n",
        "base = './data/'\n",
        "result_base = './data/'"
      ],
      "metadata": {
        "id": "UcHW2fsy_trq"
      },
      "execution_count": 4,
      "outputs": []
    },
    {
      "cell_type": "code",
      "source": [
        "df = pd.read_csv(base+'Training-dataset.csv')\n",
        "\n",
        "validation_df = pd.read_csv(base+'Task-2-validation-dataset.csv')"
      ],
      "metadata": {
        "id": "fKbKXE_qHwd9"
      },
      "execution_count": 5,
      "outputs": []
    },
    {
      "cell_type": "markdown",
      "source": [
        "### Data Preprocessing\n",
        "* Initialize stop words and lemmatizer.\n",
        "* Clean data."
      ],
      "metadata": {
        "id": "ax2yMFzBBdte"
      }
    },
    {
      "cell_type": "code",
      "source": [
        "# Initialize stop words and lemmatizer\n",
        "stop_words = set(stopwords.words('english'))\n",
        "lemmatizer = WordNetLemmatizer()"
      ],
      "metadata": {
        "id": "2zDpapYjT6Nl"
      },
      "execution_count": 6,
      "outputs": []
    },
    {
      "cell_type": "code",
      "source": [
        "def clean_text(text):\n",
        "    \"\"\"\n",
        "    Function to clean and preprocess the text.\n",
        "\n",
        "    Steps:\n",
        "    1. Remove non-alphabetic characters.\n",
        "    2. Tokenize the text (split into words).\n",
        "    3. Remove stop words and apply lemmatization.\n",
        "    4. Reassemble the text from processed tokens.\n",
        "\n",
        "    Args:\n",
        "    text (str): The input text string to be cleaned.\n",
        "\n",
        "    Returns:\n",
        "    str: The cleaned and processed text.\n",
        "    \"\"\"\n",
        "\n",
        "    # Remove non-alphabetic characters (keep alphabets and spaces)\n",
        "    text = ''.join([c for c in text if c.isalpha() or c.isspace()])\n",
        "\n",
        "    # Tokenize the text by splitting it into words\n",
        "    tokens = text.split()\n",
        "\n",
        "    # Remove stop words (common words that are usually filtered out) and lemmatize each word\n",
        "    # Lemmatization is the process of converting a word to its base form\n",
        "    tokens = [lemmatizer.lemmatize(word) for word in tokens if word not in stop_words]\n",
        "\n",
        "    # Reassemble the cleaned tokens back into a single string\n",
        "    text = ' '.join(tokens)\n",
        "\n",
        "    # Convert the text to lowercase to maintain uniformity\n",
        "    return text.lower()\n"
      ],
      "metadata": {
        "id": "uoYhh3XyTSrX"
      },
      "execution_count": 7,
      "outputs": []
    },
    {
      "cell_type": "code",
      "source": [
        "# Apply the cleaning function to plot_synopsis in both training and vaildation data\n",
        "df['plot_synopsis'] = df['plot_synopsis'].apply(clean_text)\n",
        "validation_df['plot_synopsis'] = validation_df['plot_synopsis'].apply(clean_text)"
      ],
      "metadata": {
        "id": "35Zv9TDETQMZ"
      },
      "execution_count": 8,
      "outputs": []
    },
    {
      "cell_type": "markdown",
      "source": [
        "### Data Tokenization\n",
        "* Tokenize text data and convert them into sequences.\n",
        "* Calculate the optimal sequence length (95th percentile) and perform sequence padding."
      ],
      "metadata": {
        "id": "OtvFmOYeCNHT"
      }
    },
    {
      "cell_type": "code",
      "source": [
        "# Initialize the tokenizer with a specified maximum number of words (vocabulary size) and an OOV (Out Of Vocabulary) token.\n",
        "# The OOV token is used for words that are not in the top 5000 most frequent words (based on num_words=5000).\n",
        "tokenizer = Tokenizer(num_words=5000, oov_token='<OOV>')\n",
        "\n",
        "# Fit the tokenizer on the text data. This step involves analyzing the text, creating a word index,\n",
        "# and effectively learning the vocabulary of the dataset.\n",
        "tokenizer.fit_on_texts(df['plot_synopsis'])\n",
        "\n",
        "# Transform the text in 'plot_synopsis' into sequences of integers, where each integer represents a specific word.\n",
        "# Words not in the top 5000 are represented by the OOV token index.\n",
        "sequences = tokenizer.texts_to_sequences(df['plot_synopsis'])\n",
        "\n",
        "# Calculate the length of each sequence (number of words per plot synopsis).\n",
        "sequence_lengths = [len(seq) for seq in sequences]\n",
        "\n",
        "# Determine the sequence length that covers 95% of the data.\n",
        "# This means 95% of the plot synopses will have their length equal to or less than this value.\n",
        "sen_length = np.percentile(sequence_lengths, 95)\n",
        "sen_length = int(np.ceil(sen_length))  # Round up to the nearest whole number to avoid fractions.\n",
        "\n",
        "# Pad (or truncate) the sequences to have a uniform length.\n",
        "# This ensures that all input sequences fed into a neural network have the same length.\n",
        "# 'padding=post' adds padding at the end (if needed), and 'truncating=post' truncates sequences at the end (if they are longer than sen_length).\n",
        "padded_sequences = pad_sequences(sequences, maxlen=sen_length, padding='post', truncating='post')\n"
      ],
      "metadata": {
        "id": "zvNSmeHWCSYL"
      },
      "execution_count": 9,
      "outputs": []
    },
    {
      "cell_type": "markdown",
      "source": [
        "### Model Building"
      ],
      "metadata": {
        "id": "Rnb-_nEd8xic"
      }
    },
    {
      "cell_type": "code",
      "source": [
        "# Extract labels\n",
        "labels = df.iloc[:, 3:].to_numpy()"
      ],
      "metadata": {
        "id": "3sg776FIEt2O"
      },
      "execution_count": 10,
      "outputs": []
    },
    {
      "cell_type": "code",
      "source": [
        "# Calculate class weights for handling imbalanced datasets.\n",
        "weights = labels.sum(axis=0)\n",
        "class_weights = {i: (1 / weight) * (len(labels) / 2.0) for i, weight in enumerate(weights)}\n",
        "class_weights"
      ],
      "metadata": {
        "colab": {
          "base_uri": "https://localhost:8080/"
        },
        "id": "YCpHV29jEv4R",
        "outputId": "e985faa0-e9c8-4713-d313-d5c6d549f743"
      },
      "execution_count": 11,
      "outputs": [
        {
          "output_type": "execute_result",
          "data": {
            "text/plain": [
              "{0: 3.271394611727417,\n",
              " 1: 2.2923375902276515,\n",
              " 2: 2.0704613841524573,\n",
              " 3: 22.196236559139788,\n",
              " 4: 1.0272455834784773,\n",
              " 5: 2.4915509957754978,\n",
              " 6: 2.058075772681954,\n",
              " 7: 20.237745098039216,\n",
              " 8: 1.3474216710182767}"
            ]
          },
          "metadata": {},
          "execution_count": 11
        }
      ]
    },
    {
      "cell_type": "code",
      "source": [
        "# Define the vocabulary size. It's the total number of unique words in your dataset plus one for the padding token.\n",
        "VOCAB_SIZE = len(tokenizer.word_index) + 1\n",
        "\n",
        "# Set the dimension for the word embeddings.\n",
        "# This is the size of the vector space in which words will be embedded.\n",
        "EMBEDDING_DIM = 150\n",
        "\n",
        "# Initialize the Sequential model.\n",
        "model = Sequential()\n",
        "\n",
        "# Add an Embedding layer.\n",
        "# This layer turns positive integers (indexes) into dense vectors of fixed size (EMBEDDING_DIM).\n",
        "# It's the first layer of the model and takes the vocabulary size and the embedding dimension as inputs.\n",
        "model.add(Embedding(VOCAB_SIZE, EMBEDDING_DIM, input_length=sen_length))\n",
        "\n",
        "# Add a Bidirectional LSTM layer with 64 units.\n",
        "# 'return_sequences=True' is necessary here as we will add another LSTM layer after this one.\n",
        "model.add(Bidirectional(LSTM(64, return_sequences=True)))\n",
        "\n",
        "# Add another Bidirectional LSTM layer, this time with 32 units.\n",
        "# It will process the sequences returned by the previous LSTM layer.\n",
        "model.add(Bidirectional(LSTM(32)))\n",
        "\n",
        "# Add a Dense (fully connected) layer with 64 neurons and ReLU (Rectified Linear Unit) activation function.\n",
        "# This layer will help to learn non-linear relationships in the data.\n",
        "model.add(Dense(64, activation='relu'))\n",
        "\n",
        "# Add a Dropout layer with a dropout rate of 0.5 to prevent overfitting.\n",
        "# This layer randomly sets input units to 0 with a frequency of 0.5 at each step during training.\n",
        "model.add(Dropout(0.5))\n",
        "\n",
        "# Add the output Dense layer with a number of neurons equal to the number of labels (classes) in your dataset.\n",
        "# Use the sigmoid activation function for binary classification.\n",
        "model.add(Dense(labels.shape[1], activation='sigmoid'))\n",
        "\n",
        "# Compile the model specifying the loss function, optimizer, and metrics to track during training.\n",
        "# 'binary_crossentropy' is suitable for binary classification tasks.\n",
        "model.compile(loss='binary_crossentropy', optimizer='adam', metrics=['accuracy'])\n",
        "\n",
        "# Generate a summary of the model's architecture.\n",
        "model.summary()"
      ],
      "metadata": {
        "colab": {
          "base_uri": "https://localhost:8080/"
        },
        "id": "sdfVmI5-E4Fr",
        "outputId": "74cc5047-a9a4-43f2-e1c0-0f10f556d46e"
      },
      "execution_count": 12,
      "outputs": [
        {
          "output_type": "stream",
          "name": "stdout",
          "text": [
            "Model: \"sequential\"\n",
            "_________________________________________________________________\n",
            " Layer (type)                Output Shape              Param #   \n",
            "=================================================================\n",
            " embedding (Embedding)       (None, 1246, 150)         19495200  \n",
            "                                                                 \n",
            " bidirectional (Bidirection  (None, 1246, 128)         110080    \n",
            " al)                                                             \n",
            "                                                                 \n",
            " bidirectional_1 (Bidirecti  (None, 64)                41216     \n",
            " onal)                                                           \n",
            "                                                                 \n",
            " dense (Dense)               (None, 64)                4160      \n",
            "                                                                 \n",
            " dropout (Dropout)           (None, 64)                0         \n",
            "                                                                 \n",
            " dense_1 (Dense)             (None, 9)                 585       \n",
            "                                                                 \n",
            "=================================================================\n",
            "Total params: 19651241 (74.96 MB)\n",
            "Trainable params: 19651241 (74.96 MB)\n",
            "Non-trainable params: 0 (0.00 Byte)\n",
            "_________________________________________________________________\n"
          ]
        }
      ]
    },
    {
      "cell_type": "code",
      "source": [
        "# Transform the 'plot_synopsis' column of the validation data into sequences of integers.\n",
        "# The tokenizer converts each word in the text to its corresponding integer index based on the word_index learned during fitting.\n",
        "validation_sequences = tokenizer.texts_to_sequences(validation_df['plot_synopsis'])\n",
        "\n",
        "# Pad or truncate the sequences in the validation set to ensure they have a uniform length.\n",
        "# This matches the length used for training data (sen_length).\n",
        "# Padding is done at the end ('post') and sequences longer than 'sen_length' are truncated from the end ('post').\n",
        "validation_padded = pad_sequences(validation_sequences, maxlen=sen_length, padding='post', truncating='post')\n",
        "\n",
        "# Extract the labels for the validation data.\n",
        "validation_labels = validation_df.iloc[:, 3:].to_numpy()"
      ],
      "metadata": {
        "id": "vFY9C0cHE7JY"
      },
      "execution_count": 13,
      "outputs": []
    },
    {
      "cell_type": "markdown",
      "source": [
        "### Model Training"
      ],
      "metadata": {
        "id": "mtsOYM30CPlm"
      }
    },
    {
      "cell_type": "code",
      "source": [
        "%%time\n",
        "\n",
        "from tensorflow.keras.callbacks import EarlyStopping, ModelCheckpoint\n",
        "\n",
        "# Set up EarlyStopping to halt training early if validation loss doesn't improve for 3 consecutive epochs.\n",
        "early_stopping = EarlyStopping(monitor='val_loss', patience=3, verbose=1, restore_best_weights=True)\n",
        "\n",
        "# ModelCheckpoint to save the model with the lowest validation loss.\n",
        "model_checkpoint = ModelCheckpoint('best_model.h5', monitor='val_loss', save_best_only=True, verbose=1)\n",
        "\n",
        "# Training the model. Includes EarlyStopping and ModelCheckpoint in callbacks for improved training control.\n",
        "history = model.fit(\n",
        "    padded_sequences, labels,\n",
        "    epochs=15,\n",
        "    validation_data=(validation_padded, validation_labels),\n",
        "    class_weight=class_weights,  # Address class imbalance\n",
        "    callbacks=[early_stopping, model_checkpoint],\n",
        "    verbose=2  # Moderate level of verbosity during training\n",
        ")\n"
      ],
      "metadata": {
        "colab": {
          "base_uri": "https://localhost:8080/"
        },
        "id": "T5iOP7GDE7zb",
        "outputId": "478e0a39-d5bd-40f4-b8c9-6bbf52c911af"
      },
      "execution_count": 14,
      "outputs": [
        {
          "output_type": "stream",
          "name": "stdout",
          "text": [
            "Epoch 1/15\n",
            "\n",
            "Epoch 1: val_loss improved from inf to 0.47574, saving model to best_model.h5\n"
          ]
        },
        {
          "output_type": "stream",
          "name": "stderr",
          "text": [
            "/usr/local/lib/python3.10/dist-packages/keras/src/engine/training.py:3079: UserWarning: You are saving your model as an HDF5 file via `model.save()`. This file format is considered legacy. We recommend using instead the native Keras format, e.g. `model.save('my_model.keras')`.\n",
            "  saving_api.save_model(\n"
          ]
        },
        {
          "output_type": "stream",
          "name": "stdout",
          "text": [
            "259/259 - 77s - loss: 1.2923 - accuracy: 0.1865 - val_loss: 0.4757 - val_accuracy: 0.2643 - 77s/epoch - 296ms/step\n",
            "Epoch 2/15\n",
            "\n",
            "Epoch 2: val_loss improved from 0.47574 to 0.46657, saving model to best_model.h5\n",
            "259/259 - 51s - loss: 1.2043 - accuracy: 0.2311 - val_loss: 0.4666 - val_accuracy: 0.2323 - 51s/epoch - 197ms/step\n",
            "Epoch 3/15\n",
            "\n",
            "Epoch 3: val_loss improved from 0.46657 to 0.45710, saving model to best_model.h5\n",
            "259/259 - 46s - loss: 1.1063 - accuracy: 0.2610 - val_loss: 0.4571 - val_accuracy: 0.2567 - 46s/epoch - 179ms/step\n",
            "Epoch 4/15\n",
            "\n",
            "Epoch 4: val_loss did not improve from 0.45710\n",
            "259/259 - 43s - loss: 0.9851 - accuracy: 0.2947 - val_loss: 0.4652 - val_accuracy: 0.2424 - 43s/epoch - 164ms/step\n",
            "Epoch 5/15\n",
            "\n",
            "Epoch 5: val_loss did not improve from 0.45710\n",
            "259/259 - 40s - loss: 0.8997 - accuracy: 0.3270 - val_loss: 0.4820 - val_accuracy: 0.2155 - 40s/epoch - 153ms/step\n",
            "Epoch 6/15\n",
            "Restoring model weights from the end of the best epoch: 3.\n",
            "\n",
            "Epoch 6: val_loss did not improve from 0.45710\n",
            "259/259 - 40s - loss: 0.8346 - accuracy: 0.3483 - val_loss: 0.4766 - val_accuracy: 0.2609 - 40s/epoch - 155ms/step\n",
            "Epoch 6: early stopping\n",
            "CPU times: user 4min 19s, sys: 15.8 s, total: 4min 35s\n",
            "Wall time: 4min 56s\n"
          ]
        }
      ]
    },
    {
      "cell_type": "markdown",
      "source": [
        "### Threshold Selection and Model Evaluation"
      ],
      "metadata": {
        "id": "DPFlu5fD9TaG"
      }
    },
    {
      "cell_type": "code",
      "source": [
        "# Use the trained model to make predictions on the validation data.\n",
        "predictions = model.predict(validation_padded)"
      ],
      "metadata": {
        "colab": {
          "base_uri": "https://localhost:8080/"
        },
        "id": "SS9F9oazUPhj",
        "outputId": "040d4311-7e63-43d7-d8f2-a5cd6a6f78fc"
      },
      "execution_count": 15,
      "outputs": [
        {
          "output_type": "stream",
          "name": "stdout",
          "text": [
            "38/38 [==============================] - 3s 57ms/step\n"
          ]
        }
      ]
    },
    {
      "cell_type": "markdown",
      "source": [
        "\n",
        "This code optimizes class-specific thresholds for a multi-label classification model using ROC analysis. It calculates optimal thresholds for each class to balance true and false positives, applies these thresholds to generate binary predictions, and then organizes these predictions into a DataFrame for evaluation or submission as a CSV file."
      ],
      "metadata": {
        "id": "Rlgx4qLpBJe-"
      }
    },
    {
      "cell_type": "code",
      "source": [
        "from sklearn.metrics import roc_curve\n",
        "\n",
        "# Class-specific threshold tuning based on ROC analysis\n",
        "class_thresholds = np.zeros(predictions.shape[1])\n",
        "\n",
        "for class_idx in range(predictions.shape[1]):\n",
        "    fpr, tpr, thresholds = roc_curve(validation_labels[:, class_idx], predictions[:, class_idx])\n",
        "\n",
        "    # Youden's J statistic to identify the best threshold\n",
        "    j_scores = tpr - fpr\n",
        "    j_ordered = sorted(zip(j_scores, thresholds))\n",
        "    best_threshold = j_ordered[-1][1]\n",
        "\n",
        "    class_thresholds[class_idx] = best_threshold\n",
        "    print(f\"Class {class_idx + 1}: Best Threshold = {best_threshold:.2f}\")\n",
        "\n",
        "# Apply class-specific thresholds to the predictions\n",
        "binary_predictions = np.array([np.where(predictions[:, i] > class_thresholds[i], 1, 0) for i in range(predictions.shape[1])]).T\n",
        "\n",
        "# Create a new DataFrame for submission\n",
        "submission_df = pd.DataFrame(binary_predictions, columns=df.columns[3:])\n",
        "submission_df.insert(0, 'doc_id', validation_df['ID'])\n",
        "\n",
        "# Save the DataFrame to a CSV file\n",
        "submission_df.to_csv(result_base+'10931277-Task2-method-b-validation.csv', index=False, header=False)\n"
      ],
      "metadata": {
        "colab": {
          "base_uri": "https://localhost:8080/"
        },
        "outputId": "2b96224b-a9e7-45ab-9e8b-6a39b4745f7c",
        "id": "db3A0zAY6Fkw"
      },
      "execution_count": 16,
      "outputs": [
        {
          "output_type": "stream",
          "name": "stdout",
          "text": [
            "Class 1: Best Threshold = 0.20\n",
            "Class 2: Best Threshold = 0.26\n",
            "Class 3: Best Threshold = 0.22\n",
            "Class 4: Best Threshold = 0.13\n",
            "Class 5: Best Threshold = 0.54\n",
            "Class 6: Best Threshold = 0.15\n",
            "Class 7: Best Threshold = 0.25\n",
            "Class 8: Best Threshold = 0.07\n",
            "Class 9: Best Threshold = 0.28\n"
          ]
        }
      ]
    },
    {
      "cell_type": "markdown",
      "source": [
        "### Test dataset Prediction"
      ],
      "metadata": {
        "id": "m_oCTzJd98Xu"
      }
    },
    {
      "cell_type": "code",
      "source": [
        "%%time\n",
        "# Load the test dataset\n",
        "test_df = pd.read_csv(base + 'Task-2-test-dataset1.csv')\n",
        "\n",
        "# Clean the text data in the test dataset\n",
        "test_df['plot_synopsis'] = test_df['plot_synopsis'].apply(clean_text)\n",
        "\n",
        "# Convert the text in 'plot_synopsis' of the test dataset into sequences of integers\n",
        "test_sequences = tokenizer.texts_to_sequences(test_df['plot_synopsis'])\n",
        "\n",
        "# Pad the sequences in the test set to have a uniform length\n",
        "test_padded = pad_sequences(test_sequences, maxlen=sen_length, padding='post', truncating='post')\n",
        "\n",
        "# Use the trained model to make predictions on the test data\n",
        "test_predictions = model.predict(test_padded)\n",
        "\n",
        "# Apply the previously determined class-specific thresholds to these predictions\n",
        "test_binary_predictions = np.array([np.where(test_predictions[:, i] > class_thresholds[i], 1, 0) for i in range(test_predictions.shape[1])]).T\n",
        "\n",
        "# Optionally, create a DataFrame for the binary predictions, similar to the submission DataFrame\n",
        "test_submission_df = pd.DataFrame(test_binary_predictions, columns=df.columns[3:])\n",
        "test_submission_df.insert(0, 'doc_id', test_df['ID'])\n",
        "\n",
        "# Save the test predictions to a CSV file if needed\n",
        "test_submission_df.to_csv(result_base+'10931277-Task2-method-b.csv', index=False, header=False)"
      ],
      "metadata": {
        "colab": {
          "base_uri": "https://localhost:8080/"
        },
        "id": "ZAp8fN8s9oKc",
        "outputId": "6c1d183d-d8ea-462c-9789-24758e26109c"
      },
      "execution_count": 17,
      "outputs": [
        {
          "output_type": "stream",
          "name": "stdout",
          "text": [
            "38/38 [==============================] - 2s 58ms/step\n",
            "CPU times: user 4.85 s, sys: 216 ms, total: 5.07 s\n",
            "Wall time: 5.42 s\n"
          ]
        }
      ]
    },
    {
      "cell_type": "markdown",
      "source": [
        "## RoBERTa"
      ],
      "metadata": {
        "id": "NWpUrcnQsNi8"
      }
    },
    {
      "cell_type": "markdown",
      "source": [
        "### Setup and Imports"
      ],
      "metadata": {
        "id": "orE_ztGe6i_g"
      }
    },
    {
      "cell_type": "code",
      "execution_count": 18,
      "metadata": {
        "colab": {
          "base_uri": "https://localhost:8080/"
        },
        "id": "uk8I6LA1yNtp",
        "outputId": "426d1657-73fa-4132-db28-73908464c98d"
      },
      "outputs": [
        {
          "output_type": "stream",
          "name": "stdout",
          "text": [
            "Requirement already satisfied: transformers in /usr/local/lib/python3.10/dist-packages (4.35.2)\n",
            "Requirement already satisfied: filelock in /usr/local/lib/python3.10/dist-packages (from transformers) (3.13.1)\n",
            "Requirement already satisfied: huggingface-hub<1.0,>=0.16.4 in /usr/local/lib/python3.10/dist-packages (from transformers) (0.19.4)\n",
            "Requirement already satisfied: numpy>=1.17 in /usr/local/lib/python3.10/dist-packages (from transformers) (1.23.5)\n",
            "Requirement already satisfied: packaging>=20.0 in /usr/local/lib/python3.10/dist-packages (from transformers) (23.2)\n",
            "Requirement already satisfied: pyyaml>=5.1 in /usr/local/lib/python3.10/dist-packages (from transformers) (6.0.1)\n",
            "Requirement already satisfied: regex!=2019.12.17 in /usr/local/lib/python3.10/dist-packages (from transformers) (2023.6.3)\n",
            "Requirement already satisfied: requests in /usr/local/lib/python3.10/dist-packages (from transformers) (2.31.0)\n",
            "Requirement already satisfied: tokenizers<0.19,>=0.14 in /usr/local/lib/python3.10/dist-packages (from transformers) (0.15.0)\n",
            "Requirement already satisfied: safetensors>=0.3.1 in /usr/local/lib/python3.10/dist-packages (from transformers) (0.4.0)\n",
            "Requirement already satisfied: tqdm>=4.27 in /usr/local/lib/python3.10/dist-packages (from transformers) (4.66.1)\n",
            "Requirement already satisfied: fsspec>=2023.5.0 in /usr/local/lib/python3.10/dist-packages (from huggingface-hub<1.0,>=0.16.4->transformers) (2023.6.0)\n",
            "Requirement already satisfied: typing-extensions>=3.7.4.3 in /usr/local/lib/python3.10/dist-packages (from huggingface-hub<1.0,>=0.16.4->transformers) (4.5.0)\n",
            "Requirement already satisfied: charset-normalizer<4,>=2 in /usr/local/lib/python3.10/dist-packages (from requests->transformers) (3.3.2)\n",
            "Requirement already satisfied: idna<4,>=2.5 in /usr/local/lib/python3.10/dist-packages (from requests->transformers) (3.4)\n",
            "Requirement already satisfied: urllib3<3,>=1.21.1 in /usr/local/lib/python3.10/dist-packages (from requests->transformers) (2.0.7)\n",
            "Requirement already satisfied: certifi>=2017.4.17 in /usr/local/lib/python3.10/dist-packages (from requests->transformers) (2023.7.22)\n"
          ]
        }
      ],
      "source": [
        "!pip install transformers"
      ]
    },
    {
      "cell_type": "code",
      "source": [
        "import pandas as pd\n",
        "import numpy as np\n",
        "from transformers import RobertaTokenizer, TFRobertaForSequenceClassification\n",
        "import tensorflow as tf\n",
        "from sklearn.model_selection import train_test_split\n",
        "from sklearn.metrics import f1_score, precision_score, recall_score"
      ],
      "metadata": {
        "id": "tEeJaiJdyZEr"
      },
      "execution_count": 19,
      "outputs": []
    },
    {
      "cell_type": "markdown",
      "source": [
        "### Data Loading"
      ],
      "metadata": {
        "id": "fCwacUqi6oD0"
      }
    },
    {
      "cell_type": "code",
      "source": [
        "base = './data/'\n",
        "result_base = './data/'"
      ],
      "metadata": {
        "id": "-E0fpjARCE9I"
      },
      "execution_count": 21,
      "outputs": []
    },
    {
      "cell_type": "code",
      "source": [
        "df = pd.read_csv(base+'Training-dataset.csv')\n",
        "\n",
        "validation_df = pd.read_csv(base+'Task-2-validation-dataset.csv')"
      ],
      "metadata": {
        "id": "P69QaiTSCE9J"
      },
      "execution_count": 22,
      "outputs": []
    },
    {
      "cell_type": "markdown",
      "source": [
        "### Data Tokenization"
      ],
      "metadata": {
        "id": "A-dU-xPS6r5D"
      }
    },
    {
      "cell_type": "code",
      "source": [
        "# Initialize RoBERTa tokenizer\n",
        "tokenizer = RobertaTokenizer.from_pretrained('roberta-base')"
      ],
      "metadata": {
        "colab": {
          "base_uri": "https://localhost:8080/",
          "height": 145,
          "referenced_widgets": [
            "6b7c4c11e0be4bab8174ddd03f8a5958",
            "100ce6264f8e4fe8b26ae3994ce6888c",
            "e8543c2dcd474b62a51571be189caa59",
            "5600fc199db249949f1dc184e8286cae",
            "69a3444dec3a4f46b2a80ed78fedcecd",
            "e9465ea9e2794a63b505dd4743f699a9",
            "e3ed2f90b87c43a4aaa3be8a50f3883c",
            "4c4d3eb27224481bb28d926d85311d80",
            "df27781ca27b448e9b27c4038bf51f5e",
            "b44870ef23f1455fa816300ed39b3a78",
            "2b07207d02884ddab490b0a93d843f23",
            "2422626252804ff890efac0cc782739d",
            "18cc58c6d75345b08b63c6829141b8e4",
            "dbd22ff5b4fb464f96fff46447b5f556",
            "7361f747e5cc41e1b157ccfdcdb0e0f0",
            "d3ed0743791b47f18ae4eb6242a4ffe2",
            "94cee917b1314cf1b00cea268530d9e2",
            "7abc8924ed3a425eaf7cfcdd3449c038",
            "032db8841ff64c5b9ec8ea6a0643d845",
            "1326c69096b34e30ae61830fa741b87f",
            "a01b33c15dfc4b509eaddc1155efb369",
            "535f8df8612c4923bafec85c7c0e33fb",
            "6cbc5b985a774f2f94aa155578c623dd",
            "053b2c183a0042cf9c775beb7faf6d4d",
            "1831c4d00cae495293679b5f962c9ad9",
            "c11812efdf9d4d0080efb38d35f38bcc",
            "820aa0d58b17499d943e76ed114ce6d9",
            "530f6778dda04c6883283fca0cdd51de",
            "6ed3f5c78c54436db9e06a2241a231a0",
            "dc25c70c078f45c6bf4d9bd85e5ec4cd",
            "68073948cc7948cb8957d417455b6542",
            "7a5aba059b8f42938860eb6e052d1a86",
            "b6285e69c3db45acb8349f34df2966cf",
            "c9b04ea46d9f424584cf7d1130796a1f",
            "7ff3b3e5d68e4a17ac7421365c8c9abe",
            "d49de02ecd1f40a98d8e592b82d7ec24",
            "8cfe5d163030456285b7294bc115e2fa",
            "aca9daadd4e04d78a0a2521f35ca21ce",
            "84de9c770919426c950ac770a2bcea7c",
            "ba688393c15740e2868c21c48361c639",
            "6ff88108238e459395e3db12825cf2d3",
            "ae5f5d0ce2d44244b230617fa800061a",
            "be4ebae8359244d2a59ae308d150ccbe",
            "5713a12eb34c480d90fb798e8d72214c"
          ]
        },
        "id": "c8gixwKLzCUr",
        "outputId": "6a29ea0e-1868-41ce-fefe-320cb07c7822"
      },
      "execution_count": 23,
      "outputs": [
        {
          "output_type": "display_data",
          "data": {
            "text/plain": [
              "vocab.json:   0%|          | 0.00/899k [00:00<?, ?B/s]"
            ],
            "application/vnd.jupyter.widget-view+json": {
              "version_major": 2,
              "version_minor": 0,
              "model_id": "6b7c4c11e0be4bab8174ddd03f8a5958"
            }
          },
          "metadata": {}
        },
        {
          "output_type": "display_data",
          "data": {
            "text/plain": [
              "merges.txt:   0%|          | 0.00/456k [00:00<?, ?B/s]"
            ],
            "application/vnd.jupyter.widget-view+json": {
              "version_major": 2,
              "version_minor": 0,
              "model_id": "2422626252804ff890efac0cc782739d"
            }
          },
          "metadata": {}
        },
        {
          "output_type": "display_data",
          "data": {
            "text/plain": [
              "tokenizer.json:   0%|          | 0.00/1.36M [00:00<?, ?B/s]"
            ],
            "application/vnd.jupyter.widget-view+json": {
              "version_major": 2,
              "version_minor": 0,
              "model_id": "6cbc5b985a774f2f94aa155578c623dd"
            }
          },
          "metadata": {}
        },
        {
          "output_type": "display_data",
          "data": {
            "text/plain": [
              "config.json:   0%|          | 0.00/481 [00:00<?, ?B/s]"
            ],
            "application/vnd.jupyter.widget-view+json": {
              "version_major": 2,
              "version_minor": 0,
              "model_id": "c9b04ea46d9f424584cf7d1130796a1f"
            }
          },
          "metadata": {}
        }
      ]
    },
    {
      "cell_type": "markdown",
      "source": [
        "Roberta language model is limited to only 512 tokens, therefore, I experimented with a number of methods including taking the first 510 tokens, taking the first 170 tokens and the last 340 but the former reported a better result and hence used. Furthermore, I did not experiment with aggregation i.e. using all of the text even above 512 tokens due to computational limitation."
      ],
      "metadata": {
        "id": "e9sqAZdVzp8h"
      }
    },
    {
      "cell_type": "code",
      "source": [
        "# Tokenization and encoding of the text\n",
        "def encode_text(df, tokenizer, max_len=512):\n",
        "    return tokenizer(df['plot_synopsis'].tolist(), max_length=max_len, truncation=True, padding='max_length', return_tensors='tf')"
      ],
      "metadata": {
        "id": "k2RRKRLOzVsM"
      },
      "execution_count": 24,
      "outputs": []
    },
    {
      "cell_type": "code",
      "source": [
        "# Encode the training and validation data\n",
        "train_encodings = encode_text(df, tokenizer)\n",
        "validation_encodings = encode_text(validation_df, tokenizer)\n",
        "\n",
        "# Extract labels\n",
        "train_labels = df.iloc[:, 3:].to_numpy()\n",
        "validation_labels = validation_df.iloc[:, 3:].to_numpy()"
      ],
      "metadata": {
        "id": "oFH9wtOUzdrB"
      },
      "execution_count": 25,
      "outputs": []
    },
    {
      "cell_type": "markdown",
      "source": [
        "### Model Building\n"
      ],
      "metadata": {
        "id": "FV6lQ6d97Rza"
      }
    },
    {
      "cell_type": "code",
      "source": [
        "# Define the RoBERTa model\n",
        "model = TFRobertaForSequenceClassification.from_pretrained('roberta-base', num_labels=9)"
      ],
      "metadata": {
        "colab": {
          "base_uri": "https://localhost:8080/",
          "height": 156,
          "referenced_widgets": [
            "f7780abdbcc0485b9a9d8b024f77f2e6",
            "9200d5a35616481cb2a72b7e3a7906e6",
            "cb44ec1955e7470198502d10bcfc970e",
            "84d9ffbb276c4052b5decdc53e360928",
            "8f02eb8d60e74b73a846e7cfe6459f58",
            "02b6581458db490aa44704ab18b868e3",
            "d0d1afa3cda4441e81dc63e6523b400e",
            "ce86b4174f1c4b0e9f416d1cdc63b090",
            "7328b2b308dc4052be0ba31f9b07558b",
            "921cd9528c7747c0905b8e3ef84d7fdc",
            "ce51b17834b6442cad793702782a146a"
          ]
        },
        "id": "1JXSyv2Vzg7H",
        "outputId": "20e285cb-1457-4c9f-d721-4b6185dcc504"
      },
      "execution_count": 26,
      "outputs": [
        {
          "output_type": "display_data",
          "data": {
            "text/plain": [
              "model.safetensors:   0%|          | 0.00/499M [00:00<?, ?B/s]"
            ],
            "application/vnd.jupyter.widget-view+json": {
              "version_major": 2,
              "version_minor": 0,
              "model_id": "f7780abdbcc0485b9a9d8b024f77f2e6"
            }
          },
          "metadata": {}
        },
        {
          "output_type": "stream",
          "name": "stderr",
          "text": [
            "Some weights of the PyTorch model were not used when initializing the TF 2.0 model TFRobertaForSequenceClassification: ['roberta.embeddings.position_ids']\n",
            "- This IS expected if you are initializing TFRobertaForSequenceClassification from a PyTorch model trained on another task or with another architecture (e.g. initializing a TFBertForSequenceClassification model from a BertForPreTraining model).\n",
            "- This IS NOT expected if you are initializing TFRobertaForSequenceClassification from a PyTorch model that you expect to be exactly identical (e.g. initializing a TFBertForSequenceClassification model from a BertForSequenceClassification model).\n",
            "Some weights or buffers of the TF 2.0 model TFRobertaForSequenceClassification were not initialized from the PyTorch model and are newly initialized: ['classifier.dense.weight', 'classifier.dense.bias', 'classifier.out_proj.weight', 'classifier.out_proj.bias']\n",
            "You should probably TRAIN this model on a down-stream task to be able to use it for predictions and inference.\n"
          ]
        }
      ]
    },
    {
      "cell_type": "markdown",
      "source": [
        "I experimented with a number of learning rate, this one gave the best result"
      ],
      "metadata": {
        "id": "q5ELX4En0wdX"
      }
    },
    {
      "cell_type": "code",
      "source": [
        "# Compile the model\n",
        "optimizer = tf.keras.optimizers.Adam(learning_rate=2e-5)\n",
        "loss = tf.keras.losses.BinaryCrossentropy(from_logits=True)\n",
        "model.compile(optimizer=optimizer, loss=loss, metrics=['accuracy'])\n",
        "model.summary()"
      ],
      "metadata": {
        "colab": {
          "base_uri": "https://localhost:8080/"
        },
        "id": "wLriys7czhtj",
        "outputId": "42318a69-66b4-43fa-bb4c-4429b43439a5"
      },
      "execution_count": 27,
      "outputs": [
        {
          "output_type": "stream",
          "name": "stdout",
          "text": [
            "Model: \"tf_roberta_for_sequence_classification\"\n",
            "_________________________________________________________________\n",
            " Layer (type)                Output Shape              Param #   \n",
            "=================================================================\n",
            " roberta (TFRobertaMainLaye  multiple                  124055040 \n",
            " r)                                                              \n",
            "                                                                 \n",
            " classifier (TFRobertaClass  multiple                  597513    \n",
            " ificationHead)                                                  \n",
            "                                                                 \n",
            "=================================================================\n",
            "Total params: 124652553 (475.51 MB)\n",
            "Trainable params: 124652553 (475.51 MB)\n",
            "Non-trainable params: 0 (0.00 Byte)\n",
            "_________________________________________________________________\n"
          ]
        }
      ]
    },
    {
      "cell_type": "code",
      "source": [
        "# Prepare data as a tf.data.Dataset\n",
        "train_dataset = tf.data.Dataset.from_tensor_slices((dict(train_encodings), train_labels))\n",
        "validation_dataset = tf.data.Dataset.from_tensor_slices((dict(validation_encodings), validation_labels))\n",
        "\n",
        "# Define batch size and shuffle buffer size\n",
        "batch_size = 8\n",
        "shuffle_buffer_size = 1000\n",
        "\n",
        "# Shuffle and batch the datasets\n",
        "train_dataset = train_dataset.shuffle(shuffle_buffer_size).batch(batch_size).prefetch(tf.data.AUTOTUNE)\n",
        "validation_dataset = validation_dataset.batch(batch_size).prefetch(tf.data.AUTOTUNE)"
      ],
      "metadata": {
        "id": "LxNOd9Przkq7"
      },
      "execution_count": 28,
      "outputs": []
    },
    {
      "cell_type": "markdown",
      "source": [
        "### Model Training"
      ],
      "metadata": {
        "id": "gYvKJE_i7WaJ"
      }
    },
    {
      "cell_type": "code",
      "source": [
        "# Train the model\n",
        "history = model.fit(\n",
        "    train_dataset,\n",
        "    epochs=5,\n",
        "    validation_data=validation_dataset,\n",
        ")"
      ],
      "metadata": {
        "colab": {
          "base_uri": "https://localhost:8080/"
        },
        "id": "NfOCsy6Jznli",
        "outputId": "71d6065d-0ca0-4e33-ed8f-f34d946d98ca"
      },
      "execution_count": 29,
      "outputs": [
        {
          "output_type": "stream",
          "name": "stdout",
          "text": [
            "Epoch 1/5\n",
            "1033/1033 [==============================] - 389s 340ms/step - loss: 0.4170 - accuracy: 0.3179 - val_loss: 0.3771 - val_accuracy: 0.3552\n",
            "Epoch 2/5\n",
            "1033/1033 [==============================] - 350s 339ms/step - loss: 0.3692 - accuracy: 0.3848 - val_loss: 0.3676 - val_accuracy: 0.3451\n",
            "Epoch 3/5\n",
            "1033/1033 [==============================] - 350s 339ms/step - loss: 0.3346 - accuracy: 0.4204 - val_loss: 0.3797 - val_accuracy: 0.3695\n",
            "Epoch 4/5\n",
            "1033/1033 [==============================] - 350s 339ms/step - loss: 0.2976 - accuracy: 0.4728 - val_loss: 0.3833 - val_accuracy: 0.3897\n",
            "Epoch 5/5\n",
            "1033/1033 [==============================] - 350s 339ms/step - loss: 0.2568 - accuracy: 0.5174 - val_loss: 0.4095 - val_accuracy: 0.3872\n"
          ]
        }
      ]
    },
    {
      "cell_type": "code",
      "source": [
        "model.save_pretrained(result_base+'roberta_model/')"
      ],
      "metadata": {
        "id": "Vc7pGtL6zxz2"
      },
      "execution_count": 30,
      "outputs": []
    },
    {
      "cell_type": "markdown",
      "source": [
        "### Threshold Selection and Model Evaluation"
      ],
      "metadata": {
        "id": "COOrFbGVCN__"
      }
    },
    {
      "cell_type": "code",
      "source": [
        "# Generate predictions for the validation set\n",
        "predictions = model.predict(validation_dataset)[0]\n",
        "\n",
        "# Apply a sigmoid function to get probabilities from logits\n",
        "predictions = tf.sigmoid(predictions).numpy()"
      ],
      "metadata": {
        "colab": {
          "base_uri": "https://localhost:8080/"
        },
        "id": "46fSpSMGz0IQ",
        "outputId": "1dbdbb50-5f19-4ef5-89e2-42f005f66abf"
      },
      "execution_count": 31,
      "outputs": [
        {
          "output_type": "stream",
          "name": "stdout",
          "text": [
            "149/149 [==============================] - 19s 113ms/step\n"
          ]
        }
      ]
    },
    {
      "cell_type": "code",
      "source": [
        "from sklearn.metrics import precision_score, recall_score, f1_score\n",
        "\n",
        "# Class-specific threshold tuning with F1 score constraint\n",
        "class_thresholds = np.zeros(predictions.shape[1])\n",
        "class_f1_scores = np.zeros(predictions.shape[1])\n",
        "\n",
        "for class_idx in range(predictions.shape[1]):\n",
        "    best_threshold = 0.5\n",
        "    smallest_diff = float('inf')\n",
        "    best_f1_score_above_threshold = 0\n",
        "\n",
        "    for threshold in np.arange(0.1, 1, 0.1):\n",
        "        thresholded_preds = np.where(predictions[:, class_idx] > threshold, 1, 0)\n",
        "        precision = precision_score(validation_labels[:, class_idx], thresholded_preds, average='binary', zero_division=0)\n",
        "        recall = recall_score(validation_labels[:, class_idx], thresholded_preds, average='binary', zero_division=0)\n",
        "        f1 = f1_score(validation_labels[:, class_idx], thresholded_preds, average='binary', zero_division=0)\n",
        "        precision_recall_diff = abs(precision - recall)\n",
        "\n",
        "        # Check if F1 score is above 0.2 and precision-recall difference is minimal\n",
        "        if f1 > 0 and precision_recall_diff < smallest_diff:\n",
        "            smallest_diff = precision_recall_diff\n",
        "            best_threshold = threshold\n",
        "            best_f1_score_above_threshold = f1\n",
        "\n",
        "    class_thresholds[class_idx] = best_threshold\n",
        "    class_f1_scores[class_idx] = best_f1_score_above_threshold\n",
        "\n",
        "    # Print the best threshold, the smallest precision-recall difference, and the corresponding F1 score for each class\n",
        "    print(f\"Class {class_idx + 1}: Best Threshold = {best_threshold:.2f}, F1 Score = {best_f1_score_above_threshold:.4f}\")\n",
        "\n",
        "# Apply class-specific thresholds to the predictions\n",
        "binary_predictions = np.array([np.where(predictions[:, i] > class_thresholds[i], 1, 0) for i in range(predictions.shape[1])]).T\n",
        "\n",
        "# Create a new DataFrame for submission\n",
        "submission_df = pd.DataFrame(binary_predictions, columns=df.columns[3:])\n",
        "submission_df.insert(0, 'doc_id', validation_df['ID'])\n",
        "\n",
        "# Save the DataFrame to a CSV file without a header\n",
        "submission_df.to_csv(result_base+'10931277-Task2-method-c-validation.csv', index=False, header=False)"
      ],
      "metadata": {
        "colab": {
          "base_uri": "https://localhost:8080/"
        },
        "id": "euvqBXoP70UD",
        "outputId": "222802ee-f9b7-4083-896b-af17885df454"
      },
      "execution_count": 32,
      "outputs": [
        {
          "output_type": "stream",
          "name": "stdout",
          "text": [
            "Class 1: Best Threshold = 0.50, F1 Score = 0.3951\n",
            "Class 2: Best Threshold = 0.50, F1 Score = 0.4561\n",
            "Class 3: Best Threshold = 0.40, F1 Score = 0.5097\n",
            "Class 4: Best Threshold = 0.30, F1 Score = 0.3333\n",
            "Class 5: Best Threshold = 0.70, F1 Score = 0.7370\n",
            "Class 6: Best Threshold = 0.30, F1 Score = 0.4555\n",
            "Class 7: Best Threshold = 0.40, F1 Score = 0.6073\n",
            "Class 8: Best Threshold = 0.50, F1 Score = 0.4194\n",
            "Class 9: Best Threshold = 0.50, F1 Score = 0.6424\n"
          ]
        }
      ]
    },
    {
      "cell_type": "markdown",
      "source": [
        "### Test Dataset Prediction"
      ],
      "metadata": {
        "id": "whHB0FgxCd5_"
      }
    },
    {
      "cell_type": "code",
      "source": [
        "test_df = pd.read_csv(base + 'Task-2-test-dataset1.csv')  # Load the test data\n",
        "\n",
        "# Encode the test data\n",
        "test_encodings = encode_text(test_df, tokenizer)\n",
        "\n",
        "# Prepare the test data as a tf.data.Dataset\n",
        "test_dataset = tf.data.Dataset.from_tensor_slices((dict(test_encodings)))\n",
        "test_dataset = test_dataset.batch(batch_size).prefetch(tf.data.AUTOTUNE)\n",
        "\n",
        "# Generate predictions for the test set\n",
        "test_predictions = model.predict(test_dataset)[0]\n",
        "\n",
        "# Apply a sigmoid function to get probabilities from logits\n",
        "test_predictions = tf.sigmoid(test_predictions).numpy()\n",
        "\n",
        "# Apply class-specific thresholds to the test predictions\n",
        "test_binary_predictions = np.array([np.where(test_predictions[:, i] > class_thresholds[i], 1, 0) for i in range(test_predictions.shape[1])]).T\n",
        "\n",
        "# Create a DataFrame for the test predictions\n",
        "test_submission_df = pd.DataFrame(test_binary_predictions, columns=df.columns[3:])\n",
        "test_submission_df.insert(0, 'doc_id', test_df['ID'])\n",
        "\n",
        "# Save the test predictions DataFrame to a CSV file\n",
        "test_submission_df.to_csv(result_base+'10931277-Task2-method-c.csv', index=False, header=False)\n"
      ],
      "metadata": {
        "colab": {
          "base_uri": "https://localhost:8080/"
        },
        "id": "7V_Oc7aIMYj8",
        "outputId": "a1808f11-05dc-420a-db64-a42ba1006997"
      },
      "execution_count": 33,
      "outputs": [
        {
          "output_type": "stream",
          "name": "stdout",
          "text": [
            "150/150 [==============================] - 20s 112ms/step\n"
          ]
        }
      ]
    }
  ]
}