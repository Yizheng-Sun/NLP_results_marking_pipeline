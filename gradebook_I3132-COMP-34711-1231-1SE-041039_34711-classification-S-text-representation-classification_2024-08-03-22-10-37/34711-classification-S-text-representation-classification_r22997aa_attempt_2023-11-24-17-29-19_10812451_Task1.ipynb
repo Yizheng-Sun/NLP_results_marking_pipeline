{
  "nbformat": 4,
  "nbformat_minor": 0,
  "metadata": {
    "colab": {
      "provenance": []
    },
    "kernelspec": {
      "name": "python3",
      "display_name": "Python 3"
    },
    "language_info": {
      "name": "python"
    }
  },
  "cells": [
    {
      "cell_type": "markdown",
      "source": [
        "# TASK 1"
      ],
      "metadata": {
        "id": "BBlFKqhzZOgW"
      }
    },
    {
      "cell_type": "markdown",
      "source": [
        "### Import Libraries and Download Packages"
      ],
      "metadata": {
        "id": "0J6BvgsH_LBW"
      }
    },
    {
      "cell_type": "code",
      "execution_count": 3,
      "metadata": {
        "id": "7ejZrlqnYQ2j"
      },
      "outputs": [],
      "source": [
        "from gensim.models import Word2Vec\n",
        "\n",
        "from sklearn.feature_extraction.text import TfidfVectorizer\n",
        "from sklearn.metrics.pairwise import cosine_similarity\n",
        "from nltk import word_tokenize, download\n",
        "from nltk.util import ngrams\n",
        "from nltk.stem import PorterStemmer\n",
        "from nltk.stem import WordNetLemmatizer\n",
        "from nltk.corpus import stopwords\n",
        "\n",
        "import pandas as pd\n",
        "import numpy as np\n",
        "import time"
      ]
    },
    {
      "cell_type": "code",
      "source": [
        "# Download \"stopwords\" and \"punkt\" NLTK packages\n",
        "download(\"stopwords\")\n",
        "download(\"punkt\")\n",
        "download(\"wordnet\")"
      ],
      "metadata": {
        "colab": {
          "base_uri": "https://localhost:8080/"
        },
        "id": "1Kg0m95X4EVe",
        "outputId": "e8332ab0-a5b3-46b0-a9f1-f53a35adc5cd"
      },
      "execution_count": 4,
      "outputs": [
        {
          "output_type": "stream",
          "name": "stderr",
          "text": [
            "[nltk_data] Downloading package stopwords to /root/nltk_data...\n",
            "[nltk_data]   Unzipping corpora/stopwords.zip.\n",
            "[nltk_data] Downloading package punkt to /root/nltk_data...\n",
            "[nltk_data]   Unzipping tokenizers/punkt.zip.\n",
            "[nltk_data] Downloading package wordnet to /root/nltk_data...\n"
          ]
        },
        {
          "output_type": "execute_result",
          "data": {
            "text/plain": [
              "True"
            ]
          },
          "metadata": {},
          "execution_count": 4
        }
      ]
    },
    {
      "cell_type": "markdown",
      "source": [
        "### Data Initialisation\n"
      ],
      "metadata": {
        "id": "j-uF1UfnTUMi"
      }
    },
    {
      "cell_type": "code",
      "source": [
        "# Training data (replace filepath if change is needed)\n",
        "train_data = pd.read_csv(\"./data/Training-dataset.csv\")\n",
        "\n",
        "# Testing data (replace filepath if change is needed)\n",
        "# test_data = pd.read_csv(\"./data/Task-1-validation-dataset.csv\", names=[\"ID\", \"Term A\", \"Term B\", \"Similarity\"])\n",
        "test_data = pd.read_csv(\"./data/Task-1-test-dataset1.csv\", names=[\"ID\", \"Term A\", \"Term B\", \"Similarity\"])\n",
        "\n",
        "documents = train_data[\"plot_synopsis\"].to_numpy()\n",
        "\n",
        "test_data"
      ],
      "metadata": {
        "colab": {
          "base_uri": "https://localhost:8080/",
          "height": 424
        },
        "id": "r_-1Xt0lTkpg",
        "outputId": "71e9f2eb-6b10-4df7-8ebc-a14c87f01352"
      },
      "execution_count": 48,
      "outputs": [
        {
          "output_type": "execute_result",
          "data": {
            "text/plain": [
              "       ID   Term A         Term B  Similarity\n",
              "0     816   accept    acknowledge         NaN\n",
              "1     957   accept      recommend         NaN\n",
              "2     809    agree          argue         NaN\n",
              "3     911    agree         please         NaN\n",
              "4     242  alcohol       cocktail         NaN\n",
              "..    ...      ...            ...         ...\n",
              "97    160     take          leave         NaN\n",
              "98     14     area         region         NaN\n",
              "99     16     area         corner         NaN\n",
              "100  4012  journey  long distance         NaN\n",
              "101  4013     area  long distance         NaN\n",
              "\n",
              "[102 rows x 4 columns]"
            ],
            "text/html": [
              "\n",
              "  <div id=\"df-0c38978d-4786-4e16-975a-da40dd067623\" class=\"colab-df-container\">\n",
              "    <div>\n",
              "<style scoped>\n",
              "    .dataframe tbody tr th:only-of-type {\n",
              "        vertical-align: middle;\n",
              "    }\n",
              "\n",
              "    .dataframe tbody tr th {\n",
              "        vertical-align: top;\n",
              "    }\n",
              "\n",
              "    .dataframe thead th {\n",
              "        text-align: right;\n",
              "    }\n",
              "</style>\n",
              "<table border=\"1\" class=\"dataframe\">\n",
              "  <thead>\n",
              "    <tr style=\"text-align: right;\">\n",
              "      <th></th>\n",
              "      <th>ID</th>\n",
              "      <th>Term A</th>\n",
              "      <th>Term B</th>\n",
              "      <th>Similarity</th>\n",
              "    </tr>\n",
              "  </thead>\n",
              "  <tbody>\n",
              "    <tr>\n",
              "      <th>0</th>\n",
              "      <td>816</td>\n",
              "      <td>accept</td>\n",
              "      <td>acknowledge</td>\n",
              "      <td>NaN</td>\n",
              "    </tr>\n",
              "    <tr>\n",
              "      <th>1</th>\n",
              "      <td>957</td>\n",
              "      <td>accept</td>\n",
              "      <td>recommend</td>\n",
              "      <td>NaN</td>\n",
              "    </tr>\n",
              "    <tr>\n",
              "      <th>2</th>\n",
              "      <td>809</td>\n",
              "      <td>agree</td>\n",
              "      <td>argue</td>\n",
              "      <td>NaN</td>\n",
              "    </tr>\n",
              "    <tr>\n",
              "      <th>3</th>\n",
              "      <td>911</td>\n",
              "      <td>agree</td>\n",
              "      <td>please</td>\n",
              "      <td>NaN</td>\n",
              "    </tr>\n",
              "    <tr>\n",
              "      <th>4</th>\n",
              "      <td>242</td>\n",
              "      <td>alcohol</td>\n",
              "      <td>cocktail</td>\n",
              "      <td>NaN</td>\n",
              "    </tr>\n",
              "    <tr>\n",
              "      <th>...</th>\n",
              "      <td>...</td>\n",
              "      <td>...</td>\n",
              "      <td>...</td>\n",
              "      <td>...</td>\n",
              "    </tr>\n",
              "    <tr>\n",
              "      <th>97</th>\n",
              "      <td>160</td>\n",
              "      <td>take</td>\n",
              "      <td>leave</td>\n",
              "      <td>NaN</td>\n",
              "    </tr>\n",
              "    <tr>\n",
              "      <th>98</th>\n",
              "      <td>14</td>\n",
              "      <td>area</td>\n",
              "      <td>region</td>\n",
              "      <td>NaN</td>\n",
              "    </tr>\n",
              "    <tr>\n",
              "      <th>99</th>\n",
              "      <td>16</td>\n",
              "      <td>area</td>\n",
              "      <td>corner</td>\n",
              "      <td>NaN</td>\n",
              "    </tr>\n",
              "    <tr>\n",
              "      <th>100</th>\n",
              "      <td>4012</td>\n",
              "      <td>journey</td>\n",
              "      <td>long distance</td>\n",
              "      <td>NaN</td>\n",
              "    </tr>\n",
              "    <tr>\n",
              "      <th>101</th>\n",
              "      <td>4013</td>\n",
              "      <td>area</td>\n",
              "      <td>long distance</td>\n",
              "      <td>NaN</td>\n",
              "    </tr>\n",
              "  </tbody>\n",
              "</table>\n",
              "<p>102 rows × 4 columns</p>\n",
              "</div>\n",
              "    <div class=\"colab-df-buttons\">\n",
              "\n",
              "  <div class=\"colab-df-container\">\n",
              "    <button class=\"colab-df-convert\" onclick=\"convertToInteractive('df-0c38978d-4786-4e16-975a-da40dd067623')\"\n",
              "            title=\"Convert this dataframe to an interactive table.\"\n",
              "            style=\"display:none;\">\n",
              "\n",
              "  <svg xmlns=\"http://www.w3.org/2000/svg\" height=\"24px\" viewBox=\"0 -960 960 960\">\n",
              "    <path d=\"M120-120v-720h720v720H120Zm60-500h600v-160H180v160Zm220 220h160v-160H400v160Zm0 220h160v-160H400v160ZM180-400h160v-160H180v160Zm440 0h160v-160H620v160ZM180-180h160v-160H180v160Zm440 0h160v-160H620v160Z\"/>\n",
              "  </svg>\n",
              "    </button>\n",
              "\n",
              "  <style>\n",
              "    .colab-df-container {\n",
              "      display:flex;\n",
              "      gap: 12px;\n",
              "    }\n",
              "\n",
              "    .colab-df-convert {\n",
              "      background-color: #E8F0FE;\n",
              "      border: none;\n",
              "      border-radius: 50%;\n",
              "      cursor: pointer;\n",
              "      display: none;\n",
              "      fill: #1967D2;\n",
              "      height: 32px;\n",
              "      padding: 0 0 0 0;\n",
              "      width: 32px;\n",
              "    }\n",
              "\n",
              "    .colab-df-convert:hover {\n",
              "      background-color: #E2EBFA;\n",
              "      box-shadow: 0px 1px 2px rgba(60, 64, 67, 0.3), 0px 1px 3px 1px rgba(60, 64, 67, 0.15);\n",
              "      fill: #174EA6;\n",
              "    }\n",
              "\n",
              "    .colab-df-buttons div {\n",
              "      margin-bottom: 4px;\n",
              "    }\n",
              "\n",
              "    [theme=dark] .colab-df-convert {\n",
              "      background-color: #3B4455;\n",
              "      fill: #D2E3FC;\n",
              "    }\n",
              "\n",
              "    [theme=dark] .colab-df-convert:hover {\n",
              "      background-color: #434B5C;\n",
              "      box-shadow: 0px 1px 3px 1px rgba(0, 0, 0, 0.15);\n",
              "      filter: drop-shadow(0px 1px 2px rgba(0, 0, 0, 0.3));\n",
              "      fill: #FFFFFF;\n",
              "    }\n",
              "  </style>\n",
              "\n",
              "    <script>\n",
              "      const buttonEl =\n",
              "        document.querySelector('#df-0c38978d-4786-4e16-975a-da40dd067623 button.colab-df-convert');\n",
              "      buttonEl.style.display =\n",
              "        google.colab.kernel.accessAllowed ? 'block' : 'none';\n",
              "\n",
              "      async function convertToInteractive(key) {\n",
              "        const element = document.querySelector('#df-0c38978d-4786-4e16-975a-da40dd067623');\n",
              "        const dataTable =\n",
              "          await google.colab.kernel.invokeFunction('convertToInteractive',\n",
              "                                                    [key], {});\n",
              "        if (!dataTable) return;\n",
              "\n",
              "        const docLinkHtml = 'Like what you see? Visit the ' +\n",
              "          '<a target=\"_blank\" href=https://colab.research.google.com/notebooks/data_table.ipynb>data table notebook</a>'\n",
              "          + ' to learn more about interactive tables.';\n",
              "        element.innerHTML = '';\n",
              "        dataTable['output_type'] = 'display_data';\n",
              "        await google.colab.output.renderOutput(dataTable, element);\n",
              "        const docLink = document.createElement('div');\n",
              "        docLink.innerHTML = docLinkHtml;\n",
              "        element.appendChild(docLink);\n",
              "      }\n",
              "    </script>\n",
              "  </div>\n",
              "\n",
              "\n",
              "<div id=\"df-cb79c058-af57-4558-ab01-d124cf40086f\">\n",
              "  <button class=\"colab-df-quickchart\" onclick=\"quickchart('df-cb79c058-af57-4558-ab01-d124cf40086f')\"\n",
              "            title=\"Suggest charts\"\n",
              "            style=\"display:none;\">\n",
              "\n",
              "<svg xmlns=\"http://www.w3.org/2000/svg\" height=\"24px\"viewBox=\"0 0 24 24\"\n",
              "     width=\"24px\">\n",
              "    <g>\n",
              "        <path d=\"M19 3H5c-1.1 0-2 .9-2 2v14c0 1.1.9 2 2 2h14c1.1 0 2-.9 2-2V5c0-1.1-.9-2-2-2zM9 17H7v-7h2v7zm4 0h-2V7h2v10zm4 0h-2v-4h2v4z\"/>\n",
              "    </g>\n",
              "</svg>\n",
              "  </button>\n",
              "\n",
              "<style>\n",
              "  .colab-df-quickchart {\n",
              "      --bg-color: #E8F0FE;\n",
              "      --fill-color: #1967D2;\n",
              "      --hover-bg-color: #E2EBFA;\n",
              "      --hover-fill-color: #174EA6;\n",
              "      --disabled-fill-color: #AAA;\n",
              "      --disabled-bg-color: #DDD;\n",
              "  }\n",
              "\n",
              "  [theme=dark] .colab-df-quickchart {\n",
              "      --bg-color: #3B4455;\n",
              "      --fill-color: #D2E3FC;\n",
              "      --hover-bg-color: #434B5C;\n",
              "      --hover-fill-color: #FFFFFF;\n",
              "      --disabled-bg-color: #3B4455;\n",
              "      --disabled-fill-color: #666;\n",
              "  }\n",
              "\n",
              "  .colab-df-quickchart {\n",
              "    background-color: var(--bg-color);\n",
              "    border: none;\n",
              "    border-radius: 50%;\n",
              "    cursor: pointer;\n",
              "    display: none;\n",
              "    fill: var(--fill-color);\n",
              "    height: 32px;\n",
              "    padding: 0;\n",
              "    width: 32px;\n",
              "  }\n",
              "\n",
              "  .colab-df-quickchart:hover {\n",
              "    background-color: var(--hover-bg-color);\n",
              "    box-shadow: 0 1px 2px rgba(60, 64, 67, 0.3), 0 1px 3px 1px rgba(60, 64, 67, 0.15);\n",
              "    fill: var(--button-hover-fill-color);\n",
              "  }\n",
              "\n",
              "  .colab-df-quickchart-complete:disabled,\n",
              "  .colab-df-quickchart-complete:disabled:hover {\n",
              "    background-color: var(--disabled-bg-color);\n",
              "    fill: var(--disabled-fill-color);\n",
              "    box-shadow: none;\n",
              "  }\n",
              "\n",
              "  .colab-df-spinner {\n",
              "    border: 2px solid var(--fill-color);\n",
              "    border-color: transparent;\n",
              "    border-bottom-color: var(--fill-color);\n",
              "    animation:\n",
              "      spin 1s steps(1) infinite;\n",
              "  }\n",
              "\n",
              "  @keyframes spin {\n",
              "    0% {\n",
              "      border-color: transparent;\n",
              "      border-bottom-color: var(--fill-color);\n",
              "      border-left-color: var(--fill-color);\n",
              "    }\n",
              "    20% {\n",
              "      border-color: transparent;\n",
              "      border-left-color: var(--fill-color);\n",
              "      border-top-color: var(--fill-color);\n",
              "    }\n",
              "    30% {\n",
              "      border-color: transparent;\n",
              "      border-left-color: var(--fill-color);\n",
              "      border-top-color: var(--fill-color);\n",
              "      border-right-color: var(--fill-color);\n",
              "    }\n",
              "    40% {\n",
              "      border-color: transparent;\n",
              "      border-right-color: var(--fill-color);\n",
              "      border-top-color: var(--fill-color);\n",
              "    }\n",
              "    60% {\n",
              "      border-color: transparent;\n",
              "      border-right-color: var(--fill-color);\n",
              "    }\n",
              "    80% {\n",
              "      border-color: transparent;\n",
              "      border-right-color: var(--fill-color);\n",
              "      border-bottom-color: var(--fill-color);\n",
              "    }\n",
              "    90% {\n",
              "      border-color: transparent;\n",
              "      border-bottom-color: var(--fill-color);\n",
              "    }\n",
              "  }\n",
              "</style>\n",
              "\n",
              "  <script>\n",
              "    async function quickchart(key) {\n",
              "      const quickchartButtonEl =\n",
              "        document.querySelector('#' + key + ' button');\n",
              "      quickchartButtonEl.disabled = true;  // To prevent multiple clicks.\n",
              "      quickchartButtonEl.classList.add('colab-df-spinner');\n",
              "      try {\n",
              "        const charts = await google.colab.kernel.invokeFunction(\n",
              "            'suggestCharts', [key], {});\n",
              "      } catch (error) {\n",
              "        console.error('Error during call to suggestCharts:', error);\n",
              "      }\n",
              "      quickchartButtonEl.classList.remove('colab-df-spinner');\n",
              "      quickchartButtonEl.classList.add('colab-df-quickchart-complete');\n",
              "    }\n",
              "    (() => {\n",
              "      let quickchartButtonEl =\n",
              "        document.querySelector('#df-cb79c058-af57-4558-ab01-d124cf40086f button');\n",
              "      quickchartButtonEl.style.display =\n",
              "        google.colab.kernel.accessAllowed ? 'block' : 'none';\n",
              "    })();\n",
              "  </script>\n",
              "</div>\n",
              "    </div>\n",
              "  </div>\n"
            ]
          },
          "metadata": {},
          "execution_count": 48
        }
      ]
    },
    {
      "cell_type": "markdown",
      "source": [
        "### Text Preprocessing Function"
      ],
      "metadata": {
        "id": "p5n_KoWIJ1uB"
      }
    },
    {
      "cell_type": "code",
      "source": [
        "def text_preprocessing(document,\n",
        "                       caseFolding=False,\n",
        "                       removeStopwords=False,\n",
        "                       useLemmatizer=False,\n",
        "                       useStemmer=False):\n",
        "  # Tokenization\n",
        "  tokens = word_tokenize(document)\n",
        "\n",
        "  # Case folding - convert every tokens to lowercase\n",
        "  if caseFolding:\n",
        "    tokens = [t.lower() for t in tokens]\n",
        "\n",
        "  # Stop-words removal\n",
        "  if removeStopwords:\n",
        "    stop_words = set(stopwords.words(\"english\"))\n",
        "    tokens = [t for t in tokens if not t.lower() in stop_words]\n",
        "\n",
        "  # Lemmatization\n",
        "  if useLemmatizer:\n",
        "    lemmatizer = WordNetLemmatizer()\n",
        "    tokens = [lemmatizer.lemmatize(t) for t in tokens]\n",
        "\n",
        "  # Stemming\n",
        "  if useStemmer:\n",
        "    stemmer = PorterStemmer()\n",
        "    tokens = [stemmer.stem(t) for t in tokens]\n",
        "\n",
        "  preprocessed_document = \" \".join(tokens)\n",
        "\n",
        "  return preprocessed_document"
      ],
      "metadata": {
        "id": "3422fZFowXKU"
      },
      "execution_count": 49,
      "outputs": []
    },
    {
      "cell_type": "markdown",
      "source": [
        "## a) Bag of Words with tf*idf"
      ],
      "metadata": {
        "id": "KFlnb-m3-RRB"
      }
    },
    {
      "cell_type": "markdown",
      "source": [
        "### Words Preprocessing"
      ],
      "metadata": {
        "id": "QKywWtUrwVdY"
      }
    },
    {
      "cell_type": "code",
      "source": [
        "# Documents preprocessing\n",
        "# Estimated time : 40-90s\n",
        "\n",
        "preprocessed_docs = [text_preprocessing(d, False, True) for d in documents]"
      ],
      "metadata": {
        "id": "5ItdybmiJbIu"
      },
      "execution_count": 50,
      "outputs": []
    },
    {
      "cell_type": "markdown",
      "source": [
        "### Model Implementation"
      ],
      "metadata": {
        "id": "A_OG27FKUlQR"
      }
    },
    {
      "cell_type": "code",
      "source": [
        "# IDF smoothing enabled by default to prevent zero divisions\n",
        "\n",
        "# Multi-word representation can be done by changing 'ngram_range'\n",
        "# e.g. Unigram - (1, 1), Bigram - (2, 2), Unigram & Bigram - (1, 2)\n",
        "\n",
        "vectorizer = TfidfVectorizer(ngram_range=(1, 2))\n",
        "matrixBoW = vectorizer.fit_transform(preprocessed_docs)\n",
        "vocabulary = vectorizer.get_feature_names_out()\n",
        "print(\"Vocabulary :\", vocabulary)\n",
        "print(\"Length :\", len(vocabulary))"
      ],
      "metadata": {
        "colab": {
          "base_uri": "https://localhost:8080/"
        },
        "id": "gbhA2gvRRwAN",
        "outputId": "5fede234-656a-46dd-8d62-5aef5f6810b3"
      },
      "execution_count": 51,
      "outputs": [
        {
          "output_type": "stream",
          "name": "stdout",
          "text": [
            "Vocabulary : ['00' '00 00' '00 000' ... '齊天大聖 great' '齐天大圣' '齐天大圣 traditional']\n",
            "Length : 2659845\n"
          ]
        }
      ]
    },
    {
      "cell_type": "markdown",
      "source": [
        "### Cosine Similarity Calculation"
      ],
      "metadata": {
        "id": "iOcQnk_AcSdr"
      }
    },
    {
      "cell_type": "code",
      "source": [
        "# Rows : documents\n",
        "# Columns : words\n",
        "matrixBoW.shape"
      ],
      "metadata": {
        "colab": {
          "base_uri": "https://localhost:8080/"
        },
        "id": "HNIypJ_HhdNo",
        "outputId": "c815af6d-096e-49a6-f4cc-e66e29dcbf25"
      },
      "execution_count": 52,
      "outputs": [
        {
          "output_type": "execute_result",
          "data": {
            "text/plain": [
              "(8257, 2659845)"
            ]
          },
          "metadata": {},
          "execution_count": 52
        }
      ]
    },
    {
      "cell_type": "code",
      "source": [
        "test_data"
      ],
      "metadata": {
        "colab": {
          "base_uri": "https://localhost:8080/",
          "height": 424
        },
        "id": "6embApyRp-LS",
        "outputId": "56d8fccc-35de-4986-90c2-7e113f1e39f6"
      },
      "execution_count": 53,
      "outputs": [
        {
          "output_type": "execute_result",
          "data": {
            "text/plain": [
              "       ID   Term A         Term B  Similarity\n",
              "0     816   accept    acknowledge         NaN\n",
              "1     957   accept      recommend         NaN\n",
              "2     809    agree          argue         NaN\n",
              "3     911    agree         please         NaN\n",
              "4     242  alcohol       cocktail         NaN\n",
              "..    ...      ...            ...         ...\n",
              "97    160     take          leave         NaN\n",
              "98     14     area         region         NaN\n",
              "99     16     area         corner         NaN\n",
              "100  4012  journey  long distance         NaN\n",
              "101  4013     area  long distance         NaN\n",
              "\n",
              "[102 rows x 4 columns]"
            ],
            "text/html": [
              "\n",
              "  <div id=\"df-7078a3fd-89af-434f-9e81-a98662dffd80\" class=\"colab-df-container\">\n",
              "    <div>\n",
              "<style scoped>\n",
              "    .dataframe tbody tr th:only-of-type {\n",
              "        vertical-align: middle;\n",
              "    }\n",
              "\n",
              "    .dataframe tbody tr th {\n",
              "        vertical-align: top;\n",
              "    }\n",
              "\n",
              "    .dataframe thead th {\n",
              "        text-align: right;\n",
              "    }\n",
              "</style>\n",
              "<table border=\"1\" class=\"dataframe\">\n",
              "  <thead>\n",
              "    <tr style=\"text-align: right;\">\n",
              "      <th></th>\n",
              "      <th>ID</th>\n",
              "      <th>Term A</th>\n",
              "      <th>Term B</th>\n",
              "      <th>Similarity</th>\n",
              "    </tr>\n",
              "  </thead>\n",
              "  <tbody>\n",
              "    <tr>\n",
              "      <th>0</th>\n",
              "      <td>816</td>\n",
              "      <td>accept</td>\n",
              "      <td>acknowledge</td>\n",
              "      <td>NaN</td>\n",
              "    </tr>\n",
              "    <tr>\n",
              "      <th>1</th>\n",
              "      <td>957</td>\n",
              "      <td>accept</td>\n",
              "      <td>recommend</td>\n",
              "      <td>NaN</td>\n",
              "    </tr>\n",
              "    <tr>\n",
              "      <th>2</th>\n",
              "      <td>809</td>\n",
              "      <td>agree</td>\n",
              "      <td>argue</td>\n",
              "      <td>NaN</td>\n",
              "    </tr>\n",
              "    <tr>\n",
              "      <th>3</th>\n",
              "      <td>911</td>\n",
              "      <td>agree</td>\n",
              "      <td>please</td>\n",
              "      <td>NaN</td>\n",
              "    </tr>\n",
              "    <tr>\n",
              "      <th>4</th>\n",
              "      <td>242</td>\n",
              "      <td>alcohol</td>\n",
              "      <td>cocktail</td>\n",
              "      <td>NaN</td>\n",
              "    </tr>\n",
              "    <tr>\n",
              "      <th>...</th>\n",
              "      <td>...</td>\n",
              "      <td>...</td>\n",
              "      <td>...</td>\n",
              "      <td>...</td>\n",
              "    </tr>\n",
              "    <tr>\n",
              "      <th>97</th>\n",
              "      <td>160</td>\n",
              "      <td>take</td>\n",
              "      <td>leave</td>\n",
              "      <td>NaN</td>\n",
              "    </tr>\n",
              "    <tr>\n",
              "      <th>98</th>\n",
              "      <td>14</td>\n",
              "      <td>area</td>\n",
              "      <td>region</td>\n",
              "      <td>NaN</td>\n",
              "    </tr>\n",
              "    <tr>\n",
              "      <th>99</th>\n",
              "      <td>16</td>\n",
              "      <td>area</td>\n",
              "      <td>corner</td>\n",
              "      <td>NaN</td>\n",
              "    </tr>\n",
              "    <tr>\n",
              "      <th>100</th>\n",
              "      <td>4012</td>\n",
              "      <td>journey</td>\n",
              "      <td>long distance</td>\n",
              "      <td>NaN</td>\n",
              "    </tr>\n",
              "    <tr>\n",
              "      <th>101</th>\n",
              "      <td>4013</td>\n",
              "      <td>area</td>\n",
              "      <td>long distance</td>\n",
              "      <td>NaN</td>\n",
              "    </tr>\n",
              "  </tbody>\n",
              "</table>\n",
              "<p>102 rows × 4 columns</p>\n",
              "</div>\n",
              "    <div class=\"colab-df-buttons\">\n",
              "\n",
              "  <div class=\"colab-df-container\">\n",
              "    <button class=\"colab-df-convert\" onclick=\"convertToInteractive('df-7078a3fd-89af-434f-9e81-a98662dffd80')\"\n",
              "            title=\"Convert this dataframe to an interactive table.\"\n",
              "            style=\"display:none;\">\n",
              "\n",
              "  <svg xmlns=\"http://www.w3.org/2000/svg\" height=\"24px\" viewBox=\"0 -960 960 960\">\n",
              "    <path d=\"M120-120v-720h720v720H120Zm60-500h600v-160H180v160Zm220 220h160v-160H400v160Zm0 220h160v-160H400v160ZM180-400h160v-160H180v160Zm440 0h160v-160H620v160ZM180-180h160v-160H180v160Zm440 0h160v-160H620v160Z\"/>\n",
              "  </svg>\n",
              "    </button>\n",
              "\n",
              "  <style>\n",
              "    .colab-df-container {\n",
              "      display:flex;\n",
              "      gap: 12px;\n",
              "    }\n",
              "\n",
              "    .colab-df-convert {\n",
              "      background-color: #E8F0FE;\n",
              "      border: none;\n",
              "      border-radius: 50%;\n",
              "      cursor: pointer;\n",
              "      display: none;\n",
              "      fill: #1967D2;\n",
              "      height: 32px;\n",
              "      padding: 0 0 0 0;\n",
              "      width: 32px;\n",
              "    }\n",
              "\n",
              "    .colab-df-convert:hover {\n",
              "      background-color: #E2EBFA;\n",
              "      box-shadow: 0px 1px 2px rgba(60, 64, 67, 0.3), 0px 1px 3px 1px rgba(60, 64, 67, 0.15);\n",
              "      fill: #174EA6;\n",
              "    }\n",
              "\n",
              "    .colab-df-buttons div {\n",
              "      margin-bottom: 4px;\n",
              "    }\n",
              "\n",
              "    [theme=dark] .colab-df-convert {\n",
              "      background-color: #3B4455;\n",
              "      fill: #D2E3FC;\n",
              "    }\n",
              "\n",
              "    [theme=dark] .colab-df-convert:hover {\n",
              "      background-color: #434B5C;\n",
              "      box-shadow: 0px 1px 3px 1px rgba(0, 0, 0, 0.15);\n",
              "      filter: drop-shadow(0px 1px 2px rgba(0, 0, 0, 0.3));\n",
              "      fill: #FFFFFF;\n",
              "    }\n",
              "  </style>\n",
              "\n",
              "    <script>\n",
              "      const buttonEl =\n",
              "        document.querySelector('#df-7078a3fd-89af-434f-9e81-a98662dffd80 button.colab-df-convert');\n",
              "      buttonEl.style.display =\n",
              "        google.colab.kernel.accessAllowed ? 'block' : 'none';\n",
              "\n",
              "      async function convertToInteractive(key) {\n",
              "        const element = document.querySelector('#df-7078a3fd-89af-434f-9e81-a98662dffd80');\n",
              "        const dataTable =\n",
              "          await google.colab.kernel.invokeFunction('convertToInteractive',\n",
              "                                                    [key], {});\n",
              "        if (!dataTable) return;\n",
              "\n",
              "        const docLinkHtml = 'Like what you see? Visit the ' +\n",
              "          '<a target=\"_blank\" href=https://colab.research.google.com/notebooks/data_table.ipynb>data table notebook</a>'\n",
              "          + ' to learn more about interactive tables.';\n",
              "        element.innerHTML = '';\n",
              "        dataTable['output_type'] = 'display_data';\n",
              "        await google.colab.output.renderOutput(dataTable, element);\n",
              "        const docLink = document.createElement('div');\n",
              "        docLink.innerHTML = docLinkHtml;\n",
              "        element.appendChild(docLink);\n",
              "      }\n",
              "    </script>\n",
              "  </div>\n",
              "\n",
              "\n",
              "<div id=\"df-02413210-1b26-41e3-8270-78bab3ed1eaf\">\n",
              "  <button class=\"colab-df-quickchart\" onclick=\"quickchart('df-02413210-1b26-41e3-8270-78bab3ed1eaf')\"\n",
              "            title=\"Suggest charts\"\n",
              "            style=\"display:none;\">\n",
              "\n",
              "<svg xmlns=\"http://www.w3.org/2000/svg\" height=\"24px\"viewBox=\"0 0 24 24\"\n",
              "     width=\"24px\">\n",
              "    <g>\n",
              "        <path d=\"M19 3H5c-1.1 0-2 .9-2 2v14c0 1.1.9 2 2 2h14c1.1 0 2-.9 2-2V5c0-1.1-.9-2-2-2zM9 17H7v-7h2v7zm4 0h-2V7h2v10zm4 0h-2v-4h2v4z\"/>\n",
              "    </g>\n",
              "</svg>\n",
              "  </button>\n",
              "\n",
              "<style>\n",
              "  .colab-df-quickchart {\n",
              "      --bg-color: #E8F0FE;\n",
              "      --fill-color: #1967D2;\n",
              "      --hover-bg-color: #E2EBFA;\n",
              "      --hover-fill-color: #174EA6;\n",
              "      --disabled-fill-color: #AAA;\n",
              "      --disabled-bg-color: #DDD;\n",
              "  }\n",
              "\n",
              "  [theme=dark] .colab-df-quickchart {\n",
              "      --bg-color: #3B4455;\n",
              "      --fill-color: #D2E3FC;\n",
              "      --hover-bg-color: #434B5C;\n",
              "      --hover-fill-color: #FFFFFF;\n",
              "      --disabled-bg-color: #3B4455;\n",
              "      --disabled-fill-color: #666;\n",
              "  }\n",
              "\n",
              "  .colab-df-quickchart {\n",
              "    background-color: var(--bg-color);\n",
              "    border: none;\n",
              "    border-radius: 50%;\n",
              "    cursor: pointer;\n",
              "    display: none;\n",
              "    fill: var(--fill-color);\n",
              "    height: 32px;\n",
              "    padding: 0;\n",
              "    width: 32px;\n",
              "  }\n",
              "\n",
              "  .colab-df-quickchart:hover {\n",
              "    background-color: var(--hover-bg-color);\n",
              "    box-shadow: 0 1px 2px rgba(60, 64, 67, 0.3), 0 1px 3px 1px rgba(60, 64, 67, 0.15);\n",
              "    fill: var(--button-hover-fill-color);\n",
              "  }\n",
              "\n",
              "  .colab-df-quickchart-complete:disabled,\n",
              "  .colab-df-quickchart-complete:disabled:hover {\n",
              "    background-color: var(--disabled-bg-color);\n",
              "    fill: var(--disabled-fill-color);\n",
              "    box-shadow: none;\n",
              "  }\n",
              "\n",
              "  .colab-df-spinner {\n",
              "    border: 2px solid var(--fill-color);\n",
              "    border-color: transparent;\n",
              "    border-bottom-color: var(--fill-color);\n",
              "    animation:\n",
              "      spin 1s steps(1) infinite;\n",
              "  }\n",
              "\n",
              "  @keyframes spin {\n",
              "    0% {\n",
              "      border-color: transparent;\n",
              "      border-bottom-color: var(--fill-color);\n",
              "      border-left-color: var(--fill-color);\n",
              "    }\n",
              "    20% {\n",
              "      border-color: transparent;\n",
              "      border-left-color: var(--fill-color);\n",
              "      border-top-color: var(--fill-color);\n",
              "    }\n",
              "    30% {\n",
              "      border-color: transparent;\n",
              "      border-left-color: var(--fill-color);\n",
              "      border-top-color: var(--fill-color);\n",
              "      border-right-color: var(--fill-color);\n",
              "    }\n",
              "    40% {\n",
              "      border-color: transparent;\n",
              "      border-right-color: var(--fill-color);\n",
              "      border-top-color: var(--fill-color);\n",
              "    }\n",
              "    60% {\n",
              "      border-color: transparent;\n",
              "      border-right-color: var(--fill-color);\n",
              "    }\n",
              "    80% {\n",
              "      border-color: transparent;\n",
              "      border-right-color: var(--fill-color);\n",
              "      border-bottom-color: var(--fill-color);\n",
              "    }\n",
              "    90% {\n",
              "      border-color: transparent;\n",
              "      border-bottom-color: var(--fill-color);\n",
              "    }\n",
              "  }\n",
              "</style>\n",
              "\n",
              "  <script>\n",
              "    async function quickchart(key) {\n",
              "      const quickchartButtonEl =\n",
              "        document.querySelector('#' + key + ' button');\n",
              "      quickchartButtonEl.disabled = true;  // To prevent multiple clicks.\n",
              "      quickchartButtonEl.classList.add('colab-df-spinner');\n",
              "      try {\n",
              "        const charts = await google.colab.kernel.invokeFunction(\n",
              "            'suggestCharts', [key], {});\n",
              "      } catch (error) {\n",
              "        console.error('Error during call to suggestCharts:', error);\n",
              "      }\n",
              "      quickchartButtonEl.classList.remove('colab-df-spinner');\n",
              "      quickchartButtonEl.classList.add('colab-df-quickchart-complete');\n",
              "    }\n",
              "    (() => {\n",
              "      let quickchartButtonEl =\n",
              "        document.querySelector('#df-02413210-1b26-41e3-8270-78bab3ed1eaf button');\n",
              "      quickchartButtonEl.style.display =\n",
              "        google.colab.kernel.accessAllowed ? 'block' : 'none';\n",
              "    })();\n",
              "  </script>\n",
              "</div>\n",
              "    </div>\n",
              "  </div>\n"
            ]
          },
          "metadata": {},
          "execution_count": 53
        }
      ]
    },
    {
      "cell_type": "markdown",
      "source": [
        "Define similarity calculation function"
      ],
      "metadata": {
        "id": "INo-RwG_i0Ir"
      }
    },
    {
      "cell_type": "code",
      "source": [
        "def calculate_similarity_a(termA, termB):\n",
        "\n",
        "  # Get index of termA and termB\n",
        "  try:\n",
        "    termA_idx = list(vocabulary).index(termA)\n",
        "    termB_idx = list(vocabulary).index(termB)\n",
        "  except ValueError:\n",
        "    # Deal with OOV words\n",
        "    # Returns 0 instead\n",
        "    return 0.0\n",
        "\n",
        "  # Get matrices based on retrieved indices\n",
        "  matrixA = matrixBoW[:, termA_idx].toarray().T\n",
        "  matrixB = matrixBoW[:, termB_idx].toarray().T\n",
        "\n",
        "  # Calculate and return cosine similarity between the 2 matrices\n",
        "  return cosine_similarity(matrixA, matrixB).flatten()[0]"
      ],
      "metadata": {
        "id": "YOxhiv4vcWPO"
      },
      "execution_count": 54,
      "outputs": []
    },
    {
      "cell_type": "code",
      "source": [
        "calculate_similarity_a(\"acquire\", \"obtain\")"
      ],
      "metadata": {
        "colab": {
          "base_uri": "https://localhost:8080/"
        },
        "id": "4bkU7g4kFfap",
        "outputId": "58970d27-5a73-4d75-fe59-bfd1d98177ba"
      },
      "execution_count": 55,
      "outputs": [
        {
          "output_type": "execute_result",
          "data": {
            "text/plain": [
              "0.08163987558068528"
            ]
          },
          "metadata": {},
          "execution_count": 55
        }
      ]
    },
    {
      "cell_type": "code",
      "source": [
        "result = []\n",
        "time_taken = []\n",
        "\n",
        "for data in test_data.values.tolist():\n",
        "\n",
        "  # Calculate similarity score and measure time taken\n",
        "  start = time.time()\n",
        "  score = calculate_similarity_a(data[1], data[2])\n",
        "  end = time.time()\n",
        "\n",
        "  # Append result\n",
        "  result.append(list((data[0], score)))\n",
        "  time_taken.append(end - start)\n",
        "\n",
        "\n",
        "print(\"Total time taken :\", sum(time_taken), \"seconds\")\n",
        "print(\"Result :\", result)"
      ],
      "metadata": {
        "colab": {
          "base_uri": "https://localhost:8080/"
        },
        "id": "9YKNS9urvTSV",
        "outputId": "6f0f2665-890e-4508-e1db-8d56b9e780ff"
      },
      "execution_count": 56,
      "outputs": [
        {
          "output_type": "stream",
          "name": "stdout",
          "text": [
            "Total time taken : 90.47821831703186 seconds\n",
            "Result : [[816, 0.04090188834120051], [957, 0.040580648076480465], [809, 0.0706891708335188], [911, 0.03434293084141965], [242, 0.02720543261839694], [697, 0.008877992814267762], [2066, 0.037018241102301494], [2164, 0.01712031230974136], [14, 0.04257466407112351], [51, 0.0721361123950908], [176, 0.023493726692869792], [402, 0.14245627889785945], [169, 0.05525319447269097], [279, 0.0], [883, 0.06361760627138865], [966, 0.2513404867355678], [633, 0.09558906401769464], [2026, 0.07824850987188792], [2030, 0.0498470409510645], [2154, 0.006594550568486691], [726, 0.014329434986610202], [2008, 0.12072673857956585], [772, 0.02817216425234451], [2081, 0.011849036443350473], [189, 0.17745398903860637], [496, 0.3520646132779678], [24, 0.006296582030368813], [50, 0.015654690383843074], [2018, 0.0048043820445363514], [2019, 0.013766616135586381], [121, 0.0291816999965935], [709, 0.2325787892139486], [813, 0.04470311823695068], [977, 0.13399839714932685], [248, 0.03401753897781291], [264, 0.04722674871506222], [7, 0.00984291263083522], [27, 0.10890284644494844], [3, 0.048532533802321615], [5, 0.0674313325128702], [203, 0.09585204024255445], [261, 0.09041476391450907], [791, 0.013747333074876555], [989, 0.008938673242530708], [440, 0.011374996845271877], [593, 0.06673275421483679], [819, 0.03628632389455377], [932, 0.028089444404824776], [19, 0.12710672519062097], [110, 0.012516666622089763], [823, 0.419954552186052], [842, 0.12676686996708664], [2039, 0.0976705180502669], [2149, 0.09035093675640699], [117, 0.25467100141530385], [125, 0.11948632525959335], [155, 0.04569164466421543], [373, 0.037310777925490424], [62, 0.0], [105, 0.0], [2, 0.021159370096726117], [16, 0.0], [274, 0.023204292865023332], [774, 0.0735470562531788], [122, 0.03658643018264772], [642, 0.10767111070054025], [542, 0.04793337452160537], [728, 0.07513866379262985], [129, 0.05286309129353695], [623, 0.01246246157095434], [2000, 0.0909316630885219], [2001, 1.0], [354, 0.07386501666092524], [501, 0.022934531144527554], [10, 0.04932329510951547], [34, 0.022034843037106497], [342, 0.011197381149238766], [2012, 0.028821721142878377], [3001, 0.0], [3002, 0.0], [3003, 0.008893944624895999], [3004, 0.010794817174141118], [3005, 0.011241611417321164], [3006, 0.0], [3007, 0.006513174927536544], [3008, 0.0048130749526617625], [4009, 0.0], [4010, 0.0], [178, 0.035906033033336955], [179, 0.0721361123950908], [132, 0.015015495378641323], [133, 0.0], [45, 0.003106492487199091], [4011, 0.05173675326255979], [168, 0.23682350386756232], [169, 0.0668936287893962], [159, 0.04122342872655924], [160, 0.3842077219412311], [14, 0.11484189269204147], [16, 0.06513369561445526], [4012, 0.022133307169087298], [4013, 0.0030212785348036663]]\n"
          ]
        }
      ]
    },
    {
      "cell_type": "code",
      "source": [
        "result_df = pd.DataFrame(result)\n",
        "result_df.to_csv(\"10812451-Task1-method-a.csv\", index=False, header=False)"
      ],
      "metadata": {
        "id": "jkfCRM56yBCm"
      },
      "execution_count": 57,
      "outputs": []
    },
    {
      "cell_type": "markdown",
      "source": [
        "## b) Word2Vec"
      ],
      "metadata": {
        "id": "OnBZ2kK3JiIv"
      }
    },
    {
      "cell_type": "markdown",
      "source": [
        "### Words Preprocessing"
      ],
      "metadata": {
        "id": "uEn3FOPLS6wH"
      }
    },
    {
      "cell_type": "code",
      "source": [
        "# Documents preprocessing\n",
        "# Estimated time : 60s-120s for unigram\n",
        "\n",
        "# Set n for n-gram based on validation/test data\n",
        "n = 1\n",
        "\n",
        "preprocessed_docs = [text_preprocessing(d, False, True, True) for d in documents]\n",
        "preprocessed_docs = [ngrams(word_tokenize(d), n) for d in preprocessed_docs]\n",
        "w2v_docs = []\n",
        "\n",
        "for doc in preprocessed_docs:\n",
        "  w2v_docs.append([\" \".join(token) for token in doc])\n"
      ],
      "metadata": {
        "id": "MGXrrceoJn9I"
      },
      "execution_count": 62,
      "outputs": []
    },
    {
      "cell_type": "markdown",
      "source": [
        "### Model Implementation"
      ],
      "metadata": {
        "id": "3kOJ4cdWbYGY"
      }
    },
    {
      "cell_type": "code",
      "source": [
        "# Word2Vec CBoW Implementation\n",
        "# Estimated time : 35s for 1-gram, 115s for 2-gram\n",
        "\n",
        "model = Word2Vec(w2v_docs, vector_size=128, window=5, min_count=1, sg=0)"
      ],
      "metadata": {
        "id": "1_3f3uORbZxP"
      },
      "execution_count": 63,
      "outputs": []
    },
    {
      "cell_type": "code",
      "source": [
        "len(model.wv)"
      ],
      "metadata": {
        "colab": {
          "base_uri": "https://localhost:8080/"
        },
        "id": "qrlb7eL0BtGK",
        "outputId": "40401af8-886c-415a-ae0d-fb5ccad7ab43"
      },
      "execution_count": 64,
      "outputs": [
        {
          "output_type": "execute_result",
          "data": {
            "text/plain": [
              "136350"
            ]
          },
          "metadata": {},
          "execution_count": 64
        }
      ]
    },
    {
      "cell_type": "code",
      "source": [
        "model.wv.most_similar(\"establish\")"
      ],
      "metadata": {
        "colab": {
          "base_uri": "https://localhost:8080/"
        },
        "id": "U4IYb0YPmLbe",
        "outputId": "6444bb94-3bfc-4beb-a6b6-e713659d58f0"
      },
      "execution_count": 65,
      "outputs": [
        {
          "output_type": "execute_result",
          "data": {
            "text/plain": [
              "[('concoct', 0.8866039514541626),\n",
              " ('renew', 0.8839808106422424),\n",
              " ('disrupt', 0.8558264970779419),\n",
              " ('procure', 0.8526293039321899),\n",
              " ('undermine', 0.8491823673248291),\n",
              " ('accomplish', 0.8473575115203857),\n",
              " ('bolster', 0.8465397357940674),\n",
              " ('recreate', 0.8459774851799011),\n",
              " ('adapt', 0.8456436395645142),\n",
              " ('reclaim', 0.844632625579834)]"
            ]
          },
          "metadata": {},
          "execution_count": 65
        }
      ]
    },
    {
      "cell_type": "markdown",
      "source": [
        "### Cosine Similarity Calculation"
      ],
      "metadata": {
        "id": "vSs5AgUIEDr6"
      }
    },
    {
      "cell_type": "markdown",
      "source": [
        "Define similarity calculation function"
      ],
      "metadata": {
        "id": "U7YFj8kXEZM4"
      }
    },
    {
      "cell_type": "code",
      "source": [
        "def calculate_similarity_b(termA, termB):\n",
        "  # Get word vector for terms A and B\n",
        "  try:\n",
        "    return model.wv.similarity(termA, termB)\n",
        "  except KeyError:\n",
        "    # Deal with OOV words\n",
        "    # Returns 0 instead\n",
        "    return 0.0"
      ],
      "metadata": {
        "id": "suENDIyREGPR"
      },
      "execution_count": 66,
      "outputs": []
    },
    {
      "cell_type": "code",
      "source": [
        "print(calculate_similarity_b(\"acquire\", \"OUT\"))\n",
        "print(calculate_similarity_b(\"tiger\", \"animal\"))"
      ],
      "metadata": {
        "colab": {
          "base_uri": "https://localhost:8080/"
        },
        "id": "tBd6xt5oGGXU",
        "outputId": "9f0e3688-6227-4f7e-a2fe-5516484af8cf"
      },
      "execution_count": 67,
      "outputs": [
        {
          "output_type": "stream",
          "name": "stdout",
          "text": [
            "0.0\n",
            "0.72729\n"
          ]
        }
      ]
    },
    {
      "cell_type": "code",
      "source": [
        "result = []\n",
        "time_taken = []\n",
        "\n",
        "for data in test_data.values.tolist():\n",
        "\n",
        "  # Calculate similarity score and measure time taken\n",
        "  start = time.time()\n",
        "  score = calculate_similarity_b(data[1], data[2])\n",
        "  end = time.time()\n",
        "\n",
        "  # Append result\n",
        "  result.append(list((data[0], score)))\n",
        "  time_taken.append(end - start)\n",
        "\n",
        "print(\"Total time taken :\", sum(time_taken), \"seconds\")\n",
        "print(\"Result :\", result)"
      ],
      "metadata": {
        "colab": {
          "base_uri": "https://localhost:8080/"
        },
        "id": "iXy1WEAxHOoQ",
        "outputId": "d79fb651-e1d3-49e7-ea07-4b76f86d9273"
      },
      "execution_count": 68,
      "outputs": [
        {
          "output_type": "stream",
          "name": "stdout",
          "text": [
            "Total time taken : 0.005571126937866211 seconds\n",
            "Result : [[816, 0.69885874], [957, 0.4796449], [809, 0.6196959], [911, 0.55084145], [242, 0.5916214], [697, 0.7486172], [2066, 0.63884914], [2164, 0.35054162], [14, 0.67152107], [51, 0.6204053], [176, 0.5287957], [402, 0.52434343], [169, 0.6352461], [279, 0.5516621], [883, 0.11013872], [966, 0.14834176], [633, 0.45151824], [2026, 0.6547652], [2030, 0.65808785], [2154, 0.53809583], [726, 0.19105278], [2008, 0.766931], [772, 0.35994518], [2081, 0.6686959], [189, 0.6945845], [496, 0.5743444], [24, 0.77655447], [50, 0.50853026], [2018, 0.8716816], [2019, 0.9149811], [121, 0.5318381], [709, 0.2600261], [813, 0.3967045], [977, 0.5082814], [248, 0.83662295], [264, 0.69416666], [7, 0.657032], [27, 0.52517915], [3, 0.6899107], [5, 0.75078964], [203, 0.7974881], [261, 0.26785976], [791, 0.64052016], [989, 0.4991877], [440, 0.48801857], [593, 0.4399482], [819, 0.0], [932, 0.48589712], [19, 0.79745626], [110, 0.42497993], [823, 0.48987156], [842, 0.61029536], [2039, 0.5966662], [2149, 0.33917576], [117, 0.6692629], [125, 0.8016707], [155, 0.812398], [373, 0.74051493], [62, 0.7934961], [105, 0.62614655], [2, 0.69992566], [16, 0.8641126], [274, 0.71643126], [774, 0.53728575], [122, 0.47798383], [642, 0.6090384], [542, 0.48045945], [728, -0.05083123], [129, 0.6776488], [623, 0.3658488], [2000, 0.6013861], [2001, 1.0], [354, 0.72371686], [501, 0.8098469], [10, 0.7725725], [34, 0.4375527], [342, 0.1746135], [2012, 0.8635943], [3001, 0.0], [3002, 0.0], [3003, 0.0], [3004, 0.0], [3005, 0.0], [3006, 0.0], [3007, 0.0], [3008, 0.0], [4009, 0.16523306], [4010, -0.039913435], [178, 0.39959043], [179, 0.6204053], [132, 0.0], [133, 0.0], [45, 0.5078449], [4011, 0.3411089], [168, 0.43697554], [169, 0.28847548], [159, 0.0], [160, 0.39445275], [14, 0.5818298], [16, 0.47713217], [4012, 0.0], [4013, 0.0]]\n"
          ]
        }
      ]
    },
    {
      "cell_type": "code",
      "source": [
        "result_df = pd.DataFrame(result)\n",
        "result_df.to_csv(\"10812451-Task1-method-b.csv\", index=False, header=False)"
      ],
      "metadata": {
        "id": "T-5jnsoBHVQD"
      },
      "execution_count": 69,
      "outputs": []
    }
  ]
}