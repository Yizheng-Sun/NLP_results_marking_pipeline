{
 "cells": [
  {
   "cell_type": "markdown",
   "metadata": {},
   "source": [
    "# Task 2"
   ]
  },
  {
   "cell_type": "code",
   "execution_count": 19,
   "metadata": {},
   "outputs": [],
   "source": [
    "import pandas as pd\n",
    "import numpy as np\n",
    "\n",
    "# preprocessing\n",
    "from nltk.corpus import stopwords\n",
    "from nltk.stem import WordNetLemmatizer\n",
    "from tensorflow.keras.preprocessing.text import Tokenizer\n",
    "from tensorflow.keras.preprocessing.sequence import pad_sequences\n",
    "\n",
    "# model 1\n",
    "from tensorflow.keras.models import Sequential\n",
    "from tensorflow.keras.layers import Embedding, LSTM, Dense, Dropout\n",
    "from tensorflow.keras.optimizers import Adam"
   ]
  },
  {
   "cell_type": "markdown",
   "metadata": {},
   "source": [
    "## import datasets"
   ]
  },
  {
   "cell_type": "code",
   "execution_count": 20,
   "metadata": {},
   "outputs": [],
   "source": [
    "dataset='val'"
   ]
  },
  {
   "cell_type": "code",
   "execution_count": 21,
   "metadata": {},
   "outputs": [],
   "source": [
    "data = pd.read_csv('data/Training-dataset.csv')\n",
    "if dataset=='val':\n",
    "    val = pd.read_csv('data/Task-2-validation-dataset.csv')\n",
    "else:\n",
    "    val = pd.read_csv('data/Task-2-test-dataset1.csv') # but is actually test but will be too much work"
   ]
  },
  {
   "cell_type": "code",
   "execution_count": 22,
   "metadata": {},
   "outputs": [
    {
     "data": {
      "text/html": [
       "<div>\n",
       "<style scoped>\n",
       "    .dataframe tbody tr th:only-of-type {\n",
       "        vertical-align: middle;\n",
       "    }\n",
       "\n",
       "    .dataframe tbody tr th {\n",
       "        vertical-align: top;\n",
       "    }\n",
       "\n",
       "    .dataframe thead th {\n",
       "        text-align: right;\n",
       "    }\n",
       "</style>\n",
       "<table border=\"1\" class=\"dataframe\">\n",
       "  <thead>\n",
       "    <tr style=\"text-align: right;\">\n",
       "      <th></th>\n",
       "      <th>ID</th>\n",
       "      <th>title</th>\n",
       "      <th>plot_synopsis</th>\n",
       "      <th>comedy</th>\n",
       "      <th>cult</th>\n",
       "      <th>flashback</th>\n",
       "      <th>historical</th>\n",
       "      <th>murder</th>\n",
       "      <th>revenge</th>\n",
       "      <th>romantic</th>\n",
       "      <th>scifi</th>\n",
       "      <th>violence</th>\n",
       "    </tr>\n",
       "  </thead>\n",
       "  <tbody>\n",
       "    <tr>\n",
       "      <th>0</th>\n",
       "      <td>8f5203de-b2f8-4c0c-b0c1-835ba92422e9</td>\n",
       "      <td>Si wang ta</td>\n",
       "      <td>After a recent amount of challenges, Billy Lo ...</td>\n",
       "      <td>0</td>\n",
       "      <td>0</td>\n",
       "      <td>0</td>\n",
       "      <td>0</td>\n",
       "      <td>1</td>\n",
       "      <td>1</td>\n",
       "      <td>0</td>\n",
       "      <td>0</td>\n",
       "      <td>1</td>\n",
       "    </tr>\n",
       "    <tr>\n",
       "      <th>1</th>\n",
       "      <td>6416fe15-6f8a-41d4-8a78-3e8f120781c7</td>\n",
       "      <td>Shattered Vengeance</td>\n",
       "      <td>In the crime-ridden city of Tremont, renowned ...</td>\n",
       "      <td>0</td>\n",
       "      <td>0</td>\n",
       "      <td>0</td>\n",
       "      <td>0</td>\n",
       "      <td>1</td>\n",
       "      <td>1</td>\n",
       "      <td>1</td>\n",
       "      <td>0</td>\n",
       "      <td>1</td>\n",
       "    </tr>\n",
       "    <tr>\n",
       "      <th>2</th>\n",
       "      <td>4979fe9a-0518-41cc-b85f-f364c91053ca</td>\n",
       "      <td>L'esorciccio</td>\n",
       "      <td>Lankester Merrin is a veteran Catholic priest ...</td>\n",
       "      <td>0</td>\n",
       "      <td>1</td>\n",
       "      <td>0</td>\n",
       "      <td>0</td>\n",
       "      <td>0</td>\n",
       "      <td>0</td>\n",
       "      <td>0</td>\n",
       "      <td>0</td>\n",
       "      <td>0</td>\n",
       "    </tr>\n",
       "    <tr>\n",
       "      <th>3</th>\n",
       "      <td>b672850b-a1d9-44ed-9cff-025ee8b61e6f</td>\n",
       "      <td>Serendipity Through Seasons</td>\n",
       "      <td>\"Serendipity Through Seasons\" is a heartwarmin...</td>\n",
       "      <td>0</td>\n",
       "      <td>0</td>\n",
       "      <td>0</td>\n",
       "      <td>0</td>\n",
       "      <td>0</td>\n",
       "      <td>0</td>\n",
       "      <td>1</td>\n",
       "      <td>0</td>\n",
       "      <td>0</td>\n",
       "    </tr>\n",
       "    <tr>\n",
       "      <th>4</th>\n",
       "      <td>b4d8e8cc-a53e-48f8-be6a-6432b928a56d</td>\n",
       "      <td>The Liability</td>\n",
       "      <td>Young and naive 19-year-old slacker, Adam (Jac...</td>\n",
       "      <td>0</td>\n",
       "      <td>0</td>\n",
       "      <td>1</td>\n",
       "      <td>0</td>\n",
       "      <td>0</td>\n",
       "      <td>0</td>\n",
       "      <td>0</td>\n",
       "      <td>0</td>\n",
       "      <td>0</td>\n",
       "    </tr>\n",
       "  </tbody>\n",
       "</table>\n",
       "</div>"
      ],
      "text/plain": [
       "                                     ID                        title  \\\n",
       "0  8f5203de-b2f8-4c0c-b0c1-835ba92422e9                   Si wang ta   \n",
       "1  6416fe15-6f8a-41d4-8a78-3e8f120781c7          Shattered Vengeance   \n",
       "2  4979fe9a-0518-41cc-b85f-f364c91053ca                 L'esorciccio   \n",
       "3  b672850b-a1d9-44ed-9cff-025ee8b61e6f  Serendipity Through Seasons   \n",
       "4  b4d8e8cc-a53e-48f8-be6a-6432b928a56d                The Liability   \n",
       "\n",
       "                                       plot_synopsis  comedy  cult  flashback  \\\n",
       "0  After a recent amount of challenges, Billy Lo ...       0     0          0   \n",
       "1  In the crime-ridden city of Tremont, renowned ...       0     0          0   \n",
       "2  Lankester Merrin is a veteran Catholic priest ...       0     1          0   \n",
       "3  \"Serendipity Through Seasons\" is a heartwarmin...       0     0          0   \n",
       "4  Young and naive 19-year-old slacker, Adam (Jac...       0     0          1   \n",
       "\n",
       "   historical  murder  revenge  romantic  scifi  violence  \n",
       "0           0       1        1         0      0         1  \n",
       "1           0       1        1         1      0         1  \n",
       "2           0       0        0         0      0         0  \n",
       "3           0       0        0         1      0         0  \n",
       "4           0       0        0         0      0         0  "
      ]
     },
     "execution_count": 22,
     "metadata": {},
     "output_type": "execute_result"
    }
   ],
   "source": [
    "data.head()"
   ]
  },
  {
   "cell_type": "code",
   "execution_count": 23,
   "metadata": {},
   "outputs": [
    {
     "data": {
      "text/html": [
       "<div>\n",
       "<style scoped>\n",
       "    .dataframe tbody tr th:only-of-type {\n",
       "        vertical-align: middle;\n",
       "    }\n",
       "\n",
       "    .dataframe tbody tr th {\n",
       "        vertical-align: top;\n",
       "    }\n",
       "\n",
       "    .dataframe thead th {\n",
       "        text-align: right;\n",
       "    }\n",
       "</style>\n",
       "<table border=\"1\" class=\"dataframe\">\n",
       "  <thead>\n",
       "    <tr style=\"text-align: right;\">\n",
       "      <th></th>\n",
       "      <th>ID</th>\n",
       "      <th>title</th>\n",
       "      <th>plot_synopsis</th>\n",
       "      <th>comedy</th>\n",
       "      <th>cult</th>\n",
       "      <th>flashback</th>\n",
       "      <th>historical</th>\n",
       "      <th>murder</th>\n",
       "      <th>revenge</th>\n",
       "      <th>romantic</th>\n",
       "      <th>scifi</th>\n",
       "      <th>violence</th>\n",
       "    </tr>\n",
       "  </thead>\n",
       "  <tbody>\n",
       "    <tr>\n",
       "      <th>0</th>\n",
       "      <td>cf32cb00-172d-40f2-a3c1-936e8a0d89d7</td>\n",
       "      <td>Shattered Hearts</td>\n",
       "      <td>In the enchanting city of Verona, Italy, renow...</td>\n",
       "      <td>0</td>\n",
       "      <td>0</td>\n",
       "      <td>0</td>\n",
       "      <td>0</td>\n",
       "      <td>1</td>\n",
       "      <td>0</td>\n",
       "      <td>1</td>\n",
       "      <td>0</td>\n",
       "      <td>0</td>\n",
       "    </tr>\n",
       "    <tr>\n",
       "      <th>1</th>\n",
       "      <td>df7e125e-2d59-40e4-a126-9397e3a0ef21</td>\n",
       "      <td>Point Blank</td>\n",
       "      <td>Walker works with his friend Mal Reese to stea...</td>\n",
       "      <td>0</td>\n",
       "      <td>1</td>\n",
       "      <td>1</td>\n",
       "      <td>0</td>\n",
       "      <td>1</td>\n",
       "      <td>1</td>\n",
       "      <td>0</td>\n",
       "      <td>0</td>\n",
       "      <td>1</td>\n",
       "    </tr>\n",
       "    <tr>\n",
       "      <th>2</th>\n",
       "      <td>49bc73f3-9179-41cd-9774-905c7a3ac91b</td>\n",
       "      <td>Le charme discret de la bourgeoisie</td>\n",
       "      <td>The film consists of several thematically link...</td>\n",
       "      <td>1</td>\n",
       "      <td>0</td>\n",
       "      <td>1</td>\n",
       "      <td>0</td>\n",
       "      <td>0</td>\n",
       "      <td>0</td>\n",
       "      <td>0</td>\n",
       "      <td>0</td>\n",
       "      <td>0</td>\n",
       "    </tr>\n",
       "    <tr>\n",
       "      <th>3</th>\n",
       "      <td>0ed4822b-87af-44bc-a677-7f7abfdaccf3</td>\n",
       "      <td>A Gentleman's Dignity</td>\n",
       "      <td>A Gentleman's Dignity is about the careers and...</td>\n",
       "      <td>0</td>\n",
       "      <td>0</td>\n",
       "      <td>0</td>\n",
       "      <td>0</td>\n",
       "      <td>0</td>\n",
       "      <td>0</td>\n",
       "      <td>1</td>\n",
       "      <td>0</td>\n",
       "      <td>0</td>\n",
       "    </tr>\n",
       "    <tr>\n",
       "      <th>4</th>\n",
       "      <td>0b1b0fa4-43bc-41ba-9598-b3401894b96d</td>\n",
       "      <td>Carmen: A Hip Hopera</td>\n",
       "      <td>Carmen Brown (Beyoncé) is a seductive, aspirin...</td>\n",
       "      <td>0</td>\n",
       "      <td>0</td>\n",
       "      <td>0</td>\n",
       "      <td>0</td>\n",
       "      <td>1</td>\n",
       "      <td>0</td>\n",
       "      <td>0</td>\n",
       "      <td>0</td>\n",
       "      <td>0</td>\n",
       "    </tr>\n",
       "  </tbody>\n",
       "</table>\n",
       "</div>"
      ],
      "text/plain": [
       "                                     ID                                title  \\\n",
       "0  cf32cb00-172d-40f2-a3c1-936e8a0d89d7                     Shattered Hearts   \n",
       "1  df7e125e-2d59-40e4-a126-9397e3a0ef21                          Point Blank   \n",
       "2  49bc73f3-9179-41cd-9774-905c7a3ac91b  Le charme discret de la bourgeoisie   \n",
       "3  0ed4822b-87af-44bc-a677-7f7abfdaccf3                A Gentleman's Dignity   \n",
       "4  0b1b0fa4-43bc-41ba-9598-b3401894b96d                 Carmen: A Hip Hopera   \n",
       "\n",
       "                                       plot_synopsis  comedy  cult  flashback  \\\n",
       "0  In the enchanting city of Verona, Italy, renow...       0     0          0   \n",
       "1  Walker works with his friend Mal Reese to stea...       0     1          1   \n",
       "2  The film consists of several thematically link...       1     0          1   \n",
       "3  A Gentleman's Dignity is about the careers and...       0     0          0   \n",
       "4  Carmen Brown (Beyoncé) is a seductive, aspirin...       0     0          0   \n",
       "\n",
       "   historical  murder  revenge  romantic  scifi  violence  \n",
       "0           0       1        0         1      0         0  \n",
       "1           0       1        1         0      0         1  \n",
       "2           0       0        0         0      0         0  \n",
       "3           0       0        0         1      0         0  \n",
       "4           0       1        0         0      0         0  "
      ]
     },
     "execution_count": 23,
     "metadata": {},
     "output_type": "execute_result"
    }
   ],
   "source": [
    "val.head()"
   ]
  },
  {
   "cell_type": "markdown",
   "metadata": {},
   "source": [
    "## Tokenisation and Preprocessing"
   ]
  },
  {
   "cell_type": "code",
   "execution_count": 24,
   "metadata": {},
   "outputs": [],
   "source": [
    "# processing text\n",
    "\n",
    "def processText(text):\n",
    "    # case folding\n",
    "    text = text.lower()\n",
    "\n",
    "    # Stop words removal\n",
    "    stop_words = set(stopwords.words('english'))\n",
    "    words = text.split()\n",
    "    words = [word for word in words if word not in stop_words]\n",
    "    text = ' '.join(words)\n",
    "\n",
    "    # Lemmatization\n",
    "    lemmatizer = WordNetLemmatizer()\n",
    "    # words = text.split() #nus: same here\n",
    "    words = [lemmatizer.lemmatize(word) for word in words]\n",
    "    text = ' '.join(words)\n",
    "    \n",
    "    return text"
   ]
  },
  {
   "cell_type": "code",
   "execution_count": 25,
   "metadata": {},
   "outputs": [],
   "source": [
    "# tokenization\n",
    "\n",
    "def tokenize(docs, maxlen):\n",
    "    global tokenizer\n",
    "    # tokenize the text data\n",
    "    tokenizer = Tokenizer()\n",
    "    tokenizer.fit_on_texts(docs)\n",
    "\n",
    "    # convert text to sequences\n",
    "    sequences = tokenizer.texts_to_sequences(docs)\n",
    "    \n",
    "    # padding sequences to a fixed length\n",
    "    padded_sequences = pad_sequences(sequences, maxlen=maxlen, padding='post', truncating='post')\n",
    "\n",
    "    return padded_sequences"
   ]
  },
  {
   "cell_type": "code",
   "execution_count": 26,
   "metadata": {},
   "outputs": [],
   "source": [
    "# vocab info\n",
    "def printVocabInfo():\n",
    "    global vocab_size\n",
    "    vocab_size = len(tokenizer.word_index) + 1\n",
    "    # print(f'Vocabulary size: {vocab_size}')\n",
    "    \n",
    "    # word_index = tokenizer.word_index\n",
    "    # print(word_index)"
   ]
  },
  {
   "cell_type": "code",
   "execution_count": 27,
   "metadata": {},
   "outputs": [],
   "source": [
    "def encodeLabels(df):\n",
    "    selected_columns = df.iloc[:, 3:]\n",
    "    labels = selected_columns.values\n",
    "    return labels"
   ]
  },
  {
   "cell_type": "code",
   "execution_count": 28,
   "metadata": {},
   "outputs": [],
   "source": [
    "def preprocessing(df, maxlen):\n",
    "    documents = df['plot_synopsis'].apply(processText)\n",
    "    padded_sequences = tokenize(documents, maxlen)\n",
    "    labels= encodeLabels(df)\n",
    "    \n",
    "    return padded_sequences, labels"
   ]
  },
  {
   "cell_type": "markdown",
   "metadata": {},
   "source": [
    "## Classification Model 1: LSTM"
   ]
  },
  {
   "cell_type": "markdown",
   "metadata": {},
   "source": [
    "### Model Creation"
   ]
  },
  {
   "cell_type": "code",
   "execution_count": 29,
   "metadata": {},
   "outputs": [],
   "source": [
    "# split data\n",
    "def splitData(trainDF, valDF, maxlen):\n",
    "    global X_train, y_train, X_test\n",
    "    \n",
    "    X_train, y_train = preprocessing(trainDF, maxlen)\n",
    "    printVocabInfo()\n",
    "    \n",
    "    documents = valDF['plot_synopsis'].apply(processText)\n",
    "    X_test = tokenize(documents, 40)"
   ]
  },
  {
   "cell_type": "code",
   "execution_count": 30,
   "metadata": {},
   "outputs": [],
   "source": [
    "# create model\n",
    "\n",
    "def createModel(hp):\n",
    "    model = Sequential()\n",
    "\n",
    "    # add an embedding layer\n",
    "    model.add(Embedding(input_dim=vocab_size, output_dim=hp['embedding_dim'], input_length=hp['maxlen']))\n",
    "\n",
    "    # add lstm layers\n",
    "    model.add(LSTM(units=hp['units'], activation='tanh', return_sequences=True, dropout=hp['dropout']))\n",
    "    model.add(LSTM(units=hp['units'], activation='tanh', return_sequences=True, dropout=hp['dropout']))\n",
    "    model.add(LSTM(units=hp['units'], activation='tanh'))\n",
    "\n",
    "    # add an output layer\n",
    "    model.add(Dense(units=9, activation='sigmoid'))\n",
    "\n",
    "    # compile the model\n",
    "    optimizer = Adam(learning_rate=hp['learning_rate'], clipvalue=hp['clipvalue'])\n",
    "    model.compile(optimizer=optimizer, loss='binary_crossentropy', metrics=['accuracy'])\n",
    "    \n",
    "    return model"
   ]
  },
  {
   "cell_type": "code",
   "execution_count": 31,
   "metadata": {},
   "outputs": [],
   "source": [
    "# train model\n",
    "def trainModel(model, hp):\n",
    "    model.fit(X_train, y_train, epochs=hp['epochs'], batch_size=hp['batchsize'])"
   ]
  },
  {
   "cell_type": "code",
   "execution_count": 32,
   "metadata": {},
   "outputs": [],
   "source": [
    "def training(hp):\n",
    "    model = createModel(hp)\n",
    "    trainModel(model, hp)\n",
    "    \n",
    "    return model"
   ]
  },
  {
   "cell_type": "markdown",
   "metadata": {},
   "source": [
    "### Hyper-parameter-tuning"
   ]
  },
  {
   "cell_type": "code",
   "execution_count": 33,
   "metadata": {},
   "outputs": [],
   "source": [
    "hp = {\n",
    "    'maxlen': 40,\n",
    "    'embedding_dim':256,\n",
    "    'units': 64,\n",
    "    'epochs': 30,\n",
    "    'batchsize': 80,\n",
    "    'dropout': 0.3,\n",
    "    'learning_rate': 0.01,\n",
    "    'clipvalue': 0.5\n",
    "}"
   ]
  },
  {
   "cell_type": "code",
   "execution_count": 34,
   "metadata": {},
   "outputs": [],
   "source": [
    "splitData(data, val, hp['maxlen'])"
   ]
  },
  {
   "cell_type": "code",
   "execution_count": 36,
   "metadata": {},
   "outputs": [],
   "source": [
    "model = training(hp)"
   ]
  },
  {
   "cell_type": "code",
   "execution_count": null,
   "metadata": {},
   "outputs": [
    {
     "name": "stdout",
     "output_type": "stream",
     "text": [
      "38/38 [==============================] - 1s 15ms/step\n"
     ]
    }
   ],
   "source": [
    "predicted_probabilities = model.predict(X_test)\n",
    "threshold = 0.49\n",
    "predicted_labels = (predicted_probabilities > threshold).astype(int)"
   ]
  },
  {
   "cell_type": "markdown",
   "metadata": {},
   "source": [
    "## Results"
   ]
  },
  {
   "cell_type": "code",
   "execution_count": null,
   "metadata": {},
   "outputs": [],
   "source": [
    "results1 = val[['ID']].copy()\n",
    "\n",
    "label_columns = ['comedy', 'cult', 'flashback', 'historical', 'murder', 'revenge', 'romantic', 'scifi', 'violence']\n",
    "labels_df = pd.DataFrame(predicted_labels, columns=label_columns)\n",
    "\n",
    "results1 = pd.concat([results1, labels_df], axis=1)"
   ]
  },
  {
   "cell_type": "code",
   "execution_count": null,
   "metadata": {},
   "outputs": [
    {
     "data": {
      "text/html": [
       "<div>\n",
       "<style scoped>\n",
       "    .dataframe tbody tr th:only-of-type {\n",
       "        vertical-align: middle;\n",
       "    }\n",
       "\n",
       "    .dataframe tbody tr th {\n",
       "        vertical-align: top;\n",
       "    }\n",
       "\n",
       "    .dataframe thead th {\n",
       "        text-align: right;\n",
       "    }\n",
       "</style>\n",
       "<table border=\"1\" class=\"dataframe\">\n",
       "  <thead>\n",
       "    <tr style=\"text-align: right;\">\n",
       "      <th></th>\n",
       "      <th>ID</th>\n",
       "      <th>comedy</th>\n",
       "      <th>cult</th>\n",
       "      <th>flashback</th>\n",
       "      <th>historical</th>\n",
       "      <th>murder</th>\n",
       "      <th>revenge</th>\n",
       "      <th>romantic</th>\n",
       "      <th>scifi</th>\n",
       "      <th>violence</th>\n",
       "    </tr>\n",
       "  </thead>\n",
       "  <tbody>\n",
       "    <tr>\n",
       "      <th>0</th>\n",
       "      <td>cf32cb00-172d-40f2-a3c1-936e8a0d89d7</td>\n",
       "      <td>0</td>\n",
       "      <td>1</td>\n",
       "      <td>1</td>\n",
       "      <td>0</td>\n",
       "      <td>1</td>\n",
       "      <td>0</td>\n",
       "      <td>0</td>\n",
       "      <td>0</td>\n",
       "      <td>1</td>\n",
       "    </tr>\n",
       "    <tr>\n",
       "      <th>1</th>\n",
       "      <td>df7e125e-2d59-40e4-a126-9397e3a0ef21</td>\n",
       "      <td>0</td>\n",
       "      <td>0</td>\n",
       "      <td>0</td>\n",
       "      <td>0</td>\n",
       "      <td>0</td>\n",
       "      <td>0</td>\n",
       "      <td>1</td>\n",
       "      <td>0</td>\n",
       "      <td>0</td>\n",
       "    </tr>\n",
       "    <tr>\n",
       "      <th>2</th>\n",
       "      <td>49bc73f3-9179-41cd-9774-905c7a3ac91b</td>\n",
       "      <td>0</td>\n",
       "      <td>0</td>\n",
       "      <td>1</td>\n",
       "      <td>1</td>\n",
       "      <td>1</td>\n",
       "      <td>0</td>\n",
       "      <td>0</td>\n",
       "      <td>0</td>\n",
       "      <td>0</td>\n",
       "    </tr>\n",
       "    <tr>\n",
       "      <th>3</th>\n",
       "      <td>0ed4822b-87af-44bc-a677-7f7abfdaccf3</td>\n",
       "      <td>1</td>\n",
       "      <td>1</td>\n",
       "      <td>1</td>\n",
       "      <td>0</td>\n",
       "      <td>1</td>\n",
       "      <td>0</td>\n",
       "      <td>0</td>\n",
       "      <td>0</td>\n",
       "      <td>0</td>\n",
       "    </tr>\n",
       "    <tr>\n",
       "      <th>4</th>\n",
       "      <td>0b1b0fa4-43bc-41ba-9598-b3401894b96d</td>\n",
       "      <td>0</td>\n",
       "      <td>0</td>\n",
       "      <td>0</td>\n",
       "      <td>0</td>\n",
       "      <td>0</td>\n",
       "      <td>0</td>\n",
       "      <td>0</td>\n",
       "      <td>1</td>\n",
       "      <td>0</td>\n",
       "    </tr>\n",
       "  </tbody>\n",
       "</table>\n",
       "</div>"
      ],
      "text/plain": [
       "                                     ID  comedy  cult  flashback  historical  \\\n",
       "0  cf32cb00-172d-40f2-a3c1-936e8a0d89d7       0     1          1           0   \n",
       "1  df7e125e-2d59-40e4-a126-9397e3a0ef21       0     0          0           0   \n",
       "2  49bc73f3-9179-41cd-9774-905c7a3ac91b       0     0          1           1   \n",
       "3  0ed4822b-87af-44bc-a677-7f7abfdaccf3       1     1          1           0   \n",
       "4  0b1b0fa4-43bc-41ba-9598-b3401894b96d       0     0          0           0   \n",
       "\n",
       "   murder  revenge  romantic  scifi  violence  \n",
       "0       1        0         0      0         1  \n",
       "1       0        0         1      0         0  \n",
       "2       1        0         0      0         0  \n",
       "3       1        0         0      0         0  \n",
       "4       0        0         0      1         0  "
      ]
     },
     "execution_count": 36,
     "metadata": {},
     "output_type": "execute_result"
    }
   ],
   "source": [
    "results1.head()"
   ]
  },
  {
   "cell_type": "code",
   "execution_count": null,
   "metadata": {},
   "outputs": [],
   "source": [
    "if dataset=='val':\n",
    "    results1.to_csv('data/10697685-Task2-method-b-validation.csv', header=False, index=False)\n",
    "else:\n",
    "    results1.to_csv('data/10697685-Task2-method-b.csv', index=False)"
   ]
  }
 ],
 "metadata": {
  "kernelspec": {
   "display_name": "Python 3",
   "language": "python",
   "name": "python3"
  },
  "language_info": {
   "codemirror_mode": {
    "name": "ipython",
    "version": 3
   },
   "file_extension": ".py",
   "mimetype": "text/x-python",
   "name": "python",
   "nbconvert_exporter": "python",
   "pygments_lexer": "ipython3",
   "version": "3.10.11"
  }
 },
 "nbformat": 4,
 "nbformat_minor": 2
}
