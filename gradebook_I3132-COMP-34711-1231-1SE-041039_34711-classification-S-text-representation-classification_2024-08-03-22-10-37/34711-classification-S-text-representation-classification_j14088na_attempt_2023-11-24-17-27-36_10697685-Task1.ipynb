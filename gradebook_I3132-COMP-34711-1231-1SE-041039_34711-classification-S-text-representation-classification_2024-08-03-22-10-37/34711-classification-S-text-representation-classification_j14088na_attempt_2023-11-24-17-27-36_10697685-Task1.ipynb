{
 "cells": [
  {
   "cell_type": "markdown",
   "metadata": {},
   "source": [
    "# Task 1"
   ]
  },
  {
   "cell_type": "code",
   "execution_count": 1,
   "metadata": {},
   "outputs": [],
   "source": [
    "import pandas as pd\n",
    "from sklearn.metrics.pairwise import cosine_similarity\n",
    "\n",
    "# preprocessing\n",
    "from nltk.corpus import stopwords\n",
    "from nltk.stem import WordNetLemmatizer\n",
    "from nltk.tokenize import word_tokenize, sent_tokenize\n",
    "\n",
    "# part 1\n",
    "from sklearn.feature_extraction.text import TfidfVectorizer\n",
    "\n",
    "# part 2\n",
    "from gensim.models import Word2Vec"
   ]
  },
  {
   "cell_type": "markdown",
   "metadata": {},
   "source": [
    "## import datasets"
   ]
  },
  {
   "cell_type": "code",
   "execution_count": 2,
   "metadata": {},
   "outputs": [],
   "source": [
    "dataset='test'"
   ]
  },
  {
   "cell_type": "code",
   "execution_count": 3,
   "metadata": {},
   "outputs": [],
   "source": [
    "data = pd.read_csv('data/Training-dataset.csv')\n",
    "if dataset=='val':\n",
    "    val = pd.read_csv('data/Task-1-validation-dataset.csv')\n",
    "else:\n",
    "    val = pd.read_csv('data/Task-1-test-dataset1.csv') # but is actually test but will be too much work"
   ]
  },
  {
   "cell_type": "code",
   "execution_count": 4,
   "metadata": {},
   "outputs": [
    {
     "data": {
      "text/html": [
       "<div>\n",
       "<style scoped>\n",
       "    .dataframe tbody tr th:only-of-type {\n",
       "        vertical-align: middle;\n",
       "    }\n",
       "\n",
       "    .dataframe tbody tr th {\n",
       "        vertical-align: top;\n",
       "    }\n",
       "\n",
       "    .dataframe thead th {\n",
       "        text-align: right;\n",
       "    }\n",
       "</style>\n",
       "<table border=\"1\" class=\"dataframe\">\n",
       "  <thead>\n",
       "    <tr style=\"text-align: right;\">\n",
       "      <th></th>\n",
       "      <th>ID</th>\n",
       "      <th>title</th>\n",
       "      <th>plot_synopsis</th>\n",
       "      <th>comedy</th>\n",
       "      <th>cult</th>\n",
       "      <th>flashback</th>\n",
       "      <th>historical</th>\n",
       "      <th>murder</th>\n",
       "      <th>revenge</th>\n",
       "      <th>romantic</th>\n",
       "      <th>scifi</th>\n",
       "      <th>violence</th>\n",
       "    </tr>\n",
       "  </thead>\n",
       "  <tbody>\n",
       "    <tr>\n",
       "      <th>0</th>\n",
       "      <td>8f5203de-b2f8-4c0c-b0c1-835ba92422e9</td>\n",
       "      <td>Si wang ta</td>\n",
       "      <td>After a recent amount of challenges, Billy Lo ...</td>\n",
       "      <td>0</td>\n",
       "      <td>0</td>\n",
       "      <td>0</td>\n",
       "      <td>0</td>\n",
       "      <td>1</td>\n",
       "      <td>1</td>\n",
       "      <td>0</td>\n",
       "      <td>0</td>\n",
       "      <td>1</td>\n",
       "    </tr>\n",
       "    <tr>\n",
       "      <th>1</th>\n",
       "      <td>6416fe15-6f8a-41d4-8a78-3e8f120781c7</td>\n",
       "      <td>Shattered Vengeance</td>\n",
       "      <td>In the crime-ridden city of Tremont, renowned ...</td>\n",
       "      <td>0</td>\n",
       "      <td>0</td>\n",
       "      <td>0</td>\n",
       "      <td>0</td>\n",
       "      <td>1</td>\n",
       "      <td>1</td>\n",
       "      <td>1</td>\n",
       "      <td>0</td>\n",
       "      <td>1</td>\n",
       "    </tr>\n",
       "    <tr>\n",
       "      <th>2</th>\n",
       "      <td>4979fe9a-0518-41cc-b85f-f364c91053ca</td>\n",
       "      <td>L'esorciccio</td>\n",
       "      <td>Lankester Merrin is a veteran Catholic priest ...</td>\n",
       "      <td>0</td>\n",
       "      <td>1</td>\n",
       "      <td>0</td>\n",
       "      <td>0</td>\n",
       "      <td>0</td>\n",
       "      <td>0</td>\n",
       "      <td>0</td>\n",
       "      <td>0</td>\n",
       "      <td>0</td>\n",
       "    </tr>\n",
       "    <tr>\n",
       "      <th>3</th>\n",
       "      <td>b672850b-a1d9-44ed-9cff-025ee8b61e6f</td>\n",
       "      <td>Serendipity Through Seasons</td>\n",
       "      <td>\"Serendipity Through Seasons\" is a heartwarmin...</td>\n",
       "      <td>0</td>\n",
       "      <td>0</td>\n",
       "      <td>0</td>\n",
       "      <td>0</td>\n",
       "      <td>0</td>\n",
       "      <td>0</td>\n",
       "      <td>1</td>\n",
       "      <td>0</td>\n",
       "      <td>0</td>\n",
       "    </tr>\n",
       "    <tr>\n",
       "      <th>4</th>\n",
       "      <td>b4d8e8cc-a53e-48f8-be6a-6432b928a56d</td>\n",
       "      <td>The Liability</td>\n",
       "      <td>Young and naive 19-year-old slacker, Adam (Jac...</td>\n",
       "      <td>0</td>\n",
       "      <td>0</td>\n",
       "      <td>1</td>\n",
       "      <td>0</td>\n",
       "      <td>0</td>\n",
       "      <td>0</td>\n",
       "      <td>0</td>\n",
       "      <td>0</td>\n",
       "      <td>0</td>\n",
       "    </tr>\n",
       "  </tbody>\n",
       "</table>\n",
       "</div>"
      ],
      "text/plain": [
       "                                     ID                        title  \\\n",
       "0  8f5203de-b2f8-4c0c-b0c1-835ba92422e9                   Si wang ta   \n",
       "1  6416fe15-6f8a-41d4-8a78-3e8f120781c7          Shattered Vengeance   \n",
       "2  4979fe9a-0518-41cc-b85f-f364c91053ca                 L'esorciccio   \n",
       "3  b672850b-a1d9-44ed-9cff-025ee8b61e6f  Serendipity Through Seasons   \n",
       "4  b4d8e8cc-a53e-48f8-be6a-6432b928a56d                The Liability   \n",
       "\n",
       "                                       plot_synopsis  comedy  cult  flashback  \\\n",
       "0  After a recent amount of challenges, Billy Lo ...       0     0          0   \n",
       "1  In the crime-ridden city of Tremont, renowned ...       0     0          0   \n",
       "2  Lankester Merrin is a veteran Catholic priest ...       0     1          0   \n",
       "3  \"Serendipity Through Seasons\" is a heartwarmin...       0     0          0   \n",
       "4  Young and naive 19-year-old slacker, Adam (Jac...       0     0          1   \n",
       "\n",
       "   historical  murder  revenge  romantic  scifi  violence  \n",
       "0           0       1        1         0      0         1  \n",
       "1           0       1        1         1      0         1  \n",
       "2           0       0        0         0      0         0  \n",
       "3           0       0        0         1      0         0  \n",
       "4           0       0        0         0      0         0  "
      ]
     },
     "execution_count": 4,
     "metadata": {},
     "output_type": "execute_result"
    }
   ],
   "source": [
    "data.head()"
   ]
  },
  {
   "cell_type": "code",
   "execution_count": 5,
   "metadata": {},
   "outputs": [
    {
     "data": {
      "text/html": [
       "<div>\n",
       "<style scoped>\n",
       "    .dataframe tbody tr th:only-of-type {\n",
       "        vertical-align: middle;\n",
       "    }\n",
       "\n",
       "    .dataframe tbody tr th {\n",
       "        vertical-align: top;\n",
       "    }\n",
       "\n",
       "    .dataframe thead th {\n",
       "        text-align: right;\n",
       "    }\n",
       "</style>\n",
       "<table border=\"1\" class=\"dataframe\">\n",
       "  <thead>\n",
       "    <tr style=\"text-align: right;\">\n",
       "      <th></th>\n",
       "      <th>id</th>\n",
       "      <th>term1</th>\n",
       "      <th>term2</th>\n",
       "    </tr>\n",
       "  </thead>\n",
       "  <tbody>\n",
       "    <tr>\n",
       "      <th>0</th>\n",
       "      <td>816</td>\n",
       "      <td>accept</td>\n",
       "      <td>acknowledge</td>\n",
       "    </tr>\n",
       "    <tr>\n",
       "      <th>1</th>\n",
       "      <td>957</td>\n",
       "      <td>accept</td>\n",
       "      <td>recommend</td>\n",
       "    </tr>\n",
       "    <tr>\n",
       "      <th>2</th>\n",
       "      <td>809</td>\n",
       "      <td>agree</td>\n",
       "      <td>argue</td>\n",
       "    </tr>\n",
       "    <tr>\n",
       "      <th>3</th>\n",
       "      <td>911</td>\n",
       "      <td>agree</td>\n",
       "      <td>please</td>\n",
       "    </tr>\n",
       "    <tr>\n",
       "      <th>4</th>\n",
       "      <td>242</td>\n",
       "      <td>alcohol</td>\n",
       "      <td>cocktail</td>\n",
       "    </tr>\n",
       "  </tbody>\n",
       "</table>\n",
       "</div>"
      ],
      "text/plain": [
       "    id    term1        term2\n",
       "0  816   accept  acknowledge\n",
       "1  957   accept    recommend\n",
       "2  809    agree        argue\n",
       "3  911    agree       please\n",
       "4  242  alcohol     cocktail"
      ]
     },
     "execution_count": 5,
     "metadata": {},
     "output_type": "execute_result"
    }
   ],
   "source": [
    "# reformat val dataframe\n",
    "record = pd.DataFrame([val.columns.tolist()], columns=val.columns)\n",
    "val = pd.concat([record, val], ignore_index=True)\n",
    "if dataset=='val':\n",
    "    val.columns = ['id', 'term1', 'term2', 'ranking']\n",
    "else:\n",
    "    val.columns = ['id', 'term1', 'term2']\n",
    "\n",
    "val.head()"
   ]
  },
  {
   "cell_type": "code",
   "execution_count": 6,
   "metadata": {},
   "outputs": [],
   "source": [
    "# convert id from string to int\n",
    "val['id'] = val['id'].astype(int)\n"
   ]
  },
  {
   "cell_type": "markdown",
   "metadata": {},
   "source": [
    "## Tokenisation and Preprocessing"
   ]
  },
  {
   "cell_type": "code",
   "execution_count": 7,
   "metadata": {},
   "outputs": [],
   "source": [
    "def processText(text):\n",
    "    # case folding\n",
    "    text = text.lower()\n",
    "\n",
    "    # Stop words removal\n",
    "    stop_words = set(stopwords.words('english'))\n",
    "    words = text.split()\n",
    "    words = [word for word in words if word not in stop_words]\n",
    "    text = ' '.join(words)\n",
    "\n",
    "    # # Lemmatization\n",
    "    lemmatizer = WordNetLemmatizer()\n",
    "    words = [lemmatizer.lemmatize(word) for word in words]\n",
    "    text = ' '.join(words)\n",
    "    \n",
    "    return text"
   ]
  },
  {
   "cell_type": "code",
   "execution_count": 8,
   "metadata": {},
   "outputs": [],
   "source": [
    "# processed documents\n",
    "documents = data['plot_synopsis'].apply(processText).tolist()\n",
    "\n",
    "# tokenize each document into sentences and then tokenize each sentence into words\n",
    "sentences = [word_tokenize(sentence) for document in documents for sentence in sent_tokenize(document)]"
   ]
  },
  {
   "cell_type": "markdown",
   "metadata": {},
   "source": [
    "## Sparse Vector Representation 1: VSM"
   ]
  },
  {
   "cell_type": "markdown",
   "metadata": {},
   "source": [
    "### compute vector representation"
   ]
  },
  {
   "cell_type": "code",
   "execution_count": 9,
   "metadata": {},
   "outputs": [
    {
     "name": "stdout",
     "output_type": "stream",
     "text": [
      "tfidf vectors shape: (8257, 88176)\n"
     ]
    }
   ],
   "source": [
    "# create the TF-IDF vectorizer\n",
    "tfidf_vectorizer = TfidfVectorizer()\n",
    "\n",
    "# fit the vectorizer to the documents and transform them into tf-idf vectors\n",
    "tfidf_vectors = tfidf_vectorizer.fit_transform(documents).toarray()\n",
    "\n",
    "# get the vocab\n",
    "vocab = tfidf_vectorizer.vocabulary_\n",
    "\n",
    "print(f'tfidf vectors shape: {tfidf_vectors.shape}')"
   ]
  },
  {
   "cell_type": "markdown",
   "metadata": {},
   "source": [
    "### compute similarity"
   ]
  },
  {
   "cell_type": "code",
   "execution_count": 10,
   "metadata": {},
   "outputs": [],
   "source": [
    "val['similarity1'] = 0.0\n",
    "\n",
    "# for each pair in val\n",
    "for index, row in val.iterrows():\n",
    "    # get the terms\n",
    "    term1 = row['term1']\n",
    "    term2 = row['term2']\n",
    "    \n",
    "    # get the index of the terms in vocab\n",
    "    term1_index = vocab.get(term1)\n",
    "    term2_index = vocab.get(term2)\n",
    "    \n",
    "    # check if term exists in vocab\n",
    "    if term1_index is not None and term2_index is not None:\n",
    "        # get the tf-idf vector for each term\n",
    "        term1_tfidf = tfidf_vectors[:, term1_index].reshape(1, -1)\n",
    "        term2_tfidf = tfidf_vectors[:, term2_index].reshape(1, -1)\n",
    "\n",
    "        # compute the cosine similarity\n",
    "        similarity = cosine_similarity(term1_tfidf, term2_tfidf)[0][0]\n",
    "    \n",
    "    else:\n",
    "        similarity = 0\n",
    "        \n",
    "    # record similarity to df\n",
    "    val.at[index, 'similarity1'] = similarity"
   ]
  },
  {
   "cell_type": "code",
   "execution_count": 11,
   "metadata": {},
   "outputs": [
    {
     "data": {
      "text/html": [
       "<div>\n",
       "<style scoped>\n",
       "    .dataframe tbody tr th:only-of-type {\n",
       "        vertical-align: middle;\n",
       "    }\n",
       "\n",
       "    .dataframe tbody tr th {\n",
       "        vertical-align: top;\n",
       "    }\n",
       "\n",
       "    .dataframe thead th {\n",
       "        text-align: right;\n",
       "    }\n",
       "</style>\n",
       "<table border=\"1\" class=\"dataframe\">\n",
       "  <thead>\n",
       "    <tr style=\"text-align: right;\">\n",
       "      <th></th>\n",
       "      <th>id</th>\n",
       "      <th>term1</th>\n",
       "      <th>term2</th>\n",
       "      <th>similarity1</th>\n",
       "    </tr>\n",
       "  </thead>\n",
       "  <tbody>\n",
       "    <tr>\n",
       "      <th>0</th>\n",
       "      <td>816</td>\n",
       "      <td>accept</td>\n",
       "      <td>acknowledge</td>\n",
       "      <td>0.042112</td>\n",
       "    </tr>\n",
       "    <tr>\n",
       "      <th>1</th>\n",
       "      <td>957</td>\n",
       "      <td>accept</td>\n",
       "      <td>recommend</td>\n",
       "      <td>0.041259</td>\n",
       "    </tr>\n",
       "    <tr>\n",
       "      <th>2</th>\n",
       "      <td>809</td>\n",
       "      <td>agree</td>\n",
       "      <td>argue</td>\n",
       "      <td>0.061190</td>\n",
       "    </tr>\n",
       "    <tr>\n",
       "      <th>3</th>\n",
       "      <td>911</td>\n",
       "      <td>agree</td>\n",
       "      <td>please</td>\n",
       "      <td>0.029395</td>\n",
       "    </tr>\n",
       "    <tr>\n",
       "      <th>4</th>\n",
       "      <td>242</td>\n",
       "      <td>alcohol</td>\n",
       "      <td>cocktail</td>\n",
       "      <td>0.030637</td>\n",
       "    </tr>\n",
       "  </tbody>\n",
       "</table>\n",
       "</div>"
      ],
      "text/plain": [
       "    id    term1        term2  similarity1\n",
       "0  816   accept  acknowledge     0.042112\n",
       "1  957   accept    recommend     0.041259\n",
       "2  809    agree        argue     0.061190\n",
       "3  911    agree       please     0.029395\n",
       "4  242  alcohol     cocktail     0.030637"
      ]
     },
     "execution_count": 11,
     "metadata": {},
     "output_type": "execute_result"
    }
   ],
   "source": [
    "val.head()"
   ]
  },
  {
   "cell_type": "markdown",
   "metadata": {},
   "source": [
    "## Dense Vector Representation 2: word2vec"
   ]
  },
  {
   "cell_type": "markdown",
   "metadata": {},
   "source": [
    "### compute vector representation"
   ]
  },
  {
   "cell_type": "code",
   "execution_count": 12,
   "metadata": {},
   "outputs": [],
   "source": [
    "cbow_model = Word2Vec(sentences, min_count = 1, window = 5)"
   ]
  },
  {
   "cell_type": "markdown",
   "metadata": {},
   "source": [
    "### compute similarity"
   ]
  },
  {
   "cell_type": "code",
   "execution_count": 13,
   "metadata": {},
   "outputs": [],
   "source": [
    "val['similarity2'] = 0.0\n",
    "\n",
    "# for each pair in val\n",
    "for index, row in val.iterrows():\n",
    "    term1 = row['term1']\n",
    "    term2 = row['term2']\n",
    "\n",
    "    # check if term exists in the model's vocab\n",
    "    if term1 in cbow_model.wv.key_to_index and term2 in cbow_model.wv.key_to_index:\n",
    "        similarity = cbow_model.wv.similarity(term1, term2)\n",
    "    else:\n",
    "        similarity = 0\n",
    "    \n",
    "    # record similarity to df\n",
    "    val.at[index, 'similarity2'] = similarity"
   ]
  },
  {
   "cell_type": "markdown",
   "metadata": {},
   "source": [
    "## Results"
   ]
  },
  {
   "cell_type": "code",
   "execution_count": 14,
   "metadata": {},
   "outputs": [
    {
     "data": {
      "text/html": [
       "<div>\n",
       "<style scoped>\n",
       "    .dataframe tbody tr th:only-of-type {\n",
       "        vertical-align: middle;\n",
       "    }\n",
       "\n",
       "    .dataframe tbody tr th {\n",
       "        vertical-align: top;\n",
       "    }\n",
       "\n",
       "    .dataframe thead th {\n",
       "        text-align: right;\n",
       "    }\n",
       "</style>\n",
       "<table border=\"1\" class=\"dataframe\">\n",
       "  <thead>\n",
       "    <tr style=\"text-align: right;\">\n",
       "      <th></th>\n",
       "      <th>id</th>\n",
       "      <th>term1</th>\n",
       "      <th>term2</th>\n",
       "      <th>similarity1</th>\n",
       "      <th>similarity2</th>\n",
       "    </tr>\n",
       "  </thead>\n",
       "  <tbody>\n",
       "    <tr>\n",
       "      <th>0</th>\n",
       "      <td>816</td>\n",
       "      <td>accept</td>\n",
       "      <td>acknowledge</td>\n",
       "      <td>0.042112</td>\n",
       "      <td>0.703060</td>\n",
       "    </tr>\n",
       "    <tr>\n",
       "      <th>1</th>\n",
       "      <td>957</td>\n",
       "      <td>accept</td>\n",
       "      <td>recommend</td>\n",
       "      <td>0.041259</td>\n",
       "      <td>0.585162</td>\n",
       "    </tr>\n",
       "    <tr>\n",
       "      <th>2</th>\n",
       "      <td>809</td>\n",
       "      <td>agree</td>\n",
       "      <td>argue</td>\n",
       "      <td>0.061190</td>\n",
       "      <td>0.593694</td>\n",
       "    </tr>\n",
       "    <tr>\n",
       "      <th>3</th>\n",
       "      <td>911</td>\n",
       "      <td>agree</td>\n",
       "      <td>please</td>\n",
       "      <td>0.029395</td>\n",
       "      <td>0.396377</td>\n",
       "    </tr>\n",
       "    <tr>\n",
       "      <th>4</th>\n",
       "      <td>242</td>\n",
       "      <td>alcohol</td>\n",
       "      <td>cocktail</td>\n",
       "      <td>0.030637</td>\n",
       "      <td>0.506321</td>\n",
       "    </tr>\n",
       "    <tr>\n",
       "      <th>5</th>\n",
       "      <td>697</td>\n",
       "      <td>alcohol</td>\n",
       "      <td>wine</td>\n",
       "      <td>0.006492</td>\n",
       "      <td>0.715401</td>\n",
       "    </tr>\n",
       "    <tr>\n",
       "      <th>6</th>\n",
       "      <td>2066</td>\n",
       "      <td>announcement</td>\n",
       "      <td>news</td>\n",
       "      <td>0.035266</td>\n",
       "      <td>0.657762</td>\n",
       "    </tr>\n",
       "    <tr>\n",
       "      <th>7</th>\n",
       "      <td>2164</td>\n",
       "      <td>announcement</td>\n",
       "      <td>effort</td>\n",
       "      <td>0.010059</td>\n",
       "      <td>0.372791</td>\n",
       "    </tr>\n",
       "    <tr>\n",
       "      <th>8</th>\n",
       "      <td>14</td>\n",
       "      <td>bad</td>\n",
       "      <td>terrible</td>\n",
       "      <td>0.033781</td>\n",
       "      <td>0.633458</td>\n",
       "    </tr>\n",
       "    <tr>\n",
       "      <th>9</th>\n",
       "      <td>51</td>\n",
       "      <td>bad</td>\n",
       "      <td>great</td>\n",
       "      <td>0.065086</td>\n",
       "      <td>0.422489</td>\n",
       "    </tr>\n",
       "  </tbody>\n",
       "</table>\n",
       "</div>"
      ],
      "text/plain": [
       "     id         term1        term2  similarity1  similarity2\n",
       "0   816        accept  acknowledge     0.042112     0.703060\n",
       "1   957        accept    recommend     0.041259     0.585162\n",
       "2   809         agree        argue     0.061190     0.593694\n",
       "3   911         agree       please     0.029395     0.396377\n",
       "4   242       alcohol     cocktail     0.030637     0.506321\n",
       "5   697       alcohol         wine     0.006492     0.715401\n",
       "6  2066  announcement         news     0.035266     0.657762\n",
       "7  2164  announcement       effort     0.010059     0.372791\n",
       "8    14           bad     terrible     0.033781     0.633458\n",
       "9    51           bad        great     0.065086     0.422489"
      ]
     },
     "execution_count": 14,
     "metadata": {},
     "output_type": "execute_result"
    }
   ],
   "source": [
    "val.head(10)"
   ]
  },
  {
   "cell_type": "code",
   "execution_count": 15,
   "metadata": {},
   "outputs": [],
   "source": [
    "# results from first vector representation\n",
    "\n",
    "results1 = val[['id', 'similarity1']].copy()\n",
    "\n",
    "if dataset=='val':\n",
    "    results1.to_csv('data/10697685-Task1-method-a-validation.csv', index=False, header=False)\n",
    "else:\n",
    "    results1.to_csv('data/10697685-Task1-method-a.csv', index=False, header=False)"
   ]
  },
  {
   "cell_type": "code",
   "execution_count": 16,
   "metadata": {},
   "outputs": [],
   "source": [
    "# results from second vector representation\n",
    "\n",
    "results2= val[['id', 'similarity2']].copy()\n",
    "\n",
    "if dataset=='val':\n",
    "    results2.to_csv('data/10697685-Task1-method-b-validation.csv', index=False, header=False)\n",
    "else:\n",
    "    results2.to_csv('data/10697685-Task1-method-b.csv', index=False, header=False)"
   ]
  }
 ],
 "metadata": {
  "kernelspec": {
   "display_name": "Python 3",
   "language": "python",
   "name": "python3"
  },
  "language_info": {
   "codemirror_mode": {
    "name": "ipython",
    "version": 3
   },
   "file_extension": ".py",
   "mimetype": "text/x-python",
   "name": "python",
   "nbconvert_exporter": "python",
   "pygments_lexer": "ipython3",
   "version": "3.10.11"
  }
 },
 "nbformat": 4,
 "nbformat_minor": 2
}
