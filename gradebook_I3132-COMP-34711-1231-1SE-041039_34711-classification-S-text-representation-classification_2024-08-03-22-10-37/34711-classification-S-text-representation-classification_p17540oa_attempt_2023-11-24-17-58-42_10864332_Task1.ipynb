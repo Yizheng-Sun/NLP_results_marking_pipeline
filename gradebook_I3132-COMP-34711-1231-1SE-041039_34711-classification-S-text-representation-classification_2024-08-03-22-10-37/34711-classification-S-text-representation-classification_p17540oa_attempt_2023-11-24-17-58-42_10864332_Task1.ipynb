{
  "nbformat": 4,
  "nbformat_minor": 0,
  "metadata": {
    "colab": {
      "provenance": []
    },
    "kernelspec": {
      "name": "python3",
      "display_name": "Python 3"
    },
    "language_info": {
      "name": "python"
    }
  },
  "cells": [
    {
      "cell_type": "code",
      "execution_count": 82,
      "metadata": {
        "id": "dQEjUsm9mkcU",
        "colab": {
          "base_uri": "https://localhost:8080/"
        },
        "outputId": "3781abe3-285e-44af-f61e-300c516422bb"
      },
      "outputs": [
        {
          "output_type": "stream",
          "name": "stderr",
          "text": [
            "[nltk_data] Downloading package punkt to /root/nltk_data...\n",
            "[nltk_data]   Package punkt is already up-to-date!\n"
          ]
        },
        {
          "output_type": "execute_result",
          "data": {
            "text/plain": [
              "True"
            ]
          },
          "metadata": {},
          "execution_count": 82
        }
      ],
      "source": [
        "# !pip install pandas scikit-learn scipy\n",
        "from sklearn.feature_extraction.text import TfidfVectorizer\n",
        "import nltk\n",
        "from nltk.stem import PorterStemmer\n",
        "import pandas as pd\n",
        "import numpy as np\n",
        "import gensim.downloader as api\n",
        "import time\n",
        "nltk.download('punkt')"
      ]
    },
    {
      "cell_type": "code",
      "source": [
        "df = pd.read_csv('./data/Training-dataset.csv')\n",
        "val_df = pd.read_csv('./data/Task-1-validation-dataset.csv', header=None, index_col=None)\n",
        "test_df = pd.read_csv('./data/Task-1-test-dataset1.csv', header=None, index_col=None)"
      ],
      "metadata": {
        "id": "SmVuV_I4xphY"
      },
      "execution_count": 60,
      "outputs": []
    },
    {
      "cell_type": "markdown",
      "source": [
        "## OPTION A - TF*IDF"
      ],
      "metadata": {
        "id": "3k4ystgB4axx"
      }
    },
    {
      "cell_type": "code",
      "source": [
        "ps = PorterStemmer()\n",
        "def preprocess(text):\n",
        "  return ' '.join([ps.stem(word) for word in text.lower().split()])\n",
        "documents = df['plot_synopsis'].tolist()\n",
        "# print(documents)"
      ],
      "metadata": {
        "id": "OMl8K4so5EmC"
      },
      "execution_count": 61,
      "outputs": []
    },
    {
      "cell_type": "code",
      "source": [
        "#a) sparse representation (BoW tf*idf)\n",
        "#TF-IDF vectorizer (countvec + transform the BoW rep)\n",
        "tfidfvectorizer = TfidfVectorizer(preprocessor=preprocess, analyzer='word') #some stop words are to be compared\n",
        "tdidf_mtx = tfidfvectorizer.fit_transform(documents)\n",
        "print(tdidf_mtx.shape)"
      ],
      "metadata": {
        "colab": {
          "base_uri": "https://localhost:8080/"
        },
        "id": "8oxTwBfRVzuD",
        "outputId": "2371d477-1a69-4e60-8a44-c212d34490ac"
      },
      "execution_count": 62,
      "outputs": [
        {
          "output_type": "stream",
          "name": "stdout",
          "text": [
            "(8257, 88460)\n"
          ]
        }
      ]
    },
    {
      "cell_type": "code",
      "source": [
        "#embedding for OOV words\n",
        "w2v_model = api.load(\"word2vec-google-news-300\")"
      ],
      "metadata": {
        "id": "31lEmQTL_KE6"
      },
      "execution_count": 63,
      "outputs": []
    },
    {
      "cell_type": "markdown",
      "source": [
        "# Validation"
      ],
      "metadata": {
        "id": "0PME0sE2Hj7M"
      }
    },
    {
      "cell_type": "code",
      "source": [
        "#cosine similarity\n",
        "from sklearn.metrics.pairwise import cosine_similarity\n",
        "# cosine_sim = cosine_similarity(tdidf_mtx, tdidf_mtx)\n",
        "\n",
        "result_df = pd.DataFrame(columns=['ID', 'Similarity'])\n",
        "prediction_df = '10864332-Task1-method-a-validation.csv'\n",
        "# df.apply(cos_sim, result_type='expand', axis=1) #use function instead\n",
        "\n",
        "for index, row in val_df.iterrows():\n",
        "  ID, word1, word2 = row[0], row[1], row[2]\n",
        "  if word1 in tfidfvectorizer.vocabulary_ and word2 in tfidfvectorizer.vocabulary_:\n",
        "    #get indices of the words\n",
        "    word1_index = tfidfvectorizer.vocabulary_[word1]\n",
        "    word2_index = tfidfvectorizer.vocabulary_[word2]\n",
        "    #get vectors of the words' indices\n",
        "    vector_word1 = tdidf_mtx[:, word1_index].reshape(1, -1)\n",
        "    vector_word2 = tdidf_mtx[:, word2_index].reshape(1, -1)\n",
        "\n",
        "    cosine_similarity_score = cosine_similarity(vector_word1, vector_word2)[0][0]\n",
        "  else:\n",
        "    #1 or both words OOV\n",
        "    vector_word1 = w2v_model[word1] if word1 in w2v_model else np.zeros((300,))\n",
        "    vector_word2 = w2v_model[word2] if word2 in w2v_model else np.zeros((300,))\n",
        "\n",
        "    cosine_similarity_score = cosine_similarity(vector_word1.reshape(1, -1), vector_word2.reshape(1, -1))[0][0]\n",
        "\n",
        "  result_df = pd.concat([result_df, pd.DataFrame([[ID, cosine_similarity_score]], columns=['ID', 'Similarity'])], ignore_index=True)\n",
        "\n",
        "result_df.to_csv(prediction_df, index=False, header=False)\n"
      ],
      "metadata": {
        "id": "pmpxPD6t3WMQ"
      },
      "execution_count": 83,
      "outputs": []
    },
    {
      "cell_type": "code",
      "source": [
        "print(len(tfidfvectorizer.vocabulary_)) #size of representation"
      ],
      "metadata": {
        "id": "Fihrnpnj0jve",
        "colab": {
          "base_uri": "https://localhost:8080/"
        },
        "outputId": "82d8ce9f-8b27-43f6-e792-5e3be1bcc0cf"
      },
      "execution_count": 65,
      "outputs": [
        {
          "output_type": "stream",
          "name": "stdout",
          "text": [
            "88460\n"
          ]
        }
      ]
    },
    {
      "cell_type": "code",
      "source": [
        "!python task1_eval_script_student_version.py 10864332-Task1-method-a-validation.csv ./data/Task-1-validation-dataset.csv"
      ],
      "metadata": {
        "colab": {
          "base_uri": "https://localhost:8080/"
        },
        "id": "16U__27UmOZC",
        "outputId": "bc538e56-0827-4c2c-efcc-14c69b60d235"
      },
      "execution_count": 66,
      "outputs": [
        {
          "output_type": "stream",
          "name": "stdout",
          "text": [
            "The following simalarity scores may need checking:\n",
            "(achieve,accomplish) similarity score: 0.0, gold ranking: 8.57\n",
            "(achieve,try) similarity score: 0.0, gold ranking: 4.42\n",
            "----------------------------\n",
            "(acquire,get) similarity score: 0.00128361456672418, gold ranking: 8.82\n",
            "(acquire,find) similarity score: 0.0023240677055002957, gold ranking: 6.38\n",
            "----------------------------\n",
            "(acquire,obtain) similarity score: 0.0, gold ranking: 8.57\n",
            "(acquire,find) similarity score: 0.0023240677055002957, gold ranking: 6.38\n",
            "----------------------------\n",
            "(apple,sauce) similarity score: 0.0, gold ranking: 1.43\n",
            "(apple,sunshine) similarity score: 0.0, gold ranking: 0.58\n",
            "----------------------------\n",
            "(apple,lemon) similarity score: 0.0, gold ranking: 4.05\n",
            "(apple,sunshine) similarity score: 0.0, gold ranking: 0.58\n",
            "----------------------------\n",
            "(arm,shoulder) similarity score: 0.09339897690332263, gold ranking: 4.85\n",
            "(arm,body) similarity score: 0.11874327787870616, gold ranking: 4.05\n",
            "----------------------------\n",
            "(arm,shoulder) similarity score: 0.09339897690332263, gold ranking: 4.85\n",
            "(arm,neck) similarity score: 0.12612172339286015, gold ranking: 1.58\n",
            "----------------------------\n",
            "(arm,body) similarity score: 0.11874327787870616, gold ranking: 4.05\n",
            "(arm,neck) similarity score: 0.12612172339286015, gold ranking: 1.58\n",
            "----------------------------\n",
            "(arm,vein) similarity score: 0.013698327827179241, gold ranking: 3.65\n",
            "(arm,knee) similarity score: 0.029715130451871002, gold ranking: 2.75\n",
            "----------------------------\n",
            "(arm,vein) similarity score: 0.013698327827179241, gold ranking: 3.65\n",
            "(arm,neck) similarity score: 0.12612172339286015, gold ranking: 1.58\n",
            "----------------------------\n",
            "(arm,knee) similarity score: 0.029715130451871002, gold ranking: 2.75\n",
            "(arm,neck) similarity score: 0.12612172339286015, gold ranking: 1.58\n",
            "----------------------------\n",
            "(arm,bone) similarity score: 0.048372733283397785, gold ranking: 3.83\n",
            "(arm,neck) similarity score: 0.12612172339286015, gold ranking: 1.58\n",
            "----------------------------\n",
            "(ball,cannon) similarity score: 0.009699576235327967, gold ranking: 2.58\n",
            "(ball,basket) similarity score: 0.015252726739050102, gold ranking: 1.67\n",
            "----------------------------\n",
            "(bath,trick) similarity score: 0.049435726681139304, gold ranking: 0.58\n",
            "(bath,wife) similarity score: 0.04958927893319204, gold ranking: 0.48\n",
            "----------------------------\n",
            "(bed,bedroom) similarity score: 0.1991632519891049, gold ranking: 3.4\n",
            "(bed,crib) similarity score: 0.00892753959092785, gold ranking: 7.3\n",
            "----------------------------\n",
            "(bed,bedroom) similarity score: 0.1991632519891049, gold ranking: 3.4\n",
            "(bed,chair) similarity score: 0.059122298722179896, gold ranking: 3.5\n",
            "----------------------------\n",
            "(bed,blanket) similarity score: 0.044335223968632306, gold ranking: 3.02\n",
            "(bed,crib) similarity score: 0.00892753959092785, gold ranking: 7.3\n",
            "----------------------------\n",
            "(bed,blanket) similarity score: 0.044335223968632306, gold ranking: 3.02\n",
            "(bed,hospital) similarity score: 0.09249603570389547, gold ranking: 0.92\n",
            "----------------------------\n",
            "(bed,crib) similarity score: 0.00892753959092785, gold ranking: 7.3\n",
            "(bed,hospital) similarity score: 0.09249603570389547, gold ranking: 0.92\n",
            "----------------------------\n",
            "(bed,crib) similarity score: 0.00892753959092785, gold ranking: 7.3\n",
            "(bed,chair) similarity score: 0.059122298722179896, gold ranking: 3.5\n",
            "----------------------------\n",
            "(bed,hospital) similarity score: 0.09249603570389547, gold ranking: 0.92\n",
            "(bed,chair) similarity score: 0.059122298722179896, gold ranking: 3.5\n",
            "----------------------------\n",
            "(belief,opinion) similarity score: 0.03541196279018619, gold ranking: 7.7\n",
            "(belief,concept) similarity score: 0.04831959215764126, gold ranking: 5.08\n",
            "----------------------------\n",
            "(belief,concept) similarity score: 0.04831959215764126, gold ranking: 5.08\n",
            "(belief,impression) similarity score: 0.0, gold ranking: 5.95\n",
            "----------------------------\n",
            "(belief,impression) similarity score: 0.0, gold ranking: 5.95\n",
            "(belief,flower) similarity score: 0.027143238021911067, gold ranking: 0.4\n",
            "----------------------------\n",
            "(bird,hawk) similarity score: 0.008139064704671461, gold ranking: 7.85\n",
            "(bird,turkey) similarity score: 0.011231173486796553, gold ranking: 6.58\n",
            "----------------------------\n",
            "(bird,turkey) similarity score: 0.011231173486796553, gold ranking: 6.58\n",
            "(bird,hen) similarity score: 0.0017195814436018727, gold ranking: 7.03\n",
            "----------------------------\n",
            "(bird,turkey) similarity score: 0.011231173486796553, gold ranking: 6.58\n",
            "(bird,cock) similarity score: 0.003560242955273092, gold ranking: 7.1\n",
            "----------------------------\n",
            "(bone,jaw) similarity score: 0.005402062128347447, gold ranking: 4.17\n",
            "(bone,neck) similarity score: 0.01393529695826556, gold ranking: 2.53\n",
            "----------------------------\n",
            "(bone,ankle) similarity score: 0.0018219564472428135, gold ranking: 3.82\n",
            "(bone,neck) similarity score: 0.01393529695826556, gold ranking: 2.53\n",
            "----------------------------\n",
            "(bone,neck) similarity score: 0.01393529695826556, gold ranking: 2.53\n",
            "(bone,elbow) similarity score: 0.0016389674148788594, gold ranking: 3.78\n",
            "----------------------------\n",
            "(book,bible) similarity score: 0.06886540666297675, gold ranking: 5.0\n",
            "(book,information) similarity score: 0.0325113585862638, gold ranking: 5.0\n",
            "----------------------------\n",
            "(book,bible) similarity score: 0.06886540666297675, gold ranking: 5.0\n",
            "(book,article) similarity score: 0.028738689037082047, gold ranking: 5.43\n",
            "----------------------------\n",
            "(book,information) similarity score: 0.0325113585862638, gold ranking: 5.0\n",
            "(book,article) similarity score: 0.028738689037082047, gold ranking: 5.43\n",
            "----------------------------\n",
            "(book,information) similarity score: 0.0325113585862638, gold ranking: 5.0\n",
            "(book,theme) similarity score: 0.047115447072647046, gold ranking: 2.58\n",
            "----------------------------\n",
            "(book,essay) similarity score: 0.023280344798608587, gold ranking: 4.72\n",
            "(book,theme) similarity score: 0.047115447072647046, gold ranking: 2.58\n",
            "----------------------------\n",
            "(book,article) similarity score: 0.028738689037082047, gold ranking: 5.43\n",
            "(book,theme) similarity score: 0.047115447072647046, gold ranking: 2.58\n",
            "----------------------------\n",
            "(cat,lion) similarity score: 0.021454973825011634, gold ranking: 6.75\n",
            "(cat,pet) similarity score: 0.05564175581992307, gold ranking: 5.95\n",
            "----------------------------\n",
            "(clothes,drawer) similarity score: 0.028843984065356185, gold ranking: 3.02\n",
            "(clothes,fabric) similarity score: 0.00196848732071121, gold ranking: 5.87\n",
            "----------------------------\n",
            "(clothes,drawer) similarity score: 0.028843984065356185, gold ranking: 3.02\n",
            "(clothes,jacket) similarity score: 0.01725903434825846, gold ranking: 5.15\n",
            "----------------------------\n",
            "(clothes,fabric) similarity score: 0.00196848732071121, gold ranking: 5.87\n",
            "(clothes,button) similarity score: 0.025200925064072725, gold ranking: 2.3\n",
            "----------------------------\n",
            "(clothes,fabric) similarity score: 0.00196848732071121, gold ranking: 5.87\n",
            "(clothes,coat) similarity score: 0.08559232080316423, gold ranking: 5.35\n",
            "----------------------------\n",
            "(clothes,fabric) similarity score: 0.00196848732071121, gold ranking: 5.87\n",
            "(clothes,jacket) similarity score: 0.01725903434825846, gold ranking: 5.15\n",
            "----------------------------\n",
            "(clothes,button) similarity score: 0.025200925064072725, gold ranking: 2.3\n",
            "(clothes,jacket) similarity score: 0.01725903434825846, gold ranking: 5.15\n",
            "----------------------------\n",
            "(cup,cone) similarity score: 0.03054677844688931, gold ranking: 3.17\n",
            "(cup,jar) similarity score: 0.002262365899631524, gold ranking: 5.13\n",
            "----------------------------\n",
            "(cup,cone) similarity score: 0.03054677844688931, gold ranking: 3.17\n",
            "(cup,object) similarity score: 0.016655020696445748, gold ranking: 3.69\n",
            "----------------------------\n",
            "(cup,jar) similarity score: 0.002262365899631524, gold ranking: 5.13\n",
            "(cup,artifact) similarity score: 0.01666666943411782, gold ranking: 2.92\n",
            "----------------------------\n",
            "(cup,jar) similarity score: 0.002262365899631524, gold ranking: 5.13\n",
            "(cup,object) similarity score: 0.016655020696445748, gold ranking: 3.69\n",
            "----------------------------\n",
            "(cup,jar) similarity score: 0.002262365899631524, gold ranking: 5.13\n",
            "(cup,food) similarity score: 0.04861843194990013, gold ranking: 5.0\n",
            "----------------------------\n",
            "(cup,artifact) similarity score: 0.01666666943411782, gold ranking: 2.92\n",
            "(cup,object) similarity score: 0.016655020696445748, gold ranking: 3.69\n",
            "----------------------------\n",
            "(cup,entity) similarity score: 0.0, gold ranking: 2.15\n",
            "(cup,substance) similarity score: 0.0018271635359990769, gold ranking: 1.92\n",
            "----------------------------\n",
            "(drink,eat) similarity score: 0.11464116049440556, gold ranking: 6.87\n",
            "(drink,car) similarity score: 0.15757422563394813, gold ranking: 3.04\n",
            "----------------------------\n",
            "(drink,eat) similarity score: 0.11464116049440556, gold ranking: 6.87\n",
            "(drink,mother) similarity score: 0.11504157760097829, gold ranking: 2.65\n",
            "----------------------------\n",
            "(father,parent) similarity score: 0.1810897553493465, gold ranking: 7.07\n",
            "(father,daughter) similarity score: 0.27942656354789575, gold ranking: 2.62\n",
            "----------------------------\n",
            "(father,parent) similarity score: 0.1810897553493465, gold ranking: 7.07\n",
            "(father,brother) similarity score: 0.22842632464818213, gold ranking: 4.2\n",
            "----------------------------\n",
            "(father,daughter) similarity score: 0.27942656354789575, gold ranking: 2.62\n",
            "(father,brother) similarity score: 0.22842632464818213, gold ranking: 4.2\n",
            "----------------------------\n",
            "(father,daughter) similarity score: 0.27942656354789575, gold ranking: 2.62\n",
            "(father,god) similarity score: 0.07791809057844498, gold ranking: 3.57\n",
            "----------------------------\n",
            "(flower,violet) similarity score: 0.0042494873878254945, gold ranking: 6.95\n",
            "(flower,bulb) similarity score: 0.006803599812809667, gold ranking: 4.48\n",
            "----------------------------\n",
            "(guy,stud) similarity score: 0.005241321661313192, gold ranking: 5.83\n",
            "(guy,partner) similarity score: 0.02372217902274231, gold ranking: 3.57\n",
            "----------------------------\n",
            "(guy,stud) similarity score: 0.005241321661313192, gold ranking: 5.83\n",
            "(guy,girl) similarity score: 0.10022176481076875, gold ranking: 3.33\n",
            "----------------------------\n",
            "(guy,partner) similarity score: 0.02372217902274231, gold ranking: 3.57\n",
            "(guy,girl) similarity score: 0.10022176481076875, gold ranking: 3.33\n",
            "----------------------------\n",
            "(horse,mare) similarity score: 0.005532391210597174, gold ranking: 8.33\n",
            "(horse,ox) similarity score: 0.022285217347501215, gold ranking: 3.02\n",
            "----------------------------\n",
            "(join,add) similarity score: 0.03964911981176406, gold ranking: 8.1\n",
            "(join,marry) similarity score: 0.04217603260405297, gold ranking: 5.35\n",
            "----------------------------\n",
            "(king,princess) similarity score: 0.13244742495675718, gold ranking: 3.27\n",
            "(king,rook) similarity score: 0.0, gold ranking: 5.92\n",
            "----------------------------\n",
            "(king,rook) similarity score: 0.0, gold ranking: 5.92\n",
            "(king,cabbage) similarity score: 0.0, gold ranking: 0.23\n",
            "----------------------------\n",
            "(lose,fail) similarity score: 0.12314914972492289, gold ranking: 7.33\n",
            "(lose,keep) similarity score: 0.16230730894181583, gold ranking: 1.05\n",
            "----------------------------\n",
            "(lose,fail) similarity score: 0.12314914972492289, gold ranking: 7.33\n",
            "(lose,get) similarity score: 0.2475677264323053, gold ranking: 0.77\n",
            "----------------------------\n",
            "(lose,keep) similarity score: 0.16230730894181583, gold ranking: 1.05\n",
            "(lose,get) similarity score: 0.2475677264323053, gold ranking: 0.77\n",
            "----------------------------\n",
            "(man,uncle) similarity score: 0.0667849989863571, gold ranking: 3.92\n",
            "(man,warrior) similarity score: 0.05120017794912067, gold ranking: 4.72\n",
            "----------------------------\n",
            "(man,uncle) similarity score: 0.0667849989863571, gold ranking: 3.92\n",
            "(man,governor) similarity score: 0.04927969193817328, gold ranking: 5.25\n",
            "----------------------------\n",
            "(man,father) similarity score: 0.2253676838305375, gold ranking: 4.83\n",
            "(man,husband) similarity score: 0.17893344066094413, gold ranking: 5.32\n",
            "----------------------------\n",
            "(man,father) similarity score: 0.2253676838305375, gold ranking: 4.83\n",
            "(man,governor) similarity score: 0.04927969193817328, gold ranking: 5.25\n",
            "----------------------------\n",
            "(man,child) similarity score: 0.17818997858483454, gold ranking: 4.13\n",
            "(man,warrior) similarity score: 0.05120017794912067, gold ranking: 4.72\n",
            "----------------------------\n",
            "(man,child) similarity score: 0.17818997858483454, gold ranking: 4.13\n",
            "(man,governor) similarity score: 0.04927969193817328, gold ranking: 5.25\n",
            "----------------------------\n",
            "(man,victor) similarity score: 0.04779688812620024, gold ranking: 1.9\n",
            "(man,sentry) similarity score: 0.005892499920345338, gold ranking: 3.25\n",
            "----------------------------\n",
            "(man,warrior) similarity score: 0.05120017794912067, gold ranking: 4.72\n",
            "(man,governor) similarity score: 0.04927969193817328, gold ranking: 5.25\n",
            "----------------------------\n",
            "(meat,bacon) similarity score: 0.0344747152033842, gold ranking: 5.8\n",
            "(meat,bread) similarity score: 0.04382301456244658, gold ranking: 1.67\n",
            "----------------------------\n",
            "(money,salary) similarity score: 0.028593024144006354, gold ranking: 7.88\n",
            "(money,pearl) similarity score: 0.03575041440349732, gold ranking: 2.1\n",
            "----------------------------\n",
            "(money,salary) similarity score: 0.028593024144006354, gold ranking: 7.88\n",
            "(money,diamond) similarity score: 0.038189726390931295, gold ranking: 3.42\n",
            "----------------------------\n",
            "(precedent,information) similarity score: 0.0, gold ranking: 3.85\n",
            "(precedent,cognition) similarity score: 0.0, gold ranking: 2.81\n",
            "----------------------------\n",
            "(precedent,information) similarity score: 0.0, gold ranking: 3.85\n",
            "(precedent,group) similarity score: 0.0, gold ranking: 1.77\n",
            "----------------------------\n",
            "(precedent,cognition) similarity score: 0.0, gold ranking: 2.81\n",
            "(precedent,group) similarity score: 0.0, gold ranking: 1.77\n",
            "----------------------------\n",
            "(street,alley) similarity score: 0.12059332918273749, gold ranking: 5.48\n",
            "(street,car) similarity score: 0.18760104654789347, gold ranking: 2.38\n",
            "----------------------------\n",
            "(street,alley) similarity score: 0.12059332918273749, gold ranking: 5.48\n",
            "(street,avenue) similarity score: 0.009913636844344223, gold ranking: 8.88\n",
            "----------------------------\n",
            "(street,car) similarity score: 0.18760104654789347, gold ranking: 2.38\n",
            "(street,place) similarity score: 0.1383050874238929, gold ranking: 6.44\n",
            "----------------------------\n",
            "(street,car) similarity score: 0.18760104654789347, gold ranking: 2.38\n",
            "(street,avenue) similarity score: 0.009913636844344223, gold ranking: 8.88\n",
            "----------------------------\n",
            "(street,place) similarity score: 0.1383050874238929, gold ranking: 6.44\n",
            "(street,avenue) similarity score: 0.009913636844344223, gold ranking: 8.88\n",
            "----------------------------\n",
            "(take,obtain) similarity score: 0.12235548456602012, gold ranking: 7.1\n",
            "(take,leave) similarity score: 0.27391344916594196, gold ranking: 2.47\n",
            "----------------------------\n",
            "(take,receive) similarity score: 0.010621894098936725, gold ranking: 5.08\n",
            "(take,carry) similarity score: 0.0035771146061117313, gold ranking: 5.23\n",
            "----------------------------\n",
            "(take,receive) similarity score: 0.010621894098936725, gold ranking: 5.08\n",
            "(take,deliver) similarity score: 0.022630648285815277, gold ranking: 4.37\n",
            "----------------------------\n",
            "(take,receive) similarity score: 0.010621894098936725, gold ranking: 5.08\n",
            "(take,leave) similarity score: 0.27391344916594196, gold ranking: 2.47\n",
            "----------------------------\n",
            "(take,carry) similarity score: 0.0035771146061117313, gold ranking: 5.23\n",
            "(take,deliver) similarity score: 0.022630648285815277, gold ranking: 4.37\n",
            "----------------------------\n",
            "(take,carry) similarity score: 0.0035771146061117313, gold ranking: 5.23\n",
            "(take,leave) similarity score: 0.27391344916594196, gold ranking: 2.47\n",
            "----------------------------\n",
            "(take,deliver) similarity score: 0.022630648285815277, gold ranking: 4.37\n",
            "(take,leave) similarity score: 0.27391344916594196, gold ranking: 2.47\n",
            "----------------------------\n",
            "(tiger,feline) similarity score: 0.010690215915392, gold ranking: 8.0\n",
            "(tiger,carnivore) similarity score: 0.42893755435943604, gold ranking: 7.08\n",
            "----------------------------\n",
            "(tiger,feline) similarity score: 0.010690215915392, gold ranking: 8.0\n",
            "(tiger,animal) similarity score: 0.012922835684177496, gold ranking: 7.0\n",
            "----------------------------\n",
            "(tiger,mammal) similarity score: 0.0, gold ranking: 6.85\n",
            "(tiger,organism) similarity score: 0.0, gold ranking: 4.77\n",
            "----------------------------\n",
            "(tiger,mammal) similarity score: 0.0, gold ranking: 6.85\n",
            "(tiger,fauna) similarity score: 0.004918819681711724, gold ranking: 5.62\n",
            "----------------------------\n",
            "(happy,cheerful) similarity score: 0.03250330719962139, gold ranking: 9.55\n",
            "(happy,young) similarity score: 0.063951516809984, gold ranking: 2.0\n",
            "----------------------------\n",
            "(car,highway) similarity score: 0.210316672070997, gold ranking: 3.4\n",
            "(car,cab) similarity score: 0.06768898901664379, gold ranking: 7.42\n",
            "----------------------------\n",
            "(bad,immoral) similarity score: 0.02154896592357209, gold ranking: 7.62\n",
            "(bad,great) similarity score: 0.06280037497626113, gold ranking: 0.35\n",
            "----------------------------\n",
            "(accept,deliver) similarity score: 0.0062362056399949, gold ranking: 1.58\n",
            "(accept,believe) similarity score: 0.005377454643685474, gold ranking: 6.75\n",
            "----------------------------\n",
            "Accuracy: 0.625925925925926\n"
          ]
        }
      ]
    },
    {
      "cell_type": "markdown",
      "source": [
        "# Test"
      ],
      "metadata": {
        "id": "IVYOSmDFHdU1"
      }
    },
    {
      "cell_type": "code",
      "source": [
        "test_result_df = pd.DataFrame(columns=['ID', 'Similarity'])\n",
        "prediction_df = '10864332-Task1-method-a.csv'\n",
        "\n",
        "start = time.time()\n",
        "for index, row in test_df.iterrows():\n",
        "  ID, word1, word2 = row[0], row[1], row[2]\n",
        "  if word1 in tfidfvectorizer.vocabulary_ and word2 in tfidfvectorizer.vocabulary_:\n",
        "\n",
        "    word1_index = tfidfvectorizer.vocabulary_[word1]\n",
        "    word2_index = tfidfvectorizer.vocabulary_[word2]\n",
        "\n",
        "    vector_word1 = tdidf_mtx[:, word1_index].reshape(1, -1)\n",
        "    vector_word2 = tdidf_mtx[:, word2_index].reshape(1, -1)\n",
        "\n",
        "    cosine_similarity_score = cosine_similarity(vector_word1, vector_word2)[0][0]\n",
        "  else:\n",
        "    #1 or both words OOV\n",
        "    vector_word1 = w2v_model[word1] if word1 in w2v_model else np.zeros((300,))\n",
        "    vector_word2 = w2v_model[word2] if word2 in w2v_model else np.zeros((300,))\n",
        "\n",
        "    cosine_similarity_score = cosine_similarity(vector_word1.reshape(1, -1), vector_word2.reshape(1, -1))[0][0]\n",
        "\n",
        "  test_result_df = pd.concat([test_result_df, pd.DataFrame([[ID, cosine_similarity_score]], columns=['ID', 'Similarity'])], ignore_index=True)\n",
        "end = time.time()\n",
        "\n",
        "print(f\"{end-start}s to process test data\")\n",
        "test_result_df.to_csv(prediction_df, index=False, header=False)\n"
      ],
      "metadata": {
        "colab": {
          "base_uri": "https://localhost:8080/"
        },
        "id": "S1VhkmZ_HSvn",
        "outputId": "7c23311f-eca7-4f95-f023-851d42153dd6"
      },
      "execution_count": 84,
      "outputs": [
        {
          "output_type": "stream",
          "name": "stdout",
          "text": [
            "3.1268105506896973s to process test data\n"
          ]
        }
      ]
    },
    {
      "cell_type": "code",
      "source": [
        "# !python task1_eval_script_student_version.py 10864332-Task-1-method-a.csv ./data/Task-1-test-dataset1.csv\n",
        "# DON'T RUN eval_script on tests"
      ],
      "metadata": {
        "id": "2GgI_OcM--Px"
      },
      "execution_count": 68,
      "outputs": []
    },
    {
      "cell_type": "markdown",
      "source": [
        "## OPTION B - WORD2VEC"
      ],
      "metadata": {
        "id": "Umf-EBoE5_6y"
      }
    },
    {
      "cell_type": "code",
      "source": [
        "#b) dense static representation (word2vec)\n",
        "import gensim\n",
        "from gensim.models import Word2Vec\n",
        "from nltk.tokenize import word_tokenize"
      ],
      "metadata": {
        "id": "grQdyKO8H_5O"
      },
      "execution_count": 69,
      "outputs": []
    },
    {
      "cell_type": "code",
      "source": [
        "# tokenized_documents = [word_tokenize(doc.lower()) for doc in documents] #tokenizes punctuation as well\n",
        "tokenized_documents = [gensim.utils.simple_preprocess(doc.lower()) for doc in documents] #doesn't tokenize punct & symbols"
      ],
      "metadata": {
        "id": "_7acRpd-JC_5"
      },
      "execution_count": 70,
      "outputs": []
    },
    {
      "cell_type": "code",
      "source": [
        "#model params\n",
        "model_w2v = Word2Vec(window=5, min_count=2, workers=4, sg=1)\n",
        "model_w2v.build_vocab(tokenized_documents, progress_per=1000)\n",
        "model_w2v.train(tokenized_documents, total_examples=model_w2v.corpus_count, epochs=model_w2v.epochs)"
      ],
      "metadata": {
        "colab": {
          "base_uri": "https://localhost:8080/"
        },
        "id": "WzX4ziKpk_DV",
        "outputId": "cf2e0c6d-ee05-444e-8a4a-f666207c13d6"
      },
      "execution_count": 71,
      "outputs": [
        {
          "output_type": "execute_result",
          "data": {
            "text/plain": [
              "(25904042, 34003590)"
            ]
          },
          "metadata": {},
          "execution_count": 71
        }
      ]
    },
    {
      "cell_type": "code",
      "source": [
        "print(model_w2v.vector_size)"
      ],
      "metadata": {
        "colab": {
          "base_uri": "https://localhost:8080/"
        },
        "id": "wm_kSAUotAdz",
        "outputId": "d9d7f78c-b80f-4aad-f74c-e14719c1f3c9"
      },
      "execution_count": 72,
      "outputs": [
        {
          "output_type": "stream",
          "name": "stdout",
          "text": [
            "100\n"
          ]
        }
      ]
    },
    {
      "cell_type": "markdown",
      "source": [
        "# Validation"
      ],
      "metadata": {
        "id": "Ilu82BEjQsci"
      }
    },
    {
      "cell_type": "code",
      "source": [
        "result_df = pd.DataFrame(columns=['ID', 'Similarity'])\n",
        "prediction_df = '10864332-Task1-method-b-validation.csv'\n",
        "\n",
        "for index, row in val_df.iterrows():\n",
        "  ID, word1, word2 = row[0], row[1], row[2]\n",
        "  if word1 in model_w2v.wv.key_to_index and word2 in model_w2v.wv.key_to_index:\n",
        "    cosine_similarity = model_w2v.wv.similarity(word1, word2)\n",
        "  else:\n",
        "    vector_word1 = w2v_model[word1] if word1 in w2v_model else np.zeros((300,))\n",
        "    vector_word2 = w2v_model[word2] if word2 in w2v_model else np.zeros((300,))\n",
        "  result_df = pd.concat([result_df, pd.DataFrame([[ID, cosine_similarity]], columns=['ID', 'Similarity'])], ignore_index=True)\n",
        "\n",
        "result_df.to_csv(prediction_df, index=False, header=False)\n",
        "#consider multi-words"
      ],
      "metadata": {
        "id": "aQTGwxn0sdNk"
      },
      "execution_count": 79,
      "outputs": []
    },
    {
      "cell_type": "code",
      "source": [
        "!python task1_eval_script_student_version.py 10864332-Task1-method-b-validation.csv ./data/Task-1-validation-dataset.csv"
      ],
      "metadata": {
        "colab": {
          "base_uri": "https://localhost:8080/"
        },
        "id": "zzeEF1oO0-wk",
        "outputId": "f2b0ccec-3dc3-4f10-aa49-a1d751d7c1e1"
      },
      "execution_count": 80,
      "outputs": [
        {
          "output_type": "stream",
          "name": "stdout",
          "text": [
            "The following simalarity scores may need checking:\n",
            "(absorb,learn) similarity score: 0.3099422, gold ranking: 5.48\n",
            "(absorb,withdraw) similarity score: 0.534273, gold ranking: 2.97\n",
            "----------------------------\n",
            "(acquire,get) similarity score: 0.5361132, gold ranking: 8.82\n",
            "(acquire,obtain) similarity score: 0.7717477, gold ranking: 8.57\n",
            "----------------------------\n",
            "(arm,body) similarity score: 0.48774445, gold ranking: 4.05\n",
            "(arm,vein) similarity score: 0.57491076, gold ranking: 3.65\n",
            "----------------------------\n",
            "(arm,body) similarity score: 0.48774445, gold ranking: 4.05\n",
            "(arm,knee) similarity score: 0.68754923, gold ranking: 2.75\n",
            "----------------------------\n",
            "(arm,body) similarity score: 0.48774445, gold ranking: 4.05\n",
            "(arm,bone) similarity score: 0.540126, gold ranking: 3.83\n",
            "----------------------------\n",
            "(arm,body) similarity score: 0.48774445, gold ranking: 4.05\n",
            "(arm,neck) similarity score: 0.74894786, gold ranking: 1.58\n",
            "----------------------------\n",
            "(arm,vein) similarity score: 0.57491076, gold ranking: 3.65\n",
            "(arm,knee) similarity score: 0.68754923, gold ranking: 2.75\n",
            "----------------------------\n",
            "(arm,vein) similarity score: 0.57491076, gold ranking: 3.65\n",
            "(arm,bone) similarity score: 0.540126, gold ranking: 3.83\n",
            "----------------------------\n",
            "(arm,vein) similarity score: 0.57491076, gold ranking: 3.65\n",
            "(arm,neck) similarity score: 0.74894786, gold ranking: 1.58\n",
            "----------------------------\n",
            "(arm,knee) similarity score: 0.68754923, gold ranking: 2.75\n",
            "(arm,bone) similarity score: 0.540126, gold ranking: 3.83\n",
            "----------------------------\n",
            "(arm,knee) similarity score: 0.68754923, gold ranking: 2.75\n",
            "(arm,neck) similarity score: 0.74894786, gold ranking: 1.58\n",
            "----------------------------\n",
            "(arm,bone) similarity score: 0.540126, gold ranking: 3.83\n",
            "(arm,neck) similarity score: 0.74894786, gold ranking: 1.58\n",
            "----------------------------\n",
            "(ball,cannon) similarity score: 0.40562424, gold ranking: 2.58\n",
            "(ball,basket) similarity score: 0.41618153, gold ranking: 1.67\n",
            "----------------------------\n",
            "(bath,trick) similarity score: 0.35603112, gold ranking: 0.58\n",
            "(bath,balloon) similarity score: 0.53978384, gold ranking: 0.4\n",
            "----------------------------\n",
            "(bath,wife) similarity score: 0.30090934, gold ranking: 0.48\n",
            "(bath,balloon) similarity score: 0.53978384, gold ranking: 0.4\n",
            "----------------------------\n",
            "(bed,bedroom) similarity score: 0.74467653, gold ranking: 3.4\n",
            "(bed,blanket) similarity score: 0.79311955, gold ranking: 3.02\n",
            "----------------------------\n",
            "(bed,bedroom) similarity score: 0.74467653, gold ranking: 3.4\n",
            "(bed,chair) similarity score: 0.70270985, gold ranking: 3.5\n",
            "----------------------------\n",
            "(bed,blanket) similarity score: 0.79311955, gold ranking: 3.02\n",
            "(bed,crib) similarity score: 0.756953, gold ranking: 7.3\n",
            "----------------------------\n",
            "(bed,blanket) similarity score: 0.79311955, gold ranking: 3.02\n",
            "(bed,chair) similarity score: 0.70270985, gold ranking: 3.5\n",
            "----------------------------\n",
            "(belief,opinion) similarity score: 0.64306235, gold ranking: 7.7\n",
            "(belief,concept) similarity score: 0.695052, gold ranking: 5.08\n",
            "----------------------------\n",
            "(belief,concept) similarity score: 0.695052, gold ranking: 5.08\n",
            "(belief,impression) similarity score: 0.50705, gold ranking: 5.95\n",
            "----------------------------\n",
            "(bird,hawk) similarity score: 0.5465348, gold ranking: 7.85\n",
            "(bird,hen) similarity score: 0.5591971, gold ranking: 7.03\n",
            "----------------------------\n",
            "(bird,hawk) similarity score: 0.5465348, gold ranking: 7.85\n",
            "(bird,cock) similarity score: 0.5590172, gold ranking: 7.1\n",
            "----------------------------\n",
            "(bird,hen) similarity score: 0.5591971, gold ranking: 7.03\n",
            "(bird,cock) similarity score: 0.5590172, gold ranking: 7.1\n",
            "----------------------------\n",
            "(bone,jaw) similarity score: 0.5603406, gold ranking: 4.17\n",
            "(bone,knee) similarity score: 0.5196996, gold ranking: 4.17\n",
            "----------------------------\n",
            "(bone,jaw) similarity score: 0.5603406, gold ranking: 4.17\n",
            "(bone,teeth) similarity score: 0.5250934, gold ranking: 4.17\n",
            "----------------------------\n",
            "(bone,jaw) similarity score: 0.5603406, gold ranking: 4.17\n",
            "(bone,elbow) similarity score: 0.5833119, gold ranking: 3.78\n",
            "----------------------------\n",
            "(bone,ankle) similarity score: 0.48097157, gold ranking: 3.82\n",
            "(bone,elbow) similarity score: 0.5833119, gold ranking: 3.78\n",
            "----------------------------\n",
            "(bone,knee) similarity score: 0.5196996, gold ranking: 4.17\n",
            "(bone,elbow) similarity score: 0.5833119, gold ranking: 3.78\n",
            "----------------------------\n",
            "(bone,teeth) similarity score: 0.5250934, gold ranking: 4.17\n",
            "(bone,elbow) similarity score: 0.5833119, gold ranking: 3.78\n",
            "----------------------------\n",
            "(book,literature) similarity score: 0.55789983, gold ranking: 7.53\n",
            "(book,story) similarity score: 0.58415115, gold ranking: 5.63\n",
            "----------------------------\n",
            "(book,literature) similarity score: 0.55789983, gold ranking: 7.53\n",
            "(book,bible) similarity score: 0.7544288, gold ranking: 5.0\n",
            "----------------------------\n",
            "(book,literature) similarity score: 0.55789983, gold ranking: 7.53\n",
            "(book,essay) similarity score: 0.63445246, gold ranking: 4.72\n",
            "----------------------------\n",
            "(book,literature) similarity score: 0.55789983, gold ranking: 7.53\n",
            "(book,article) similarity score: 0.664164, gold ranking: 5.43\n",
            "----------------------------\n",
            "(book,story) similarity score: 0.58415115, gold ranking: 5.63\n",
            "(book,bible) similarity score: 0.7544288, gold ranking: 5.0\n",
            "----------------------------\n",
            "(book,story) similarity score: 0.58415115, gold ranking: 5.63\n",
            "(book,essay) similarity score: 0.63445246, gold ranking: 4.72\n",
            "----------------------------\n",
            "(book,story) similarity score: 0.58415115, gold ranking: 5.63\n",
            "(book,article) similarity score: 0.664164, gold ranking: 5.43\n",
            "----------------------------\n",
            "(book,bible) similarity score: 0.7544288, gold ranking: 5.0\n",
            "(book,information) similarity score: 0.44958282, gold ranking: 5.0\n",
            "----------------------------\n",
            "(book,bible) similarity score: 0.7544288, gold ranking: 5.0\n",
            "(book,article) similarity score: 0.664164, gold ranking: 5.43\n",
            "----------------------------\n",
            "(book,topic) similarity score: 0.53492516, gold ranking: 2.07\n",
            "(book,information) similarity score: 0.44958282, gold ranking: 5.0\n",
            "----------------------------\n",
            "(book,topic) similarity score: 0.53492516, gold ranking: 2.07\n",
            "(book,theme) similarity score: 0.49749115, gold ranking: 2.58\n",
            "----------------------------\n",
            "(book,information) similarity score: 0.44958282, gold ranking: 5.0\n",
            "(book,essay) similarity score: 0.63445246, gold ranking: 4.72\n",
            "----------------------------\n",
            "(book,information) similarity score: 0.44958282, gold ranking: 5.0\n",
            "(book,theme) similarity score: 0.49749115, gold ranking: 2.58\n",
            "----------------------------\n",
            "(cat,lion) similarity score: 0.541054, gold ranking: 6.75\n",
            "(cat,pet) similarity score: 0.61605686, gold ranking: 5.95\n",
            "----------------------------\n",
            "(cat,lion) similarity score: 0.541054, gold ranking: 6.75\n",
            "(cat,rabbit) similarity score: 0.62603176, gold ranking: 2.37\n",
            "----------------------------\n",
            "(cat,pet) similarity score: 0.61605686, gold ranking: 5.95\n",
            "(cat,rabbit) similarity score: 0.62603176, gold ranking: 2.37\n",
            "----------------------------\n",
            "(clothes,drawer) similarity score: 0.55487144, gold ranking: 3.02\n",
            "(clothes,fabric) similarity score: 0.47539893, gold ranking: 5.87\n",
            "----------------------------\n",
            "(clothes,fabric) similarity score: 0.47539893, gold ranking: 5.87\n",
            "(clothes,coat) similarity score: 0.7056596, gold ranking: 5.35\n",
            "----------------------------\n",
            "(clothes,fabric) similarity score: 0.47539893, gold ranking: 5.87\n",
            "(clothes,jacket) similarity score: 0.60186803, gold ranking: 5.15\n",
            "----------------------------\n",
            "(create,make) similarity score: 0.56927156, gold ranking: 8.72\n",
            "(create,destroy) similarity score: 0.6047125, gold ranking: 0.63\n",
            "----------------------------\n",
            "(cup,cone) similarity score: 0.53690636, gold ranking: 3.17\n",
            "(cup,jar) similarity score: 0.5226532, gold ranking: 5.13\n",
            "----------------------------\n",
            "(cup,cone) similarity score: 0.53690636, gold ranking: 3.17\n",
            "(cup,tableware) similarity score: 0.5226532, gold ranking: 6.85\n",
            "----------------------------\n",
            "(cup,cone) similarity score: 0.53690636, gold ranking: 3.17\n",
            "(cup,object) similarity score: 0.40068772, gold ranking: 3.69\n",
            "----------------------------\n",
            "(cup,jar) similarity score: 0.5226532, gold ranking: 5.13\n",
            "(cup,food) similarity score: 0.5514904, gold ranking: 5.0\n",
            "----------------------------\n",
            "(cup,tableware) similarity score: 0.5226532, gold ranking: 6.85\n",
            "(cup,food) similarity score: 0.5514904, gold ranking: 5.0\n",
            "----------------------------\n",
            "(cup,entity) similarity score: 0.23551406, gold ranking: 2.15\n",
            "(cup,substance) similarity score: 0.28445676, gold ranking: 1.92\n",
            "----------------------------\n",
            "(cup,article) similarity score: 0.2580847, gold ranking: 2.4\n",
            "(cup,substance) similarity score: 0.28445676, gold ranking: 1.92\n",
            "----------------------------\n",
            "(drink,car) similarity score: 0.21246438, gold ranking: 3.04\n",
            "(drink,mother) similarity score: 0.2331112, gold ranking: 2.65\n",
            "----------------------------\n",
            "(drink,car) similarity score: 0.21246438, gold ranking: 3.04\n",
            "(drink,ear) similarity score: 0.43695697, gold ranking: 1.31\n",
            "----------------------------\n",
            "(drink,mother) similarity score: 0.2331112, gold ranking: 2.65\n",
            "(drink,ear) similarity score: 0.43695697, gold ranking: 1.31\n",
            "----------------------------\n",
            "(father,parent) similarity score: 0.66943556, gold ranking: 7.07\n",
            "(father,daughter) similarity score: 0.6845352, gold ranking: 2.62\n",
            "----------------------------\n",
            "(father,parent) similarity score: 0.66943556, gold ranking: 7.07\n",
            "(father,brother) similarity score: 0.83248776, gold ranking: 4.2\n",
            "----------------------------\n",
            "(father,daughter) similarity score: 0.6845352, gold ranking: 2.62\n",
            "(father,god) similarity score: 0.42325824, gold ranking: 3.57\n",
            "----------------------------\n",
            "(flower,violet) similarity score: 0.4503348, gold ranking: 6.95\n",
            "(flower,bulb) similarity score: 0.55288005, gold ranking: 4.48\n",
            "----------------------------\n",
            "(guy,stud) similarity score: 0.5577013, gold ranking: 5.83\n",
            "(guy,girl) similarity score: 0.65016526, gold ranking: 3.33\n",
            "----------------------------\n",
            "(guy,partner) similarity score: 0.39459485, gold ranking: 3.57\n",
            "(guy,girl) similarity score: 0.65016526, gold ranking: 3.33\n",
            "----------------------------\n",
            "(horse,mare) similarity score: 0.4934019, gold ranking: 8.33\n",
            "(horse,ox) similarity score: 0.5561742, gold ranking: 3.02\n",
            "----------------------------\n",
            "(join,add) similarity score: 0.40172082, gold ranking: 8.1\n",
            "(join,marry) similarity score: 0.51755315, gold ranking: 5.35\n",
            "----------------------------\n",
            "(king,princess) similarity score: 0.6572404, gold ranking: 3.27\n",
            "(king,rook) similarity score: 0.3143664, gold ranking: 5.92\n",
            "----------------------------\n",
            "(king,rook) similarity score: 0.3143664, gold ranking: 5.92\n",
            "(king,cabbage) similarity score: 0.39013162, gold ranking: 0.23\n",
            "----------------------------\n",
            "(lose,keep) similarity score: 0.35603714, gold ranking: 1.05\n",
            "(lose,get) similarity score: 0.49134037, gold ranking: 0.77\n",
            "----------------------------\n",
            "(man,uncle) similarity score: 0.30066618, gold ranking: 3.92\n",
            "(man,victor) similarity score: 0.4134053, gold ranking: 1.9\n",
            "----------------------------\n",
            "(man,uncle) similarity score: 0.30066618, gold ranking: 3.92\n",
            "(man,sentry) similarity score: 0.49634817, gold ranking: 3.25\n",
            "----------------------------\n",
            "(man,father) similarity score: 0.33948028, gold ranking: 4.83\n",
            "(man,child) similarity score: 0.42039984, gold ranking: 4.13\n",
            "----------------------------\n",
            "(man,father) similarity score: 0.33948028, gold ranking: 4.83\n",
            "(man,victor) similarity score: 0.4134053, gold ranking: 1.9\n",
            "----------------------------\n",
            "(man,father) similarity score: 0.33948028, gold ranking: 4.83\n",
            "(man,sentry) similarity score: 0.49634817, gold ranking: 3.25\n",
            "----------------------------\n",
            "(man,father) similarity score: 0.33948028, gold ranking: 4.83\n",
            "(man,husband) similarity score: 0.32197765, gold ranking: 5.32\n",
            "----------------------------\n",
            "(man,father) similarity score: 0.33948028, gold ranking: 4.83\n",
            "(man,warrior) similarity score: 0.41206574, gold ranking: 4.72\n",
            "----------------------------\n",
            "(man,father) similarity score: 0.33948028, gold ranking: 4.83\n",
            "(man,governor) similarity score: 0.3150591, gold ranking: 5.25\n",
            "----------------------------\n",
            "(man,child) similarity score: 0.42039984, gold ranking: 4.13\n",
            "(man,sentry) similarity score: 0.49634817, gold ranking: 3.25\n",
            "----------------------------\n",
            "(man,child) similarity score: 0.42039984, gold ranking: 4.13\n",
            "(man,husband) similarity score: 0.32197765, gold ranking: 5.32\n",
            "----------------------------\n",
            "(man,child) similarity score: 0.42039984, gold ranking: 4.13\n",
            "(man,warrior) similarity score: 0.41206574, gold ranking: 4.72\n",
            "----------------------------\n",
            "(man,child) similarity score: 0.42039984, gold ranking: 4.13\n",
            "(man,governor) similarity score: 0.3150591, gold ranking: 5.25\n",
            "----------------------------\n",
            "(man,victor) similarity score: 0.4134053, gold ranking: 1.9\n",
            "(man,husband) similarity score: 0.32197765, gold ranking: 5.32\n",
            "----------------------------\n",
            "(man,victor) similarity score: 0.4134053, gold ranking: 1.9\n",
            "(man,warrior) similarity score: 0.41206574, gold ranking: 4.72\n",
            "----------------------------\n",
            "(man,victor) similarity score: 0.4134053, gold ranking: 1.9\n",
            "(man,governor) similarity score: 0.3150591, gold ranking: 5.25\n",
            "----------------------------\n",
            "(man,sentry) similarity score: 0.49634817, gold ranking: 3.25\n",
            "(man,husband) similarity score: 0.32197765, gold ranking: 5.32\n",
            "----------------------------\n",
            "(man,sentry) similarity score: 0.49634817, gold ranking: 3.25\n",
            "(man,warrior) similarity score: 0.41206574, gold ranking: 4.72\n",
            "----------------------------\n",
            "(man,sentry) similarity score: 0.49634817, gold ranking: 3.25\n",
            "(man,governor) similarity score: 0.3150591, gold ranking: 5.25\n",
            "----------------------------\n",
            "(man,husband) similarity score: 0.32197765, gold ranking: 5.32\n",
            "(man,warrior) similarity score: 0.41206574, gold ranking: 4.72\n",
            "----------------------------\n",
            "(man,warrior) similarity score: 0.41206574, gold ranking: 4.72\n",
            "(man,governor) similarity score: 0.3150591, gold ranking: 5.25\n",
            "----------------------------\n",
            "(meat,bacon) similarity score: 0.3672739, gold ranking: 5.8\n",
            "(meat,bread) similarity score: 0.6892125, gold ranking: 1.67\n",
            "----------------------------\n",
            "(precedent,information) similarity score: 0.47830853, gold ranking: 3.85\n",
            "(precedent,cognition) similarity score: 0.87778336, gold ranking: 2.81\n",
            "----------------------------\n",
            "(situation,conclusion) similarity score: 0.39516047, gold ranking: 4.81\n",
            "(situation,isolation) similarity score: 0.40728414, gold ranking: 3.88\n",
            "----------------------------\n",
            "(street,alley) similarity score: 0.5394225, gold ranking: 5.48\n",
            "(street,place) similarity score: 0.24011171, gold ranking: 6.44\n",
            "----------------------------\n",
            "(street,alley) similarity score: 0.5394225, gold ranking: 5.48\n",
            "(street,avenue) similarity score: 0.5166362, gold ranking: 8.88\n",
            "----------------------------\n",
            "(street,car) similarity score: 0.4829048, gold ranking: 2.38\n",
            "(street,place) similarity score: 0.24011171, gold ranking: 6.44\n",
            "----------------------------\n",
            "(take,obtain) similarity score: 0.42360577, gold ranking: 7.1\n",
            "(take,carry) similarity score: 0.63539153, gold ranking: 5.23\n",
            "----------------------------\n",
            "(take,obtain) similarity score: 0.42360577, gold ranking: 7.1\n",
            "(take,deliver) similarity score: 0.48555562, gold ranking: 4.37\n",
            "----------------------------\n",
            "(take,obtain) similarity score: 0.42360577, gold ranking: 7.1\n",
            "(take,leave) similarity score: 0.52841437, gold ranking: 2.47\n",
            "----------------------------\n",
            "(take,receive) similarity score: 0.41858026, gold ranking: 5.08\n",
            "(take,deliver) similarity score: 0.48555562, gold ranking: 4.37\n",
            "----------------------------\n",
            "(take,receive) similarity score: 0.41858026, gold ranking: 5.08\n",
            "(take,leave) similarity score: 0.52841437, gold ranking: 2.47\n",
            "----------------------------\n",
            "(take,deliver) similarity score: 0.48555562, gold ranking: 4.37\n",
            "(take,leave) similarity score: 0.52841437, gold ranking: 2.47\n",
            "----------------------------\n",
            "(tiger,feline) similarity score: 0.64764553, gold ranking: 8.0\n",
            "(tiger,carnivore) similarity score: 0.64764553, gold ranking: 7.08\n",
            "----------------------------\n",
            "(tiger,feline) similarity score: 0.64764553, gold ranking: 8.0\n",
            "(tiger,mammal) similarity score: 0.64764553, gold ranking: 6.85\n",
            "----------------------------\n",
            "(tiger,carnivore) similarity score: 0.64764553, gold ranking: 7.08\n",
            "(tiger,mammal) similarity score: 0.64764553, gold ranking: 6.85\n",
            "----------------------------\n",
            "(tiger,mammal) similarity score: 0.64764553, gold ranking: 6.85\n",
            "(tiger,animal) similarity score: 0.50276387, gold ranking: 7.0\n",
            "----------------------------\n",
            "Accuracy: 0.6037037037037036\n"
          ]
        }
      ]
    },
    {
      "cell_type": "markdown",
      "source": [
        "# Test"
      ],
      "metadata": {
        "id": "0637l3GDQunv"
      }
    },
    {
      "cell_type": "code",
      "source": [
        "result_df = pd.DataFrame(columns=['ID', 'Similarity'])\n",
        "prediction_df = '10864332-Task1-method-b.csv'\n",
        "\n",
        "start = time.time()\n",
        "\n",
        "for index, row in test_df.iterrows():\n",
        "  ID, word1, word2 = row[0], row[1], row[2]\n",
        "  if word1 in model_w2v.wv.key_to_index and word2 in model_w2v.wv.key_to_index:\n",
        "    cosine_similarity = model_w2v.wv.similarity(word1, word2)\n",
        "  else:\n",
        "    vector_word1 = w2v_model[word1] if word1 in w2v_model else np.zeros((300,))\n",
        "    vector_word2 = w2v_model[word2] if word2 in w2v_model else np.zeros((300,))\n",
        "  result_df = pd.concat([result_df, pd.DataFrame([[ID, cosine_similarity]], columns=['ID', 'Similarity'])], ignore_index=True)\n",
        "\n",
        "end = time.time()\n",
        "print(f\"{end-start}s to process test data\")\n",
        "\n",
        "result_df.to_csv(prediction_df, index=False, header=False)"
      ],
      "metadata": {
        "id": "Fzuj3X07Qwjo",
        "colab": {
          "base_uri": "https://localhost:8080/"
        },
        "outputId": "29f68e6d-1571-427d-ef6f-1706853da2c5"
      },
      "execution_count": 77,
      "outputs": [
        {
          "output_type": "stream",
          "name": "stdout",
          "text": [
            "0.09110665321350098s to process test data\n"
          ]
        }
      ]
    },
    {
      "cell_type": "code",
      "source": [
        "# !python task1_eval_script_student_version.py 10864332-Task1-method-b.csv ./data/Task-1-test-dataset1.csv\n",
        "# DON'T RUN eval_script on tests"
      ],
      "metadata": {
        "id": "6D-AIr5FQ306"
      },
      "execution_count": 76,
      "outputs": []
    }
  ]
}