{
  "nbformat": 4,
  "nbformat_minor": 0,
  "metadata": {
    "colab": {
      "provenance": []
    },
    "kernelspec": {
      "name": "python3",
      "display_name": "Python 3"
    },
    "language_info": {
      "name": "python"
    }
  },
  "cells": [
    {
      "cell_type": "code",
      "execution_count": 87,
      "metadata": {
        "id": "Q0NMT5HR2YXh"
      },
      "outputs": [],
      "source": [
        "import pandas as pd\n",
        "import numpy as np\n",
        "import tensorflow as tf\n",
        "from sklearn.feature_extraction.text import TfidfVectorizer, CountVectorizer\n",
        "from sklearn.naive_bayes import MultinomialNB, ComplementNB\n",
        "from sklearn.multioutput import MultiOutputClassifier\n",
        "from sklearn.pipeline import Pipeline\n",
        "from keras import Sequential, Input\n",
        "from keras.layers import TextVectorization, LSTM, Embedding, Dense, SpatialDropout1D\n",
        "from keras.losses import BinaryCrossentropy\n",
        "from keras.metrics import F1Score, BinaryAccuracy"
      ]
    },
    {
      "cell_type": "code",
      "source": [
        "dataset = pd.read_csv('data/Training-dataset.csv')"
      ],
      "metadata": {
        "id": "N49B-UhL9OQD"
      },
      "execution_count": 88,
      "outputs": []
    },
    {
      "cell_type": "code",
      "source": [
        "dataset.sum(numeric_only=True)"
      ],
      "metadata": {
        "colab": {
          "base_uri": "https://localhost:8080/"
        },
        "id": "zstJvcmk9Zja",
        "outputId": "d110dde4-c461-4d4d-88c1-887af0d9e6b5"
      },
      "execution_count": 89,
      "outputs": [
        {
          "output_type": "execute_result",
          "data": {
            "text/plain": [
              "comedy        1262\n",
              "cult          1801\n",
              "flashback     1994\n",
              "historical     186\n",
              "murder        4019\n",
              "revenge       1657\n",
              "romantic      2006\n",
              "scifi          204\n",
              "violence      3064\n",
              "dtype: int64"
            ]
          },
          "metadata": {},
          "execution_count": 89
        }
      ]
    },
    {
      "cell_type": "code",
      "source": [
        "dataset[dataset.columns[3:]].to_numpy()"
      ],
      "metadata": {
        "colab": {
          "base_uri": "https://localhost:8080/"
        },
        "id": "B8R-1aqiHTJB",
        "outputId": "0296f76c-34cb-4be5-c191-a32f7e4b4f82"
      },
      "execution_count": 90,
      "outputs": [
        {
          "output_type": "execute_result",
          "data": {
            "text/plain": [
              "array([[0, 0, 0, ..., 0, 0, 1],\n",
              "       [0, 0, 0, ..., 1, 0, 1],\n",
              "       [0, 1, 0, ..., 0, 0, 0],\n",
              "       ...,\n",
              "       [0, 1, 1, ..., 1, 0, 1],\n",
              "       [0, 0, 1, ..., 0, 0, 0],\n",
              "       [0, 0, 0, ..., 0, 0, 1]])"
            ]
          },
          "metadata": {},
          "execution_count": 90
        }
      ]
    },
    {
      "cell_type": "code",
      "source": [
        "X_train = dataset['plot_synopsis']\n",
        "y_train = dataset[dataset.columns[3:]].to_numpy()"
      ],
      "metadata": {
        "id": "txG2VkjfIJdy"
      },
      "execution_count": 91,
      "outputs": []
    },
    {
      "cell_type": "markdown",
      "source": [
        "###Method A"
      ],
      "metadata": {
        "id": "HCFG0j0Wg6IM"
      }
    },
    {
      "cell_type": "code",
      "source": [
        "# create pipeline\n",
        "NB_clf = Pipeline([('vect', CountVectorizer()),\n",
        "                   ('NB', MultiOutputClassifier(ComplementNB(alpha=1, norm=False)))])\n",
        "\n",
        "# train model\n",
        "NB_clf.fit(X_train, y_train)"
      ],
      "metadata": {
        "colab": {
          "base_uri": "https://localhost:8080/",
          "height": 192
        },
        "id": "rE6FzfHba4ss",
        "outputId": "35ab7292-52af-4e2d-8ed6-4272aae9c7c0"
      },
      "execution_count": 92,
      "outputs": [
        {
          "output_type": "execute_result",
          "data": {
            "text/plain": [
              "Pipeline(steps=[('vect', CountVectorizer()),\n",
              "                ('NB', MultiOutputClassifier(estimator=ComplementNB(alpha=1)))])"
            ],
            "text/html": [
              "<style>#sk-container-id-2 {color: black;background-color: white;}#sk-container-id-2 pre{padding: 0;}#sk-container-id-2 div.sk-toggleable {background-color: white;}#sk-container-id-2 label.sk-toggleable__label {cursor: pointer;display: block;width: 100%;margin-bottom: 0;padding: 0.3em;box-sizing: border-box;text-align: center;}#sk-container-id-2 label.sk-toggleable__label-arrow:before {content: \"▸\";float: left;margin-right: 0.25em;color: #696969;}#sk-container-id-2 label.sk-toggleable__label-arrow:hover:before {color: black;}#sk-container-id-2 div.sk-estimator:hover label.sk-toggleable__label-arrow:before {color: black;}#sk-container-id-2 div.sk-toggleable__content {max-height: 0;max-width: 0;overflow: hidden;text-align: left;background-color: #f0f8ff;}#sk-container-id-2 div.sk-toggleable__content pre {margin: 0.2em;color: black;border-radius: 0.25em;background-color: #f0f8ff;}#sk-container-id-2 input.sk-toggleable__control:checked~div.sk-toggleable__content {max-height: 200px;max-width: 100%;overflow: auto;}#sk-container-id-2 input.sk-toggleable__control:checked~label.sk-toggleable__label-arrow:before {content: \"▾\";}#sk-container-id-2 div.sk-estimator input.sk-toggleable__control:checked~label.sk-toggleable__label {background-color: #d4ebff;}#sk-container-id-2 div.sk-label input.sk-toggleable__control:checked~label.sk-toggleable__label {background-color: #d4ebff;}#sk-container-id-2 input.sk-hidden--visually {border: 0;clip: rect(1px 1px 1px 1px);clip: rect(1px, 1px, 1px, 1px);height: 1px;margin: -1px;overflow: hidden;padding: 0;position: absolute;width: 1px;}#sk-container-id-2 div.sk-estimator {font-family: monospace;background-color: #f0f8ff;border: 1px dotted black;border-radius: 0.25em;box-sizing: border-box;margin-bottom: 0.5em;}#sk-container-id-2 div.sk-estimator:hover {background-color: #d4ebff;}#sk-container-id-2 div.sk-parallel-item::after {content: \"\";width: 100%;border-bottom: 1px solid gray;flex-grow: 1;}#sk-container-id-2 div.sk-label:hover label.sk-toggleable__label {background-color: #d4ebff;}#sk-container-id-2 div.sk-serial::before {content: \"\";position: absolute;border-left: 1px solid gray;box-sizing: border-box;top: 0;bottom: 0;left: 50%;z-index: 0;}#sk-container-id-2 div.sk-serial {display: flex;flex-direction: column;align-items: center;background-color: white;padding-right: 0.2em;padding-left: 0.2em;position: relative;}#sk-container-id-2 div.sk-item {position: relative;z-index: 1;}#sk-container-id-2 div.sk-parallel {display: flex;align-items: stretch;justify-content: center;background-color: white;position: relative;}#sk-container-id-2 div.sk-item::before, #sk-container-id-2 div.sk-parallel-item::before {content: \"\";position: absolute;border-left: 1px solid gray;box-sizing: border-box;top: 0;bottom: 0;left: 50%;z-index: -1;}#sk-container-id-2 div.sk-parallel-item {display: flex;flex-direction: column;z-index: 1;position: relative;background-color: white;}#sk-container-id-2 div.sk-parallel-item:first-child::after {align-self: flex-end;width: 50%;}#sk-container-id-2 div.sk-parallel-item:last-child::after {align-self: flex-start;width: 50%;}#sk-container-id-2 div.sk-parallel-item:only-child::after {width: 0;}#sk-container-id-2 div.sk-dashed-wrapped {border: 1px dashed gray;margin: 0 0.4em 0.5em 0.4em;box-sizing: border-box;padding-bottom: 0.4em;background-color: white;}#sk-container-id-2 div.sk-label label {font-family: monospace;font-weight: bold;display: inline-block;line-height: 1.2em;}#sk-container-id-2 div.sk-label-container {text-align: center;}#sk-container-id-2 div.sk-container {/* jupyter's `normalize.less` sets `[hidden] { display: none; }` but bootstrap.min.css set `[hidden] { display: none !important; }` so we also need the `!important` here to be able to override the default hidden behavior on the sphinx rendered scikit-learn.org. See: https://github.com/scikit-learn/scikit-learn/issues/21755 */display: inline-block !important;position: relative;}#sk-container-id-2 div.sk-text-repr-fallback {display: none;}</style><div id=\"sk-container-id-2\" class=\"sk-top-container\"><div class=\"sk-text-repr-fallback\"><pre>Pipeline(steps=[(&#x27;vect&#x27;, CountVectorizer()),\n",
              "                (&#x27;NB&#x27;, MultiOutputClassifier(estimator=ComplementNB(alpha=1)))])</pre><b>In a Jupyter environment, please rerun this cell to show the HTML representation or trust the notebook. <br />On GitHub, the HTML representation is unable to render, please try loading this page with nbviewer.org.</b></div><div class=\"sk-container\" hidden><div class=\"sk-item sk-dashed-wrapped\"><div class=\"sk-label-container\"><div class=\"sk-label sk-toggleable\"><input class=\"sk-toggleable__control sk-hidden--visually\" id=\"sk-estimator-id-6\" type=\"checkbox\" ><label for=\"sk-estimator-id-6\" class=\"sk-toggleable__label sk-toggleable__label-arrow\">Pipeline</label><div class=\"sk-toggleable__content\"><pre>Pipeline(steps=[(&#x27;vect&#x27;, CountVectorizer()),\n",
              "                (&#x27;NB&#x27;, MultiOutputClassifier(estimator=ComplementNB(alpha=1)))])</pre></div></div></div><div class=\"sk-serial\"><div class=\"sk-item\"><div class=\"sk-estimator sk-toggleable\"><input class=\"sk-toggleable__control sk-hidden--visually\" id=\"sk-estimator-id-7\" type=\"checkbox\" ><label for=\"sk-estimator-id-7\" class=\"sk-toggleable__label sk-toggleable__label-arrow\">CountVectorizer</label><div class=\"sk-toggleable__content\"><pre>CountVectorizer()</pre></div></div></div><div class=\"sk-item sk-dashed-wrapped\"><div class=\"sk-label-container\"><div class=\"sk-label sk-toggleable\"><input class=\"sk-toggleable__control sk-hidden--visually\" id=\"sk-estimator-id-8\" type=\"checkbox\" ><label for=\"sk-estimator-id-8\" class=\"sk-toggleable__label sk-toggleable__label-arrow\">NB: MultiOutputClassifier</label><div class=\"sk-toggleable__content\"><pre>MultiOutputClassifier(estimator=ComplementNB(alpha=1))</pre></div></div></div><div class=\"sk-parallel\"><div class=\"sk-parallel-item\"><div class=\"sk-item\"><div class=\"sk-label-container\"><div class=\"sk-label sk-toggleable\"><input class=\"sk-toggleable__control sk-hidden--visually\" id=\"sk-estimator-id-9\" type=\"checkbox\" ><label for=\"sk-estimator-id-9\" class=\"sk-toggleable__label sk-toggleable__label-arrow\">estimator: ComplementNB</label><div class=\"sk-toggleable__content\"><pre>ComplementNB(alpha=1)</pre></div></div></div><div class=\"sk-serial\"><div class=\"sk-item\"><div class=\"sk-estimator sk-toggleable\"><input class=\"sk-toggleable__control sk-hidden--visually\" id=\"sk-estimator-id-10\" type=\"checkbox\" ><label for=\"sk-estimator-id-10\" class=\"sk-toggleable__label sk-toggleable__label-arrow\">ComplementNB</label><div class=\"sk-toggleable__content\"><pre>ComplementNB(alpha=1)</pre></div></div></div></div></div></div></div></div></div></div></div></div>"
            ]
          },
          "metadata": {},
          "execution_count": 92
        }
      ]
    },
    {
      "cell_type": "code",
      "source": [
        "def get_results(inputf, outputf, model, run_eval=False, threshold=None):\n",
        "  # read in validation/test dataset\n",
        "  data = pd.read_csv(inputf)\n",
        "\n",
        "  # get predictions\n",
        "  X_test = data['plot_synopsis']\n",
        "  predictions = model.predict(X_test)\n",
        "\n",
        "  # to 0s and 1s\n",
        "  if threshold:\n",
        "    predictions = (predictions > threshold).astype(int)\n",
        "\n",
        "  # create results dataframe and write it to csv\n",
        "  results = pd.concat([data['ID'], pd.DataFrame(predictions)], axis=1)\n",
        "  results.to_csv(outputf, index=False, header=False)\n",
        "\n",
        "  # run evaluation script\n",
        "  if run_eval:\n",
        "    !python data/task2_eval_script_student_version.py {outputf} {inputf}"
      ],
      "metadata": {
        "id": "0W3JjSAAV_wF"
      },
      "execution_count": 93,
      "outputs": []
    },
    {
      "cell_type": "code",
      "source": [
        "get_results('data/Task-2-validation-dataset.csv', 'data/10491450-Task2-method-a-validation.csv', NB_clf, run_eval=True)"
      ],
      "metadata": {
        "colab": {
          "base_uri": "https://localhost:8080/"
        },
        "id": "IS9aczMeflYZ",
        "outputId": "7fe9f2e1-46de-4776-caf6-9230d4c277df"
      },
      "execution_count": 94,
      "outputs": [
        {
          "output_type": "stream",
          "name": "stdout",
          "text": [
            "Class level: \n",
            "Class  1 precision: 0.3624 recall: 0.3086\n",
            "Class  2 precision: 0.4341 recall: 0.4534\n",
            "Class  3 precision: 0.3913 recall: 0.3367\n",
            "Class  4 precision: 0.2222 recall: 0.0833\n",
            "Class  5 precision: 0.6875 recall: 0.7194\n",
            "Class  6 precision: 0.3886 recall: 0.3165\n",
            "Class  7 precision: 0.5583 recall: 0.6276\n",
            "Class  8 precision: 0.5000 recall: 0.1290\n",
            "Class  9 precision: 0.6021 recall: 0.6810\n",
            "----------------------------\n",
            "Movie (document) level: \n",
            "Precision: 0.5332\n",
            "Recall: 0.5694\n"
          ]
        }
      ]
    },
    {
      "cell_type": "markdown",
      "source": [
        "###Method B"
      ],
      "metadata": {
        "id": "Sx51CF9kwbpm"
      }
    },
    {
      "cell_type": "code",
      "source": [
        "# calculate class weights\n",
        "class_freqs = dataset.sum(numeric_only=True).to_numpy()\n",
        "class_weights = (1/class_freqs) * (class_freqs.sum()/2)\n",
        "class_weights_dict = dict(enumerate(class_weights))\n",
        "class_weights_dict"
      ],
      "metadata": {
        "colab": {
          "base_uri": "https://localhost:8080/"
        },
        "id": "DTk8Jz-CY7hi",
        "outputId": "39eb7ac3-fade-4409-a3e8-34814281e034"
      },
      "execution_count": 95,
      "outputs": [
        {
          "output_type": "execute_result",
          "data": {
            "text/plain": [
              "{0: 6.4156101426307455,\n",
              " 1: 4.495558023320378,\n",
              " 2: 4.060431293881645,\n",
              " 3: 43.52956989247312,\n",
              " 4: 2.014555859666584,\n",
              " 5: 4.886240193120097,\n",
              " 6: 4.036141575274177,\n",
              " 7: 39.68872549019608,\n",
              " 8: 2.6424608355091386}"
            ]
          },
          "metadata": {},
          "execution_count": 95
        }
      ]
    },
    {
      "cell_type": "code",
      "source": [
        "# get bias initialiser\n",
        "def bias_init(shape, dtype=None):\n",
        "  output_bias = np.log(class_freqs/(class_freqs.sum() - class_freqs))\n",
        "  return output_bias"
      ],
      "metadata": {
        "id": "GmqyKb2TlJA7"
      },
      "execution_count": 96,
      "outputs": []
    },
    {
      "cell_type": "code",
      "source": [
        "# create vectorise layer for text input\n",
        "vectorize_layer = TextVectorization(max_tokens=50000, output_mode=\"int\")\n",
        "vectorize_layer.adapt(X_train)"
      ],
      "metadata": {
        "id": "ofE5y2OWwdPj"
      },
      "execution_count": 97,
      "outputs": []
    },
    {
      "cell_type": "code",
      "source": [
        "len(vectorize_layer.get_vocabulary())"
      ],
      "metadata": {
        "colab": {
          "base_uri": "https://localhost:8080/"
        },
        "id": "cAtRKPDo7QBu",
        "outputId": "fe395ea5-008c-4561-cfb2-9f0dd158d93e"
      },
      "execution_count": 98,
      "outputs": [
        {
          "output_type": "execute_result",
          "data": {
            "text/plain": [
              "50000"
            ]
          },
          "metadata": {},
          "execution_count": 98
        }
      ]
    },
    {
      "cell_type": "code",
      "source": [
        "# build model\n",
        "LSTM_clf = Sequential()\n",
        "LSTM_clf.add(Input(shape=(1), dtype=tf.string))\n",
        "LSTM_clf.add(vectorize_layer)\n",
        "LSTM_clf.add(Embedding(input_dim=len(vectorize_layer.get_vocabulary()), output_dim=64))\n",
        "LSTM_clf.add(SpatialDropout1D(0.2))\n",
        "LSTM_clf.add(LSTM(64, dropout=0.2))\n",
        "LSTM_clf.add(Dense(9, activation=\"sigmoid\", bias_initializer=bias_init))"
      ],
      "metadata": {
        "id": "b9lHtGHgbnCO"
      },
      "execution_count": 99,
      "outputs": []
    },
    {
      "cell_type": "code",
      "source": [
        "LSTM_clf.compile(loss=BinaryCrossentropy(), optimizer='adam', metrics=[F1Score(threshold=0.25), BinaryAccuracy(threshold=0.25)])"
      ],
      "metadata": {
        "id": "uP5EP3EN7cKv"
      },
      "execution_count": 100,
      "outputs": []
    },
    {
      "cell_type": "code",
      "source": [
        "validation_data = pd.read_csv('data/Task-2-validation-dataset.csv')\n",
        "X_validate = validation_data['plot_synopsis']\n",
        "y_validate = validation_data[validation_data.columns[3:]].to_numpy()"
      ],
      "metadata": {
        "id": "TxsTVyHzhUDQ"
      },
      "execution_count": 101,
      "outputs": []
    },
    {
      "cell_type": "code",
      "source": [
        "LSTM_clf.summary()"
      ],
      "metadata": {
        "colab": {
          "base_uri": "https://localhost:8080/"
        },
        "id": "TgrVFZMHIqt3",
        "outputId": "f12bceae-0ded-4f5d-f4fc-5fdc48d973a2"
      },
      "execution_count": 102,
      "outputs": [
        {
          "output_type": "stream",
          "name": "stdout",
          "text": [
            "Model: \"sequential_5\"\n",
            "_________________________________________________________________\n",
            " Layer (type)                Output Shape              Param #   \n",
            "=================================================================\n",
            " text_vectorization_4 (Text  (None, None)              0         \n",
            " Vectorization)                                                  \n",
            "                                                                 \n",
            " embedding_5 (Embedding)     (None, None, 64)          3200000   \n",
            "                                                                 \n",
            " spatial_dropout1d_2 (Spati  (None, None, 64)          0         \n",
            " alDropout1D)                                                    \n",
            "                                                                 \n",
            " lstm_5 (LSTM)               (None, 64)                33024     \n",
            "                                                                 \n",
            " dense_5 (Dense)             (None, 9)                 585       \n",
            "                                                                 \n",
            "=================================================================\n",
            "Total params: 3233609 (12.34 MB)\n",
            "Trainable params: 3233609 (12.34 MB)\n",
            "Non-trainable params: 0 (0.00 Byte)\n",
            "_________________________________________________________________\n"
          ]
        }
      ]
    },
    {
      "cell_type": "code",
      "source": [
        "history = LSTM_clf.fit(X_train, tf.cast(y_train, tf.float32), validation_data=(X_validate, tf.cast(y_validate, tf.float32)), class_weight=class_weights_dict)"
      ],
      "metadata": {
        "id": "x2oszvft-KKE",
        "colab": {
          "base_uri": "https://localhost:8080/"
        },
        "outputId": "8932218b-4f7f-4a27-be44-f58d329dccc0"
      },
      "execution_count": 103,
      "outputs": [
        {
          "output_type": "stream",
          "name": "stdout",
          "text": [
            "259/259 [==============================] - 995s 4s/step - loss: 2.4186 - f1_score: 0.2209 - binary_accuracy: 0.7115 - val_loss: 0.4766 - val_f1_score: 0.1310 - val_binary_accuracy: 0.7500\n"
          ]
        }
      ]
    },
    {
      "cell_type": "code",
      "source": [
        "get_results('data/Task-2-validation-dataset.csv', 'data/10491450-Task2-method-b-validation.csv', LSTM_clf, run_eval=True, threshold=0.25)"
      ],
      "metadata": {
        "id": "TsFGt7j_JJEQ",
        "colab": {
          "base_uri": "https://localhost:8080/"
        },
        "outputId": "1c9d4dab-cb26-4851-bd06-5a6f6dd470c2"
      },
      "execution_count": 104,
      "outputs": [
        {
          "output_type": "stream",
          "name": "stdout",
          "text": [
            "38/38 [==============================] - 25s 641ms/step\n",
            "Class level: \n",
            "Class  1 precision: 0.0000 recall: 0.0000\n",
            "Class  2 precision: 0.0000 recall: 0.0000\n",
            "Class  3 precision: 0.0000 recall: 0.0000\n",
            "Class  4 precision: 0.0000 recall: 0.0000\n",
            "Class  5 precision: 0.4891 recall: 1.0000\n",
            "Class  6 precision: 0.0000 recall: 0.0000\n",
            "Class  7 precision: 0.0000 recall: 0.0000\n",
            "Class  8 precision: 0.0000 recall: 0.0000\n",
            "Class  9 precision: 0.3535 recall: 1.0000\n",
            "----------------------------\n",
            "Movie (document) level: \n",
            "Precision: 0.4213\n",
            "Recall: 0.4508\n"
          ]
        }
      ]
    },
    {
      "cell_type": "markdown",
      "source": [
        "###Results"
      ],
      "metadata": {
        "id": "833Im6cQY0BV"
      }
    },
    {
      "cell_type": "code",
      "source": [
        "get_results(\"data/Task-2-test-dataset2.csv\", \"data/10491450-Task2-method-a.csv\", NB_clf)"
      ],
      "metadata": {
        "id": "0ZbA174KY1Xd"
      },
      "execution_count": 105,
      "outputs": []
    },
    {
      "cell_type": "code",
      "source": [
        "get_results(\"data/Task-2-test-dataset2.csv\", \"data/10491450-Task2-method-b.csv\", LSTM_clf, threshold=0.25)"
      ],
      "metadata": {
        "colab": {
          "base_uri": "https://localhost:8080/"
        },
        "id": "ceCIeG8timKY",
        "outputId": "d30cff43-c2b2-4012-998c-3be382affeb8"
      },
      "execution_count": 106,
      "outputs": [
        {
          "output_type": "stream",
          "name": "stdout",
          "text": [
            "38/38 [==============================] - 27s 703ms/step\n"
          ]
        }
      ]
    }
  ]
}