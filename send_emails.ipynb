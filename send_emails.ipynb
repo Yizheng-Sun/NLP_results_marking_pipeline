{
 "cells": [
  {
   "cell_type": "code",
   "execution_count": 10,
   "metadata": {},
   "outputs": [
    {
     "name": "stdout",
     "output_type": "stream",
     "text": [
      "Email sent successfully\n"
     ]
    }
   ],
   "source": [
    "from email.message import EmailMessage\n",
    "import ssl\n",
    "import smtplib\n",
    "\n",
    "email_sender = \"yizheng.sun.2000@gmail.com\"\n",
    "email_password = \"qgqwzokcyvkafycn\"\n",
    "email_receiver = \"yizheng.sun@manchester.ac.uk\"\n",
    "\n",
    "subject = \"Test email\"\n",
    "with open('feedbacks/student_10491450_Task1-method-a_feedback.txt') as f:\n",
    "    body='\\n'.join(line.rstrip() for line in f)\n",
    "\n",
    "em = EmailMessage()\n",
    "em['From'] = email_sender\n",
    "em['To'] = email_receiver\n",
    "em['Subject'] = subject\n",
    "em.set_content(body)\n",
    "\n",
    "context = ssl.create_default_context()\n",
    "\n",
    "with smtplib.SMTP_SSL(\"smtp.gmail.com\", 465, context=context) as server:\n",
    "    server.login(email_sender, email_password)\n",
    "    server.sendmail(email_sender, email_receiver, em.as_string())\n",
    "    print(\"Email sent successfully\")\n"
   ]
  }
 ],
 "metadata": {
  "kernelspec": {
   "display_name": "NLP_TA_env",
   "language": "python",
   "name": "python3"
  },
  "language_info": {
   "codemirror_mode": {
    "name": "ipython",
    "version": 3
   },
   "file_extension": ".py",
   "mimetype": "text/x-python",
   "name": "python",
   "nbconvert_exporter": "python",
   "pygments_lexer": "ipython3",
   "version": "3.12.4"
  }
 },
 "nbformat": 4,
 "nbformat_minor": 2
}
